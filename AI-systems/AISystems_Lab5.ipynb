{
  "cells": [
    {
      "cell_type": "markdown",
      "metadata": {
        "id": "view-in-github",
        "colab_type": "text"
      },
      "source": [
        "<a href=\"https://colab.research.google.com/github/kaitouz/ITMO/blob/main/AI-systems/AISystems_Lab5.ipynb\" target=\"_parent\"><img src=\"https://colab.research.google.com/assets/colab-badge.svg\" alt=\"Open In Colab\"/></a>"
      ]
    },
    {
      "cell_type": "code",
      "source": [
        "number_in_the_list = 10"
      ],
      "metadata": {
        "id": "yxN-D4jwwr2m"
      },
      "execution_count": 1,
      "outputs": []
    },
    {
      "cell_type": "code",
      "execution_count": 2,
      "metadata": {
        "id": "-9nA_cYGp9dO"
      },
      "outputs": [],
      "source": [
        "import numpy as np\n",
        "import matplotlib\n",
        "import matplotlib.pyplot as plt\n",
        "%matplotlib inline"
      ]
    },
    {
      "cell_type": "code",
      "source": [
        "from keras.datasets import mnist\n",
        "(X_train, y_train), (X_test, y_test) = mnist.load_data()"
      ],
      "metadata": {
        "id": "42PcqrLd2Dun"
      },
      "execution_count": 3,
      "outputs": []
    },
    {
      "cell_type": "markdown",
      "source": [
        "# **1. Используйте метод главных компонент для набора данных MNIST (train dataset объема 60000). Определите, какое минимальное количество главных компонент необходимо использовать, чтобы доля объясненной дисперсии превышала 0.8+номер_в_списке%10. Построить график зависимости доли объясненной дисперсии от количества используемых ГК.**"
      ],
      "metadata": {
        "id": "Llu7J0DKsIs0"
      }
    },
    {
      "cell_type": "code",
      "source": [
        "dim = 784 # 28*28 \n",
        "X_train = X_train.reshape(len(X_train), dim)\n",
        "X_test = X_test.reshape(len(X_test), dim)"
      ],
      "metadata": {
        "id": "SsWzF6aR2Tyh"
      },
      "execution_count": 4,
      "outputs": []
    },
    {
      "cell_type": "markdown",
      "source": [
        "*If 0 < n_components < 1 and svd_solver == 'full', select the number of components such that the amount of variance that needs to be explained is greater than the percentage specified by n_components.*"
      ],
      "metadata": {
        "id": "Rtqz8v5ztlIC"
      }
    },
    {
      "cell_type": "code",
      "source": [
        "from sklearn.decomposition import PCA\n",
        "\n",
        "variant_expectation = 0.8 + (number_in_the_list % 10) / 100\n",
        "\n",
        "pca = PCA(n_components=variant_expectation, svd_solver='full')\n",
        "modelPCA = pca.fit(X_train)\n",
        "\n",
        "X_train = modelPCA.transform(X_train)"
      ],
      "metadata": {
        "id": "sFpGewP3sVbJ"
      },
      "execution_count": 5,
      "outputs": []
    },
    {
      "cell_type": "code",
      "source": [
        "explained_variance = np.round(np.cumsum(pca.explained_variance_ratio_), 3)\n",
        "\n",
        "no_component = explained_variance.size\n",
        "plt.plot(np.arange(no_component), explained_variance, ls='-')\n",
        "\n",
        "print(\"Explained Variance: \" + str(round(variant_expectation, 2)) + \" Number of Components: \" + str(no_component))"
      ],
      "metadata": {
        "colab": {
          "base_uri": "https://localhost:8080/",
          "height": 282
        },
        "id": "GEshssXJ2vRU",
        "outputId": "390d0dcb-66ef-4849-c8a8-be7076b6b7bf"
      },
      "execution_count": 6,
      "outputs": [
        {
          "output_type": "stream",
          "name": "stdout",
          "text": [
            "Explained Variance: 0.8 Number of Components: 44\n"
          ]
        },
        {
          "output_type": "display_data",
          "data": {
            "text/plain": [
              "<Figure size 432x288 with 1 Axes>"
            ],
            "image/png": "[encoded data removed]"
          },
          "metadata": {
            "needs_background": "light"
          }
        }
      ]
    },
    {
      "cell_type": "markdown",
      "source": [
        "# **2. Введите количество верно классифицированных объектов класса номер_в_списке%9 для тестовых данных**"
      ],
      "metadata": {
        "id": "a-D1jQ4-uBdP"
      }
    },
    {
      "cell_type": "code",
      "source": [
        "from sklearn.multiclass import OneVsRestClassifier\n",
        "from sklearn.tree import DecisionTreeClassifier\n",
        "from sklearn.ensemble import RandomForestClassifier"
      ],
      "metadata": {
        "id": "Jt9ncUR4uCba"
      },
      "execution_count": 7,
      "outputs": []
    },
    {
      "cell_type": "code",
      "source": [
        "tree = RandomForestClassifier(criterion='gini', min_samples_leaf=10, max_depth=20, n_estimators=10, random_state=2020)\n",
        "clf = OneVsRestClassifier(tree).fit(X_train, y_train)"
      ],
      "metadata": {
        "id": "Qc9BKbni03bh"
      },
      "execution_count": 8,
      "outputs": []
    },
    {
      "cell_type": "code",
      "source": [
        "X_test = modelPCA.transform(X_test)\n",
        "X_test.shape"
      ],
      "metadata": {
        "id": "rV5gbfYZulRk",
        "colab": {
          "base_uri": "https://localhost:8080/"
        },
        "outputId": "e6c6bdfa-346d-45e6-dc3a-99fc23c62b49"
      },
      "execution_count": 9,
      "outputs": [
        {
          "output_type": "execute_result",
          "data": {
            "text/plain": [
              "(10000, 44)"
            ]
          },
          "metadata": {},
          "execution_count": 9
        }
      ]
    },
    {
      "cell_type": "code",
      "source": [
        "y_pred = clf.predict(X_test)"
      ],
      "metadata": {
        "id": "K8NoeuoD3WjZ"
      },
      "execution_count": 10,
      "outputs": []
    },
    {
      "cell_type": "code",
      "source": [
        "from sklearn.metrics import confusion_matrix\n",
        "CM = confusion_matrix(y_test, y_pred)\n",
        "\n",
        "print(\"The number of correctly classified images contained in Class \" + str(number_in_the_list%9) + \" is: \" + str(\n",
        "    CM[number_in_the_list%9][number_in_the_list%9]))"
      ],
      "metadata": {
        "colab": {
          "base_uri": "https://localhost:8080/"
        },
        "id": "gZAnHKrPuupb",
        "outputId": "ca9b0e70-e61b-47f5-ff1e-4e2262d3dd11"
      },
      "execution_count": 11,
      "outputs": [
        {
          "output_type": "stream",
          "name": "stdout",
          "text": [
            "The number of correctly classified images contained in Class 1 is: 1114\n"
          ]
        }
      ]
    },
    {
      "cell_type": "markdown",
      "source": [
        "# **3. Введите вероятность отнесения 5 любых изображений из тестового набора к назначенному классу**\n"
      ],
      "metadata": {
        "id": "5JWDjvga5bzI"
      }
    },
    {
      "cell_type": "code",
      "source": [
        "import random\n",
        "random.seed(42)\n",
        "\n",
        "for i in range(5):\n",
        "    id = random.randint(0, X_test.shape[0])\n",
        "    result = clf.predict_proba(X_test)[id][y_pred[id]]\n",
        "    print(\"The probability that picture No.\" + str(id) + \" belongs to Class \" + str(y_pred[id]) + \" is: \" + str(round(result, 4)))"
      ],
      "metadata": {
        "colab": {
          "base_uri": "https://localhost:8080/"
        },
        "id": "X5oIbq4u5d4s",
        "outputId": "0e266624-9a54-49e7-c94d-878508024ba8"
      },
      "execution_count": 12,
      "outputs": [
        {
          "output_type": "stream",
          "name": "stdout",
          "text": [
            "The probability that picture No.1824 belongs to Class 2 is: 0.9059\n",
            "The probability that picture No.409 belongs to Class 1 is: 0.8601\n",
            "The probability that picture No.4506 belongs to Class 2 is: 0.6135\n",
            "The probability that picture No.4012 belongs to Class 4 is: 0.6819\n",
            "The probability that picture No.3657 belongs to Class 6 is: 0.8653\n"
          ]
        }
      ]
    },
    {
      "cell_type": "markdown",
      "source": [
        "# **4. Определите Accuracy, Precision, Recall и F1 для обученной модели**\n"
      ],
      "metadata": {
        "id": "7yP5V0Wj69cs"
      }
    },
    {
      "cell_type": "code",
      "source": [
        "from sklearn.metrics import accuracy_score, precision_score, recall_score, f1_score"
      ],
      "metadata": {
        "id": "o2IdZ8au6_5Z"
      },
      "execution_count": 13,
      "outputs": []
    },
    {
      "cell_type": "code",
      "source": [
        "Accuracy = accuracy_score(y_test, y_pred)\n",
        "Precision = precision_score(y_test, y_pred, average=None)\n",
        "Recall = recall_score(y_test, y_pred, average=None)\n",
        "F1 = f1_score(y_test, y_pred, average=None)"
      ],
      "metadata": {
        "id": "eMjcr0Uc7n3N"
      },
      "execution_count": 14,
      "outputs": []
    },
    {
      "cell_type": "code",
      "source": [
        "import pandas as pd\n",
        "Class_name = ['Class 0', 'Class 1', 'Class 2', 'Class 3', 'Class 4', 'Class 5', 'Class 6', 'Class 7', 'Class 8', 'Class 9']\n",
        "df = pd.DataFrame({'Class': Class_name, 'Precision': Precision, 'Recall': Recall, 'F1': F1})\n",
        "print(\"The Accuracy of the above model is: \" + str(Accuracy))\n",
        "df"
      ],
      "metadata": {
        "colab": {
          "base_uri": "https://localhost:8080/",
          "height": 380
        },
        "id": "c1d9YxaHAI02",
        "outputId": "1e654ec3-c29c-4633-937d-165c19a7e161"
      },
      "execution_count": 15,
      "outputs": [
        {
          "output_type": "stream",
          "name": "stdout",
          "text": [
            "The Accuracy of the above model is: 0.928\n"
          ]
        },
        {
          "output_type": "execute_result",
          "data": {
            "text/plain": [
              "     Class  Precision    Recall        F1\n",
              "0  Class 0   0.942574  0.971429  0.956784\n",
              "1  Class 1   0.976337  0.981498  0.978910\n",
              "2  Class 2   0.934394  0.910853  0.922473\n",
              "3  Class 3   0.908113  0.919802  0.913920\n",
              "4  Class 4   0.922919  0.914460  0.918670\n",
              "5  Class 5   0.896514  0.922646  0.909392\n",
              "6  Class 6   0.943935  0.966597  0.955132\n",
              "7  Class 7   0.946162  0.923152  0.934515\n",
              "8  Class 8   0.902232  0.871663  0.886684\n",
              "9  Class 9   0.896414  0.891972  0.894188"
            ],
            "text/html": [
              "\n",
              "  <div id=\"df-021a8563-a636-4664-99ac-1a56745eb448\">\n",
              "    <div class=\"colab-df-container\">\n",
              "      <div>\n",
              "<style scoped>\n",
              "    .dataframe tbody tr th:only-of-type {\n",
              "        vertical-align: middle;\n",
              "    }\n",
              "\n",
              "    .dataframe tbody tr th {\n",
              "        vertical-align: top;\n",
              "    }\n",
              "\n",
              "    .dataframe thead th {\n",
              "        text-align: right;\n",
              "    }\n",
              "</style>\n",
              "<table border=\"1\" class=\"dataframe\">\n",
              "  <thead>\n",
              "    <tr style=\"text-align: right;\">\n",
              "      <th></th>\n",
              "      <th>Class</th>\n",
              "      <th>Precision</th>\n",
              "      <th>Recall</th>\n",
              "      <th>F1</th>\n",
              "    </tr>\n",
              "  </thead>\n",
              "  <tbody>\n",
              "    <tr>\n",
              "      <th>0</th>\n",
              "      <td>Class 0</td>\n",
              "      <td>0.942574</td>\n",
              "      <td>0.971429</td>\n",
              "      <td>0.956784</td>\n",
              "    </tr>\n",
              "    <tr>\n",
              "      <th>1</th>\n",
              "      <td>Class 1</td>\n",
              "      <td>0.976337</td>\n",
              "      <td>0.981498</td>\n",
              "      <td>0.978910</td>\n",
              "    </tr>\n",
              "    <tr>\n",
              "      <th>2</th>\n",
              "      <td>Class 2</td>\n",
              "      <td>0.934394</td>\n",
              "      <td>0.910853</td>\n",
              "      <td>0.922473</td>\n",
              "    </tr>\n",
              "    <tr>\n",
              "      <th>3</th>\n",
              "      <td>Class 3</td>\n",
              "      <td>0.908113</td>\n",
              "      <td>0.919802</td>\n",
              "      <td>0.913920</td>\n",
              "    </tr>\n",
              "    <tr>\n",
              "      <th>4</th>\n",
              "      <td>Class 4</td>\n",
              "      <td>0.922919</td>\n",
              "      <td>0.914460</td>\n",
              "      <td>0.918670</td>\n",
              "    </tr>\n",
              "    <tr>\n",
              "      <th>5</th>\n",
              "      <td>Class 5</td>\n",
              "      <td>0.896514</td>\n",
              "      <td>0.922646</td>\n",
              "      <td>0.909392</td>\n",
              "    </tr>\n",
              "    <tr>\n",
              "      <th>6</th>\n",
              "      <td>Class 6</td>\n",
              "      <td>0.943935</td>\n",
              "      <td>0.966597</td>\n",
              "      <td>0.955132</td>\n",
              "    </tr>\n",
              "    <tr>\n",
              "      <th>7</th>\n",
              "      <td>Class 7</td>\n",
              "      <td>0.946162</td>\n",
              "      <td>0.923152</td>\n",
              "      <td>0.934515</td>\n",
              "    </tr>\n",
              "    <tr>\n",
              "      <th>8</th>\n",
              "      <td>Class 8</td>\n",
              "      <td>0.902232</td>\n",
              "      <td>0.871663</td>\n",
              "      <td>0.886684</td>\n",
              "    </tr>\n",
              "    <tr>\n",
              "      <th>9</th>\n",
              "      <td>Class 9</td>\n",
              "      <td>0.896414</td>\n",
              "      <td>0.891972</td>\n",
              "      <td>0.894188</td>\n",
              "    </tr>\n",
              "  </tbody>\n",
              "</table>\n",
              "</div>\n",
              "      <button class=\"colab-df-convert\" onclick=\"convertToInteractive('df-021a8563-a636-4664-99ac-1a56745eb448')\"\n",
              "              title=\"Convert this dataframe to an interactive table.\"\n",
              "              style=\"display:none;\">\n",
              "        \n",
              "  <svg xmlns=\"http://www.w3.org/2000/svg\" height=\"24px\"viewBox=\"0 0 24 24\"\n",
              "       width=\"24px\">\n",
              "    <path d=\"M0 0h24v24H0V0z\" fill=\"none\"/>\n",
              "    <path d=\"M18.56 5.44l.94 2.06.94-2.06 2.06-.94-2.06-.94-.94-2.06-.94 2.06-2.06.94zm-11 1L8.5 8.5l.94-2.06 2.06-.94-2.06-.94L8.5 2.5l-.94 2.06-2.06.94zm10 10l.94 2.06.94-2.06 2.06-.94-2.06-.94-.94-2.06-.94 2.06-2.06.94z\"/><path d=\"M17.41 7.96l-1.37-1.37c-.4-.4-.92-.59-1.43-.59-.52 0-1.04.2-1.43.59L10.3 9.45l-7.72 7.72c-.78.78-.78 2.05 0 2.83L4 21.41c.39.39.9.59 1.41.59.51 0 1.02-.2 1.41-.59l7.78-7.78 2.81-2.81c.8-.78.8-2.07 0-2.86zM5.41 20L4 18.59l7.72-7.72 1.47 1.35L5.41 20z\"/>\n",
              "  </svg>\n",
              "      </button>\n",
              "      \n",
              "  <style>\n",
              "    .colab-df-container {\n",
              "      display:flex;\n",
              "      flex-wrap:wrap;\n",
              "      gap: 12px;\n",
              "    }\n",
              "\n",
              "    .colab-df-convert {\n",
              "      background-color: #E8F0FE;\n",
              "      border: none;\n",
              "      border-radius: 50%;\n",
              "      cursor: pointer;\n",
              "      display: none;\n",
              "      fill: #1967D2;\n",
              "      height: 32px;\n",
              "      padding: 0 0 0 0;\n",
              "      width: 32px;\n",
              "    }\n",
              "\n",
              "    .colab-df-convert:hover {\n",
              "      background-color: #E2EBFA;\n",
              "      box-shadow: 0px 1px 2px rgba(60, 64, 67, 0.3), 0px 1px 3px 1px rgba(60, 64, 67, 0.15);\n",
              "      fill: #174EA6;\n",
              "    }\n",
              "\n",
              "    [theme=dark] .colab-df-convert {\n",
              "      background-color: #3B4455;\n",
              "      fill: #D2E3FC;\n",
              "    }\n",
              "\n",
              "    [theme=dark] .colab-df-convert:hover {\n",
              "      background-color: #434B5C;\n",
              "      box-shadow: 0px 1px 3px 1px rgba(0, 0, 0, 0.15);\n",
              "      filter: drop-shadow(0px 1px 2px rgba(0, 0, 0, 0.3));\n",
              "      fill: #FFFFFF;\n",
              "    }\n",
              "  </style>\n",
              "\n",
              "      <script>\n",
              "        const buttonEl =\n",
              "          document.querySelector('#df-021a8563-a636-4664-99ac-1a56745eb448 button.colab-df-convert');\n",
              "        buttonEl.style.display =\n",
              "          google.colab.kernel.accessAllowed ? 'block' : 'none';\n",
              "\n",
              "        async function convertToInteractive(key) {\n",
              "          const element = document.querySelector('#df-021a8563-a636-4664-99ac-1a56745eb448');\n",
              "          const dataTable =\n",
              "            await google.colab.kernel.invokeFunction('convertToInteractive',\n",
              "                                                     [key], {});\n",
              "          if (!dataTable) return;\n",
              "\n",
              "          const docLinkHtml = 'Like what you see? Visit the ' +\n",
              "            '<a target=\"_blank\" href=https://colab.research.google.com/notebooks/data_table.ipynb>data table notebook</a>'\n",
              "            + ' to learn more about interactive tables.';\n",
              "          element.innerHTML = '';\n",
              "          dataTable['output_type'] = 'display_data';\n",
              "          await google.colab.output.renderOutput(dataTable, element);\n",
              "          const docLink = document.createElement('div');\n",
              "          docLink.innerHTML = docLinkHtml;\n",
              "          element.appendChild(docLink);\n",
              "        }\n",
              "      </script>\n",
              "    </div>\n",
              "  </div>\n",
              "  "
            ]
          },
          "metadata": {},
          "execution_count": 15
        }
      ]
    },
    {
      "cell_type": "markdown",
      "source": [
        "# **5. Сделайте вывод про обученную модель**\n",
        "\n",
        "Я использовал анализ основных компонентов, установил долю объясненной дисперсии выше 0.80 и обучил модель с основными компонентами 44. Модель RandomForest в наборе данных MNIST показала хорошие результаты с Accuracy = 0.928."
      ],
      "metadata": {
        "id": "5FraqisaBCFe"
      }
    }
  ],
  "metadata": {
    "kernelspec": {
      "display_name": "Python 3",
      "language": "python",
      "name": "python3"
    },
    "language_info": {
      "codemirror_mode": {
        "name": "ipython",
        "version": 3
      },
      "file_extension": ".py",
      "mimetype": "text/x-python",
      "name": "python",
      "nbconvert_exporter": "python",
      "pygments_lexer": "ipython3",
      "version": "3.7.3"
    },
    "colab": {
      "provenance": [],
      "include_colab_link": true
    }
  },
  "nbformat": 4,
  "nbformat_minor": 0
}