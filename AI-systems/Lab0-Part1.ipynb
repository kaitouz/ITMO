{
  "cells": [
    {
      "cell_type": "markdown",
      "metadata": {
        "id": "zxhOByk4J67n"
      },
      "source": [
        "# Import dependencies"
      ]
    },
    {
      "cell_type": "code",
      "execution_count": 1,
      "metadata": {
        "collapsed": true,
        "id": "j1vzIo_4J67t"
      },
      "outputs": [],
      "source": [
        "from keras.models import Sequential\n",
        "from keras.layers import Dense, Activation\n",
        "from keras.callbacks import Callback\n",
        "from keras import regularizers\n",
        "from keras import optimizers\n",
        "\n",
        "from functools import partial\n",
        "\n",
        "%matplotlib inline\n",
        "import matplotlib.pyplot as plt\n",
        "from ipywidgets import *\n",
        "\n",
        "import numpy as np"
      ]
    },
    {
      "cell_type": "markdown",
      "metadata": {
        "id": "HeUGlzlOJ67v"
      },
      "source": [
        "# Generate data"
      ]
    },
    {
      "cell_type": "code",
      "execution_count": 2,
      "metadata": {
        "collapsed": true,
        "id": "hy5wW8vYJ67v"
      },
      "outputs": [],
      "source": [
        "# Dot count \n",
        "samples = 1000\n",
        "test_n = 200"
      ]
    },
    {
      "cell_type": "code",
      "execution_count": 3,
      "metadata": {
        "collapsed": true,
        "id": "EvNnb_DvJ67w"
      },
      "outputs": [],
      "source": [
        "# X interval\n",
        "x_int = (-9, 9)\n",
        "# Y interval\n",
        "y_int = (-1, 1)"
      ]
    },
    {
      "cell_type": "code",
      "execution_count": 4,
      "metadata": {
        "id": "hdqPw3IHJ67w",
        "outputId": "df79a49c-4af1-4d36-88d8-ed47b042f2d0",
        "colab": {
          "base_uri": "https://localhost:8080/"
        }
      },
      "outputs": [
        {
          "output_type": "stream",
          "name": "stdout",
          "text": [
            "[[ 5.15347042  0.21742311]\n",
            " [-4.97795348  0.07056951]\n",
            " [-8.52377595  0.26491425]\n",
            " ...\n",
            " [ 2.45564447 -0.95258533]\n",
            " [-0.44304367  0.39941112]\n",
            " [-2.78904349  0.29561721]]\n"
          ]
        }
      ],
      "source": [
        "# Generate\n",
        "data = [(np.random.random() * (x_int[1] - x_int[0]) + x_int[0], \n",
        "                  np.random.random() * (y_int[1] - y_int[0]) + y_int[0]) for i in range(samples + test_n)]\n",
        "#print(data)\n",
        "train_data = np.array(data[test_n:])\n",
        "test_data = np.array(data[:test_n])\n",
        "print(train_data)"
      ]
    },
    {
      "cell_type": "code",
      "execution_count": 5,
      "metadata": {
        "collapsed": true,
        "id": "s2Q3gmgaJ67y"
      },
      "outputs": [],
      "source": [
        "\n",
        "# Your variant function\n",
        "def main_func(x):\n",
        "    return np.cos(x)\n",
        "def main_func_noisy(x):\n",
        "    return main_func(x) + np.cos(4*x + 1) / 5\n",
        "\n",
        "def result_func(xy):\n",
        "    return main_func(xy[0]) > xy[1]\n",
        "\n",
        "def result_func_noisy(xy):\n",
        "    return main_func_noisy(xy[0]) > xy[1]"
      ]
    },
    {
      "cell_type": "code",
      "execution_count": 6,
      "metadata": {
        "id": "hdOM85ciJ670",
        "outputId": "c4b3e39d-45cb-4214-f1d9-eeeae8494782",
        "colab": {
          "base_uri": "https://localhost:8080/"
        }
      },
      "outputs": [
        {
          "output_type": "stream",
          "name": "stdout",
          "text": [
            "(1000,)\n",
            "(200,)\n"
          ]
        }
      ],
      "source": [
        "train_answers = np.apply_along_axis(result_func_noisy, arr=train_data, axis=1)\n",
        "#answers = np.reshape(answers, (samples,1))\n",
        "print(train_answers.shape)\n",
        "\n",
        "test_answers = np.apply_along_axis(result_func, arr=test_data, axis=1)\n",
        "print(test_answers.shape)"
      ]
    },
    {
      "cell_type": "code",
      "execution_count": 7,
      "metadata": {
        "id": "YewV0ua1J671",
        "outputId": "d6892c19-08e4-4580-ed7b-52e31e4fc820",
        "colab": {
          "base_uri": "https://localhost:8080/"
        }
      },
      "outputs": [
        {
          "output_type": "stream",
          "name": "stdout",
          "text": [
            "(509, 2)\n",
            "(491, 2)\n"
          ]
        }
      ],
      "source": [
        "train_data_true = train_data[train_answers]\n",
        "train_data_false = train_data[np.logical_not(train_answers)]\n",
        "print(train_data_true.shape)\n",
        "print(train_data_false.shape)"
      ]
    },
    {
      "cell_type": "markdown",
      "metadata": {
        "id": "adwZUMJBJ672"
      },
      "source": [
        "## Plot drawing"
      ]
    },
    {
      "cell_type": "code",
      "execution_count": 8,
      "metadata": {
        "id": "Xpw6pHhIJ672",
        "outputId": "6d46f647-5b4b-4b39-b179-39a042e7dbf9",
        "colab": {
          "base_uri": "https://localhost:8080/",
          "height": 282
        }
      },
      "outputs": [
        {
          "output_type": "execute_result",
          "data": {
            "text/plain": [
              "[<matplotlib.lines.Line2D at 0x7f0ce9750250>]"
            ]
          },
          "metadata": {},
          "execution_count": 8
        },
        {
          "output_type": "display_data",
          "data": {
            "text/plain": [
              "<Figure size 432x288 with 1 Axes>"
            ],
            "image/png": "[encoded data removed]"
          },
          "metadata": {
            "needs_background": "light"
          }
        }
      ],
      "source": [
        "fig, ax = plt.subplots()\n",
        "\n",
        "xx = np.linspace(*x_int, 100)\n",
        "\n",
        "ax.plot(train_data_true[:,0], train_data_true[:,1], 'g.')\n",
        "ax.plot(train_data_false[:,0], train_data_false[:,1], 'r.')\n",
        "ax.plot(xx, main_func(xx), 'b--')\n",
        "ax.plot(xx, main_func_noisy(xx), 'y-')"
      ]
    },
    {
      "cell_type": "markdown",
      "metadata": {
        "id": "9TZfrPaLJ672"
      },
      "source": [
        "## Experimentation"
      ]
    },
    {
      "cell_type": "markdown",
      "metadata": {
        "id": "CCQ1QaU8J674"
      },
      "source": [
        "Plot drawing"
      ]
    },
    {
      "cell_type": "code",
      "execution_count": 9,
      "metadata": {
        "collapsed": true,
        "id": "_5QQKmEPJ674"
      },
      "outputs": [],
      "source": [
        "def plot_accuracy(history):\n",
        "    # Plot training & validation accuracy values\n",
        "    plt.plot(history.history['accuracy'])\n",
        "    plt.plot(history.history['val_accuracy'])\n",
        "    plt.title('Model accuracy')\n",
        "    plt.ylabel('Accuracy')\n",
        "    plt.xlabel('Epoch')\n",
        "    plt.legend(['Train', 'Test'], loc='upper left')\n",
        "    plt.show()\n",
        "\n",
        "    # Plot training & validation loss values\n",
        "    plt.plot(history.history['loss'])\n",
        "    plt.plot(history.history['val_loss'])\n",
        "    plt.title('Model loss')\n",
        "    plt.ylabel('Loss')\n",
        "    plt.xlabel('Epoch')\n",
        "    plt.legend(['Train', 'Test'], loc='upper left')\n",
        "    plt.show()"
      ]
    },
    {
      "cell_type": "markdown",
      "metadata": {
        "id": "nO0YpploJ675"
      },
      "source": [
        "Setting parameters and contur plot drawing"
      ]
    },
    {
      "cell_type": "code",
      "execution_count": 10,
      "metadata": {
        "collapsed": true,
        "id": "OdarkLByJ675"
      },
      "outputs": [],
      "source": [
        "def plot_contour_graph(model):\n",
        "    xx = np.linspace(*x_int, 100)\n",
        "    yy = np.linspace(*y_int, 200)\n",
        "\n",
        "    xm, ym = np.meshgrid(xx, yy)\n",
        "    xys = np.array([xm, ym]).reshape((2, -1))\n",
        "\n",
        "    z_actual = result_func(xys).reshape(200,100)\n",
        "\n",
        "    xys = np.moveaxis(xys, 0, 1)\n",
        "    z = model.predict(xys).reshape(200, 100)\n",
        "\n",
        "    \n",
        "    plt.contourf(xm, ym, z)\n",
        "    plt.title('Neural net vision of the function')\n",
        "    plt.colorbar()\n",
        "    plt.show()\n",
        "    \n",
        "    plt.contourf(xm, ym, z_actual)\n",
        "    plt.title('Actual function')\n",
        "    plt.colorbar()\n",
        "    plt.show()"
      ]
    },
    {
      "cell_type": "code",
      "execution_count": 11,
      "metadata": {
        "scrolled": false,
        "id": "YyqLwb0WJ676",
        "outputId": "5eaf78e3-ba75-4877-92eb-24fbe26cf95e",
        "colab": {
          "base_uri": "https://localhost:8080/",
          "height": 1000,
          "referenced_widgets": [
            "d85f8b18d7444554bfbf7853e12c4991",
            "1297d91a237848cfa7eada202db1b14c",
            "56120e15a6d44a75b6019146066dff21",
            "6e4865c0113249b099481f4a76d1d123",
            "1dd97a42098d4c2c9d5e52a07847b1cd",
            "223218d8936d49d6ad5f2e8a2f05e9a3",
            "d1a4e9a2c41947f4ab209666a0173396",
            "3c615b85d23d4284a4eb48d87aca4df8",
            "a0c8f194537f4bf1bee6a52b1e24817b",
            "1b6b9a037b2c4cd5b1a36fdc2fd78b5a",
            "88011b4c9f9549a38442fd9961cc4c3c",
            "7d7d063287e94b2b955a8049facb350e",
            "57ee5ebf3abb49ef92241fd61980a6a7",
            "58e75a6e1fa04406b8bdddea6ed8db31",
            "7d4b145ce048438daeaf13292be802ce",
            "f31390dcc9994b60a435e223bc96378f",
            "d5471fe60803453ba2f10c60210184ae",
            "737051565637417f83b2e2159049665a",
            "ea7c1f2a4a544017a1a87939f30b46f0",
            "038f87795f0b4a9fbbdd0cfa784ab653",
            "26466dc2e7f64f7d8384cd81bd2ce085",
            "7f09deffb80d4ad1ad28cfe4eb99f9ea",
            "5a6996ae303b44d98ab2bb5564d16845",
            "dea59335dc0342d3a6da84479c860399",
            "437f45795e04481e835e7611349be4f4",
            "4e66c93a002748e0a9c0c105f0988dc6",
            "6c866e3cfc904bd2849f284963643f12",
            "013b50a13192453a92f0d4d383774fae",
            "f7bb816e315c4b14be079542523921c1",
            "b20e6c6a1d454125985aec8929f3ceee",
            "e748d65666f048e2b9c9ae1b25df4418",
            "fb9a44b682cf469bb1de4551afb855fc",
            "536a06bb81e849dbaedaedc187aa189a",
            "cc80205b53e1462b881322c9d6f8be4f",
            "ea839be66ddf4e9f85f3039041cb7232",
            "3e5d84de7d6540b7bc97ddbb47ad85ac",
            "3b103fb1cac84533bee632f6c317eb88",
            "7af279c4f452479b91420056d47583f8",
            "8dee542042db43058674abf8cd957cc8",
            "07f67af965374d3abd5c9bb839a3796c",
            "27a16dc508c94e0f9dbe5a8f3c98f264",
            "199dbfa69a8341778d6c30b1ccb2f180",
            "9fbecaca0fc34de9b8dde2e76582f87c",
            "e68d90d7fd284fb48cd78c999f78bbfd",
            "06c26764a4ce47b598fe2cc11e8bb564",
            "fa43a84d9c0b49068ab76b0cd0ccfc9f",
            "c1535e192a844c8d994861d2a4a04e1f",
            "485d6cad09a444be9da1703938d0c350",
            "769b0f87c23547598cfdb54b1e7635ed",
            "52e2760de5eb44a58fa3803ef9b50144",
            "20984df1f96b448ead9fbf0c0614998f",
            "bd3c02b2fbd342838ef9d872c8e7267b",
            "1219b6dbed1f4063b155be89279fb411",
            "c2ea79fa27034f00b7e5f15135692231",
            "86ec2980ab11437e9d8c159615fff944"
          ]
        }
      },
      "outputs": [
        {
          "output_type": "display_data",
          "data": {
            "text/plain": [
              "interactive(children=(IntSlider(value=2, description='Слоев: ', max=4), Dropdown(description='Loss function: '…"
            ],
            "application/vnd.jupyter.widget-view+json": {
              "version_major": 2,
              "version_minor": 0,
              "model_id": "d85f8b18d7444554bfbf7853e12c4991"
            }
          },
          "metadata": {}
        }
      ],
      "source": [
        "style = {'description_width': 'initial'}\n",
        "@interact_manual(\n",
        "    n_layers = IntSlider(min=0, max=4, value=2, description='Слоев: '),\n",
        "    layer1_size = IntSlider(min=0, max=20, value=6, description='Neurons count in layer 1: ', style=style),\n",
        "    layer2_size = IntSlider(min=0, max=20, value=3, description='Neurons count in layer 2: ', style=style),\n",
        "    layer3_size = IntSlider(min=0, max=20, value=0, description='Neurons count in layer 1: ', style=style),\n",
        "    layer4_size = IntSlider(min=0, max=20, value=0, description='Neurons count in layer 1: ', style=style),\n",
        "    layer1_type = Dropdown(options=['softmax', 'relu', 'tanh', 'sigmoid', 'linear'], value='relu',\n",
        "                          description='Layer 1 activation type: ', style=style),\n",
        "    layer2_type = Dropdown(options=['softmax', 'relu', 'tanh', 'sigmoid', 'linear'], value='relu',\n",
        "                          description='Layer 2 activation type: ', style=style),\n",
        "    layer3_type = Dropdown(options=['softmax', 'relu', 'tanh', 'sigmoid', 'linear'], value='relu',\n",
        "                          description='Layer 3 activation type: ', style=style),\n",
        "    layer4_type = Dropdown(options=['softmax', 'relu', 'tanh', 'sigmoid', 'linear'], value='relu',\n",
        "                          description='Layer 4 activation type: ', style=style),\n",
        "    layer_out_type = Dropdown(options=['softmax', 'relu', 'tanh', 'sigmoid', 'linear'], value='sigmoid',\n",
        "                          description='Output layer activation type: ', style=style),\n",
        "    loss_func = Dropdown(options={\n",
        "        'Standard deviation': 'mse', \n",
        "        'Mean absolute deviation': 'mae',\n",
        "        'Binary crossentropy': 'binary_crossentropy'\n",
        "    }, value='binary_crossentropy', description='Loss function: ', style=style),\n",
        "    epochs = IntSlider(min=10, max=10000, step=10, value=300, description='Epoch count: ', style=style),\n",
        "    batch_size = IntSlider(min=0, max=len(data), value=100, description='Batch size: ', style=style),\n",
        "    lr = ToggleButtons(options=[\"-0.1\", \"0\", \"0.001\", \"0.01\", \"0.05\", \"0.1\", \"0.5\", \"1\", \"5\"], \n",
        "                               value=\"0.01\", description='Learn rate: ', style=style),\n",
        "    l1=ToggleButtons(options=[\"-0.1\", \"0\", \"0.0001\", \"0.0005\", \"0.001\", \"0.005\", \"0.01\", \"0.05\", \"0.1\"], \n",
        "                               value=\"0.0001\", description='Regularization  L1: ', style=style),\n",
        "    l2=ToggleButtons(options=[\"-0.1\", \"0\", \"0.0001\", \"0.0005\", \"0.001\", \"0.005\", \"0.01\", \"0.05\", \"0.1\"], \n",
        "                               value=\"0.0001\", description='Regularization  L2: ', style=style)\n",
        ")\n",
        "def interactive_learning(n_layers, loss_func, batch_size, lr, l1, l2, layer_out_type, epochs,\n",
        "                         layer1_size, layer2_size, layer3_size, layer4_size,\n",
        "                         layer1_type, layer2_type, layer3_type, layer4_type):\n",
        "    layer_sizes = [layer1_size, layer2_size, layer3_size, layer4_size]\n",
        "    layer_types = [layer1_type, layer2_type, layer3_type, layer4_type]\n",
        "    lr = float(lr)\n",
        "    l1 = float(l1)\n",
        "    l2 = float(l2)\n",
        "    \n",
        "    model = Sequential()\n",
        "    \n",
        "    if n_layers == 0:\n",
        "        model.add(Dense(1, activation=layer_out_type, \n",
        "                        input_shape=(2,), kernel_regularizer=regularizers.l1_l2(l1=l1, l2=l2)))\n",
        "    else:\n",
        "        model.add(Dense(layer_sizes[0], activation=layer_types[0], \n",
        "                        input_shape=(2,), kernel_regularizer=regularizers.l1_l2(l1=l1, l2=l2)))\n",
        "        for i in range(1, n_layers):\n",
        "            model.add(Dense(layer_sizes[i], activation=layer_types[i],\n",
        "                           kernel_regularizer=regularizers.l1_l2(l1=l1, l2=l2)))\n",
        "        model.add(Dense(1, activation=layer_out_type, kernel_regularizer=regularizers.l1_l2(l1=l1, l2=l2)))\n",
        "    \n",
        "    model.compile(\n",
        "     optimizer = optimizers.SGD(learning_rate=lr),\n",
        "     loss = loss_func,\n",
        "     metrics = [\"accuracy\"]\n",
        "    )\n",
        "    \n",
        "    \n",
        "    history = model.fit(\n",
        "     train_data, train_answers,\n",
        "     epochs=epochs,\n",
        "     batch_size=batch_size,\n",
        "     validation_data=(test_data, test_answers),\n",
        "     verbose=0\n",
        "    )\n",
        "    \n",
        "    print('Accuracy: ', history.history['val_accuracy'][-1])\n",
        "    plot_accuracy(history)\n",
        "    plot_contour_graph(model)"
      ]
    },
    {
      "cell_type": "code",
      "execution_count": 11,
      "metadata": {
        "collapsed": true,
        "id": "bctcJE5yJ677"
      },
      "outputs": [],
      "source": []
    }
  ],
  "metadata": {
    "kernelspec": {
      "display_name": "Python 3",
      "language": "python",
      "name": "python3"
    },
    "language_info": {
      "codemirror_mode": {
        "name": "ipython",
        "version": 3
      },
      "file_extension": ".py",
      "mimetype": "text/x-python",
      "name": "python",
      "nbconvert_exporter": "python",
      "pygments_lexer": "ipython3",
      "version": "3.7.0"
    },
    "colab": {
      "provenance": []
    },
    "widgets": {
      "application/vnd.jupyter.widget-state+json": {
        "d85f8b18d7444554bfbf7853e12c4991": {
          "model_module": "@jupyter-widgets/controls",
          "model_name": "VBoxModel",
          "model_module_version": "1.5.0",
          "state": {
            "_dom_classes": [
              "widget-interact"
            ],
            "_model_module": "@jupyter-widgets/controls",
            "_model_module_version": "1.5.0",
            "_model_name": "VBoxModel",
            "_view_count": null,
            "_view_module": "@jupyter-widgets/controls",
            "_view_module_version": "1.5.0",
            "_view_name": "VBoxView",
            "box_style": "",
            "children": [
              "IPY_MODEL_1297d91a237848cfa7eada202db1b14c",
              "IPY_MODEL_56120e15a6d44a75b6019146066dff21",
              "IPY_MODEL_6e4865c0113249b099481f4a76d1d123",
              "IPY_MODEL_1dd97a42098d4c2c9d5e52a07847b1cd",
              "IPY_MODEL_223218d8936d49d6ad5f2e8a2f05e9a3",
              "IPY_MODEL_d1a4e9a2c41947f4ab209666a0173396",
              "IPY_MODEL_3c615b85d23d4284a4eb48d87aca4df8",
              "IPY_MODEL_a0c8f194537f4bf1bee6a52b1e24817b",
              "IPY_MODEL_1b6b9a037b2c4cd5b1a36fdc2fd78b5a",
              "IPY_MODEL_88011b4c9f9549a38442fd9961cc4c3c",
              "IPY_MODEL_7d7d063287e94b2b955a8049facb350e",
              "IPY_MODEL_57ee5ebf3abb49ef92241fd61980a6a7",
              "IPY_MODEL_58e75a6e1fa04406b8bdddea6ed8db31",
              "IPY_MODEL_7d4b145ce048438daeaf13292be802ce",
              "IPY_MODEL_f31390dcc9994b60a435e223bc96378f",
              "IPY_MODEL_d5471fe60803453ba2f10c60210184ae",
              "IPY_MODEL_737051565637417f83b2e2159049665a",
              "IPY_MODEL_ea7c1f2a4a544017a1a87939f30b46f0"
            ],
            "layout": "IPY_MODEL_038f87795f0b4a9fbbdd0cfa784ab653"
          }
        },
        "1297d91a237848cfa7eada202db1b14c": {
          "model_module": "@jupyter-widgets/controls",
          "model_name": "IntSliderModel",
          "model_module_version": "1.5.0",
          "state": {
            "_dom_classes": [],
            "_model_module": "@jupyter-widgets/controls",
            "_model_module_version": "1.5.0",
            "_model_name": "IntSliderModel",
            "_view_count": null,
            "_view_module": "@jupyter-widgets/controls",
            "_view_module_version": "1.5.0",
            "_view_name": "IntSliderView",
            "continuous_update": true,
            "description": "Слоев: ",
            "description_tooltip": null,
            "disabled": false,
            "layout": "IPY_MODEL_26466dc2e7f64f7d8384cd81bd2ce085",
            "max": 4,
            "min": 0,
            "orientation": "horizontal",
            "readout": true,
            "readout_format": "d",
            "step": 1,
            "style": "IPY_MODEL_7f09deffb80d4ad1ad28cfe4eb99f9ea",
            "value": 2
          }
        },
        "56120e15a6d44a75b6019146066dff21": {
          "model_module": "@jupyter-widgets/controls",
          "model_name": "DropdownModel",
          "model_module_version": "1.5.0",
          "state": {
            "_dom_classes": [],
            "_model_module": "@jupyter-widgets/controls",
            "_model_module_version": "1.5.0",
            "_model_name": "DropdownModel",
            "_options_labels": [
              "Standard deviation",
              "Mean absolute deviation",
              "Binary crossentropy"
            ],
            "_view_count": null,
            "_view_module": "@jupyter-widgets/controls",
            "_view_module_version": "1.5.0",
            "_view_name": "DropdownView",
            "description": "Loss function: ",
            "description_tooltip": null,
            "disabled": false,
            "index": 2,
            "layout": "IPY_MODEL_5a6996ae303b44d98ab2bb5564d16845",
            "style": "IPY_MODEL_dea59335dc0342d3a6da84479c860399"
          }
        },
        "6e4865c0113249b099481f4a76d1d123": {
          "model_module": "@jupyter-widgets/controls",
          "model_name": "IntSliderModel",
          "model_module_version": "1.5.0",
          "state": {
            "_dom_classes": [],
            "_model_module": "@jupyter-widgets/controls",
            "_model_module_version": "1.5.0",
            "_model_name": "IntSliderModel",
            "_view_count": null,
            "_view_module": "@jupyter-widgets/controls",
            "_view_module_version": "1.5.0",
            "_view_name": "IntSliderView",
            "continuous_update": true,
            "description": "Batch size: ",
            "description_tooltip": null,
            "disabled": false,
            "layout": "IPY_MODEL_437f45795e04481e835e7611349be4f4",
            "max": 1200,
            "min": 0,
            "orientation": "horizontal",
            "readout": true,
            "readout_format": "d",
            "step": 1,
            "style": "IPY_MODEL_4e66c93a002748e0a9c0c105f0988dc6",
            "value": 100
          }
        },
        "1dd97a42098d4c2c9d5e52a07847b1cd": {
          "model_module": "@jupyter-widgets/controls",
          "model_name": "ToggleButtonsModel",
          "model_module_version": "1.5.0",
          "state": {
            "_dom_classes": [],
            "_model_module": "@jupyter-widgets/controls",
            "_model_module_version": "1.5.0",
            "_model_name": "ToggleButtonsModel",
            "_options_labels": [
              "-0.1",
              "0",
              "0.001",
              "0.01",
              "0.05",
              "0.1",
              "0.5",
              "1",
              "5"
            ],
            "_view_count": null,
            "_view_module": "@jupyter-widgets/controls",
            "_view_module_version": "1.5.0",
            "_view_name": "ToggleButtonsView",
            "button_style": "",
            "description": "Learn rate: ",
            "description_tooltip": null,
            "disabled": false,
            "icons": [],
            "index": 5,
            "layout": "IPY_MODEL_6c866e3cfc904bd2849f284963643f12",
            "style": "IPY_MODEL_013b50a13192453a92f0d4d383774fae",
            "tooltips": []
          }
        },
        "223218d8936d49d6ad5f2e8a2f05e9a3": {
          "model_module": "@jupyter-widgets/controls",
          "model_name": "ToggleButtonsModel",
          "model_module_version": "1.5.0",
          "state": {
            "_dom_classes": [],
            "_model_module": "@jupyter-widgets/controls",
            "_model_module_version": "1.5.0",
            "_model_name": "ToggleButtonsModel",
            "_options_labels": [
              "-0.1",
              "0",
              "0.0001",
              "0.0005",
              "0.001",
              "0.005",
              "0.01",
              "0.05",
              "0.1"
            ],
            "_view_count": null,
            "_view_module": "@jupyter-widgets/controls",
            "_view_module_version": "1.5.0",
            "_view_name": "ToggleButtonsView",
            "button_style": "",
            "description": "Regularization  L1: ",
            "description_tooltip": null,
            "disabled": false,
            "icons": [],
            "index": 4,
            "layout": "IPY_MODEL_f7bb816e315c4b14be079542523921c1",
            "style": "IPY_MODEL_b20e6c6a1d454125985aec8929f3ceee",
            "tooltips": []
          }
        },
        "d1a4e9a2c41947f4ab209666a0173396": {
          "model_module": "@jupyter-widgets/controls",
          "model_name": "ToggleButtonsModel",
          "model_module_version": "1.5.0",
          "state": {
            "_dom_classes": [],
            "_model_module": "@jupyter-widgets/controls",
            "_model_module_version": "1.5.0",
            "_model_name": "ToggleButtonsModel",
            "_options_labels": [
              "-0.1",
              "0",
              "0.0001",
              "0.0005",
              "0.001",
              "0.005",
              "0.01",
              "0.05",
              "0.1"
            ],
            "_view_count": null,
            "_view_module": "@jupyter-widgets/controls",
            "_view_module_version": "1.5.0",
            "_view_name": "ToggleButtonsView",
            "button_style": "",
            "description": "Regularization  L2: ",
            "description_tooltip": null,
            "disabled": false,
            "icons": [],
            "index": 2,
            "layout": "IPY_MODEL_e748d65666f048e2b9c9ae1b25df4418",
            "style": "IPY_MODEL_fb9a44b682cf469bb1de4551afb855fc",
            "tooltips": []
          }
        },
        "3c615b85d23d4284a4eb48d87aca4df8": {
          "model_module": "@jupyter-widgets/controls",
          "model_name": "DropdownModel",
          "model_module_version": "1.5.0",
          "state": {
            "_dom_classes": [],
            "_model_module": "@jupyter-widgets/controls",
            "_model_module_version": "1.5.0",
            "_model_name": "DropdownModel",
            "_options_labels": [
              "softmax",
              "relu",
              "tanh",
              "sigmoid",
              "linear"
            ],
            "_view_count": null,
            "_view_module": "@jupyter-widgets/controls",
            "_view_module_version": "1.5.0",
            "_view_name": "DropdownView",
            "description": "Output layer activation type: ",
            "description_tooltip": null,
            "disabled": false,
            "index": 3,
            "layout": "IPY_MODEL_536a06bb81e849dbaedaedc187aa189a",
            "style": "IPY_MODEL_cc80205b53e1462b881322c9d6f8be4f"
          }
        },
        "a0c8f194537f4bf1bee6a52b1e24817b": {
          "model_module": "@jupyter-widgets/controls",
          "model_name": "IntSliderModel",
          "model_module_version": "1.5.0",
          "state": {
            "_dom_classes": [],
            "_model_module": "@jupyter-widgets/controls",
            "_model_module_version": "1.5.0",
            "_model_name": "IntSliderModel",
            "_view_count": null,
            "_view_module": "@jupyter-widgets/controls",
            "_view_module_version": "1.5.0",
            "_view_name": "IntSliderView",
            "continuous_update": true,
            "description": "Epoch count: ",
            "description_tooltip": null,
            "disabled": false,
            "layout": "IPY_MODEL_ea839be66ddf4e9f85f3039041cb7232",
            "max": 10000,
            "min": 10,
            "orientation": "horizontal",
            "readout": true,
            "readout_format": "d",
            "step": 10,
            "style": "IPY_MODEL_3e5d84de7d6540b7bc97ddbb47ad85ac",
            "value": 300
          }
        },
        "1b6b9a037b2c4cd5b1a36fdc2fd78b5a": {
          "model_module": "@jupyter-widgets/controls",
          "model_name": "IntSliderModel",
          "model_module_version": "1.5.0",
          "state": {
            "_dom_classes": [],
            "_model_module": "@jupyter-widgets/controls",
            "_model_module_version": "1.5.0",
            "_model_name": "IntSliderModel",
            "_view_count": null,
            "_view_module": "@jupyter-widgets/controls",
            "_view_module_version": "1.5.0",
            "_view_name": "IntSliderView",
            "continuous_update": true,
            "description": "Neurons count in layer 1: ",
            "description_tooltip": null,
            "disabled": false,
            "layout": "IPY_MODEL_3b103fb1cac84533bee632f6c317eb88",
            "max": 20,
            "min": 0,
            "orientation": "horizontal",
            "readout": true,
            "readout_format": "d",
            "step": 1,
            "style": "IPY_MODEL_7af279c4f452479b91420056d47583f8",
            "value": 6
          }
        },
        "88011b4c9f9549a38442fd9961cc4c3c": {
          "model_module": "@jupyter-widgets/controls",
          "model_name": "IntSliderModel",
          "model_module_version": "1.5.0",
          "state": {
            "_dom_classes": [],
            "_model_module": "@jupyter-widgets/controls",
            "_model_module_version": "1.5.0",
            "_model_name": "IntSliderModel",
            "_view_count": null,
            "_view_module": "@jupyter-widgets/controls",
            "_view_module_version": "1.5.0",
            "_view_name": "IntSliderView",
            "continuous_update": true,
            "description": "Neurons count in layer 2: ",
            "description_tooltip": null,
            "disabled": false,
            "layout": "IPY_MODEL_8dee542042db43058674abf8cd957cc8",
            "max": 20,
            "min": 0,
            "orientation": "horizontal",
            "readout": true,
            "readout_format": "d",
            "step": 1,
            "style": "IPY_MODEL_07f67af965374d3abd5c9bb839a3796c",
            "value": 3
          }
        },
        "7d7d063287e94b2b955a8049facb350e": {
          "model_module": "@jupyter-widgets/controls",
          "model_name": "IntSliderModel",
          "model_module_version": "1.5.0",
          "state": {
            "_dom_classes": [],
            "_model_module": "@jupyter-widgets/controls",
            "_model_module_version": "1.5.0",
            "_model_name": "IntSliderModel",
            "_view_count": null,
            "_view_module": "@jupyter-widgets/controls",
            "_view_module_version": "1.5.0",
            "_view_name": "IntSliderView",
            "continuous_update": true,
            "description": "Neurons count in layer 1: ",
            "description_tooltip": null,
            "disabled": false,
            "layout": "IPY_MODEL_27a16dc508c94e0f9dbe5a8f3c98f264",
            "max": 20,
            "min": 0,
            "orientation": "horizontal",
            "readout": true,
            "readout_format": "d",
            "step": 1,
            "style": "IPY_MODEL_199dbfa69a8341778d6c30b1ccb2f180",
            "value": 0
          }
        },
        "57ee5ebf3abb49ef92241fd61980a6a7": {
          "model_module": "@jupyter-widgets/controls",
          "model_name": "IntSliderModel",
          "model_module_version": "1.5.0",
          "state": {
            "_dom_classes": [],
            "_model_module": "@jupyter-widgets/controls",
            "_model_module_version": "1.5.0",
            "_model_name": "IntSliderModel",
            "_view_count": null,
            "_view_module": "@jupyter-widgets/controls",
            "_view_module_version": "1.5.0",
            "_view_name": "IntSliderView",
            "continuous_update": true,
            "description": "Neurons count in layer 1: ",
            "description_tooltip": null,
            "disabled": false,
            "layout": "IPY_MODEL_9fbecaca0fc34de9b8dde2e76582f87c",
            "max": 20,
            "min": 0,
            "orientation": "horizontal",
            "readout": true,
            "readout_format": "d",
            "step": 1,
            "style": "IPY_MODEL_e68d90d7fd284fb48cd78c999f78bbfd",
            "value": 0
          }
        },
        "58e75a6e1fa04406b8bdddea6ed8db31": {
          "model_module": "@jupyter-widgets/controls",
          "model_name": "DropdownModel",
          "model_module_version": "1.5.0",
          "state": {
            "_dom_classes": [],
            "_model_module": "@jupyter-widgets/controls",
            "_model_module_version": "1.5.0",
            "_model_name": "DropdownModel",
            "_options_labels": [
              "softmax",
              "relu",
              "tanh",
              "sigmoid",
              "linear"
            ],
            "_view_count": null,
            "_view_module": "@jupyter-widgets/controls",
            "_view_module_version": "1.5.0",
            "_view_name": "DropdownView",
            "description": "Layer 1 activation type: ",
            "description_tooltip": null,
            "disabled": false,
            "index": 1,
            "layout": "IPY_MODEL_06c26764a4ce47b598fe2cc11e8bb564",
            "style": "IPY_MODEL_fa43a84d9c0b49068ab76b0cd0ccfc9f"
          }
        },
        "7d4b145ce048438daeaf13292be802ce": {
          "model_module": "@jupyter-widgets/controls",
          "model_name": "DropdownModel",
          "model_module_version": "1.5.0",
          "state": {
            "_dom_classes": [],
            "_model_module": "@jupyter-widgets/controls",
            "_model_module_version": "1.5.0",
            "_model_name": "DropdownModel",
            "_options_labels": [
              "softmax",
              "relu",
              "tanh",
              "sigmoid",
              "linear"
            ],
            "_view_count": null,
            "_view_module": "@jupyter-widgets/controls",
            "_view_module_version": "1.5.0",
            "_view_name": "DropdownView",
            "description": "Layer 2 activation type: ",
            "description_tooltip": null,
            "disabled": false,
            "index": 1,
            "layout": "IPY_MODEL_c1535e192a844c8d994861d2a4a04e1f",
            "style": "IPY_MODEL_485d6cad09a444be9da1703938d0c350"
          }
        },
        "f31390dcc9994b60a435e223bc96378f": {
          "model_module": "@jupyter-widgets/controls",
          "model_name": "DropdownModel",
          "model_module_version": "1.5.0",
          "state": {
            "_dom_classes": [],
            "_model_module": "@jupyter-widgets/controls",
            "_model_module_version": "1.5.0",
            "_model_name": "DropdownModel",
            "_options_labels": [
              "softmax",
              "relu",
              "tanh",
              "sigmoid",
              "linear"
            ],
            "_view_count": null,
            "_view_module": "@jupyter-widgets/controls",
            "_view_module_version": "1.5.0",
            "_view_name": "DropdownView",
            "description": "Layer 3 activation type: ",
            "description_tooltip": null,
            "disabled": false,
            "index": 1,
            "layout": "IPY_MODEL_769b0f87c23547598cfdb54b1e7635ed",
            "style": "IPY_MODEL_52e2760de5eb44a58fa3803ef9b50144"
          }
        },
        "d5471fe60803453ba2f10c60210184ae": {
          "model_module": "@jupyter-widgets/controls",
          "model_name": "DropdownModel",
          "model_module_version": "1.5.0",
          "state": {
            "_dom_classes": [],
            "_model_module": "@jupyter-widgets/controls",
            "_model_module_version": "1.5.0",
            "_model_name": "DropdownModel",
            "_options_labels": [
              "softmax",
              "relu",
              "tanh",
              "sigmoid",
              "linear"
            ],
            "_view_count": null,
            "_view_module": "@jupyter-widgets/controls",
            "_view_module_version": "1.5.0",
            "_view_name": "DropdownView",
            "description": "Layer 4 activation type: ",
            "description_tooltip": null,
            "disabled": false,
            "index": 1,
            "layout": "IPY_MODEL_20984df1f96b448ead9fbf0c0614998f",
            "style": "IPY_MODEL_bd3c02b2fbd342838ef9d872c8e7267b"
          }
        },
        "737051565637417f83b2e2159049665a": {
          "model_module": "@jupyter-widgets/controls",
          "model_name": "ButtonModel",
          "model_module_version": "1.5.0",
          "state": {
            "_dom_classes": [],
            "_model_module": "@jupyter-widgets/controls",
            "_model_module_version": "1.5.0",
            "_model_name": "ButtonModel",
            "_view_count": null,
            "_view_module": "@jupyter-widgets/controls",
            "_view_module_version": "1.5.0",
            "_view_name": "ButtonView",
            "button_style": "",
            "description": "Run Interact",
            "disabled": false,
            "icon": "",
            "layout": "IPY_MODEL_1219b6dbed1f4063b155be89279fb411",
            "style": "IPY_MODEL_c2ea79fa27034f00b7e5f15135692231",
            "tooltip": ""
          }
        },
        "ea7c1f2a4a544017a1a87939f30b46f0": {
          "model_module": "@jupyter-widgets/output",
          "model_name": "OutputModel",
          "model_module_version": "1.0.0",
          "state": {
            "_dom_classes": [],
            "_model_module": "@jupyter-widgets/output",
            "_model_module_version": "1.0.0",
            "_model_name": "OutputModel",
            "_view_count": null,
            "_view_module": "@jupyter-widgets/output",
            "_view_module_version": "1.0.0",
            "_view_name": "OutputView",
            "layout": "IPY_MODEL_86ec2980ab11437e9d8c159615fff944",
            "msg_id": "",
            "outputs": [
              {
                "output_type": "stream",
                "name": "stdout",
                "text": [
                  "Accuracy:  0.7799999713897705\n"
                ]
              },
              {
                "output_type": "display_data",
                "data": {
                  "text/plain": "<Figure size 432x288 with 1 Axes>",
                  "image/png": "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\n"
                },
                "metadata": {
                  "needs_background": "light"
                }
              },
              {
                "output_type": "display_data",
                "data": {
                  "text/plain": "<Figure size 432x288 with 1 Axes>",
                  "image/png": "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\n"
                },
                "metadata": {
                  "needs_background": "light"
                }
              },
              {
                "output_type": "stream",
                "name": "stdout",
                "text": [
                  "\r  1/625 [..............................] - ETA: 41s"
                ]
              },
              {
                "output_type": "stream",
                "name": "stdout",
                "text": [
                  "\b\b\b\b\b\b\b\b\b\b\b\b\b\b\b\b\b\b\b\b\b\b\b\b\b\b\b\b\b\b\b\b\b\b\b\b\b\b\b\b\b\b\b\b\b\b\b\b\b\b\b\r 37/625 [>.............................] - ETA: 0s "
                ]
              },
              {
                "output_type": "stream",
                "name": "stdout",
                "text": [
                  "\b\b\b\b\b\b\b\b\b\b\b\b\b\b\b\b\b\b\b\b\b\b\b\b\b\b\b\b\b\b\b\b\b\b\b\b\b\b\b\b\b\b\b\b\b\b\b\b\b\b\r 67/625 [==>...........................] - ETA: 0s"
                ]
              },
              {
                "output_type": "stream",
                "name": "stdout",
                "text": [
                  "\b\b\b\b\b\b\b\b\b\b\b\b\b\b\b\b\b\b\b\b\b\b\b\b\b\b\b\b\b\b\b\b\b\b\b\b\b\b\b\b\b\b\b\b\b\b\b\b\b\b\r104/625 [===>..........................] - ETA: 0s"
                ]
              },
              {
                "output_type": "stream",
                "name": "stdout",
                "text": [
                  "\b\b\b\b\b\b\b\b\b\b\b\b\b\b\b\b\b\b\b\b\b\b\b\b\b\b\b\b\b\b\b\b\b\b\b\b\b\b\b\b\b\b\b\b\b\b\b\b\b\b\r139/625 [=====>........................] - ETA: 0s"
                ]
              },
              {
                "output_type": "stream",
                "name": "stdout",
                "text": [
                  "\b\b\b\b\b\b\b\b\b\b\b\b\b\b\b\b\b\b\b\b\b\b\b\b\b\b\b\b\b\b\b\b\b\b\b\b\b\b\b\b\b\b\b\b\b\b\b\b\b\b\r181/625 [=======>......................] - ETA: 0s"
                ]
              },
              {
                "output_type": "stream",
                "name": "stdout",
                "text": [
                  "\b\b\b\b\b\b\b\b\b\b\b\b\b\b\b\b\b\b\b\b\b\b\b\b\b\b\b\b\b\b\b\b\b\b\b\b\b\b\b\b\b\b\b\b\b\b\b\b\b\b\r219/625 [=========>....................] - ETA: 0s"
                ]
              },
              {
                "output_type": "stream",
                "name": "stdout",
                "text": [
                  "\b\b\b\b\b\b\b\b\b\b\b\b\b\b\b\b\b\b\b\b\b\b\b\b\b\b\b\b\b\b\b\b\b\b\b\b\b\b\b\b\b\b\b\b\b\b\b\b\b\b\r256/625 [===========>..................] - ETA: 0s"
                ]
              },
              {
                "output_type": "stream",
                "name": "stdout",
                "text": [
                  "\b\b\b\b\b\b\b\b\b\b\b\b\b\b\b\b\b\b\b\b\b\b\b\b\b\b\b\b\b\b\b\b\b\b\b\b\b\b\b\b\b\b\b\b\b\b\b\b\b\b\r293/625 [=============>................] - ETA: 0s"
                ]
              },
              {
                "output_type": "stream",
                "name": "stdout",
                "text": [
                  "\b\b\b\b\b\b\b\b\b\b\b\b\b\b\b\b\b\b\b\b\b\b\b\b\b\b\b\b\b\b\b\b\b\b\b\b\b\b\b\b\b\b\b\b\b\b\b\b\b\b\r325/625 [==============>...............] - ETA: 0s"
                ]
              },
              {
                "output_type": "stream",
                "name": "stdout",
                "text": [
                  "\b\b\b\b\b\b\b\b\b\b\b\b\b\b\b\b\b\b\b\b\b\b\b\b\b\b\b\b\b\b\b\b\b\b\b\b\b\b\b\b\b\b\b\b\b\b\b\b\b\b\r364/625 [================>.............] - ETA: 0s"
                ]
              },
              {
                "output_type": "stream",
                "name": "stdout",
                "text": [
                  "\b\b\b\b\b\b\b\b\b\b\b\b\b\b\b\b\b\b\b\b\b\b\b\b\b\b\b\b\b\b\b\b\b\b\b\b\b\b\b\b\b\b\b\b\b\b\b\b\b\b\r406/625 [==================>...........] - ETA: 0s"
                ]
              },
              {
                "output_type": "stream",
                "name": "stdout",
                "text": [
                  "\b\b\b\b\b\b\b\b\b\b\b\b\b\b\b\b\b\b\b\b\b\b\b\b\b\b\b\b\b\b\b\b\b\b\b\b\b\b\b\b\b\b\b\b\b\b\b\b\b\b\r446/625 [====================>.........] - ETA: 0s"
                ]
              },
              {
                "output_type": "stream",
                "name": "stdout",
                "text": [
                  "\b\b\b\b\b\b\b\b\b\b\b\b\b\b\b\b\b\b\b\b\b\b\b\b\b\b\b\b\b\b\b\b\b\b\b\b\b\b\b\b\b\b\b\b\b\b\b\b\b\b\r487/625 [======================>.......] - ETA: 0s"
                ]
              },
              {
                "output_type": "stream",
                "name": "stdout",
                "text": [
                  "\b\b\b\b\b\b\b\b\b\b\b\b\b\b\b\b\b\b\b\b\b\b\b\b\b\b\b\b\b\b\b\b\b\b\b\b\b\b\b\b\b\b\b\b\b\b\b\b\b\b\r529/625 [========================>.....] - ETA: 0s"
                ]
              },
              {
                "output_type": "stream",
                "name": "stdout",
                "text": [
                  "\b\b\b\b\b\b\b\b\b\b\b\b\b\b\b\b\b\b\b\b\b\b\b\b\b\b\b\b\b\b\b\b\b\b\b\b\b\b\b\b\b\b\b\b\b\b\b\b\b\b\r561/625 [=========================>....] - ETA: 0s"
                ]
              },
              {
                "output_type": "stream",
                "name": "stdout",
                "text": [
                  "\b\b\b\b\b\b\b\b\b\b\b\b\b\b\b\b\b\b\b\b\b\b\b\b\b\b\b\b\b\b\b\b\b\b\b\b\b\b\b\b\b\b\b\b\b\b\b\b\b\b\r605/625 [============================>.] - ETA: 0s"
                ]
              },
              {
                "output_type": "stream",
                "name": "stdout",
                "text": [
                  "\b\b\b\b\b\b\b\b\b\b\b\b\b\b\b\b\b\b\b\b\b\b\b\b\b\b\b\b\b\b\b\b\b\b\b\b\b\b\b\b\b\b\b\b\b\b\b\b\b\b\r625/625 [==============================] - 1s 1ms/step\n"
                ]
              },
              {
                "output_type": "display_data",
                "data": {
                  "text/plain": "<Figure size 432x288 with 2 Axes>",
                  "image/png": "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\n"
                },
                "metadata": {
                  "needs_background": "light"
                }
              },
              {
                "output_type": "display_data",
                "data": {
                  "text/plain": "<Figure size 432x288 with 2 Axes>",
                  "image/png": "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\n"
                },
                "metadata": {
                  "needs_background": "light"
                }
              }
            ]
          }
        },
        "038f87795f0b4a9fbbdd0cfa784ab653": {
          "model_module": "@jupyter-widgets/base",
          "model_name": "LayoutModel",
          "model_module_version": "1.2.0",
          "state": {
            "_model_module": "@jupyter-widgets/base",
            "_model_module_version": "1.2.0",
            "_model_name": "LayoutModel",
            "_view_count": null,
            "_view_module": "@jupyter-widgets/base",
            "_view_module_version": "1.2.0",
            "_view_name": "LayoutView",
            "align_content": null,
            "align_items": null,
            "align_self": null,
            "border": null,
            "bottom": null,
            "display": null,
            "flex": null,
            "flex_flow": null,
            "grid_area": null,
            "grid_auto_columns": null,
            "grid_auto_flow": null,
            "grid_auto_rows": null,
            "grid_column": null,
            "grid_gap": null,
            "grid_row": null,
            "grid_template_areas": null,
            "grid_template_columns": null,
            "grid_template_rows": null,
            "height": null,
            "justify_content": null,
            "justify_items": null,
            "left": null,
            "margin": null,
            "max_height": null,
            "max_width": null,
            "min_height": null,
            "min_width": null,
            "object_fit": null,
            "object_position": null,
            "order": null,
            "overflow": null,
            "overflow_x": null,
            "overflow_y": null,
            "padding": null,
            "right": null,
            "top": null,
            "visibility": null,
            "width": null
          }
        },
        "26466dc2e7f64f7d8384cd81bd2ce085": {
          "model_module": "@jupyter-widgets/base",
          "model_name": "LayoutModel",
          "model_module_version": "1.2.0",
          "state": {
            "_model_module": "@jupyter-widgets/base",
            "_model_module_version": "1.2.0",
            "_model_name": "LayoutModel",
            "_view_count": null,
            "_view_module": "@jupyter-widgets/base",
            "_view_module_version": "1.2.0",
            "_view_name": "LayoutView",
            "align_content": null,
            "align_items": null,
            "align_self": null,
            "border": null,
            "bottom": null,
            "display": null,
            "flex": null,
            "flex_flow": null,
            "grid_area": null,
            "grid_auto_columns": null,
            "grid_auto_flow": null,
            "grid_auto_rows": null,
            "grid_column": null,
            "grid_gap": null,
            "grid_row": null,
            "grid_template_areas": null,
            "grid_template_columns": null,
            "grid_template_rows": null,
            "height": null,
            "justify_content": null,
            "justify_items": null,
            "left": null,
            "margin": null,
            "max_height": null,
            "max_width": null,
            "min_height": null,
            "min_width": null,
            "object_fit": null,
            "object_position": null,
            "order": null,
            "overflow": null,
            "overflow_x": null,
            "overflow_y": null,
            "padding": null,
            "right": null,
            "top": null,
            "visibility": null,
            "width": null
          }
        },
        "7f09deffb80d4ad1ad28cfe4eb99f9ea": {
          "model_module": "@jupyter-widgets/controls",
          "model_name": "SliderStyleModel",
          "model_module_version": "1.5.0",
          "state": {
            "_model_module": "@jupyter-widgets/controls",
            "_model_module_version": "1.5.0",
            "_model_name": "SliderStyleModel",
            "_view_count": null,
            "_view_module": "@jupyter-widgets/base",
            "_view_module_version": "1.2.0",
            "_view_name": "StyleView",
            "description_width": "",
            "handle_color": null
          }
        },
        "5a6996ae303b44d98ab2bb5564d16845": {
          "model_module": "@jupyter-widgets/base",
          "model_name": "LayoutModel",
          "model_module_version": "1.2.0",
          "state": {
            "_model_module": "@jupyter-widgets/base",
            "_model_module_version": "1.2.0",
            "_model_name": "LayoutModel",
            "_view_count": null,
            "_view_module": "@jupyter-widgets/base",
            "_view_module_version": "1.2.0",
            "_view_name": "LayoutView",
            "align_content": null,
            "align_items": null,
            "align_self": null,
            "border": null,
            "bottom": null,
            "display": null,
            "flex": null,
            "flex_flow": null,
            "grid_area": null,
            "grid_auto_columns": null,
            "grid_auto_flow": null,
            "grid_auto_rows": null,
            "grid_column": null,
            "grid_gap": null,
            "grid_row": null,
            "grid_template_areas": null,
            "grid_template_columns": null,
            "grid_template_rows": null,
            "height": null,
            "justify_content": null,
            "justify_items": null,
            "left": null,
            "margin": null,
            "max_height": null,
            "max_width": null,
            "min_height": null,
            "min_width": null,
            "object_fit": null,
            "object_position": null,
            "order": null,
            "overflow": null,
            "overflow_x": null,
            "overflow_y": null,
            "padding": null,
            "right": null,
            "top": null,
            "visibility": null,
            "width": null
          }
        },
        "dea59335dc0342d3a6da84479c860399": {
          "model_module": "@jupyter-widgets/controls",
          "model_name": "DescriptionStyleModel",
          "model_module_version": "1.5.0",
          "state": {
            "_model_module": "@jupyter-widgets/controls",
            "_model_module_version": "1.5.0",
            "_model_name": "DescriptionStyleModel",
            "_view_count": null,
            "_view_module": "@jupyter-widgets/base",
            "_view_module_version": "1.2.0",
            "_view_name": "StyleView",
            "description_width": "initial"
          }
        },
        "437f45795e04481e835e7611349be4f4": {
          "model_module": "@jupyter-widgets/base",
          "model_name": "LayoutModel",
          "model_module_version": "1.2.0",
          "state": {
            "_model_module": "@jupyter-widgets/base",
            "_model_module_version": "1.2.0",
            "_model_name": "LayoutModel",
            "_view_count": null,
            "_view_module": "@jupyter-widgets/base",
            "_view_module_version": "1.2.0",
            "_view_name": "LayoutView",
            "align_content": null,
            "align_items": null,
            "align_self": null,
            "border": null,
            "bottom": null,
            "display": null,
            "flex": null,
            "flex_flow": null,
            "grid_area": null,
            "grid_auto_columns": null,
            "grid_auto_flow": null,
            "grid_auto_rows": null,
            "grid_column": null,
            "grid_gap": null,
            "grid_row": null,
            "grid_template_areas": null,
            "grid_template_columns": null,
            "grid_template_rows": null,
            "height": null,
            "justify_content": null,
            "justify_items": null,
            "left": null,
            "margin": null,
            "max_height": null,
            "max_width": null,
            "min_height": null,
            "min_width": null,
            "object_fit": null,
            "object_position": null,
            "order": null,
            "overflow": null,
            "overflow_x": null,
            "overflow_y": null,
            "padding": null,
            "right": null,
            "top": null,
            "visibility": null,
            "width": null
          }
        },
        "4e66c93a002748e0a9c0c105f0988dc6": {
          "model_module": "@jupyter-widgets/controls",
          "model_name": "SliderStyleModel",
          "model_module_version": "1.5.0",
          "state": {
            "_model_module": "@jupyter-widgets/controls",
            "_model_module_version": "1.5.0",
            "_model_name": "SliderStyleModel",
            "_view_count": null,
            "_view_module": "@jupyter-widgets/base",
            "_view_module_version": "1.2.0",
            "_view_name": "StyleView",
            "description_width": "initial",
            "handle_color": null
          }
        },
        "6c866e3cfc904bd2849f284963643f12": {
          "model_module": "@jupyter-widgets/base",
          "model_name": "LayoutModel",
          "model_module_version": "1.2.0",
          "state": {
            "_model_module": "@jupyter-widgets/base",
            "_model_module_version": "1.2.0",
            "_model_name": "LayoutModel",
            "_view_count": null,
            "_view_module": "@jupyter-widgets/base",
            "_view_module_version": "1.2.0",
            "_view_name": "LayoutView",
            "align_content": null,
            "align_items": null,
            "align_self": null,
            "border": null,
            "bottom": null,
            "display": null,
            "flex": null,
            "flex_flow": null,
            "grid_area": null,
            "grid_auto_columns": null,
            "grid_auto_flow": null,
            "grid_auto_rows": null,
            "grid_column": null,
            "grid_gap": null,
            "grid_row": null,
            "grid_template_areas": null,
            "grid_template_columns": null,
            "grid_template_rows": null,
            "height": null,
            "justify_content": null,
            "justify_items": null,
            "left": null,
            "margin": null,
            "max_height": null,
            "max_width": null,
            "min_height": null,
            "min_width": null,
            "object_fit": null,
            "object_position": null,
            "order": null,
            "overflow": null,
            "overflow_x": null,
            "overflow_y": null,
            "padding": null,
            "right": null,
            "top": null,
            "visibility": null,
            "width": null
          }
        },
        "013b50a13192453a92f0d4d383774fae": {
          "model_module": "@jupyter-widgets/controls",
          "model_name": "ToggleButtonsStyleModel",
          "model_module_version": "1.5.0",
          "state": {
            "_model_module": "@jupyter-widgets/controls",
            "_model_module_version": "1.5.0",
            "_model_name": "ToggleButtonsStyleModel",
            "_view_count": null,
            "_view_module": "@jupyter-widgets/base",
            "_view_module_version": "1.2.0",
            "_view_name": "StyleView",
            "button_width": "",
            "description_width": "initial",
            "font_weight": ""
          }
        },
        "f7bb816e315c4b14be079542523921c1": {
          "model_module": "@jupyter-widgets/base",
          "model_name": "LayoutModel",
          "model_module_version": "1.2.0",
          "state": {
            "_model_module": "@jupyter-widgets/base",
            "_model_module_version": "1.2.0",
            "_model_name": "LayoutModel",
            "_view_count": null,
            "_view_module": "@jupyter-widgets/base",
            "_view_module_version": "1.2.0",
            "_view_name": "LayoutView",
            "align_content": null,
            "align_items": null,
            "align_self": null,
            "border": null,
            "bottom": null,
            "display": null,
            "flex": null,
            "flex_flow": null,
            "grid_area": null,
            "grid_auto_columns": null,
            "grid_auto_flow": null,
            "grid_auto_rows": null,
            "grid_column": null,
            "grid_gap": null,
            "grid_row": null,
            "grid_template_areas": null,
            "grid_template_columns": null,
            "grid_template_rows": null,
            "height": null,
            "justify_content": null,
            "justify_items": null,
            "left": null,
            "margin": null,
            "max_height": null,
            "max_width": null,
            "min_height": null,
            "min_width": null,
            "object_fit": null,
            "object_position": null,
            "order": null,
            "overflow": null,
            "overflow_x": null,
            "overflow_y": null,
            "padding": null,
            "right": null,
            "top": null,
            "visibility": null,
            "width": null
          }
        },
        "b20e6c6a1d454125985aec8929f3ceee": {
          "model_module": "@jupyter-widgets/controls",
          "model_name": "ToggleButtonsStyleModel",
          "model_module_version": "1.5.0",
          "state": {
            "_model_module": "@jupyter-widgets/controls",
            "_model_module_version": "1.5.0",
            "_model_name": "ToggleButtonsStyleModel",
            "_view_count": null,
            "_view_module": "@jupyter-widgets/base",
            "_view_module_version": "1.2.0",
            "_view_name": "StyleView",
            "button_width": "",
            "description_width": "initial",
            "font_weight": ""
          }
        },
        "e748d65666f048e2b9c9ae1b25df4418": {
          "model_module": "@jupyter-widgets/base",
          "model_name": "LayoutModel",
          "model_module_version": "1.2.0",
          "state": {
            "_model_module": "@jupyter-widgets/base",
            "_model_module_version": "1.2.0",
            "_model_name": "LayoutModel",
            "_view_count": null,
            "_view_module": "@jupyter-widgets/base",
            "_view_module_version": "1.2.0",
            "_view_name": "LayoutView",
            "align_content": null,
            "align_items": null,
            "align_self": null,
            "border": null,
            "bottom": null,
            "display": null,
            "flex": null,
            "flex_flow": null,
            "grid_area": null,
            "grid_auto_columns": null,
            "grid_auto_flow": null,
            "grid_auto_rows": null,
            "grid_column": null,
            "grid_gap": null,
            "grid_row": null,
            "grid_template_areas": null,
            "grid_template_columns": null,
            "grid_template_rows": null,
            "height": null,
            "justify_content": null,
            "justify_items": null,
            "left": null,
            "margin": null,
            "max_height": null,
            "max_width": null,
            "min_height": null,
            "min_width": null,
            "object_fit": null,
            "object_position": null,
            "order": null,
            "overflow": null,
            "overflow_x": null,
            "overflow_y": null,
            "padding": null,
            "right": null,
            "top": null,
            "visibility": null,
            "width": null
          }
        },
        "fb9a44b682cf469bb1de4551afb855fc": {
          "model_module": "@jupyter-widgets/controls",
          "model_name": "ToggleButtonsStyleModel",
          "model_module_version": "1.5.0",
          "state": {
            "_model_module": "@jupyter-widgets/controls",
            "_model_module_version": "1.5.0",
            "_model_name": "ToggleButtonsStyleModel",
            "_view_count": null,
            "_view_module": "@jupyter-widgets/base",
            "_view_module_version": "1.2.0",
            "_view_name": "StyleView",
            "button_width": "",
            "description_width": "initial",
            "font_weight": ""
          }
        },
        "536a06bb81e849dbaedaedc187aa189a": {
          "model_module": "@jupyter-widgets/base",
          "model_name": "LayoutModel",
          "model_module_version": "1.2.0",
          "state": {
            "_model_module": "@jupyter-widgets/base",
            "_model_module_version": "1.2.0",
            "_model_name": "LayoutModel",
            "_view_count": null,
            "_view_module": "@jupyter-widgets/base",
            "_view_module_version": "1.2.0",
            "_view_name": "LayoutView",
            "align_content": null,
            "align_items": null,
            "align_self": null,
            "border": null,
            "bottom": null,
            "display": null,
            "flex": null,
            "flex_flow": null,
            "grid_area": null,
            "grid_auto_columns": null,
            "grid_auto_flow": null,
            "grid_auto_rows": null,
            "grid_column": null,
            "grid_gap": null,
            "grid_row": null,
            "grid_template_areas": null,
            "grid_template_columns": null,
            "grid_template_rows": null,
            "height": null,
            "justify_content": null,
            "justify_items": null,
            "left": null,
            "margin": null,
            "max_height": null,
            "max_width": null,
            "min_height": null,
            "min_width": null,
            "object_fit": null,
            "object_position": null,
            "order": null,
            "overflow": null,
            "overflow_x": null,
            "overflow_y": null,
            "padding": null,
            "right": null,
            "top": null,
            "visibility": null,
            "width": null
          }
        },
        "cc80205b53e1462b881322c9d6f8be4f": {
          "model_module": "@jupyter-widgets/controls",
          "model_name": "DescriptionStyleModel",
          "model_module_version": "1.5.0",
          "state": {
            "_model_module": "@jupyter-widgets/controls",
            "_model_module_version": "1.5.0",
            "_model_name": "DescriptionStyleModel",
            "_view_count": null,
            "_view_module": "@jupyter-widgets/base",
            "_view_module_version": "1.2.0",
            "_view_name": "StyleView",
            "description_width": "initial"
          }
        },
        "ea839be66ddf4e9f85f3039041cb7232": {
          "model_module": "@jupyter-widgets/base",
          "model_name": "LayoutModel",
          "model_module_version": "1.2.0",
          "state": {
            "_model_module": "@jupyter-widgets/base",
            "_model_module_version": "1.2.0",
            "_model_name": "LayoutModel",
            "_view_count": null,
            "_view_module": "@jupyter-widgets/base",
            "_view_module_version": "1.2.0",
            "_view_name": "LayoutView",
            "align_content": null,
            "align_items": null,
            "align_self": null,
            "border": null,
            "bottom": null,
            "display": null,
            "flex": null,
            "flex_flow": null,
            "grid_area": null,
            "grid_auto_columns": null,
            "grid_auto_flow": null,
            "grid_auto_rows": null,
            "grid_column": null,
            "grid_gap": null,
            "grid_row": null,
            "grid_template_areas": null,
            "grid_template_columns": null,
            "grid_template_rows": null,
            "height": null,
            "justify_content": null,
            "justify_items": null,
            "left": null,
            "margin": null,
            "max_height": null,
            "max_width": null,
            "min_height": null,
            "min_width": null,
            "object_fit": null,
            "object_position": null,
            "order": null,
            "overflow": null,
            "overflow_x": null,
            "overflow_y": null,
            "padding": null,
            "right": null,
            "top": null,
            "visibility": null,
            "width": null
          }
        },
        "3e5d84de7d6540b7bc97ddbb47ad85ac": {
          "model_module": "@jupyter-widgets/controls",
          "model_name": "SliderStyleModel",
          "model_module_version": "1.5.0",
          "state": {
            "_model_module": "@jupyter-widgets/controls",
            "_model_module_version": "1.5.0",
            "_model_name": "SliderStyleModel",
            "_view_count": null,
            "_view_module": "@jupyter-widgets/base",
            "_view_module_version": "1.2.0",
            "_view_name": "StyleView",
            "description_width": "initial",
            "handle_color": null
          }
        },
        "3b103fb1cac84533bee632f6c317eb88": {
          "model_module": "@jupyter-widgets/base",
          "model_name": "LayoutModel",
          "model_module_version": "1.2.0",
          "state": {
            "_model_module": "@jupyter-widgets/base",
            "_model_module_version": "1.2.0",
            "_model_name": "LayoutModel",
            "_view_count": null,
            "_view_module": "@jupyter-widgets/base",
            "_view_module_version": "1.2.0",
            "_view_name": "LayoutView",
            "align_content": null,
            "align_items": null,
            "align_self": null,
            "border": null,
            "bottom": null,
            "display": null,
            "flex": null,
            "flex_flow": null,
            "grid_area": null,
            "grid_auto_columns": null,
            "grid_auto_flow": null,
            "grid_auto_rows": null,
            "grid_column": null,
            "grid_gap": null,
            "grid_row": null,
            "grid_template_areas": null,
            "grid_template_columns": null,
            "grid_template_rows": null,
            "height": null,
            "justify_content": null,
            "justify_items": null,
            "left": null,
            "margin": null,
            "max_height": null,
            "max_width": null,
            "min_height": null,
            "min_width": null,
            "object_fit": null,
            "object_position": null,
            "order": null,
            "overflow": null,
            "overflow_x": null,
            "overflow_y": null,
            "padding": null,
            "right": null,
            "top": null,
            "visibility": null,
            "width": null
          }
        },
        "7af279c4f452479b91420056d47583f8": {
          "model_module": "@jupyter-widgets/controls",
          "model_name": "SliderStyleModel",
          "model_module_version": "1.5.0",
          "state": {
            "_model_module": "@jupyter-widgets/controls",
            "_model_module_version": "1.5.0",
            "_model_name": "SliderStyleModel",
            "_view_count": null,
            "_view_module": "@jupyter-widgets/base",
            "_view_module_version": "1.2.0",
            "_view_name": "StyleView",
            "description_width": "initial",
            "handle_color": null
          }
        },
        "8dee542042db43058674abf8cd957cc8": {
          "model_module": "@jupyter-widgets/base",
          "model_name": "LayoutModel",
          "model_module_version": "1.2.0",
          "state": {
            "_model_module": "@jupyter-widgets/base",
            "_model_module_version": "1.2.0",
            "_model_name": "LayoutModel",
            "_view_count": null,
            "_view_module": "@jupyter-widgets/base",
            "_view_module_version": "1.2.0",
            "_view_name": "LayoutView",
            "align_content": null,
            "align_items": null,
            "align_self": null,
            "border": null,
            "bottom": null,
            "display": null,
            "flex": null,
            "flex_flow": null,
            "grid_area": null,
            "grid_auto_columns": null,
            "grid_auto_flow": null,
            "grid_auto_rows": null,
            "grid_column": null,
            "grid_gap": null,
            "grid_row": null,
            "grid_template_areas": null,
            "grid_template_columns": null,
            "grid_template_rows": null,
            "height": null,
            "justify_content": null,
            "justify_items": null,
            "left": null,
            "margin": null,
            "max_height": null,
            "max_width": null,
            "min_height": null,
            "min_width": null,
            "object_fit": null,
            "object_position": null,
            "order": null,
            "overflow": null,
            "overflow_x": null,
            "overflow_y": null,
            "padding": null,
            "right": null,
            "top": null,
            "visibility": null,
            "width": null
          }
        },
        "07f67af965374d3abd5c9bb839a3796c": {
          "model_module": "@jupyter-widgets/controls",
          "model_name": "SliderStyleModel",
          "model_module_version": "1.5.0",
          "state": {
            "_model_module": "@jupyter-widgets/controls",
            "_model_module_version": "1.5.0",
            "_model_name": "SliderStyleModel",
            "_view_count": null,
            "_view_module": "@jupyter-widgets/base",
            "_view_module_version": "1.2.0",
            "_view_name": "StyleView",
            "description_width": "initial",
            "handle_color": null
          }
        },
        "27a16dc508c94e0f9dbe5a8f3c98f264": {
          "model_module": "@jupyter-widgets/base",
          "model_name": "LayoutModel",
          "model_module_version": "1.2.0",
          "state": {
            "_model_module": "@jupyter-widgets/base",
            "_model_module_version": "1.2.0",
            "_model_name": "LayoutModel",
            "_view_count": null,
            "_view_module": "@jupyter-widgets/base",
            "_view_module_version": "1.2.0",
            "_view_name": "LayoutView",
            "align_content": null,
            "align_items": null,
            "align_self": null,
            "border": null,
            "bottom": null,
            "display": null,
            "flex": null,
            "flex_flow": null,
            "grid_area": null,
            "grid_auto_columns": null,
            "grid_auto_flow": null,
            "grid_auto_rows": null,
            "grid_column": null,
            "grid_gap": null,
            "grid_row": null,
            "grid_template_areas": null,
            "grid_template_columns": null,
            "grid_template_rows": null,
            "height": null,
            "justify_content": null,
            "justify_items": null,
            "left": null,
            "margin": null,
            "max_height": null,
            "max_width": null,
            "min_height": null,
            "min_width": null,
            "object_fit": null,
            "object_position": null,
            "order": null,
            "overflow": null,
            "overflow_x": null,
            "overflow_y": null,
            "padding": null,
            "right": null,
            "top": null,
            "visibility": null,
            "width": null
          }
        },
        "199dbfa69a8341778d6c30b1ccb2f180": {
          "model_module": "@jupyter-widgets/controls",
          "model_name": "SliderStyleModel",
          "model_module_version": "1.5.0",
          "state": {
            "_model_module": "@jupyter-widgets/controls",
            "_model_module_version": "1.5.0",
            "_model_name": "SliderStyleModel",
            "_view_count": null,
            "_view_module": "@jupyter-widgets/base",
            "_view_module_version": "1.2.0",
            "_view_name": "StyleView",
            "description_width": "initial",
            "handle_color": null
          }
        },
        "9fbecaca0fc34de9b8dde2e76582f87c": {
          "model_module": "@jupyter-widgets/base",
          "model_name": "LayoutModel",
          "model_module_version": "1.2.0",
          "state": {
            "_model_module": "@jupyter-widgets/base",
            "_model_module_version": "1.2.0",
            "_model_name": "LayoutModel",
            "_view_count": null,
            "_view_module": "@jupyter-widgets/base",
            "_view_module_version": "1.2.0",
            "_view_name": "LayoutView",
            "align_content": null,
            "align_items": null,
            "align_self": null,
            "border": null,
            "bottom": null,
            "display": null,
            "flex": null,
            "flex_flow": null,
            "grid_area": null,
            "grid_auto_columns": null,
            "grid_auto_flow": null,
            "grid_auto_rows": null,
            "grid_column": null,
            "grid_gap": null,
            "grid_row": null,
            "grid_template_areas": null,
            "grid_template_columns": null,
            "grid_template_rows": null,
            "height": null,
            "justify_content": null,
            "justify_items": null,
            "left": null,
            "margin": null,
            "max_height": null,
            "max_width": null,
            "min_height": null,
            "min_width": null,
            "object_fit": null,
            "object_position": null,
            "order": null,
            "overflow": null,
            "overflow_x": null,
            "overflow_y": null,
            "padding": null,
            "right": null,
            "top": null,
            "visibility": null,
            "width": null
          }
        },
        "e68d90d7fd284fb48cd78c999f78bbfd": {
          "model_module": "@jupyter-widgets/controls",
          "model_name": "SliderStyleModel",
          "model_module_version": "1.5.0",
          "state": {
            "_model_module": "@jupyter-widgets/controls",
            "_model_module_version": "1.5.0",
            "_model_name": "SliderStyleModel",
            "_view_count": null,
            "_view_module": "@jupyter-widgets/base",
            "_view_module_version": "1.2.0",
            "_view_name": "StyleView",
            "description_width": "initial",
            "handle_color": null
          }
        },
        "06c26764a4ce47b598fe2cc11e8bb564": {
          "model_module": "@jupyter-widgets/base",
          "model_name": "LayoutModel",
          "model_module_version": "1.2.0",
          "state": {
            "_model_module": "@jupyter-widgets/base",
            "_model_module_version": "1.2.0",
            "_model_name": "LayoutModel",
            "_view_count": null,
            "_view_module": "@jupyter-widgets/base",
            "_view_module_version": "1.2.0",
            "_view_name": "LayoutView",
            "align_content": null,
            "align_items": null,
            "align_self": null,
            "border": null,
            "bottom": null,
            "display": null,
            "flex": null,
            "flex_flow": null,
            "grid_area": null,
            "grid_auto_columns": null,
            "grid_auto_flow": null,
            "grid_auto_rows": null,
            "grid_column": null,
            "grid_gap": null,
            "grid_row": null,
            "grid_template_areas": null,
            "grid_template_columns": null,
            "grid_template_rows": null,
            "height": null,
            "justify_content": null,
            "justify_items": null,
            "left": null,
            "margin": null,
            "max_height": null,
            "max_width": null,
            "min_height": null,
            "min_width": null,
            "object_fit": null,
            "object_position": null,
            "order": null,
            "overflow": null,
            "overflow_x": null,
            "overflow_y": null,
            "padding": null,
            "right": null,
            "top": null,
            "visibility": null,
            "width": null
          }
        },
        "fa43a84d9c0b49068ab76b0cd0ccfc9f": {
          "model_module": "@jupyter-widgets/controls",
          "model_name": "DescriptionStyleModel",
          "model_module_version": "1.5.0",
          "state": {
            "_model_module": "@jupyter-widgets/controls",
            "_model_module_version": "1.5.0",
            "_model_name": "DescriptionStyleModel",
            "_view_count": null,
            "_view_module": "@jupyter-widgets/base",
            "_view_module_version": "1.2.0",
            "_view_name": "StyleView",
            "description_width": "initial"
          }
        },
        "c1535e192a844c8d994861d2a4a04e1f": {
          "model_module": "@jupyter-widgets/base",
          "model_name": "LayoutModel",
          "model_module_version": "1.2.0",
          "state": {
            "_model_module": "@jupyter-widgets/base",
            "_model_module_version": "1.2.0",
            "_model_name": "LayoutModel",
            "_view_count": null,
            "_view_module": "@jupyter-widgets/base",
            "_view_module_version": "1.2.0",
            "_view_name": "LayoutView",
            "align_content": null,
            "align_items": null,
            "align_self": null,
            "border": null,
            "bottom": null,
            "display": null,
            "flex": null,
            "flex_flow": null,
            "grid_area": null,
            "grid_auto_columns": null,
            "grid_auto_flow": null,
            "grid_auto_rows": null,
            "grid_column": null,
            "grid_gap": null,
            "grid_row": null,
            "grid_template_areas": null,
            "grid_template_columns": null,
            "grid_template_rows": null,
            "height": null,
            "justify_content": null,
            "justify_items": null,
            "left": null,
            "margin": null,
            "max_height": null,
            "max_width": null,
            "min_height": null,
            "min_width": null,
            "object_fit": null,
            "object_position": null,
            "order": null,
            "overflow": null,
            "overflow_x": null,
            "overflow_y": null,
            "padding": null,
            "right": null,
            "top": null,
            "visibility": null,
            "width": null
          }
        },
        "485d6cad09a444be9da1703938d0c350": {
          "model_module": "@jupyter-widgets/controls",
          "model_name": "DescriptionStyleModel",
          "model_module_version": "1.5.0",
          "state": {
            "_model_module": "@jupyter-widgets/controls",
            "_model_module_version": "1.5.0",
            "_model_name": "DescriptionStyleModel",
            "_view_count": null,
            "_view_module": "@jupyter-widgets/base",
            "_view_module_version": "1.2.0",
            "_view_name": "StyleView",
            "description_width": "initial"
          }
        },
        "769b0f87c23547598cfdb54b1e7635ed": {
          "model_module": "@jupyter-widgets/base",
          "model_name": "LayoutModel",
          "model_module_version": "1.2.0",
          "state": {
            "_model_module": "@jupyter-widgets/base",
            "_model_module_version": "1.2.0",
            "_model_name": "LayoutModel",
            "_view_count": null,
            "_view_module": "@jupyter-widgets/base",
            "_view_module_version": "1.2.0",
            "_view_name": "LayoutView",
            "align_content": null,
            "align_items": null,
            "align_self": null,
            "border": null,
            "bottom": null,
            "display": null,
            "flex": null,
            "flex_flow": null,
            "grid_area": null,
            "grid_auto_columns": null,
            "grid_auto_flow": null,
            "grid_auto_rows": null,
            "grid_column": null,
            "grid_gap": null,
            "grid_row": null,
            "grid_template_areas": null,
            "grid_template_columns": null,
            "grid_template_rows": null,
            "height": null,
            "justify_content": null,
            "justify_items": null,
            "left": null,
            "margin": null,
            "max_height": null,
            "max_width": null,
            "min_height": null,
            "min_width": null,
            "object_fit": null,
            "object_position": null,
            "order": null,
            "overflow": null,
            "overflow_x": null,
            "overflow_y": null,
            "padding": null,
            "right": null,
            "top": null,
            "visibility": null,
            "width": null
          }
        },
        "52e2760de5eb44a58fa3803ef9b50144": {
          "model_module": "@jupyter-widgets/controls",
          "model_name": "DescriptionStyleModel",
          "model_module_version": "1.5.0",
          "state": {
            "_model_module": "@jupyter-widgets/controls",
            "_model_module_version": "1.5.0",
            "_model_name": "DescriptionStyleModel",
            "_view_count": null,
            "_view_module": "@jupyter-widgets/base",
            "_view_module_version": "1.2.0",
            "_view_name": "StyleView",
            "description_width": "initial"
          }
        },
        "20984df1f96b448ead9fbf0c0614998f": {
          "model_module": "@jupyter-widgets/base",
          "model_name": "LayoutModel",
          "model_module_version": "1.2.0",
          "state": {
            "_model_module": "@jupyter-widgets/base",
            "_model_module_version": "1.2.0",
            "_model_name": "LayoutModel",
            "_view_count": null,
            "_view_module": "@jupyter-widgets/base",
            "_view_module_version": "1.2.0",
            "_view_name": "LayoutView",
            "align_content": null,
            "align_items": null,
            "align_self": null,
            "border": null,
            "bottom": null,
            "display": null,
            "flex": null,
            "flex_flow": null,
            "grid_area": null,
            "grid_auto_columns": null,
            "grid_auto_flow": null,
            "grid_auto_rows": null,
            "grid_column": null,
            "grid_gap": null,
            "grid_row": null,
            "grid_template_areas": null,
            "grid_template_columns": null,
            "grid_template_rows": null,
            "height": null,
            "justify_content": null,
            "justify_items": null,
            "left": null,
            "margin": null,
            "max_height": null,
            "max_width": null,
            "min_height": null,
            "min_width": null,
            "object_fit": null,
            "object_position": null,
            "order": null,
            "overflow": null,
            "overflow_x": null,
            "overflow_y": null,
            "padding": null,
            "right": null,
            "top": null,
            "visibility": null,
            "width": null
          }
        },
        "bd3c02b2fbd342838ef9d872c8e7267b": {
          "model_module": "@jupyter-widgets/controls",
          "model_name": "DescriptionStyleModel",
          "model_module_version": "1.5.0",
          "state": {
            "_model_module": "@jupyter-widgets/controls",
            "_model_module_version": "1.5.0",
            "_model_name": "DescriptionStyleModel",
            "_view_count": null,
            "_view_module": "@jupyter-widgets/base",
            "_view_module_version": "1.2.0",
            "_view_name": "StyleView",
            "description_width": "initial"
          }
        },
        "1219b6dbed1f4063b155be89279fb411": {
          "model_module": "@jupyter-widgets/base",
          "model_name": "LayoutModel",
          "model_module_version": "1.2.0",
          "state": {
            "_model_module": "@jupyter-widgets/base",
            "_model_module_version": "1.2.0",
            "_model_name": "LayoutModel",
            "_view_count": null,
            "_view_module": "@jupyter-widgets/base",
            "_view_module_version": "1.2.0",
            "_view_name": "LayoutView",
            "align_content": null,
            "align_items": null,
            "align_self": null,
            "border": null,
            "bottom": null,
            "display": null,
            "flex": null,
            "flex_flow": null,
            "grid_area": null,
            "grid_auto_columns": null,
            "grid_auto_flow": null,
            "grid_auto_rows": null,
            "grid_column": null,
            "grid_gap": null,
            "grid_row": null,
            "grid_template_areas": null,
            "grid_template_columns": null,
            "grid_template_rows": null,
            "height": null,
            "justify_content": null,
            "justify_items": null,
            "left": null,
            "margin": null,
            "max_height": null,
            "max_width": null,
            "min_height": null,
            "min_width": null,
            "object_fit": null,
            "object_position": null,
            "order": null,
            "overflow": null,
            "overflow_x": null,
            "overflow_y": null,
            "padding": null,
            "right": null,
            "top": null,
            "visibility": null,
            "width": null
          }
        },
        "c2ea79fa27034f00b7e5f15135692231": {
          "model_module": "@jupyter-widgets/controls",
          "model_name": "ButtonStyleModel",
          "model_module_version": "1.5.0",
          "state": {
            "_model_module": "@jupyter-widgets/controls",
            "_model_module_version": "1.5.0",
            "_model_name": "ButtonStyleModel",
            "_view_count": null,
            "_view_module": "@jupyter-widgets/base",
            "_view_module_version": "1.2.0",
            "_view_name": "StyleView",
            "button_color": null,
            "font_weight": ""
          }
        },
        "86ec2980ab11437e9d8c159615fff944": {
          "model_module": "@jupyter-widgets/base",
          "model_name": "LayoutModel",
          "model_module_version": "1.2.0",
          "state": {
            "_model_module": "@jupyter-widgets/base",
            "_model_module_version": "1.2.0",
            "_model_name": "LayoutModel",
            "_view_count": null,
            "_view_module": "@jupyter-widgets/base",
            "_view_module_version": "1.2.0",
            "_view_name": "LayoutView",
            "align_content": null,
            "align_items": null,
            "align_self": null,
            "border": null,
            "bottom": null,
            "display": null,
            "flex": null,
            "flex_flow": null,
            "grid_area": null,
            "grid_auto_columns": null,
            "grid_auto_flow": null,
            "grid_auto_rows": null,
            "grid_column": null,
            "grid_gap": null,
            "grid_row": null,
            "grid_template_areas": null,
            "grid_template_columns": null,
            "grid_template_rows": null,
            "height": null,
            "justify_content": null,
            "justify_items": null,
            "left": null,
            "margin": null,
            "max_height": null,
            "max_width": null,
            "min_height": null,
            "min_width": null,
            "object_fit": null,
            "object_position": null,
            "order": null,
            "overflow": null,
            "overflow_x": null,
            "overflow_y": null,
            "padding": null,
            "right": null,
            "top": null,
            "visibility": null,
            "width": null
          }
        }
      }
    }
  },
  "nbformat": 4,
  "nbformat_minor": 0
}