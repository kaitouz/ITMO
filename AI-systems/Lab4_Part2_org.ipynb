{
  "nbformat": 4,
  "nbformat_minor": 0,
  "metadata": {
    "colab": {
      "provenance": [],
      "authorship_tag": "ABX9TyNVjH0Pv3mHsSTd8e6fAvkL",
      "include_colab_link": true
    },
    "kernelspec": {
      "name": "python3",
      "display_name": "Python 3"
    },
    "language_info": {
      "name": "python"
    },
    "widgets": {
      "application/vnd.jupyter.widget-state+json": {
        "bcdda4dbe0b24a5f81bf0cb0204390e6": {
          "model_module": "@jupyter-widgets/controls",
          "model_name": "VBoxModel",
          "model_module_version": "1.5.0",
          "state": {
            "_dom_classes": [
              "widget-interact"
            ],
            "_model_module": "@jupyter-widgets/controls",
            "_model_module_version": "1.5.0",
            "_model_name": "VBoxModel",
            "_view_count": null,
            "_view_module": "@jupyter-widgets/controls",
            "_view_module_version": "1.5.0",
            "_view_name": "VBoxView",
            "box_style": "",
            "children": [
              "IPY_MODEL_cfdf298c38ea4f5aa994103305283ec4",
              "IPY_MODEL_c6690611d98a4750a942c5b36f540d5d",
              "IPY_MODEL_347a19aa58b948e3b061b8431d73449d",
              "IPY_MODEL_302d564a68694b2ca4285cf3504cc97b",
              "IPY_MODEL_9a0b559fc9cf42eb9551a61d88205875",
              "IPY_MODEL_e5b6cc34def24d108fd7fc8c7ae0b72f",
              "IPY_MODEL_3a1e97eb6e174e46a0e6a90f2488f5aa",
              "IPY_MODEL_448af362a8b940038539e3fe54451042",
              "IPY_MODEL_f87a44ef8a294de9acc3c41c80ee3553",
              "IPY_MODEL_c20ca08482434ec3a1bfa5745d705f13",
              "IPY_MODEL_e12fb30adef0409894f980bcde8a57b2",
              "IPY_MODEL_40270cfc73654943b84633ef79d9dd83",
              "IPY_MODEL_b1946293afdd4dcdbade5f66666c6311",
              "IPY_MODEL_2700529c325d446aa7b9466458f220fb",
              "IPY_MODEL_723e573e6c56409496baa656c3bc8eec"
            ],
            "layout": "IPY_MODEL_68b57b6230b64bff98cc439ea2e95d19"
          }
        },
        "cfdf298c38ea4f5aa994103305283ec4": {
          "model_module": "@jupyter-widgets/controls",
          "model_name": "IntSliderModel",
          "model_module_version": "1.5.0",
          "state": {
            "_dom_classes": [],
            "_model_module": "@jupyter-widgets/controls",
            "_model_module_version": "1.5.0",
            "_model_name": "IntSliderModel",
            "_view_count": null,
            "_view_module": "@jupyter-widgets/controls",
            "_view_module_version": "1.5.0",
            "_view_name": "IntSliderView",
            "continuous_update": true,
            "description": "Layers: ",
            "description_tooltip": null,
            "disabled": false,
            "layout": "IPY_MODEL_e8366492190446608acc2bb101caedb4",
            "max": 4,
            "min": 0,
            "orientation": "horizontal",
            "readout": true,
            "readout_format": "d",
            "step": 1,
            "style": "IPY_MODEL_a9449b8ac8e849369f2c69972a0d3029",
            "value": 2
          }
        },
        "c6690611d98a4750a942c5b36f540d5d": {
          "model_module": "@jupyter-widgets/controls",
          "model_name": "DropdownModel",
          "model_module_version": "1.5.0",
          "state": {
            "_dom_classes": [],
            "_model_module": "@jupyter-widgets/controls",
            "_model_module_version": "1.5.0",
            "_model_name": "DropdownModel",
            "_options_labels": [
              "Standard deviation",
              "Mean absolute deviation",
              "Binary crossentropy",
              "Categorical crossentropy"
            ],
            "_view_count": null,
            "_view_module": "@jupyter-widgets/controls",
            "_view_module_version": "1.5.0",
            "_view_name": "DropdownView",
            "description": "Loss function: ",
            "description_tooltip": null,
            "disabled": false,
            "index": 3,
            "layout": "IPY_MODEL_1c75d6f755af48ee913a3d97699fadf7",
            "style": "IPY_MODEL_45bad62900054187a5569960c3a41ec2"
          }
        },
        "347a19aa58b948e3b061b8431d73449d": {
          "model_module": "@jupyter-widgets/controls",
          "model_name": "BoundedIntTextModel",
          "model_module_version": "1.5.0",
          "state": {
            "_dom_classes": [],
            "_model_module": "@jupyter-widgets/controls",
            "_model_module_version": "1.5.0",
            "_model_name": "BoundedIntTextModel",
            "_view_count": null,
            "_view_module": "@jupyter-widgets/controls",
            "_view_module_version": "1.5.0",
            "_view_name": "IntTextView",
            "continuous_update": false,
            "description": "Batch size: ",
            "description_tooltip": null,
            "disabled": false,
            "layout": "IPY_MODEL_27218e6493f3496d99ec3d3a9b14b693",
            "max": 60000,
            "min": 0,
            "step": 1,
            "style": "IPY_MODEL_8d20c39d7ea5442eb39009c2c1647f5b",
            "value": 100
          }
        },
        "302d564a68694b2ca4285cf3504cc97b": {
          "model_module": "@jupyter-widgets/controls",
          "model_name": "ToggleButtonsModel",
          "model_module_version": "1.5.0",
          "state": {
            "_dom_classes": [],
            "_model_module": "@jupyter-widgets/controls",
            "_model_module_version": "1.5.0",
            "_model_name": "ToggleButtonsModel",
            "_options_labels": [
              "-0.1",
              "0",
              "0.001",
              "0.01",
              "0.05",
              "0.1",
              "0.5",
              "1",
              "5"
            ],
            "_view_count": null,
            "_view_module": "@jupyter-widgets/controls",
            "_view_module_version": "1.5.0",
            "_view_name": "ToggleButtonsView",
            "button_style": "",
            "description": "Learn rate: ",
            "description_tooltip": null,
            "disabled": false,
            "icons": [],
            "index": 3,
            "layout": "IPY_MODEL_8ee692b14d424fcb81d035a2e8bafbe3",
            "style": "IPY_MODEL_f70db88751ea4e8688a01d54e634f84d",
            "tooltips": []
          }
        },
        "9a0b559fc9cf42eb9551a61d88205875": {
          "model_module": "@jupyter-widgets/controls",
          "model_name": "ToggleButtonsModel",
          "model_module_version": "1.5.0",
          "state": {
            "_dom_classes": [],
            "_model_module": "@jupyter-widgets/controls",
            "_model_module_version": "1.5.0",
            "_model_name": "ToggleButtonsModel",
            "_options_labels": [
              "-0.1",
              "0",
              "0.0001",
              "0.0005",
              "0.001",
              "0.005",
              "0.01",
              "0.05",
              "0.1"
            ],
            "_view_count": null,
            "_view_module": "@jupyter-widgets/controls",
            "_view_module_version": "1.5.0",
            "_view_name": "ToggleButtonsView",
            "button_style": "",
            "description": "Regularization  L1: ",
            "description_tooltip": null,
            "disabled": false,
            "icons": [],
            "index": 6,
            "layout": "IPY_MODEL_5debac33fcc84ca79bf94fd6ba0bdd53",
            "style": "IPY_MODEL_e9483c0d60e04be8bebb25eb28b3f6d6",
            "tooltips": []
          }
        },
        "e5b6cc34def24d108fd7fc8c7ae0b72f": {
          "model_module": "@jupyter-widgets/controls",
          "model_name": "ToggleButtonsModel",
          "model_module_version": "1.5.0",
          "state": {
            "_dom_classes": [],
            "_model_module": "@jupyter-widgets/controls",
            "_model_module_version": "1.5.0",
            "_model_name": "ToggleButtonsModel",
            "_options_labels": [
              "-0.1",
              "0",
              "0.0001",
              "0.0005",
              "0.001",
              "0.005",
              "0.01",
              "0.05",
              "0.1"
            ],
            "_view_count": null,
            "_view_module": "@jupyter-widgets/controls",
            "_view_module_version": "1.5.0",
            "_view_name": "ToggleButtonsView",
            "button_style": "",
            "description": "Regularization  L2: ",
            "description_tooltip": null,
            "disabled": false,
            "icons": [],
            "index": 2,
            "layout": "IPY_MODEL_13109de344e5458590d626ce80d34e21",
            "style": "IPY_MODEL_9b071f947fbc40f3b9854448eb39e8ed",
            "tooltips": []
          }
        },
        "3a1e97eb6e174e46a0e6a90f2488f5aa": {
          "model_module": "@jupyter-widgets/controls",
          "model_name": "DropdownModel",
          "model_module_version": "1.5.0",
          "state": {
            "_dom_classes": [],
            "_model_module": "@jupyter-widgets/controls",
            "_model_module_version": "1.5.0",
            "_model_name": "DropdownModel",
            "_options_labels": [
              "softmax",
              "relu",
              "tanh",
              "sigmoid",
              "linear"
            ],
            "_view_count": null,
            "_view_module": "@jupyter-widgets/controls",
            "_view_module_version": "1.5.0",
            "_view_name": "DropdownView",
            "description": "Output layer activation type: ",
            "description_tooltip": null,
            "disabled": false,
            "index": 3,
            "layout": "IPY_MODEL_705e0ad008094763ba63420d3777d37e",
            "style": "IPY_MODEL_4f715fd3d36a4f82a9c99cc8356a0c56"
          }
        },
        "448af362a8b940038539e3fe54451042": {
          "model_module": "@jupyter-widgets/controls",
          "model_name": "IntSliderModel",
          "model_module_version": "1.5.0",
          "state": {
            "_dom_classes": [],
            "_model_module": "@jupyter-widgets/controls",
            "_model_module_version": "1.5.0",
            "_model_name": "IntSliderModel",
            "_view_count": null,
            "_view_module": "@jupyter-widgets/controls",
            "_view_module_version": "1.5.0",
            "_view_name": "IntSliderView",
            "continuous_update": true,
            "description": "Epoch count: ",
            "description_tooltip": null,
            "disabled": false,
            "layout": "IPY_MODEL_c68a66af6b414ff5bc8517d8c2653ff8",
            "max": 100,
            "min": 10,
            "orientation": "horizontal",
            "readout": true,
            "readout_format": "d",
            "step": 10,
            "style": "IPY_MODEL_fc90c4bd699846b7a3088f5287815532",
            "value": 20
          }
        },
        "f87a44ef8a294de9acc3c41c80ee3553": {
          "model_module": "@jupyter-widgets/controls",
          "model_name": "IntSliderModel",
          "model_module_version": "1.5.0",
          "state": {
            "_dom_classes": [],
            "_model_module": "@jupyter-widgets/controls",
            "_model_module_version": "1.5.0",
            "_model_name": "IntSliderModel",
            "_view_count": null,
            "_view_module": "@jupyter-widgets/controls",
            "_view_module_version": "1.5.0",
            "_view_name": "IntSliderView",
            "continuous_update": true,
            "description": "Neurons per layer: ",
            "description_tooltip": null,
            "disabled": false,
            "layout": "IPY_MODEL_a1f4be3240974630a6e642e4c7ccedc8",
            "max": 20,
            "min": 0,
            "orientation": "horizontal",
            "readout": true,
            "readout_format": "d",
            "step": 1,
            "style": "IPY_MODEL_6e6224ea7bcb4f71ac295d9790bc565a",
            "value": 6
          }
        },
        "c20ca08482434ec3a1bfa5745d705f13": {
          "model_module": "@jupyter-widgets/controls",
          "model_name": "DropdownModel",
          "model_module_version": "1.5.0",
          "state": {
            "_dom_classes": [],
            "_model_module": "@jupyter-widgets/controls",
            "_model_module_version": "1.5.0",
            "_model_name": "DropdownModel",
            "_options_labels": [
              "softmax",
              "relu",
              "tanh",
              "sigmoid",
              "linear"
            ],
            "_view_count": null,
            "_view_module": "@jupyter-widgets/controls",
            "_view_module_version": "1.5.0",
            "_view_name": "DropdownView",
            "description": "Layer 1 activation type: ",
            "description_tooltip": null,
            "disabled": false,
            "index": 1,
            "layout": "IPY_MODEL_873572eebfbd4ac381904220b553e58c",
            "style": "IPY_MODEL_f9b41bd5092a43eaa6dfa628d4eea789"
          }
        },
        "e12fb30adef0409894f980bcde8a57b2": {
          "model_module": "@jupyter-widgets/controls",
          "model_name": "DropdownModel",
          "model_module_version": "1.5.0",
          "state": {
            "_dom_classes": [],
            "_model_module": "@jupyter-widgets/controls",
            "_model_module_version": "1.5.0",
            "_model_name": "DropdownModel",
            "_options_labels": [
              "softmax",
              "relu",
              "tanh",
              "sigmoid",
              "linear"
            ],
            "_view_count": null,
            "_view_module": "@jupyter-widgets/controls",
            "_view_module_version": "1.5.0",
            "_view_name": "DropdownView",
            "description": "Layer 2 activation type ",
            "description_tooltip": null,
            "disabled": false,
            "index": 1,
            "layout": "IPY_MODEL_2437bb64ca5d4d169001fe75e04b4f44",
            "style": "IPY_MODEL_23d0311185c04cc080dc444a71dfb1df"
          }
        },
        "40270cfc73654943b84633ef79d9dd83": {
          "model_module": "@jupyter-widgets/controls",
          "model_name": "DropdownModel",
          "model_module_version": "1.5.0",
          "state": {
            "_dom_classes": [],
            "_model_module": "@jupyter-widgets/controls",
            "_model_module_version": "1.5.0",
            "_model_name": "DropdownModel",
            "_options_labels": [
              "softmax",
              "relu",
              "tanh",
              "sigmoid",
              "linear"
            ],
            "_view_count": null,
            "_view_module": "@jupyter-widgets/controls",
            "_view_module_version": "1.5.0",
            "_view_name": "DropdownView",
            "description": "Layer 3 activation type: ",
            "description_tooltip": null,
            "disabled": false,
            "index": 1,
            "layout": "IPY_MODEL_6c5489fd2f064f68a8fb13b68cca7099",
            "style": "IPY_MODEL_36f1fa7a6e214a9e85ca89e16938f7c5"
          }
        },
        "b1946293afdd4dcdbade5f66666c6311": {
          "model_module": "@jupyter-widgets/controls",
          "model_name": "DropdownModel",
          "model_module_version": "1.5.0",
          "state": {
            "_dom_classes": [],
            "_model_module": "@jupyter-widgets/controls",
            "_model_module_version": "1.5.0",
            "_model_name": "DropdownModel",
            "_options_labels": [
              "softmax",
              "relu",
              "tanh",
              "sigmoid",
              "linear"
            ],
            "_view_count": null,
            "_view_module": "@jupyter-widgets/controls",
            "_view_module_version": "1.5.0",
            "_view_name": "DropdownView",
            "description": "Layer 4 activation type: ",
            "description_tooltip": null,
            "disabled": false,
            "index": 1,
            "layout": "IPY_MODEL_71059065aa024124807c440f643201c7",
            "style": "IPY_MODEL_9fc2d8c25e0b4678b8fa602f560a4068"
          }
        },
        "2700529c325d446aa7b9466458f220fb": {
          "model_module": "@jupyter-widgets/controls",
          "model_name": "ButtonModel",
          "model_module_version": "1.5.0",
          "state": {
            "_dom_classes": [],
            "_model_module": "@jupyter-widgets/controls",
            "_model_module_version": "1.5.0",
            "_model_name": "ButtonModel",
            "_view_count": null,
            "_view_module": "@jupyter-widgets/controls",
            "_view_module_version": "1.5.0",
            "_view_name": "ButtonView",
            "button_style": "",
            "description": "Run Interact",
            "disabled": false,
            "icon": "",
            "layout": "IPY_MODEL_dd43964f4b3e4e6b8fd4c961f14d6629",
            "style": "IPY_MODEL_f13edcbbb9fd4d8591e106b33acd5b0a",
            "tooltip": ""
          }
        },
        "723e573e6c56409496baa656c3bc8eec": {
          "model_module": "@jupyter-widgets/output",
          "model_name": "OutputModel",
          "model_module_version": "1.0.0",
          "state": {
            "_dom_classes": [],
            "_model_module": "@jupyter-widgets/output",
            "_model_module_version": "1.0.0",
            "_model_name": "OutputModel",
            "_view_count": null,
            "_view_module": "@jupyter-widgets/output",
            "_view_module_version": "1.0.0",
            "_view_name": "OutputView",
            "layout": "IPY_MODEL_2b6ed85954dd4c439223b12b0e754682",
            "msg_id": "",
            "outputs": [
              {
                "output_type": "stream",
                "name": "stdout",
                "text": [
                  "Epoch 1/20\n"
                ]
              },
              {
                "output_type": "stream",
                "name": "stdout",
                "text": [
                  "\r  1/600 [..............................] - ETA: 5:38 - loss: 34.1325 - accuracy: 0.1000"
                ]
              },
              {
                "output_type": "stream",
                "name": "stdout",
                "text": [
                  "\b\b\b\b\b\b\b\b\b\b\b\b\b\b\b\b\b\b\b\b\b\b\b\b\b\b\b\b\b\b\b\b\b\b\b\b\b\b\b\b\b\b\b\b\b\b\b\b\b\b\b\b\b\b\b\b\b\b\b\b\b\b\b\b\b\b\b\b\b\b\b\b\b\b\b\b\b\b\b\b\b\b\b\b\b\b\b\r 22/600 [>.............................] - ETA: 1s - loss: 11.0547 - accuracy: 0.1132  "
                ]
              },
              {
                "output_type": "stream",
                "name": "stdout",
                "text": [
                  "\b\b\b\b\b\b\b\b\b\b\b\b\b\b\b\b\b\b\b\b\b\b\b\b\b\b\b\b\b\b\b\b\b\b\b\b\b\b\b\b\b\b\b\b\b\b\b\b\b\b\b\b\b\b\b\b\b\b\b\b\b\b\b\b\b\b\b\b\b\b\b\b\b\b\b\b\b\b\b\b\b\b\b\b\b\r 44/600 [=>............................] - ETA: 1s - loss: 8.1396 - accuracy: 0.1118 "
                ]
              },
              {
                "output_type": "stream",
                "name": "stdout",
                "text": [
                  "\b\b\b\b\b\b\b\b\b\b\b\b\b\b\b\b\b\b\b\b\b\b\b\b\b\b\b\b\b\b\b\b\b\b\b\b\b\b\b\b\b\b\b\b\b\b\b\b\b\b\b\b\b\b\b\b\b\b\b\b\b\b\b\b\b\b\b\b\b\b\b\b\b\b\b\b\b\b\b\b\b\b\b\b\r 66/600 [==>...........................] - ETA: 1s - loss: 7.1340 - accuracy: 0.1112"
                ]
              },
              {
                "output_type": "stream",
                "name": "stdout",
                "text": [
                  "\b\b\b\b\b\b\b\b\b\b\b\b\b\b\b\b\b\b\b\b\b\b\b\b\b\b\b\b\b\b\b\b\b\b\b\b\b\b\b\b\b\b\b\b\b\b\b\b\b\b\b\b\b\b\b\b\b\b\b\b\b\b\b\b\b\b\b\b\b\b\b\b\b\b\b\b\b\b\b\b\b\b\b\b\r 89/600 [===>..........................] - ETA: 1s - loss: 6.5882 - accuracy: 0.1096"
                ]
              },
              {
                "output_type": "stream",
                "name": "stdout",
                "text": [
                  "\b\b\b\b\b\b\b\b\b\b\b\b\b\b\b\b\b\b\b\b\b\b\b\b\b\b\b\b\b\b\b\b\b\b\b\b\b\b\b\b\b\b\b\b\b\b\b\b\b\b\b\b\b\b\b\b\b\b\b\b\b\b\b\b\b\b\b\b\b\b\b\b\b\b\b\b\b\b\b\b\b\b\b\b\r112/600 [====>.........................] - ETA: 1s - loss: 6.2460 - accuracy: 0.1098"
                ]
              },
              {
                "output_type": "stream",
                "name": "stdout",
                "text": [
                  "\b\b\b\b\b\b\b\b\b\b\b\b\b\b\b\b\b\b\b\b\b\b\b\b\b\b\b\b\b\b\b\b\b\b\b\b\b\b\b\b\b\b\b\b\b\b\b\b\b\b\b\b\b\b\b\b\b\b\b\b\b\b\b\b\b\b\b\b\b\b\b\b\b\b\b\b\b\b\b\b\b\b\b\b\r128/600 [=====>........................] - ETA: 1s - loss: 6.0701 - accuracy: 0.1092"
                ]
              },
              {
                "output_type": "stream",
                "name": "stdout",
                "text": [
                  "\b\b\b\b\b\b\b\b\b\b\b\b\b\b\b\b\b\b\b\b\b\b\b\b\b\b\b\b\b\b\b\b\b\b\b\b\b\b\b\b\b\b\b\b\b\b\b\b\b\b\b\b\b\b\b\b\b\b\b\b\b\b\b\b\b\b\b\b\b\b\b\b\b\b\b\b\b\b\b\b\b\b\b\b\r150/600 [======>.......................] - ETA: 1s - loss: 5.8778 - accuracy: 0.1099"
                ]
              },
              {
                "output_type": "stream",
                "name": "stdout",
                "text": [
                  "\b\b\b\b\b\b\b\b\b\b\b\b\b\b\b\b\b\b\b\b\b\b\b\b\b\b\b\b\b\b\b\b\b\b\b\b\b\b\b\b\b\b\b\b\b\b\b\b\b\b\b\b\b\b\b\b\b\b\b\b\b\b\b\b\b\b\b\b\b\b\b\b\b\b\b\b\b\b\b\b\b\b\b\b\r173/600 [=======>......................] - ETA: 1s - loss: 5.7171 - accuracy: 0.1103"
                ]
              },
              {
                "output_type": "stream",
                "name": "stdout",
                "text": [
                  "\b\b\b\b\b\b\b\b\b\b\b\b\b\b\b\b\b\b\b\b\b\b\b\b\b\b\b\b\b\b\b\b\b\b\b\b\b\b\b\b\b\b\b\b\b\b\b\b\b\b\b\b\b\b\b\b\b\b\b\b\b\b\b\b\b\b\b\b\b\b\b\b\b\b\b\b\b\b\b\b\b\b\b\b\r195/600 [========>.....................] - ETA: 0s - loss: 5.5886 - accuracy: 0.1117"
                ]
              },
              {
                "output_type": "stream",
                "name": "stdout",
                "text": [
                  "\b\b\b\b\b\b\b\b\b\b\b\b\b\b\b\b\b\b\b\b\b\b\b\b\b\b\b\b\b\b\b\b\b\b\b\b\b\b\b\b\b\b\b\b\b\b\b\b\b\b\b\b\b\b\b\b\b\b\b\b\b\b\b\b\b\b\b\b\b\b\b\b\b\b\b\b\b\b\b\b\b\b\b\b\r219/600 [=========>....................] - ETA: 0s - loss: 5.4681 - accuracy: 0.1132"
                ]
              },
              {
                "output_type": "stream",
                "name": "stdout",
                "text": [
                  "\b\b\b\b\b\b\b\b\b\b\b\b\b\b\b\b\b\b\b\b\b\b\b\b\b\b\b\b\b\b\b\b\b\b\b\b\b\b\b\b\b\b\b\b\b\b\b\b\b\b\b\b\b\b\b\b\b\b\b\b\b\b\b\b\b\b\b\b\b\b\b\b\b\b\b\b\b\b\b\b\b\b\b\b\r238/600 [==========>...................] - ETA: 0s - loss: 5.3835 - accuracy: 0.1145"
                ]
              },
              {
                "output_type": "stream",
                "name": "stdout",
                "text": [
                  "\b\b\b\b\b\b\b\b\b\b\b\b\b\b\b\b\b\b\b\b\b\b\b\b\b\b\b\b\b\b\b\b\b\b\b\b\b\b\b\b\b\b\b\b\b\b\b\b\b\b\b\b\b\b\b\b\b\b\b\b\b\b\b\b\b\b\b\b\b\b\b\b\b\b\b\b\b\b\b\b\b\b\b\b\r262/600 [============>.................] - ETA: 0s - loss: 5.2871 - accuracy: 0.1143"
                ]
              },
              {
                "output_type": "stream",
                "name": "stdout",
                "text": [
                  "\b\b\b\b\b\b\b\b\b\b\b\b\b\b\b\b\b\b\b\b\b\b\b\b\b\b\b\b\b\b\b\b\b\b\b\b\b\b\b\b\b\b\b\b\b\b\b\b\b\b\b\b\b\b\b\b\b\b\b\b\b\b\b\b\b\b\b\b\b\b\b\b\b\b\b\b\b\b\b\b\b\b\b\b\r283/600 [=============>................] - ETA: 0s - loss: 5.2102 - accuracy: 0.1145"
                ]
              },
              {
                "output_type": "stream",
                "name": "stdout",
                "text": [
                  "\b\b\b\b\b\b\b\b\b\b\b\b\b\b\b\b\b\b\b\b\b\b\b\b\b\b\b\b\b\b\b\b\b\b\b\b\b\b\b\b\b\b\b\b\b\b\b\b\b\b\b\b\b\b\b\b\b\b\b\b\b\b\b\b\b\b\b\b\b\b\b\b\b\b\b\b\b\b\b\b\b\b\b\b\r306/600 [==============>...............] - ETA: 0s - loss: 5.1325 - accuracy: 0.1136"
                ]
              },
              {
                "output_type": "stream",
                "name": "stdout",
                "text": [
                  "\b\b\b\b\b\b\b\b\b\b\b\b\b\b\b\b\b\b\b\b\b\b\b\b\b\b\b\b\b\b\b\b\b\b\b\b\b\b\b\b\b\b\b\b\b\b\b\b\b\b\b\b\b\b\b\b\b\b\b\b\b\b\b\b\b\b\b\b\b\b\b\b\b\b\b\b\b\b\b\b\b\b\b\b\r330/600 [===============>..............] - ETA: 0s - loss: 5.0572 - accuracy: 0.1140"
                ]
              },
              {
                "output_type": "stream",
                "name": "stdout",
                "text": [
                  "\b\b\b\b\b\b\b\b\b\b\b\b\b\b\b\b\b\b\b\b\b\b\b\b\b\b\b\b\b\b\b\b\b\b\b\b\b\b\b\b\b\b\b\b\b\b\b\b\b\b\b\b\b\b\b\b\b\b\b\b\b\b\b\b\b\b\b\b\b\b\b\b\b\b\b\b\b\b\b\b\b\b\b\b\r349/600 [================>.............] - ETA: 0s - loss: 5.0012 - accuracy: 0.1140"
                ]
              },
              {
                "output_type": "stream",
                "name": "stdout",
                "text": [
                  "\b\b\b\b\b\b\b\b\b\b\b\b\b\b\b\b\b\b\b\b\b\b\b\b\b\b\b\b\b\b\b\b\b\b\b\b\b\b\b\b\b\b\b\b\b\b\b\b\b\b\b\b\b\b\b\b\b\b\b\b\b\b\b\b\b\b\b\b\b\b\b\b\b\b\b\b\b\b\b\b\b\b\b\b\r372/600 [=================>............] - ETA: 0s - loss: 4.9370 - accuracy: 0.1138"
                ]
              },
              {
                "output_type": "stream",
                "name": "stdout",
                "text": [
                  "\b\b\b\b\b\b\b\b\b\b\b\b\b\b\b\b\b\b\b\b\b\b\b\b\b\b\b\b\b\b\b\b\b\b\b\b\b\b\b\b\b\b\b\b\b\b\b\b\b\b\b\b\b\b\b\b\b\b\b\b\b\b\b\b\b\b\b\b\b\b\b\b\b\b\b\b\b\b\b\b\b\b\b\b\r397/600 [==================>...........] - ETA: 0s - loss: 4.8711 - accuracy: 0.1140"
                ]
              },
              {
                "output_type": "stream",
                "name": "stdout",
                "text": [
                  "\b\b\b\b\b\b\b\b\b\b\b\b\b\b\b\b\b\b\b\b\b\b\b\b\b\b\b\b\b\b\b\b\b\b\b\b\b\b\b\b\b\b\b\b\b\b\b\b\b\b\b\b\b\b\b\b\b\b\b\b\b\b\b\b\b\b\b\b\b\b\b\b\b\b\b\b\b\b\b\b\b\b\b\b\r419/600 [===================>..........] - ETA: 0s - loss: 4.8160 - accuracy: 0.1138"
                ]
              },
              {
                "output_type": "stream",
                "name": "stdout",
                "text": [
                  "\b\b\b\b\b\b\b\b\b\b\b\b\b\b\b\b\b\b\b\b\b\b\b\b\b\b\b\b\b\b\b\b\b\b\b\b\b\b\b\b\b\b\b\b\b\b\b\b\b\b\b\b\b\b\b\b\b\b\b\b\b\b\b\b\b\b\b\b\b\b\b\b\b\b\b\b\b\b\b\b\b\b\b\b\r438/600 [====================>.........] - ETA: 0s - loss: 4.7704 - accuracy: 0.1137"
                ]
              },
              {
                "output_type": "stream",
                "name": "stdout",
                "text": [
                  "\b\b\b\b\b\b\b\b\b\b\b\b\b\b\b\b\b\b\b\b\b\b\b\b\b\b\b\b\b\b\b\b\b\b\b\b\b\b\b\b\b\b\b\b\b\b\b\b\b\b\b\b\b\b\b\b\b\b\b\b\b\b\b\b\b\b\b\b\b\b\b\b\b\b\b\b\b\b\b\b\b\b\b\b\r463/600 [======================>.......] - ETA: 0s - loss: 4.7129 - accuracy: 0.1134"
                ]
              },
              {
                "output_type": "stream",
                "name": "stdout",
                "text": [
                  "\b\b\b\b\b\b\b\b\b\b\b\b\b\b\b\b\b\b\b\b\b\b\b\b\b\b\b\b\b\b\b\b\b\b\b\b\b\b\b\b\b\b\b\b\b\b\b\b\b\b\b\b\b\b\b\b\b\b\b\b\b\b\b\b\b\b\b\b\b\b\b\b\b\b\b\b\b\b\b\b\b\b\b\b\r485/600 [=======================>......] - ETA: 0s - loss: 4.6645 - accuracy: 0.1132"
                ]
              },
              {
                "output_type": "stream",
                "name": "stdout",
                "text": [
                  "\b\b\b\b\b\b\b\b\b\b\b\b\b\b\b\b\b\b\b\b\b\b\b\b\b\b\b\b\b\b\b\b\b\b\b\b\b\b\b\b\b\b\b\b\b\b\b\b\b\b\b\b\b\b\b\b\b\b\b\b\b\b\b\b\b\b\b\b\b\b\b\b\b\b\b\b\b\b\b\b\b\b\b\b\r506/600 [========================>.....] - ETA: 0s - loss: 4.6200 - accuracy: 0.1128"
                ]
              },
              {
                "output_type": "stream",
                "name": "stdout",
                "text": [
                  "\b\b\b\b\b\b\b\b\b\b\b\b\b\b\b\b\b\b\b\b\b\b\b\b\b\b\b\b\b\b\b\b\b\b\b\b\b\b\b\b\b\b\b\b\b\b\b\b\b\b\b\b\b\b\b\b\b\b\b\b\b\b\b\b\b\b\b\b\b\b\b\b\b\b\b\b\b\b\b\b\b\b\b\b\r532/600 [=========================>....] - ETA: 0s - loss: 4.5669 - accuracy: 0.1127"
                ]
              },
              {
                "output_type": "stream",
                "name": "stdout",
                "text": [
                  "\b\b\b\b\b\b\b\b\b\b\b\b\b\b\b\b\b\b\b\b\b\b\b\b\b\b\b\b\b\b\b\b\b\b\b\b\b\b\b\b\b\b\b\b\b\b\b\b\b\b\b\b\b\b\b\b\b\b\b\b\b\b\b\b\b\b\b\b\b\b\b\b\b\b\b\b\b\b\b\b\b\b\b\b\r555/600 [==========================>...] - ETA: 0s - loss: 4.5218 - accuracy: 0.1128"
                ]
              },
              {
                "output_type": "stream",
                "name": "stdout",
                "text": [
                  "\b\b\b\b\b\b\b\b\b\b\b\b\b\b\b\b\b\b\b\b\b\b\b\b\b\b\b\b\b\b\b\b\b\b\b\b\b\b\b\b\b\b\b\b\b\b\b\b\b\b\b\b\b\b\b\b\b\b\b\b\b\b\b\b\b\b\b\b\b\b\b\b\b\b\b\b\b\b\b\b\b\b\b\b\r580/600 [============================>.] - ETA: 0s - loss: 4.4747 - accuracy: 0.1123"
                ]
              },
              {
                "output_type": "stream",
                "name": "stdout",
                "text": [
                  "\b\b\b\b\b\b\b\b\b\b\b\b\b\b\b\b\b\b\b\b\b\b\b\b\b\b\b\b\b\b\b\b\b\b\b\b\b\b\b\b\b\b\b\b\b\b\b\b\b\b\b\b\b\b\b\b\b\b\b\b\b\b\b\b\b\b\b\b\b\b\b\b\b\b\b\b\b\b\b\b\b\b\b\b\r600/600 [==============================] - 2s 3ms/step - loss: 4.4382 - accuracy: 0.1123 - val_loss: 3.3588 - val_accuracy: 0.1135\n"
                ]
              },
              {
                "output_type": "stream",
                "name": "stdout",
                "text": [
                  "Epoch 2/20\n"
                ]
              },
              {
                "output_type": "stream",
                "name": "stdout",
                "text": [
                  "\r  1/600 [..............................] - ETA: 5s - loss: 3.3527 - accuracy: 0.1800"
                ]
              },
              {
                "output_type": "stream",
                "name": "stdout",
                "text": [
                  "\b\b\b\b\b\b\b\b\b\b\b\b\b\b\b\b\b\b\b\b\b\b\b\b\b\b\b\b\b\b\b\b\b\b\b\b\b\b\b\b\b\b\b\b\b\b\b\b\b\b\b\b\b\b\b\b\b\b\b\b\b\b\b\b\b\b\b\b\b\b\b\b\b\b\b\b\b\b\b\b\b\b\b\b\r 24/600 [>.............................] - ETA: 1s - loss: 3.3374 - accuracy: 0.1017"
                ]
              },
              {
                "output_type": "stream",
                "name": "stdout",
                "text": [
                  "\b\b\b\b\b\b\b\b\b\b\b\b\b\b\b\b\b\b\b\b\b\b\b\b\b\b\b\b\b\b\b\b\b\b\b\b\b\b\b\b\b\b\b\b\b\b\b\b\b\b\b\b\b\b\b\b\b\b\b\b\b\b\b\b\b\b\b\b\b\b\b\b\b\b\b\b\b\b\b\b\b\b\b\b\r 45/600 [=>............................] - ETA: 1s - loss: 3.3176 - accuracy: 0.1031"
                ]
              },
              {
                "output_type": "stream",
                "name": "stdout",
                "text": [
                  "\b\b\b\b\b\b\b\b\b\b\b\b\b\b\b\b\b\b\b\b\b\b\b\b\b\b\b\b\b\b\b\b\b\b\b\b\b\b\b\b\b\b\b\b\b\b\b\b\b\b\b\b\b\b\b\b\b\b\b\b\b\b\b\b\b\b\b\b\b\b\b\b\b\b\b\b\b\b\b\b\b\b\b\b\r 64/600 [==>...........................] - ETA: 1s - loss: 3.3000 - accuracy: 0.1067"
                ]
              },
              {
                "output_type": "stream",
                "name": "stdout",
                "text": [
                  "\b\b\b\b\b\b\b\b\b\b\b\b\b\b\b\b\b\b\b\b\b\b\b\b\b\b\b\b\b\b\b\b\b\b\b\b\b\b\b\b\b\b\b\b\b\b\b\b\b\b\b\b\b\b\b\b\b\b\b\b\b\b\b\b\b\b\b\b\b\b\b\b\b\b\b\b\b\b\b\b\b\b\b\b\r 85/600 [===>..........................] - ETA: 1s - loss: 3.2814 - accuracy: 0.1096"
                ]
              },
              {
                "output_type": "stream",
                "name": "stdout",
                "text": [
                  "\b\b\b\b\b\b\b\b\b\b\b\b\b\b\b\b\b\b\b\b\b\b\b\b\b\b\b\b\b\b\b\b\b\b\b\b\b\b\b\b\b\b\b\b\b\b\b\b\b\b\b\b\b\b\b\b\b\b\b\b\b\b\b\b\b\b\b\b\b\b\b\b\b\b\b\b\b\b\b\b\b\b\b\b\r104/600 [====>.........................] - ETA: 1s - loss: 3.2650 - accuracy: 0.1103"
                ]
              },
              {
                "output_type": "stream",
                "name": "stdout",
                "text": [
                  "\b\b\b\b\b\b\b\b\b\b\b\b\b\b\b\b\b\b\b\b\b\b\b\b\b\b\b\b\b\b\b\b\b\b\b\b\b\b\b\b\b\b\b\b\b\b\b\b\b\b\b\b\b\b\b\b\b\b\b\b\b\b\b\b\b\b\b\b\b\b\b\b\b\b\b\b\b\b\b\b\b\b\b\b\r128/600 [=====>........................] - ETA: 1s - loss: 3.2454 - accuracy: 0.1107"
                ]
              },
              {
                "output_type": "stream",
                "name": "stdout",
                "text": [
                  "\b\b\b\b\b\b\b\b\b\b\b\b\b\b\b\b\b\b\b\b\b\b\b\b\b\b\b\b\b\b\b\b\b\b\b\b\b\b\b\b\b\b\b\b\b\b\b\b\b\b\b\b\b\b\b\b\b\b\b\b\b\b\b\b\b\b\b\b\b\b\b\b\b\b\b\b\b\b\b\b\b\b\b\b\r153/600 [======>.......................] - ETA: 1s - loss: 3.2260 - accuracy: 0.1120"
                ]
              },
              {
                "output_type": "stream",
                "name": "stdout",
                "text": [
                  "\b\b\b\b\b\b\b\b\b\b\b\b\b\b\b\b\b\b\b\b\b\b\b\b\b\b\b\b\b\b\b\b\b\b\b\b\b\b\b\b\b\b\b\b\b\b\b\b\b\b\b\b\b\b\b\b\b\b\b\b\b\b\b\b\b\b\b\b\b\b\b\b\b\b\b\b\b\b\b\b\b\b\b\b\r177/600 [=======>......................] - ETA: 0s - loss: 3.2084 - accuracy: 0.1105"
                ]
              },
              {
                "output_type": "stream",
                "name": "stdout",
                "text": [
                  "\b\b\b\b\b\b\b\b\b\b\b\b\b\b\b\b\b\b\b\b\b\b\b\b\b\b\b\b\b\b\b\b\b\b\b\b\b\b\b\b\b\b\b\b\b\b\b\b\b\b\b\b\b\b\b\b\b\b\b\b\b\b\b\b\b\b\b\b\b\b\b\b\b\b\b\b\b\b\b\b\b\b\b\b\r201/600 [=========>....................] - ETA: 0s - loss: 3.1914 - accuracy: 0.1117"
                ]
              },
              {
                "output_type": "stream",
                "name": "stdout",
                "text": [
                  "\b\b\b\b\b\b\b\b\b\b\b\b\b\b\b\b\b\b\b\b\b\b\b\b\b\b\b\b\b\b\b\b\b\b\b\b\b\b\b\b\b\b\b\b\b\b\b\b\b\b\b\b\b\b\b\b\b\b\b\b\b\b\b\b\b\b\b\b\b\b\b\b\b\b\b\b\b\b\b\b\b\b\b\b\r224/600 [==========>...................] - ETA: 0s - loss: 3.1762 - accuracy: 0.1119"
                ]
              },
              {
                "output_type": "stream",
                "name": "stdout",
                "text": [
                  "\b\b\b\b\b\b\b\b\b\b\b\b\b\b\b\b\b\b\b\b\b\b\b\b\b\b\b\b\b\b\b\b\b\b\b\b\b\b\b\b\b\b\b\b\b\b\b\b\b\b\b\b\b\b\b\b\b\b\b\b\b\b\b\b\b\b\b\b\b\b\b\b\b\b\b\b\b\b\b\b\b\b\b\b\r248/600 [===========>..................] - ETA: 0s - loss: 3.1611 - accuracy: 0.1128"
                ]
              },
              {
                "output_type": "stream",
                "name": "stdout",
                "text": [
                  "\b\b\b\b\b\b\b\b\b\b\b\b\b\b\b\b\b\b\b\b\b\b\b\b\b\b\b\b\b\b\b\b\b\b\b\b\b\b\b\b\b\b\b\b\b\b\b\b\b\b\b\b\b\b\b\b\b\b\b\b\b\b\b\b\b\b\b\b\b\b\b\b\b\b\b\b\b\b\b\b\b\b\b\b\r274/600 [============>.................] - ETA: 0s - loss: 3.1470 - accuracy: 0.1123"
                ]
              },
              {
                "output_type": "stream",
                "name": "stdout",
                "text": [
                  "\b\b\b\b\b\b\b\b\b\b\b\b\b\b\b\b\b\b\b\b\b\b\b\b\b\b\b\b\b\b\b\b\b\b\b\b\b\b\b\b\b\b\b\b\b\b\b\b\b\b\b\b\b\b\b\b\b\b\b\b\b\b\b\b\b\b\b\b\b\b\b\b\b\b\b\b\b\b\b\b\b\b\b\b\r299/600 [=============>................] - ETA: 0s - loss: 3.1359 - accuracy: 0.1126"
                ]
              },
              {
                "output_type": "stream",
                "name": "stdout",
                "text": [
                  "\b\b\b\b\b\b\b\b\b\b\b\b\b\b\b\b\b\b\b\b\b\b\b\b\b\b\b\b\b\b\b\b\b\b\b\b\b\b\b\b\b\b\b\b\b\b\b\b\b\b\b\b\b\b\b\b\b\b\b\b\b\b\b\b\b\b\b\b\b\b\b\b\b\b\b\b\b\b\b\b\b\b\b\b\r324/600 [===============>..............] - ETA: 0s - loss: 3.1246 - accuracy: 0.1130"
                ]
              },
              {
                "output_type": "stream",
                "name": "stdout",
                "text": [
                  "\b\b\b\b\b\b\b\b\b\b\b\b\b\b\b\b\b\b\b\b\b\b\b\b\b\b\b\b\b\b\b\b\b\b\b\b\b\b\b\b\b\b\b\b\b\b\b\b\b\b\b\b\b\b\b\b\b\b\b\b\b\b\b\b\b\b\b\b\b\b\b\b\b\b\b\b\b\b\b\b\b\b\b\b\r348/600 [================>.............] - ETA: 0s - loss: 3.1137 - accuracy: 0.1137"
                ]
              },
              {
                "output_type": "stream",
                "name": "stdout",
                "text": [
                  "\b\b\b\b\b\b\b\b\b\b\b\b\b\b\b\b\b\b\b\b\b\b\b\b\b\b\b\b\b\b\b\b\b\b\b\b\b\b\b\b\b\b\b\b\b\b\b\b\b\b\b\b\b\b\b\b\b\b\b\b\b\b\b\b\b\b\b\b\b\b\b\b\b\b\b\b\b\b\b\b\b\b\b\b\r369/600 [=================>............] - ETA: 0s - loss: 3.1054 - accuracy: 0.1147"
                ]
              },
              {
                "output_type": "stream",
                "name": "stdout",
                "text": [
                  "\b\b\b\b\b\b\b\b\b\b\b\b\b\b\b\b\b\b\b\b\b\b\b\b\b\b\b\b\b\b\b\b\b\b\b\b\b\b\b\b\b\b\b\b\b\b\b\b\b\b\b\b\b\b\b\b\b\b\b\b\b\b\b\b\b\b\b\b\b\b\b\b\b\b\b\b\b\b\b\b\b\b\b\b\r392/600 [==================>...........] - ETA: 0s - loss: 3.1007 - accuracy: 0.1141"
                ]
              },
              {
                "output_type": "stream",
                "name": "stdout",
                "text": [
                  "\b\b\b\b\b\b\b\b\b\b\b\b\b\b\b\b\b\b\b\b\b\b\b\b\b\b\b\b\b\b\b\b\b\b\b\b\b\b\b\b\b\b\b\b\b\b\b\b\b\b\b\b\b\b\b\b\b\b\b\b\b\b\b\b\b\b\b\b\b\b\b\b\b\b\b\b\b\b\b\b\b\b\b\b\r418/600 [===================>..........] - ETA: 0s - loss: 3.0943 - accuracy: 0.1142"
                ]
              },
              {
                "output_type": "stream",
                "name": "stdout",
                "text": [
                  "\b\b\b\b\b\b\b\b\b\b\b\b\b\b\b\b\b\b\b\b\b\b\b\b\b\b\b\b\b\b\b\b\b\b\b\b\b\b\b\b\b\b\b\b\b\b\b\b\b\b\b\b\b\b\b\b\b\b\b\b\b\b\b\b\b\b\b\b\b\b\b\b\b\b\b\b\b\b\b\b\b\b\b\b\r443/600 [=====================>........] - ETA: 0s - loss: 3.0874 - accuracy: 0.1140"
                ]
              },
              {
                "output_type": "stream",
                "name": "stdout",
                "text": [
                  "\b\b\b\b\b\b\b\b\b\b\b\b\b\b\b\b\b\b\b\b\b\b\b\b\b\b\b\b\b\b\b\b\b\b\b\b\b\b\b\b\b\b\b\b\b\b\b\b\b\b\b\b\b\b\b\b\b\b\b\b\b\b\b\b\b\b\b\b\b\b\b\b\b\b\b\b\b\b\b\b\b\b\b\b\r467/600 [======================>.......] - ETA: 0s - loss: 3.0801 - accuracy: 0.1136"
                ]
              },
              {
                "output_type": "stream",
                "name": "stdout",
                "text": [
                  "\b\b\b\b\b\b\b\b\b\b\b\b\b\b\b\b\b\b\b\b\b\b\b\b\b\b\b\b\b\b\b\b\b\b\b\b\b\b\b\b\b\b\b\b\b\b\b\b\b\b\b\b\b\b\b\b\b\b\b\b\b\b\b\b\b\b\b\b\b\b\b\b\b\b\b\b\b\b\b\b\b\b\b\b\r487/600 [=======================>......] - ETA: 0s - loss: 3.0738 - accuracy: 0.1133"
                ]
              },
              {
                "output_type": "stream",
                "name": "stdout",
                "text": [
                  "\b\b\b\b\b\b\b\b\b\b\b\b\b\b\b\b\b\b\b\b\b\b\b\b\b\b\b\b\b\b\b\b\b\b\b\b\b\b\b\b\b\b\b\b\b\b\b\b\b\b\b\b\b\b\b\b\b\b\b\b\b\b\b\b\b\b\b\b\b\b\b\b\b\b\b\b\b\b\b\b\b\b\b\b\r511/600 [========================>.....] - ETA: 0s - loss: 3.0660 - accuracy: 0.1133"
                ]
              },
              {
                "output_type": "stream",
                "name": "stdout",
                "text": [
                  "\b\b\b\b\b\b\b\b\b\b\b\b\b\b\b\b\b\b\b\b\b\b\b\b\b\b\b\b\b\b\b\b\b\b\b\b\b\b\b\b\b\b\b\b\b\b\b\b\b\b\b\b\b\b\b\b\b\b\b\b\b\b\b\b\b\b\b\b\b\b\b\b\b\b\b\b\b\b\b\b\b\b\b\b\r528/600 [=========================>....] - ETA: 0s - loss: 3.0602 - accuracy: 0.1133"
                ]
              },
              {
                "output_type": "stream",
                "name": "stdout",
                "text": [
                  "\b\b\b\b\b\b\b\b\b\b\b\b\b\b\b\b\b\b\b\b\b\b\b\b\b\b\b\b\b\b\b\b\b\b\b\b\b\b\b\b\b\b\b\b\b\b\b\b\b\b\b\b\b\b\b\b\b\b\b\b\b\b\b\b\b\b\b\b\b\b\b\b\b\b\b\b\b\b\b\b\b\b\b\b\r550/600 [==========================>...] - ETA: 0s - loss: 3.0528 - accuracy: 0.1127"
                ]
              },
              {
                "output_type": "stream",
                "name": "stdout",
                "text": [
                  "\b\b\b\b\b\b\b\b\b\b\b\b\b\b\b\b\b\b\b\b\b\b\b\b\b\b\b\b\b\b\b\b\b\b\b\b\b\b\b\b\b\b\b\b\b\b\b\b\b\b\b\b\b\b\b\b\b\b\b\b\b\b\b\b\b\b\b\b\b\b\b\b\b\b\b\b\b\b\b\b\b\b\b\b\r573/600 [===========================>..] - ETA: 0s - loss: 3.0448 - accuracy: 0.1126"
                ]
              },
              {
                "output_type": "stream",
                "name": "stdout",
                "text": [
                  "\b\b\b\b\b\b\b\b\b\b\b\b\b\b\b\b\b\b\b\b\b\b\b\b\b\b\b\b\b\b\b\b\b\b\b\b\b\b\b\b\b\b\b\b\b\b\b\b\b\b\b\b\b\b\b\b\b\b\b\b\b\b\b\b\b\b\b\b\b\b\b\b\b\b\b\b\b\b\b\b\b\b\b\b\r597/600 [============================>.] - ETA: 0s - loss: 3.0365 - accuracy: 0.1124"
                ]
              },
              {
                "output_type": "stream",
                "name": "stdout",
                "text": [
                  "\b\b\b\b\b\b\b\b\b\b\b\b\b\b\b\b\b\b\b\b\b\b\b\b\b\b\b\b\b\b\b\b\b\b\b\b\b\b\b\b\b\b\b\b\b\b\b\b\b\b\b\b\b\b\b\b\b\b\b\b\b\b\b\b\b\b\b\b\b\b\b\b\b\b\b\b\b\b\b\b\b\b\b\b\r600/600 [==============================] - 2s 3ms/step - loss: 3.0355 - accuracy: 0.1123 - val_loss: 2.8291 - val_accuracy: 0.1135\n"
                ]
              },
              {
                "output_type": "stream",
                "name": "stdout",
                "text": [
                  "Epoch 3/20\n"
                ]
              },
              {
                "output_type": "stream",
                "name": "stdout",
                "text": [
                  "\r  1/600 [..............................] - ETA: 7s - loss: 2.8302 - accuracy: 0.0600"
                ]
              },
              {
                "output_type": "stream",
                "name": "stdout",
                "text": [
                  "\b\b\b\b\b\b\b\b\b\b\b\b\b\b\b\b\b\b\b\b\b\b\b\b\b\b\b\b\b\b\b\b\b\b\b\b\b\b\b\b\b\b\b\b\b\b\b\b\b\b\b\b\b\b\b\b\b\b\b\b\b\b\b\b\b\b\b\b\b\b\b\b\b\b\b\b\b\b\b\b\b\b\b\b\r 25/600 [>.............................] - ETA: 1s - loss: 2.8204 - accuracy: 0.1112"
                ]
              },
              {
                "output_type": "stream",
                "name": "stdout",
                "text": [
                  "\b\b\b\b\b\b\b\b\b\b\b\b\b\b\b\b\b\b\b\b\b\b\b\b\b\b\b\b\b\b\b\b\b\b\b\b\b\b\b\b\b\b\b\b\b\b\b\b\b\b\b\b\b\b\b\b\b\b\b\b\b\b\b\b\b\b\b\b\b\b\b\b\b\b\b\b\b\b\b\b\b\b\b\b\r 49/600 [=>............................] - ETA: 1s - loss: 2.8196 - accuracy: 0.1133"
                ]
              },
              {
                "output_type": "stream",
                "name": "stdout",
                "text": [
                  "\b\b\b\b\b\b\b\b\b\b\b\b\b\b\b\b\b\b\b\b\b\b\b\b\b\b\b\b\b\b\b\b\b\b\b\b\b\b\b\b\b\b\b\b\b\b\b\b\b\b\b\b\b\b\b\b\b\b\b\b\b\b\b\b\b\b\b\b\b\b\b\b\b\b\b\b\b\b\b\b\b\b\b\b\r 74/600 [==>...........................] - ETA: 1s - loss: 2.8200 - accuracy: 0.1162"
                ]
              },
              {
                "output_type": "stream",
                "name": "stdout",
                "text": [
                  "\b\b\b\b\b\b\b\b\b\b\b\b\b\b\b\b\b\b\b\b\b\b\b\b\b\b\b\b\b\b\b\b\b\b\b\b\b\b\b\b\b\b\b\b\b\b\b\b\b\b\b\b\b\b\b\b\b\b\b\b\b\b\b\b\b\b\b\b\b\b\b\b\b\b\b\b\b\b\b\b\b\b\b\b\r100/600 [====>.........................] - ETA: 1s - loss: 2.8146 - accuracy: 0.1151"
                ]
              },
              {
                "output_type": "stream",
                "name": "stdout",
                "text": [
                  "\b\b\b\b\b\b\b\b\b\b\b\b\b\b\b\b\b\b\b\b\b\b\b\b\b\b\b\b\b\b\b\b\b\b\b\b\b\b\b\b\b\b\b\b\b\b\b\b\b\b\b\b\b\b\b\b\b\b\b\b\b\b\b\b\b\b\b\b\b\b\b\b\b\b\b\b\b\b\b\b\b\b\b\b\r124/600 [=====>........................] - ETA: 0s - loss: 2.8074 - accuracy: 0.1151"
                ]
              },
              {
                "output_type": "stream",
                "name": "stdout",
                "text": [
                  "\b\b\b\b\b\b\b\b\b\b\b\b\b\b\b\b\b\b\b\b\b\b\b\b\b\b\b\b\b\b\b\b\b\b\b\b\b\b\b\b\b\b\b\b\b\b\b\b\b\b\b\b\b\b\b\b\b\b\b\b\b\b\b\b\b\b\b\b\b\b\b\b\b\b\b\b\b\b\b\b\b\b\b\b\r147/600 [======>.......................] - ETA: 0s - loss: 2.8001 - accuracy: 0.1141"
                ]
              },
              {
                "output_type": "stream",
                "name": "stdout",
                "text": [
                  "\b\b\b\b\b\b\b\b\b\b\b\b\b\b\b\b\b\b\b\b\b\b\b\b\b\b\b\b\b\b\b\b\b\b\b\b\b\b\b\b\b\b\b\b\b\b\b\b\b\b\b\b\b\b\b\b\b\b\b\b\b\b\b\b\b\b\b\b\b\b\b\b\b\b\b\b\b\b\b\b\b\b\b\b\r173/600 [=======>......................] - ETA: 0s - loss: 2.8011 - accuracy: 0.1142"
                ]
              },
              {
                "output_type": "stream",
                "name": "stdout",
                "text": [
                  "\b\b\b\b\b\b\b\b\b\b\b\b\b\b\b\b\b\b\b\b\b\b\b\b\b\b\b\b\b\b\b\b\b\b\b\b\b\b\b\b\b\b\b\b\b\b\b\b\b\b\b\b\b\b\b\b\b\b\b\b\b\b\b\b\b\b\b\b\b\b\b\b\b\b\b\b\b\b\b\b\b\b\b\b\r199/600 [========>.....................] - ETA: 0s - loss: 2.7978 - accuracy: 0.1147"
                ]
              },
              {
                "output_type": "stream",
                "name": "stdout",
                "text": [
                  "\b\b\b\b\b\b\b\b\b\b\b\b\b\b\b\b\b\b\b\b\b\b\b\b\b\b\b\b\b\b\b\b\b\b\b\b\b\b\b\b\b\b\b\b\b\b\b\b\b\b\b\b\b\b\b\b\b\b\b\b\b\b\b\b\b\b\b\b\b\b\b\b\b\b\b\b\b\b\b\b\b\b\b\b\r224/600 [==========>...................] - ETA: 0s - loss: 2.7931 - accuracy: 0.1139"
                ]
              },
              {
                "output_type": "stream",
                "name": "stdout",
                "text": [
                  "\b\b\b\b\b\b\b\b\b\b\b\b\b\b\b\b\b\b\b\b\b\b\b\b\b\b\b\b\b\b\b\b\b\b\b\b\b\b\b\b\b\b\b\b\b\b\b\b\b\b\b\b\b\b\b\b\b\b\b\b\b\b\b\b\b\b\b\b\b\b\b\b\b\b\b\b\b\b\b\b\b\b\b\b\r242/600 [===========>..................] - ETA: 0s - loss: 2.7889 - accuracy: 0.1136"
                ]
              },
              {
                "output_type": "stream",
                "name": "stdout",
                "text": [
                  "\b\b\b\b\b\b\b\b\b\b\b\b\b\b\b\b\b\b\b\b\b\b\b\b\b\b\b\b\b\b\b\b\b\b\b\b\b\b\b\b\b\b\b\b\b\b\b\b\b\b\b\b\b\b\b\b\b\b\b\b\b\b\b\b\b\b\b\b\b\b\b\b\b\b\b\b\b\b\b\b\b\b\b\b\r264/600 [============>.................] - ETA: 0s - loss: 2.7833 - accuracy: 0.1132"
                ]
              },
              {
                "output_type": "stream",
                "name": "stdout",
                "text": [
                  "\b\b\b\b\b\b\b\b\b\b\b\b\b\b\b\b\b\b\b\b\b\b\b\b\b\b\b\b\b\b\b\b\b\b\b\b\b\b\b\b\b\b\b\b\b\b\b\b\b\b\b\b\b\b\b\b\b\b\b\b\b\b\b\b\b\b\b\b\b\b\b\b\b\b\b\b\b\b\b\b\b\b\b\b\r282/600 [=============>................] - ETA: 0s - loss: 2.7785 - accuracy: 0.1138"
                ]
              },
              {
                "output_type": "stream",
                "name": "stdout",
                "text": [
                  "\b\b\b\b\b\b\b\b\b\b\b\b\b\b\b\b\b\b\b\b\b\b\b\b\b\b\b\b\b\b\b\b\b\b\b\b\b\b\b\b\b\b\b\b\b\b\b\b\b\b\b\b\b\b\b\b\b\b\b\b\b\b\b\b\b\b\b\b\b\b\b\b\b\b\b\b\b\b\b\b\b\b\b\b\r307/600 [==============>...............] - ETA: 0s - loss: 2.7717 - accuracy: 0.1143"
                ]
              },
              {
                "output_type": "stream",
                "name": "stdout",
                "text": [
                  "\b\b\b\b\b\b\b\b\b\b\b\b\b\b\b\b\b\b\b\b\b\b\b\b\b\b\b\b\b\b\b\b\b\b\b\b\b\b\b\b\b\b\b\b\b\b\b\b\b\b\b\b\b\b\b\b\b\b\b\b\b\b\b\b\b\b\b\b\b\b\b\b\b\b\b\b\b\b\b\b\b\b\b\b\r329/600 [===============>..............] - ETA: 0s - loss: 2.7663 - accuracy: 0.1134"
                ]
              },
              {
                "output_type": "stream",
                "name": "stdout",
                "text": [
                  "\b\b\b\b\b\b\b\b\b\b\b\b\b\b\b\b\b\b\b\b\b\b\b\b\b\b\b\b\b\b\b\b\b\b\b\b\b\b\b\b\b\b\b\b\b\b\b\b\b\b\b\b\b\b\b\b\b\b\b\b\b\b\b\b\b\b\b\b\b\b\b\b\b\b\b\b\b\b\b\b\b\b\b\b\r355/600 [================>.............] - ETA: 0s - loss: 2.7596 - accuracy: 0.1140"
                ]
              },
              {
                "output_type": "stream",
                "name": "stdout",
                "text": [
                  "\b\b\b\b\b\b\b\b\b\b\b\b\b\b\b\b\b\b\b\b\b\b\b\b\b\b\b\b\b\b\b\b\b\b\b\b\b\b\b\b\b\b\b\b\b\b\b\b\b\b\b\b\b\b\b\b\b\b\b\b\b\b\b\b\b\b\b\b\b\b\b\b\b\b\b\b\b\b\b\b\b\b\b\b\r381/600 [==================>...........] - ETA: 0s - loss: 2.7545 - accuracy: 0.1136"
                ]
              },
              {
                "output_type": "stream",
                "name": "stdout",
                "text": [
                  "\b\b\b\b\b\b\b\b\b\b\b\b\b\b\b\b\b\b\b\b\b\b\b\b\b\b\b\b\b\b\b\b\b\b\b\b\b\b\b\b\b\b\b\b\b\b\b\b\b\b\b\b\b\b\b\b\b\b\b\b\b\b\b\b\b\b\b\b\b\b\b\b\b\b\b\b\b\b\b\b\b\b\b\b\r404/600 [===================>..........] - ETA: 0s - loss: 2.7497 - accuracy: 0.1135"
                ]
              },
              {
                "output_type": "stream",
                "name": "stdout",
                "text": [
                  "\b\b\b\b\b\b\b\b\b\b\b\b\b\b\b\b\b\b\b\b\b\b\b\b\b\b\b\b\b\b\b\b\b\b\b\b\b\b\b\b\b\b\b\b\b\b\b\b\b\b\b\b\b\b\b\b\b\b\b\b\b\b\b\b\b\b\b\b\b\b\b\b\b\b\b\b\b\b\b\b\b\b\b\b\r429/600 [====================>.........] - ETA: 0s - loss: 2.7452 - accuracy: 0.1133"
                ]
              },
              {
                "output_type": "stream",
                "name": "stdout",
                "text": [
                  "\b\b\b\b\b\b\b\b\b\b\b\b\b\b\b\b\b\b\b\b\b\b\b\b\b\b\b\b\b\b\b\b\b\b\b\b\b\b\b\b\b\b\b\b\b\b\b\b\b\b\b\b\b\b\b\b\b\b\b\b\b\b\b\b\b\b\b\b\b\b\b\b\b\b\b\b\b\b\b\b\b\b\b\b\r454/600 [=====================>........] - ETA: 0s - loss: 2.7411 - accuracy: 0.1132"
                ]
              },
              {
                "output_type": "stream",
                "name": "stdout",
                "text": [
                  "\b\b\b\b\b\b\b\b\b\b\b\b\b\b\b\b\b\b\b\b\b\b\b\b\b\b\b\b\b\b\b\b\b\b\b\b\b\b\b\b\b\b\b\b\b\b\b\b\b\b\b\b\b\b\b\b\b\b\b\b\b\b\b\b\b\b\b\b\b\b\b\b\b\b\b\b\b\b\b\b\b\b\b\b\r480/600 [=======================>......] - ETA: 0s - loss: 2.7363 - accuracy: 0.1141"
                ]
              },
              {
                "output_type": "stream",
                "name": "stdout",
                "text": [
                  "\b\b\b\b\b\b\b\b\b\b\b\b\b\b\b\b\b\b\b\b\b\b\b\b\b\b\b\b\b\b\b\b\b\b\b\b\b\b\b\b\b\b\b\b\b\b\b\b\b\b\b\b\b\b\b\b\b\b\b\b\b\b\b\b\b\b\b\b\b\b\b\b\b\b\b\b\b\b\b\b\b\b\b\b\r506/600 [========================>.....] - ETA: 0s - loss: 2.7317 - accuracy: 0.1144"
                ]
              },
              {
                "output_type": "stream",
                "name": "stdout",
                "text": [
                  "\b\b\b\b\b\b\b\b\b\b\b\b\b\b\b\b\b\b\b\b\b\b\b\b\b\b\b\b\b\b\b\b\b\b\b\b\b\b\b\b\b\b\b\b\b\b\b\b\b\b\b\b\b\b\b\b\b\b\b\b\b\b\b\b\b\b\b\b\b\b\b\b\b\b\b\b\b\b\b\b\b\b\b\b\r528/600 [=========================>....] - ETA: 0s - loss: 2.7275 - accuracy: 0.1139"
                ]
              },
              {
                "output_type": "stream",
                "name": "stdout",
                "text": [
                  "\b\b\b\b\b\b\b\b\b\b\b\b\b\b\b\b\b\b\b\b\b\b\b\b\b\b\b\b\b\b\b\b\b\b\b\b\b\b\b\b\b\b\b\b\b\b\b\b\b\b\b\b\b\b\b\b\b\b\b\b\b\b\b\b\b\b\b\b\b\b\b\b\b\b\b\b\b\b\b\b\b\b\b\b\r551/600 [==========================>...] - ETA: 0s - loss: 2.7221 - accuracy: 0.1150"
                ]
              },
              {
                "output_type": "stream",
                "name": "stdout",
                "text": [
                  "\b\b\b\b\b\b\b\b\b\b\b\b\b\b\b\b\b\b\b\b\b\b\b\b\b\b\b\b\b\b\b\b\b\b\b\b\b\b\b\b\b\b\b\b\b\b\b\b\b\b\b\b\b\b\b\b\b\b\b\b\b\b\b\b\b\b\b\b\b\b\b\b\b\b\b\b\b\b\b\b\b\b\b\b\r575/600 [===========================>..] - ETA: 0s - loss: 2.7122 - accuracy: 0.1185"
                ]
              },
              {
                "output_type": "stream",
                "name": "stdout",
                "text": [
                  "\b\b\b\b\b\b\b\b\b\b\b\b\b\b\b\b\b\b\b\b\b\b\b\b\b\b\b\b\b\b\b\b\b\b\b\b\b\b\b\b\b\b\b\b\b\b\b\b\b\b\b\b\b\b\b\b\b\b\b\b\b\b\b\b\b\b\b\b\b\b\b\b\b\b\b\b\b\b\b\b\b\b\b\b\r600/600 [==============================] - 1s 2ms/step - loss: 2.7004 - accuracy: 0.1216 - val_loss: 2.4013 - val_accuracy: 0.2131\n"
                ]
              },
              {
                "output_type": "stream",
                "name": "stdout",
                "text": [
                  "Epoch 4/20\n"
                ]
              },
              {
                "output_type": "stream",
                "name": "stdout",
                "text": [
                  "\r  1/600 [..............................] - ETA: 7s - loss: 2.3803 - accuracy: 0.2600"
                ]
              },
              {
                "output_type": "stream",
                "name": "stdout",
                "text": [
                  "\b\b\b\b\b\b\b\b\b\b\b\b\b\b\b\b\b\b\b\b\b\b\b\b\b\b\b\b\b\b\b\b\b\b\b\b\b\b\b\b\b\b\b\b\b\b\b\b\b\b\b\b\b\b\b\b\b\b\b\b\b\b\b\b\b\b\b\b\b\b\b\b\b\b\b\b\b\b\b\b\b\b\b\b\r 25/600 [>.............................] - ETA: 1s - loss: 3.5436 - accuracy: 0.1612"
                ]
              },
              {
                "output_type": "stream",
                "name": "stdout",
                "text": [
                  "\b\b\b\b\b\b\b\b\b\b\b\b\b\b\b\b\b\b\b\b\b\b\b\b\b\b\b\b\b\b\b\b\b\b\b\b\b\b\b\b\b\b\b\b\b\b\b\b\b\b\b\b\b\b\b\b\b\b\b\b\b\b\b\b\b\b\b\b\b\b\b\b\b\b\b\b\b\b\b\b\b\b\b\b\r 40/600 [=>............................] - ETA: 1s - loss: 3.2968 - accuracy: 0.1433"
                ]
              },
              {
                "output_type": "stream",
                "name": "stdout",
                "text": [
                  "\b\b\b\b\b\b\b\b\b\b\b\b\b\b\b\b\b\b\b\b\b\b\b\b\b\b\b\b\b\b\b\b\b\b\b\b\b\b\b\b\b\b\b\b\b\b\b\b\b\b\b\b\b\b\b\b\b\b\b\b\b\b\b\b\b\b\b\b\b\b\b\b\b\b\b\b\b\b\b\b\b\b\b\b\r 60/600 [==>...........................] - ETA: 1s - loss: 3.1537 - accuracy: 0.1315"
                ]
              },
              {
                "output_type": "stream",
                "name": "stdout",
                "text": [
                  "\b\b\b\b\b\b\b\b\b\b\b\b\b\b\b\b\b\b\b\b\b\b\b\b\b\b\b\b\b\b\b\b\b\b\b\b\b\b\b\b\b\b\b\b\b\b\b\b\b\b\b\b\b\b\b\b\b\b\b\b\b\b\b\b\b\b\b\b\b\b\b\b\b\b\b\b\b\b\b\b\b\b\b\b\r 85/600 [===>..........................] - ETA: 1s - loss: 3.0630 - accuracy: 0.1254"
                ]
              },
              {
                "output_type": "stream",
                "name": "stdout",
                "text": [
                  "\b\b\b\b\b\b\b\b\b\b\b\b\b\b\b\b\b\b\b\b\b\b\b\b\b\b\b\b\b\b\b\b\b\b\b\b\b\b\b\b\b\b\b\b\b\b\b\b\b\b\b\b\b\b\b\b\b\b\b\b\b\b\b\b\b\b\b\b\b\b\b\b\b\b\b\b\b\b\b\b\b\b\b\b\r107/600 [====>.........................] - ETA: 1s - loss: 3.0587 - accuracy: 0.1253"
                ]
              },
              {
                "output_type": "stream",
                "name": "stdout",
                "text": [
                  "\b\b\b\b\b\b\b\b\b\b\b\b\b\b\b\b\b\b\b\b\b\b\b\b\b\b\b\b\b\b\b\b\b\b\b\b\b\b\b\b\b\b\b\b\b\b\b\b\b\b\b\b\b\b\b\b\b\b\b\b\b\b\b\b\b\b\b\b\b\b\b\b\b\b\b\b\b\b\b\b\b\b\b\b\r128/600 [=====>........................] - ETA: 1s - loss: 3.0465 - accuracy: 0.1223"
                ]
              },
              {
                "output_type": "stream",
                "name": "stdout",
                "text": [
                  "\b\b\b\b\b\b\b\b\b\b\b\b\b\b\b\b\b\b\b\b\b\b\b\b\b\b\b\b\b\b\b\b\b\b\b\b\b\b\b\b\b\b\b\b\b\b\b\b\b\b\b\b\b\b\b\b\b\b\b\b\b\b\b\b\b\b\b\b\b\b\b\b\b\b\b\b\b\b\b\b\b\b\b\b\r147/600 [======>.......................] - ETA: 1s - loss: 3.0352 - accuracy: 0.1205"
                ]
              },
              {
                "output_type": "stream",
                "name": "stdout",
                "text": [
                  "\b\b\b\b\b\b\b\b\b\b\b\b\b\b\b\b\b\b\b\b\b\b\b\b\b\b\b\b\b\b\b\b\b\b\b\b\b\b\b\b\b\b\b\b\b\b\b\b\b\b\b\b\b\b\b\b\b\b\b\b\b\b\b\b\b\b\b\b\b\b\b\b\b\b\b\b\b\b\b\b\b\b\b\b\r170/600 [=======>......................] - ETA: 1s - loss: 3.0216 - accuracy: 0.1194"
                ]
              },
              {
                "output_type": "stream",
                "name": "stdout",
                "text": [
                  "\b\b\b\b\b\b\b\b\b\b\b\b\b\b\b\b\b\b\b\b\b\b\b\b\b\b\b\b\b\b\b\b\b\b\b\b\b\b\b\b\b\b\b\b\b\b\b\b\b\b\b\b\b\b\b\b\b\b\b\b\b\b\b\b\b\b\b\b\b\b\b\b\b\b\b\b\b\b\b\b\b\b\b\b\r195/600 [========>.....................] - ETA: 0s - loss: 3.0075 - accuracy: 0.1167"
                ]
              },
              {
                "output_type": "stream",
                "name": "stdout",
                "text": [
                  "\b\b\b\b\b\b\b\b\b\b\b\b\b\b\b\b\b\b\b\b\b\b\b\b\b\b\b\b\b\b\b\b\b\b\b\b\b\b\b\b\b\b\b\b\b\b\b\b\b\b\b\b\b\b\b\b\b\b\b\b\b\b\b\b\b\b\b\b\b\b\b\b\b\b\b\b\b\b\b\b\b\b\b\b\r219/600 [=========>....................] - ETA: 0s - loss: 2.9938 - accuracy: 0.1171"
                ]
              },
              {
                "output_type": "stream",
                "name": "stdout",
                "text": [
                  "\b\b\b\b\b\b\b\b\b\b\b\b\b\b\b\b\b\b\b\b\b\b\b\b\b\b\b\b\b\b\b\b\b\b\b\b\b\b\b\b\b\b\b\b\b\b\b\b\b\b\b\b\b\b\b\b\b\b\b\b\b\b\b\b\b\b\b\b\b\b\b\b\b\b\b\b\b\b\b\b\b\b\b\b\r244/600 [===========>..................] - ETA: 0s - loss: 2.9801 - accuracy: 0.1160"
                ]
              },
              {
                "output_type": "stream",
                "name": "stdout",
                "text": [
                  "\b\b\b\b\b\b\b\b\b\b\b\b\b\b\b\b\b\b\b\b\b\b\b\b\b\b\b\b\b\b\b\b\b\b\b\b\b\b\b\b\b\b\b\b\b\b\b\b\b\b\b\b\b\b\b\b\b\b\b\b\b\b\b\b\b\b\b\b\b\b\b\b\b\b\b\b\b\b\b\b\b\b\b\b\r266/600 [============>.................] - ETA: 0s - loss: 2.9685 - accuracy: 0.1155"
                ]
              },
              {
                "output_type": "stream",
                "name": "stdout",
                "text": [
                  "\b\b\b\b\b\b\b\b\b\b\b\b\b\b\b\b\b\b\b\b\b\b\b\b\b\b\b\b\b\b\b\b\b\b\b\b\b\b\b\b\b\b\b\b\b\b\b\b\b\b\b\b\b\b\b\b\b\b\b\b\b\b\b\b\b\b\b\b\b\b\b\b\b\b\b\b\b\b\b\b\b\b\b\b\r287/600 [=============>................] - ETA: 0s - loss: 2.9574 - accuracy: 0.1156"
                ]
              },
              {
                "output_type": "stream",
                "name": "stdout",
                "text": [
                  "\b\b\b\b\b\b\b\b\b\b\b\b\b\b\b\b\b\b\b\b\b\b\b\b\b\b\b\b\b\b\b\b\b\b\b\b\b\b\b\b\b\b\b\b\b\b\b\b\b\b\b\b\b\b\b\b\b\b\b\b\b\b\b\b\b\b\b\b\b\b\b\b\b\b\b\b\b\b\b\b\b\b\b\b\r311/600 [==============>...............] - ETA: 0s - loss: 2.9939 - accuracy: 0.1151"
                ]
              },
              {
                "output_type": "stream",
                "name": "stdout",
                "text": [
                  "\b\b\b\b\b\b\b\b\b\b\b\b\b\b\b\b\b\b\b\b\b\b\b\b\b\b\b\b\b\b\b\b\b\b\b\b\b\b\b\b\b\b\b\b\b\b\b\b\b\b\b\b\b\b\b\b\b\b\b\b\b\b\b\b\b\b\b\b\b\b\b\b\b\b\b\b\b\b\b\b\b\b\b\b\r336/600 [===============>..............] - ETA: 0s - loss: 3.0006 - accuracy: 0.1149"
                ]
              },
              {
                "output_type": "stream",
                "name": "stdout",
                "text": [
                  "\b\b\b\b\b\b\b\b\b\b\b\b\b\b\b\b\b\b\b\b\b\b\b\b\b\b\b\b\b\b\b\b\b\b\b\b\b\b\b\b\b\b\b\b\b\b\b\b\b\b\b\b\b\b\b\b\b\b\b\b\b\b\b\b\b\b\b\b\b\b\b\b\b\b\b\b\b\b\b\b\b\b\b\b\r361/600 [=================>............] - ETA: 0s - loss: 3.0038 - accuracy: 0.1149"
                ]
              },
              {
                "output_type": "stream",
                "name": "stdout",
                "text": [
                  "\b\b\b\b\b\b\b\b\b\b\b\b\b\b\b\b\b\b\b\b\b\b\b\b\b\b\b\b\b\b\b\b\b\b\b\b\b\b\b\b\b\b\b\b\b\b\b\b\b\b\b\b\b\b\b\b\b\b\b\b\b\b\b\b\b\b\b\b\b\b\b\b\b\b\b\b\b\b\b\b\b\b\b\b\r386/600 [==================>...........] - ETA: 0s - loss: 3.0047 - accuracy: 0.1146"
                ]
              },
              {
                "output_type": "stream",
                "name": "stdout",
                "text": [
                  "\b\b\b\b\b\b\b\b\b\b\b\b\b\b\b\b\b\b\b\b\b\b\b\b\b\b\b\b\b\b\b\b\b\b\b\b\b\b\b\b\b\b\b\b\b\b\b\b\b\b\b\b\b\b\b\b\b\b\b\b\b\b\b\b\b\b\b\b\b\b\b\b\b\b\b\b\b\b\b\b\b\b\b\b\r405/600 [===================>..........] - ETA: 0s - loss: 3.0040 - accuracy: 0.1146"
                ]
              },
              {
                "output_type": "stream",
                "name": "stdout",
                "text": [
                  "\b\b\b\b\b\b\b\b\b\b\b\b\b\b\b\b\b\b\b\b\b\b\b\b\b\b\b\b\b\b\b\b\b\b\b\b\b\b\b\b\b\b\b\b\b\b\b\b\b\b\b\b\b\b\b\b\b\b\b\b\b\b\b\b\b\b\b\b\b\b\b\b\b\b\b\b\b\b\b\b\b\b\b\b\r430/600 [====================>.........] - ETA: 0s - loss: 3.0017 - accuracy: 0.1150"
                ]
              },
              {
                "output_type": "stream",
                "name": "stdout",
                "text": [
                  "\b\b\b\b\b\b\b\b\b\b\b\b\b\b\b\b\b\b\b\b\b\b\b\b\b\b\b\b\b\b\b\b\b\b\b\b\b\b\b\b\b\b\b\b\b\b\b\b\b\b\b\b\b\b\b\b\b\b\b\b\b\b\b\b\b\b\b\b\b\b\b\b\b\b\b\b\b\b\b\b\b\b\b\b\r455/600 [=====================>........] - ETA: 0s - loss: 2.9984 - accuracy: 0.1151"
                ]
              },
              {
                "output_type": "stream",
                "name": "stdout",
                "text": [
                  "\b\b\b\b\b\b\b\b\b\b\b\b\b\b\b\b\b\b\b\b\b\b\b\b\b\b\b\b\b\b\b\b\b\b\b\b\b\b\b\b\b\b\b\b\b\b\b\b\b\b\b\b\b\b\b\b\b\b\b\b\b\b\b\b\b\b\b\b\b\b\b\b\b\b\b\b\b\b\b\b\b\b\b\b\r479/600 [======================>.......] - ETA: 0s - loss: 2.9942 - accuracy: 0.1149"
                ]
              },
              {
                "output_type": "stream",
                "name": "stdout",
                "text": [
                  "\b\b\b\b\b\b\b\b\b\b\b\b\b\b\b\b\b\b\b\b\b\b\b\b\b\b\b\b\b\b\b\b\b\b\b\b\b\b\b\b\b\b\b\b\b\b\b\b\b\b\b\b\b\b\b\b\b\b\b\b\b\b\b\b\b\b\b\b\b\b\b\b\b\b\b\b\b\b\b\b\b\b\b\b\r496/600 [=======================>......] - ETA: 0s - loss: 2.9908 - accuracy: 0.1151"
                ]
              },
              {
                "output_type": "stream",
                "name": "stdout",
                "text": [
                  "\b\b\b\b\b\b\b\b\b\b\b\b\b\b\b\b\b\b\b\b\b\b\b\b\b\b\b\b\b\b\b\b\b\b\b\b\b\b\b\b\b\b\b\b\b\b\b\b\b\b\b\b\b\b\b\b\b\b\b\b\b\b\b\b\b\b\b\b\b\b\b\b\b\b\b\b\b\b\b\b\b\b\b\b\r516/600 [========================>.....] - ETA: 0s - loss: 2.9865 - accuracy: 0.1154"
                ]
              },
              {
                "output_type": "stream",
                "name": "stdout",
                "text": [
                  "\b\b\b\b\b\b\b\b\b\b\b\b\b\b\b\b\b\b\b\b\b\b\b\b\b\b\b\b\b\b\b\b\b\b\b\b\b\b\b\b\b\b\b\b\b\b\b\b\b\b\b\b\b\b\b\b\b\b\b\b\b\b\b\b\b\b\b\b\b\b\b\b\b\b\b\b\b\b\b\b\b\b\b\b\r539/600 [=========================>....] - ETA: 0s - loss: 2.9811 - accuracy: 0.1156"
                ]
              },
              {
                "output_type": "stream",
                "name": "stdout",
                "text": [
                  "\b\b\b\b\b\b\b\b\b\b\b\b\b\b\b\b\b\b\b\b\b\b\b\b\b\b\b\b\b\b\b\b\b\b\b\b\b\b\b\b\b\b\b\b\b\b\b\b\b\b\b\b\b\b\b\b\b\b\b\b\b\b\b\b\b\b\b\b\b\b\b\b\b\b\b\b\b\b\b\b\b\b\b\b\r563/600 [===========================>..] - ETA: 0s - loss: 2.9752 - accuracy: 0.1155"
                ]
              },
              {
                "output_type": "stream",
                "name": "stdout",
                "text": [
                  "\b\b\b\b\b\b\b\b\b\b\b\b\b\b\b\b\b\b\b\b\b\b\b\b\b\b\b\b\b\b\b\b\b\b\b\b\b\b\b\b\b\b\b\b\b\b\b\b\b\b\b\b\b\b\b\b\b\b\b\b\b\b\b\b\b\b\b\b\b\b\b\b\b\b\b\b\b\b\b\b\b\b\b\b\r586/600 [============================>.] - ETA: 0s - loss: 2.9692 - accuracy: 0.1153"
                ]
              },
              {
                "output_type": "stream",
                "name": "stdout",
                "text": [
                  "\b\b\b\b\b\b\b\b\b\b\b\b\b\b\b\b\b\b\b\b\b\b\b\b\b\b\b\b\b\b\b\b\b\b\b\b\b\b\b\b\b\b\b\b\b\b\b\b\b\b\b\b\b\b\b\b\b\b\b\b\b\b\b\b\b\b\b\b\b\b\b\b\b\b\b\b\b\b\b\b\b\b\b\b\r600/600 [==============================] - 2s 3ms/step - loss: 2.9655 - accuracy: 0.1150 - val_loss: 2.8015 - val_accuracy: 0.1135\n"
                ]
              },
              {
                "output_type": "stream",
                "name": "stdout",
                "text": [
                  "Epoch 5/20\n"
                ]
              },
              {
                "output_type": "stream",
                "name": "stdout",
                "text": [
                  "\r  1/600 [..............................] - ETA: 3s - loss: 2.8014 - accuracy: 0.1100"
                ]
              },
              {
                "output_type": "stream",
                "name": "stdout",
                "text": [
                  "\b\b\b\b\b\b\b\b\b\b\b\b\b\b\b\b\b\b\b\b\b\b\b\b\b\b\b\b\b\b\b\b\b\b\b\b\b\b\b\b\b\b\b\b\b\b\b\b\b\b\b\b\b\b\b\b\b\b\b\b\b\b\b\b\b\b\b\b\b\b\b\b\b\b\b\b\b\b\b\b\b\b\b\b\r 20/600 [>.............................] - ETA: 1s - loss: 2.7946 - accuracy: 0.1210"
                ]
              },
              {
                "output_type": "stream",
                "name": "stdout",
                "text": [
                  "\b\b\b\b\b\b\b\b\b\b\b\b\b\b\b\b\b\b\b\b\b\b\b\b\b\b\b\b\b\b\b\b\b\b\b\b\b\b\b\b\b\b\b\b\b\b\b\b\b\b\b\b\b\b\b\b\b\b\b\b\b\b\b\b\b\b\b\b\b\b\b\b\b\b\b\b\b\b\b\b\b\b\b\b\r 45/600 [=>............................] - ETA: 1s - loss: 2.7848 - accuracy: 0.1193"
                ]
              },
              {
                "output_type": "stream",
                "name": "stdout",
                "text": [
                  "\b\b\b\b\b\b\b\b\b\b\b\b\b\b\b\b\b\b\b\b\b\b\b\b\b\b\b\b\b\b\b\b\b\b\b\b\b\b\b\b\b\b\b\b\b\b\b\b\b\b\b\b\b\b\b\b\b\b\b\b\b\b\b\b\b\b\b\b\b\b\b\b\b\b\b\b\b\b\b\b\b\b\b\b\r 69/600 [==>...........................] - ETA: 1s - loss: 2.7764 - accuracy: 0.1175"
                ]
              },
              {
                "output_type": "stream",
                "name": "stdout",
                "text": [
                  "\b\b\b\b\b\b\b\b\b\b\b\b\b\b\b\b\b\b\b\b\b\b\b\b\b\b\b\b\b\b\b\b\b\b\b\b\b\b\b\b\b\b\b\b\b\b\b\b\b\b\b\b\b\b\b\b\b\b\b\b\b\b\b\b\b\b\b\b\b\b\b\b\b\b\b\b\b\b\b\b\b\b\b\b\r 94/600 [===>..........................] - ETA: 1s - loss: 2.7673 - accuracy: 0.1187"
                ]
              },
              {
                "output_type": "stream",
                "name": "stdout",
                "text": [
                  "\b\b\b\b\b\b\b\b\b\b\b\b\b\b\b\b\b\b\b\b\b\b\b\b\b\b\b\b\b\b\b\b\b\b\b\b\b\b\b\b\b\b\b\b\b\b\b\b\b\b\b\b\b\b\b\b\b\b\b\b\b\b\b\b\b\b\b\b\b\b\b\b\b\b\b\b\b\b\b\b\b\b\b\b\r120/600 [=====>........................] - ETA: 1s - loss: 2.7585 - accuracy: 0.1175"
                ]
              },
              {
                "output_type": "stream",
                "name": "stdout",
                "text": [
                  "\b\b\b\b\b\b\b\b\b\b\b\b\b\b\b\b\b\b\b\b\b\b\b\b\b\b\b\b\b\b\b\b\b\b\b\b\b\b\b\b\b\b\b\b\b\b\b\b\b\b\b\b\b\b\b\b\b\b\b\b\b\b\b\b\b\b\b\b\b\b\b\b\b\b\b\b\b\b\b\b\b\b\b\b\r142/600 [======>.......................] - ETA: 0s - loss: 2.7516 - accuracy: 0.1165"
                ]
              },
              {
                "output_type": "stream",
                "name": "stdout",
                "text": [
                  "\b\b\b\b\b\b\b\b\b\b\b\b\b\b\b\b\b\b\b\b\b\b\b\b\b\b\b\b\b\b\b\b\b\b\b\b\b\b\b\b\b\b\b\b\b\b\b\b\b\b\b\b\b\b\b\b\b\b\b\b\b\b\b\b\b\b\b\b\b\b\b\b\b\b\b\b\b\b\b\b\b\b\b\b\r169/600 [=======>......................] - ETA: 0s - loss: 2.7430 - accuracy: 0.1157"
                ]
              },
              {
                "output_type": "stream",
                "name": "stdout",
                "text": [
                  "\b\b\b\b\b\b\b\b\b\b\b\b\b\b\b\b\b\b\b\b\b\b\b\b\b\b\b\b\b\b\b\b\b\b\b\b\b\b\b\b\b\b\b\b\b\b\b\b\b\b\b\b\b\b\b\b\b\b\b\b\b\b\b\b\b\b\b\b\b\b\b\b\b\b\b\b\b\b\b\b\b\b\b\b\r191/600 [========>.....................] - ETA: 0s - loss: 2.7363 - accuracy: 0.1147"
                ]
              },
              {
                "output_type": "stream",
                "name": "stdout",
                "text": [
                  "\b\b\b\b\b\b\b\b\b\b\b\b\b\b\b\b\b\b\b\b\b\b\b\b\b\b\b\b\b\b\b\b\b\b\b\b\b\b\b\b\b\b\b\b\b\b\b\b\b\b\b\b\b\b\b\b\b\b\b\b\b\b\b\b\b\b\b\b\b\b\b\b\b\b\b\b\b\b\b\b\b\b\b\b\r210/600 [=========>....................] - ETA: 0s - loss: 2.7306 - accuracy: 0.1145"
                ]
              },
              {
                "output_type": "stream",
                "name": "stdout",
                "text": [
                  "\b\b\b\b\b\b\b\b\b\b\b\b\b\b\b\b\b\b\b\b\b\b\b\b\b\b\b\b\b\b\b\b\b\b\b\b\b\b\b\b\b\b\b\b\b\b\b\b\b\b\b\b\b\b\b\b\b\b\b\b\b\b\b\b\b\b\b\b\b\b\b\b\b\b\b\b\b\b\b\b\b\b\b\b\r235/600 [==========>...................] - ETA: 0s - loss: 2.7234 - accuracy: 0.1136"
                ]
              },
              {
                "output_type": "stream",
                "name": "stdout",
                "text": [
                  "\b\b\b\b\b\b\b\b\b\b\b\b\b\b\b\b\b\b\b\b\b\b\b\b\b\b\b\b\b\b\b\b\b\b\b\b\b\b\b\b\b\b\b\b\b\b\b\b\b\b\b\b\b\b\b\b\b\b\b\b\b\b\b\b\b\b\b\b\b\b\b\b\b\b\b\b\b\b\b\b\b\b\b\b\r258/600 [===========>..................] - ETA: 0s - loss: 2.7169 - accuracy: 0.1133"
                ]
              },
              {
                "output_type": "stream",
                "name": "stdout",
                "text": [
                  "\b\b\b\b\b\b\b\b\b\b\b\b\b\b\b\b\b\b\b\b\b\b\b\b\b\b\b\b\b\b\b\b\b\b\b\b\b\b\b\b\b\b\b\b\b\b\b\b\b\b\b\b\b\b\b\b\b\b\b\b\b\b\b\b\b\b\b\b\b\b\b\b\b\b\b\b\b\b\b\b\b\b\b\b\r281/600 [=============>................] - ETA: 0s - loss: 2.7105 - accuracy: 0.1130"
                ]
              },
              {
                "output_type": "stream",
                "name": "stdout",
                "text": [
                  "\b\b\b\b\b\b\b\b\b\b\b\b\b\b\b\b\b\b\b\b\b\b\b\b\b\b\b\b\b\b\b\b\b\b\b\b\b\b\b\b\b\b\b\b\b\b\b\b\b\b\b\b\b\b\b\b\b\b\b\b\b\b\b\b\b\b\b\b\b\b\b\b\b\b\b\b\b\b\b\b\b\b\b\b\r307/600 [==============>...............] - ETA: 0s - loss: 2.7035 - accuracy: 0.1130"
                ]
              },
              {
                "output_type": "stream",
                "name": "stdout",
                "text": [
                  "\b\b\b\b\b\b\b\b\b\b\b\b\b\b\b\b\b\b\b\b\b\b\b\b\b\b\b\b\b\b\b\b\b\b\b\b\b\b\b\b\b\b\b\b\b\b\b\b\b\b\b\b\b\b\b\b\b\b\b\b\b\b\b\b\b\b\b\b\b\b\b\b\b\b\b\b\b\b\b\b\b\b\b\b\r332/600 [===============>..............] - ETA: 0s - loss: 2.6968 - accuracy: 0.1135"
                ]
              },
              {
                "output_type": "stream",
                "name": "stdout",
                "text": [
                  "\b\b\b\b\b\b\b\b\b\b\b\b\b\b\b\b\b\b\b\b\b\b\b\b\b\b\b\b\b\b\b\b\b\b\b\b\b\b\b\b\b\b\b\b\b\b\b\b\b\b\b\b\b\b\b\b\b\b\b\b\b\b\b\b\b\b\b\b\b\b\b\b\b\b\b\b\b\b\b\b\b\b\b\b\r356/600 [================>.............] - ETA: 0s - loss: 2.6934 - accuracy: 0.1138"
                ]
              },
              {
                "output_type": "stream",
                "name": "stdout",
                "text": [
                  "\b\b\b\b\b\b\b\b\b\b\b\b\b\b\b\b\b\b\b\b\b\b\b\b\b\b\b\b\b\b\b\b\b\b\b\b\b\b\b\b\b\b\b\b\b\b\b\b\b\b\b\b\b\b\b\b\b\b\b\b\b\b\b\b\b\b\b\b\b\b\b\b\b\b\b\b\b\b\b\b\b\b\b\b\r382/600 [==================>...........] - ETA: 0s - loss: 2.6888 - accuracy: 0.1138"
                ]
              },
              {
                "output_type": "stream",
                "name": "stdout",
                "text": [
                  "\b\b\b\b\b\b\b\b\b\b\b\b\b\b\b\b\b\b\b\b\b\b\b\b\b\b\b\b\b\b\b\b\b\b\b\b\b\b\b\b\b\b\b\b\b\b\b\b\b\b\b\b\b\b\b\b\b\b\b\b\b\b\b\b\b\b\b\b\b\b\b\b\b\b\b\b\b\b\b\b\b\b\b\b\r403/600 [===================>..........] - ETA: 0s - loss: 2.6847 - accuracy: 0.1137"
                ]
              },
              {
                "output_type": "stream",
                "name": "stdout",
                "text": [
                  "\b\b\b\b\b\b\b\b\b\b\b\b\b\b\b\b\b\b\b\b\b\b\b\b\b\b\b\b\b\b\b\b\b\b\b\b\b\b\b\b\b\b\b\b\b\b\b\b\b\b\b\b\b\b\b\b\b\b\b\b\b\b\b\b\b\b\b\b\b\b\b\b\b\b\b\b\b\b\b\b\b\b\b\b\r429/600 [====================>.........] - ETA: 0s - loss: 2.6799 - accuracy: 0.1137"
                ]
              },
              {
                "output_type": "stream",
                "name": "stdout",
                "text": [
                  "\b\b\b\b\b\b\b\b\b\b\b\b\b\b\b\b\b\b\b\b\b\b\b\b\b\b\b\b\b\b\b\b\b\b\b\b\b\b\b\b\b\b\b\b\b\b\b\b\b\b\b\b\b\b\b\b\b\b\b\b\b\b\b\b\b\b\b\b\b\b\b\b\b\b\b\b\b\b\b\b\b\b\b\b\r453/600 [=====================>........] - ETA: 0s - loss: 2.6751 - accuracy: 0.1131"
                ]
              },
              {
                "output_type": "stream",
                "name": "stdout",
                "text": [
                  "\b\b\b\b\b\b\b\b\b\b\b\b\b\b\b\b\b\b\b\b\b\b\b\b\b\b\b\b\b\b\b\b\b\b\b\b\b\b\b\b\b\b\b\b\b\b\b\b\b\b\b\b\b\b\b\b\b\b\b\b\b\b\b\b\b\b\b\b\b\b\b\b\b\b\b\b\b\b\b\b\b\b\b\b\r473/600 [======================>.......] - ETA: 0s - loss: 2.6709 - accuracy: 0.1130"
                ]
              },
              {
                "output_type": "stream",
                "name": "stdout",
                "text": [
                  "\b\b\b\b\b\b\b\b\b\b\b\b\b\b\b\b\b\b\b\b\b\b\b\b\b\b\b\b\b\b\b\b\b\b\b\b\b\b\b\b\b\b\b\b\b\b\b\b\b\b\b\b\b\b\b\b\b\b\b\b\b\b\b\b\b\b\b\b\b\b\b\b\b\b\b\b\b\b\b\b\b\b\b\b\r499/600 [=======================>......] - ETA: 0s - loss: 2.6654 - accuracy: 0.1124"
                ]
              },
              {
                "output_type": "stream",
                "name": "stdout",
                "text": [
                  "\b\b\b\b\b\b\b\b\b\b\b\b\b\b\b\b\b\b\b\b\b\b\b\b\b\b\b\b\b\b\b\b\b\b\b\b\b\b\b\b\b\b\b\b\b\b\b\b\b\b\b\b\b\b\b\b\b\b\b\b\b\b\b\b\b\b\b\b\b\b\b\b\b\b\b\b\b\b\b\b\b\b\b\b\r521/600 [=========================>....] - ETA: 0s - loss: 2.6606 - accuracy: 0.1126"
                ]
              },
              {
                "output_type": "stream",
                "name": "stdout",
                "text": [
                  "\b\b\b\b\b\b\b\b\b\b\b\b\b\b\b\b\b\b\b\b\b\b\b\b\b\b\b\b\b\b\b\b\b\b\b\b\b\b\b\b\b\b\b\b\b\b\b\b\b\b\b\b\b\b\b\b\b\b\b\b\b\b\b\b\b\b\b\b\b\b\b\b\b\b\b\b\b\b\b\b\b\b\b\b\r546/600 [==========================>...] - ETA: 0s - loss: 2.6552 - accuracy: 0.1125"
                ]
              },
              {
                "output_type": "stream",
                "name": "stdout",
                "text": [
                  "\b\b\b\b\b\b\b\b\b\b\b\b\b\b\b\b\b\b\b\b\b\b\b\b\b\b\b\b\b\b\b\b\b\b\b\b\b\b\b\b\b\b\b\b\b\b\b\b\b\b\b\b\b\b\b\b\b\b\b\b\b\b\b\b\b\b\b\b\b\b\b\b\b\b\b\b\b\b\b\b\b\b\b\b\r571/600 [===========================>..] - ETA: 0s - loss: 2.6498 - accuracy: 0.1125"
                ]
              },
              {
                "output_type": "stream",
                "name": "stdout",
                "text": [
                  "\b\b\b\b\b\b\b\b\b\b\b\b\b\b\b\b\b\b\b\b\b\b\b\b\b\b\b\b\b\b\b\b\b\b\b\b\b\b\b\b\b\b\b\b\b\b\b\b\b\b\b\b\b\b\b\b\b\b\b\b\b\b\b\b\b\b\b\b\b\b\b\b\b\b\b\b\b\b\b\b\b\b\b\b\r596/600 [============================>.] - ETA: 0s - loss: 2.6445 - accuracy: 0.1130"
                ]
              },
              {
                "output_type": "stream",
                "name": "stdout",
                "text": [
                  "\b\b\b\b\b\b\b\b\b\b\b\b\b\b\b\b\b\b\b\b\b\b\b\b\b\b\b\b\b\b\b\b\b\b\b\b\b\b\b\b\b\b\b\b\b\b\b\b\b\b\b\b\b\b\b\b\b\b\b\b\b\b\b\b\b\b\b\b\b\b\b\b\b\b\b\b\b\b\b\b\b\b\b\b\r600/600 [==============================] - 1s 2ms/step - loss: 2.6436 - accuracy: 0.1129 - val_loss: 2.5222 - val_accuracy: 0.1135\n"
                ]
              },
              {
                "output_type": "stream",
                "name": "stdout",
                "text": [
                  "Epoch 6/20\n"
                ]
              },
              {
                "output_type": "stream",
                "name": "stdout",
                "text": [
                  "\r  1/600 [..............................] - ETA: 4s - loss: 2.5291 - accuracy: 0.1000"
                ]
              },
              {
                "output_type": "stream",
                "name": "stdout",
                "text": [
                  "\b\b\b\b\b\b\b\b\b\b\b\b\b\b\b\b\b\b\b\b\b\b\b\b\b\b\b\b\b\b\b\b\b\b\b\b\b\b\b\b\b\b\b\b\b\b\b\b\b\b\b\b\b\b\b\b\b\b\b\b\b\b\b\b\b\b\b\b\b\b\b\b\b\b\b\b\b\b\b\b\b\b\b\b\r 25/600 [>.............................] - ETA: 1s - loss: 2.5193 - accuracy: 0.1076"
                ]
              },
              {
                "output_type": "stream",
                "name": "stdout",
                "text": [
                  "\b\b\b\b\b\b\b\b\b\b\b\b\b\b\b\b\b\b\b\b\b\b\b\b\b\b\b\b\b\b\b\b\b\b\b\b\b\b\b\b\b\b\b\b\b\b\b\b\b\b\b\b\b\b\b\b\b\b\b\b\b\b\b\b\b\b\b\b\b\b\b\b\b\b\b\b\b\b\b\b\b\b\b\b\r 50/600 [=>............................] - ETA: 1s - loss: 2.5160 - accuracy: 0.1108"
                ]
              },
              {
                "output_type": "stream",
                "name": "stdout",
                "text": [
                  "\b\b\b\b\b\b\b\b\b\b\b\b\b\b\b\b\b\b\b\b\b\b\b\b\b\b\b\b\b\b\b\b\b\b\b\b\b\b\b\b\b\b\b\b\b\b\b\b\b\b\b\b\b\b\b\b\b\b\b\b\b\b\b\b\b\b\b\b\b\b\b\b\b\b\b\b\b\b\b\b\b\b\b\b\r 74/600 [==>...........................] - ETA: 1s - loss: 2.5142 - accuracy: 0.1062"
                ]
              },
              {
                "output_type": "stream",
                "name": "stdout",
                "text": [
                  "\b\b\b\b\b\b\b\b\b\b\b\b\b\b\b\b\b\b\b\b\b\b\b\b\b\b\b\b\b\b\b\b\b\b\b\b\b\b\b\b\b\b\b\b\b\b\b\b\b\b\b\b\b\b\b\b\b\b\b\b\b\b\b\b\b\b\b\b\b\b\b\b\b\b\b\b\b\b\b\b\b\b\b\b\r 96/600 [===>..........................] - ETA: 1s - loss: 2.5171 - accuracy: 0.1091"
                ]
              },
              {
                "output_type": "stream",
                "name": "stdout",
                "text": [
                  "\b\b\b\b\b\b\b\b\b\b\b\b\b\b\b\b\b\b\b\b\b\b\b\b\b\b\b\b\b\b\b\b\b\b\b\b\b\b\b\b\b\b\b\b\b\b\b\b\b\b\b\b\b\b\b\b\b\b\b\b\b\b\b\b\b\b\b\b\b\b\b\b\b\b\b\b\b\b\b\b\b\b\b\b\r121/600 [=====>........................] - ETA: 1s - loss: 2.5143 - accuracy: 0.1072"
                ]
              },
              {
                "output_type": "stream",
                "name": "stdout",
                "text": [
                  "\b\b\b\b\b\b\b\b\b\b\b\b\b\b\b\b\b\b\b\b\b\b\b\b\b\b\b\b\b\b\b\b\b\b\b\b\b\b\b\b\b\b\b\b\b\b\b\b\b\b\b\b\b\b\b\b\b\b\b\b\b\b\b\b\b\b\b\b\b\b\b\b\b\b\b\b\b\b\b\b\b\b\b\b\r146/600 [======>.......................] - ETA: 0s - loss: 2.5110 - accuracy: 0.1064"
                ]
              },
              {
                "output_type": "stream",
                "name": "stdout",
                "text": [
                  "\b\b\b\b\b\b\b\b\b\b\b\b\b\b\b\b\b\b\b\b\b\b\b\b\b\b\b\b\b\b\b\b\b\b\b\b\b\b\b\b\b\b\b\b\b\b\b\b\b\b\b\b\b\b\b\b\b\b\b\b\b\b\b\b\b\b\b\b\b\b\b\b\b\b\b\b\b\b\b\b\b\b\b\b\r170/600 [=======>......................] - ETA: 0s - loss: 2.5085 - accuracy: 0.1071"
                ]
              },
              {
                "output_type": "stream",
                "name": "stdout",
                "text": [
                  "\b\b\b\b\b\b\b\b\b\b\b\b\b\b\b\b\b\b\b\b\b\b\b\b\b\b\b\b\b\b\b\b\b\b\b\b\b\b\b\b\b\b\b\b\b\b\b\b\b\b\b\b\b\b\b\b\b\b\b\b\b\b\b\b\b\b\b\b\b\b\b\b\b\b\b\b\b\b\b\b\b\b\b\b\r194/600 [========>.....................] - ETA: 0s - loss: 2.5055 - accuracy: 0.1080"
                ]
              },
              {
                "output_type": "stream",
                "name": "stdout",
                "text": [
                  "\b\b\b\b\b\b\b\b\b\b\b\b\b\b\b\b\b\b\b\b\b\b\b\b\b\b\b\b\b\b\b\b\b\b\b\b\b\b\b\b\b\b\b\b\b\b\b\b\b\b\b\b\b\b\b\b\b\b\b\b\b\b\b\b\b\b\b\b\b\b\b\b\b\b\b\b\b\b\b\b\b\b\b\b\r215/600 [=========>....................] - ETA: 0s - loss: 2.5022 - accuracy: 0.1093"
                ]
              },
              {
                "output_type": "stream",
                "name": "stdout",
                "text": [
                  "\b\b\b\b\b\b\b\b\b\b\b\b\b\b\b\b\b\b\b\b\b\b\b\b\b\b\b\b\b\b\b\b\b\b\b\b\b\b\b\b\b\b\b\b\b\b\b\b\b\b\b\b\b\b\b\b\b\b\b\b\b\b\b\b\b\b\b\b\b\b\b\b\b\b\b\b\b\b\b\b\b\b\b\b\r238/600 [==========>...................] - ETA: 0s - loss: 2.4988 - accuracy: 0.1092"
                ]
              },
              {
                "output_type": "stream",
                "name": "stdout",
                "text": [
                  "\b\b\b\b\b\b\b\b\b\b\b\b\b\b\b\b\b\b\b\b\b\b\b\b\b\b\b\b\b\b\b\b\b\b\b\b\b\b\b\b\b\b\b\b\b\b\b\b\b\b\b\b\b\b\b\b\b\b\b\b\b\b\b\b\b\b\b\b\b\b\b\b\b\b\b\b\b\b\b\b\b\b\b\b\r261/600 [============>.................] - ETA: 0s - loss: 2.4958 - accuracy: 0.1088"
                ]
              },
              {
                "output_type": "stream",
                "name": "stdout",
                "text": [
                  "\b\b\b\b\b\b\b\b\b\b\b\b\b\b\b\b\b\b\b\b\b\b\b\b\b\b\b\b\b\b\b\b\b\b\b\b\b\b\b\b\b\b\b\b\b\b\b\b\b\b\b\b\b\b\b\b\b\b\b\b\b\b\b\b\b\b\b\b\b\b\b\b\b\b\b\b\b\b\b\b\b\b\b\b\r287/600 [=============>................] - ETA: 0s - loss: 2.4930 - accuracy: 0.1086"
                ]
              },
              {
                "output_type": "stream",
                "name": "stdout",
                "text": [
                  "\b\b\b\b\b\b\b\b\b\b\b\b\b\b\b\b\b\b\b\b\b\b\b\b\b\b\b\b\b\b\b\b\b\b\b\b\b\b\b\b\b\b\b\b\b\b\b\b\b\b\b\b\b\b\b\b\b\b\b\b\b\b\b\b\b\b\b\b\b\b\b\b\b\b\b\b\b\b\b\b\b\b\b\b\r310/600 [==============>...............] - ETA: 0s - loss: 2.4906 - accuracy: 0.1095"
                ]
              },
              {
                "output_type": "stream",
                "name": "stdout",
                "text": [
                  "\b\b\b\b\b\b\b\b\b\b\b\b\b\b\b\b\b\b\b\b\b\b\b\b\b\b\b\b\b\b\b\b\b\b\b\b\b\b\b\b\b\b\b\b\b\b\b\b\b\b\b\b\b\b\b\b\b\b\b\b\b\b\b\b\b\b\b\b\b\b\b\b\b\b\b\b\b\b\b\b\b\b\b\b\r335/600 [===============>..............] - ETA: 0s - loss: 2.4879 - accuracy: 0.1102"
                ]
              },
              {
                "output_type": "stream",
                "name": "stdout",
                "text": [
                  "\b\b\b\b\b\b\b\b\b\b\b\b\b\b\b\b\b\b\b\b\b\b\b\b\b\b\b\b\b\b\b\b\b\b\b\b\b\b\b\b\b\b\b\b\b\b\b\b\b\b\b\b\b\b\b\b\b\b\b\b\b\b\b\b\b\b\b\b\b\b\b\b\b\b\b\b\b\b\b\b\b\b\b\b\r359/600 [================>.............] - ETA: 0s - loss: 2.4852 - accuracy: 0.1101"
                ]
              },
              {
                "output_type": "stream",
                "name": "stdout",
                "text": [
                  "\b\b\b\b\b\b\b\b\b\b\b\b\b\b\b\b\b\b\b\b\b\b\b\b\b\b\b\b\b\b\b\b\b\b\b\b\b\b\b\b\b\b\b\b\b\b\b\b\b\b\b\b\b\b\b\b\b\b\b\b\b\b\b\b\b\b\b\b\b\b\b\b\b\b\b\b\b\b\b\b\b\b\b\b\r382/600 [==================>...........] - ETA: 0s - loss: 2.4827 - accuracy: 0.1112"
                ]
              },
              {
                "output_type": "stream",
                "name": "stdout",
                "text": [
                  "\b\b\b\b\b\b\b\b\b\b\b\b\b\b\b\b\b\b\b\b\b\b\b\b\b\b\b\b\b\b\b\b\b\b\b\b\b\b\b\b\b\b\b\b\b\b\b\b\b\b\b\b\b\b\b\b\b\b\b\b\b\b\b\b\b\b\b\b\b\b\b\b\b\b\b\b\b\b\b\b\b\b\b\b\r407/600 [===================>..........] - ETA: 0s - loss: 2.4802 - accuracy: 0.1113"
                ]
              },
              {
                "output_type": "stream",
                "name": "stdout",
                "text": [
                  "\b\b\b\b\b\b\b\b\b\b\b\b\b\b\b\b\b\b\b\b\b\b\b\b\b\b\b\b\b\b\b\b\b\b\b\b\b\b\b\b\b\b\b\b\b\b\b\b\b\b\b\b\b\b\b\b\b\b\b\b\b\b\b\b\b\b\b\b\b\b\b\b\b\b\b\b\b\b\b\b\b\b\b\b\r430/600 [====================>.........] - ETA: 0s - loss: 2.4781 - accuracy: 0.1113"
                ]
              },
              {
                "output_type": "stream",
                "name": "stdout",
                "text": [
                  "\b\b\b\b\b\b\b\b\b\b\b\b\b\b\b\b\b\b\b\b\b\b\b\b\b\b\b\b\b\b\b\b\b\b\b\b\b\b\b\b\b\b\b\b\b\b\b\b\b\b\b\b\b\b\b\b\b\b\b\b\b\b\b\b\b\b\b\b\b\b\b\b\b\b\b\b\b\b\b\b\b\b\b\b\r455/600 [=====================>........] - ETA: 0s - loss: 2.4769 - accuracy: 0.1113"
                ]
              },
              {
                "output_type": "stream",
                "name": "stdout",
                "text": [
                  "\b\b\b\b\b\b\b\b\b\b\b\b\b\b\b\b\b\b\b\b\b\b\b\b\b\b\b\b\b\b\b\b\b\b\b\b\b\b\b\b\b\b\b\b\b\b\b\b\b\b\b\b\b\b\b\b\b\b\b\b\b\b\b\b\b\b\b\b\b\b\b\b\b\b\b\b\b\b\b\b\b\b\b\b\r473/600 [======================>.......] - ETA: 0s - loss: 2.4759 - accuracy: 0.1115"
                ]
              },
              {
                "output_type": "stream",
                "name": "stdout",
                "text": [
                  "\b\b\b\b\b\b\b\b\b\b\b\b\b\b\b\b\b\b\b\b\b\b\b\b\b\b\b\b\b\b\b\b\b\b\b\b\b\b\b\b\b\b\b\b\b\b\b\b\b\b\b\b\b\b\b\b\b\b\b\b\b\b\b\b\b\b\b\b\b\b\b\b\b\b\b\b\b\b\b\b\b\b\b\b\r491/600 [=======================>......] - ETA: 0s - loss: 2.4746 - accuracy: 0.1116"
                ]
              },
              {
                "output_type": "stream",
                "name": "stdout",
                "text": [
                  "\b\b\b\b\b\b\b\b\b\b\b\b\b\b\b\b\b\b\b\b\b\b\b\b\b\b\b\b\b\b\b\b\b\b\b\b\b\b\b\b\b\b\b\b\b\b\b\b\b\b\b\b\b\b\b\b\b\b\b\b\b\b\b\b\b\b\b\b\b\b\b\b\b\b\b\b\b\b\b\b\b\b\b\b\r515/600 [========================>.....] - ETA: 0s - loss: 2.4727 - accuracy: 0.1116"
                ]
              },
              {
                "output_type": "stream",
                "name": "stdout",
                "text": [
                  "\b\b\b\b\b\b\b\b\b\b\b\b\b\b\b\b\b\b\b\b\b\b\b\b\b\b\b\b\b\b\b\b\b\b\b\b\b\b\b\b\b\b\b\b\b\b\b\b\b\b\b\b\b\b\b\b\b\b\b\b\b\b\b\b\b\b\b\b\b\b\b\b\b\b\b\b\b\b\b\b\b\b\b\b\r540/600 [==========================>...] - ETA: 0s - loss: 2.4706 - accuracy: 0.1118"
                ]
              },
              {
                "output_type": "stream",
                "name": "stdout",
                "text": [
                  "\b\b\b\b\b\b\b\b\b\b\b\b\b\b\b\b\b\b\b\b\b\b\b\b\b\b\b\b\b\b\b\b\b\b\b\b\b\b\b\b\b\b\b\b\b\b\b\b\b\b\b\b\b\b\b\b\b\b\b\b\b\b\b\b\b\b\b\b\b\b\b\b\b\b\b\b\b\b\b\b\b\b\b\b\r562/600 [===========================>..] - ETA: 0s - loss: 2.4687 - accuracy: 0.1118"
                ]
              },
              {
                "output_type": "stream",
                "name": "stdout",
                "text": [
                  "\b\b\b\b\b\b\b\b\b\b\b\b\b\b\b\b\b\b\b\b\b\b\b\b\b\b\b\b\b\b\b\b\b\b\b\b\b\b\b\b\b\b\b\b\b\b\b\b\b\b\b\b\b\b\b\b\b\b\b\b\b\b\b\b\b\b\b\b\b\b\b\b\b\b\b\b\b\b\b\b\b\b\b\b\r584/600 [============================>.] - ETA: 0s - loss: 2.4673 - accuracy: 0.1120"
                ]
              },
              {
                "output_type": "stream",
                "name": "stdout",
                "text": [
                  "\b\b\b\b\b\b\b\b\b\b\b\b\b\b\b\b\b\b\b\b\b\b\b\b\b\b\b\b\b\b\b\b\b\b\b\b\b\b\b\b\b\b\b\b\b\b\b\b\b\b\b\b\b\b\b\b\b\b\b\b\b\b\b\b\b\b\b\b\b\b\b\b\b\b\b\b\b\b\b\b\b\b\b\b\r600/600 [==============================] - 1s 2ms/step - loss: 2.4677 - accuracy: 0.1122 - val_loss: 2.4779 - val_accuracy: 0.1135\n"
                ]
              },
              {
                "output_type": "stream",
                "name": "stdout",
                "text": [
                  "Epoch 7/20\n"
                ]
              },
              {
                "output_type": "stream",
                "name": "stdout",
                "text": [
                  "\r  1/600 [..............................] - ETA: 3s - loss: 2.4707 - accuracy: 0.1400"
                ]
              },
              {
                "output_type": "stream",
                "name": "stdout",
                "text": [
                  "\b\b\b\b\b\b\b\b\b\b\b\b\b\b\b\b\b\b\b\b\b\b\b\b\b\b\b\b\b\b\b\b\b\b\b\b\b\b\b\b\b\b\b\b\b\b\b\b\b\b\b\b\b\b\b\b\b\b\b\b\b\b\b\b\b\b\b\b\b\b\b\b\b\b\b\b\b\b\b\b\b\b\b\b\r 23/600 [>.............................] - ETA: 1s - loss: 2.4728 - accuracy: 0.1174"
                ]
              },
              {
                "output_type": "stream",
                "name": "stdout",
                "text": [
                  "\b\b\b\b\b\b\b\b\b\b\b\b\b\b\b\b\b\b\b\b\b\b\b\b\b\b\b\b\b\b\b\b\b\b\b\b\b\b\b\b\b\b\b\b\b\b\b\b\b\b\b\b\b\b\b\b\b\b\b\b\b\b\b\b\b\b\b\b\b\b\b\b\b\b\b\b\b\b\b\b\b\b\b\b\r 47/600 [=>............................] - ETA: 1s - loss: 2.4670 - accuracy: 0.1143"
                ]
              },
              {
                "output_type": "stream",
                "name": "stdout",
                "text": [
                  "\b\b\b\b\b\b\b\b\b\b\b\b\b\b\b\b\b\b\b\b\b\b\b\b\b\b\b\b\b\b\b\b\b\b\b\b\b\b\b\b\b\b\b\b\b\b\b\b\b\b\b\b\b\b\b\b\b\b\b\b\b\b\b\b\b\b\b\b\b\b\b\b\b\b\b\b\b\b\b\b\b\b\b\b\r 72/600 [==>...........................] - ETA: 1s - loss: 2.4819 - accuracy: 0.1117"
                ]
              },
              {
                "output_type": "stream",
                "name": "stdout",
                "text": [
                  "\b\b\b\b\b\b\b\b\b\b\b\b\b\b\b\b\b\b\b\b\b\b\b\b\b\b\b\b\b\b\b\b\b\b\b\b\b\b\b\b\b\b\b\b\b\b\b\b\b\b\b\b\b\b\b\b\b\b\b\b\b\b\b\b\b\b\b\b\b\b\b\b\b\b\b\b\b\b\b\b\b\b\b\b\r 96/600 [===>..........................] - ETA: 1s - loss: 2.4981 - accuracy: 0.1110"
                ]
              },
              {
                "output_type": "stream",
                "name": "stdout",
                "text": [
                  "\b\b\b\b\b\b\b\b\b\b\b\b\b\b\b\b\b\b\b\b\b\b\b\b\b\b\b\b\b\b\b\b\b\b\b\b\b\b\b\b\b\b\b\b\b\b\b\b\b\b\b\b\b\b\b\b\b\b\b\b\b\b\b\b\b\b\b\b\b\b\b\b\b\b\b\b\b\b\b\b\b\b\b\b\r115/600 [====>.........................] - ETA: 1s - loss: 2.5029 - accuracy: 0.1125"
                ]
              },
              {
                "output_type": "stream",
                "name": "stdout",
                "text": [
                  "\b\b\b\b\b\b\b\b\b\b\b\b\b\b\b\b\b\b\b\b\b\b\b\b\b\b\b\b\b\b\b\b\b\b\b\b\b\b\b\b\b\b\b\b\b\b\b\b\b\b\b\b\b\b\b\b\b\b\b\b\b\b\b\b\b\b\b\b\b\b\b\b\b\b\b\b\b\b\b\b\b\b\b\b\r138/600 [=====>........................] - ETA: 1s - loss: 2.5019 - accuracy: 0.1142"
                ]
              },
              {
                "output_type": "stream",
                "name": "stdout",
                "text": [
                  "\b\b\b\b\b\b\b\b\b\b\b\b\b\b\b\b\b\b\b\b\b\b\b\b\b\b\b\b\b\b\b\b\b\b\b\b\b\b\b\b\b\b\b\b\b\b\b\b\b\b\b\b\b\b\b\b\b\b\b\b\b\b\b\b\b\b\b\b\b\b\b\b\b\b\b\b\b\b\b\b\b\b\b\b\r161/600 [=======>......................] - ETA: 0s - loss: 2.4993 - accuracy: 0.1146"
                ]
              },
              {
                "output_type": "stream",
                "name": "stdout",
                "text": [
                  "\b\b\b\b\b\b\b\b\b\b\b\b\b\b\b\b\b\b\b\b\b\b\b\b\b\b\b\b\b\b\b\b\b\b\b\b\b\b\b\b\b\b\b\b\b\b\b\b\b\b\b\b\b\b\b\b\b\b\b\b\b\b\b\b\b\b\b\b\b\b\b\b\b\b\b\b\b\b\b\b\b\b\b\b\r183/600 [========>.....................] - ETA: 0s - loss: 2.4965 - accuracy: 0.1136"
                ]
              },
              {
                "output_type": "stream",
                "name": "stdout",
                "text": [
                  "\b\b\b\b\b\b\b\b\b\b\b\b\b\b\b\b\b\b\b\b\b\b\b\b\b\b\b\b\b\b\b\b\b\b\b\b\b\b\b\b\b\b\b\b\b\b\b\b\b\b\b\b\b\b\b\b\b\b\b\b\b\b\b\b\b\b\b\b\b\b\b\b\b\b\b\b\b\b\b\b\b\b\b\b\r205/600 [=========>....................] - ETA: 0s - loss: 2.4930 - accuracy: 0.1125"
                ]
              },
              {
                "output_type": "stream",
                "name": "stdout",
                "text": [
                  "\b\b\b\b\b\b\b\b\b\b\b\b\b\b\b\b\b\b\b\b\b\b\b\b\b\b\b\b\b\b\b\b\b\b\b\b\b\b\b\b\b\b\b\b\b\b\b\b\b\b\b\b\b\b\b\b\b\b\b\b\b\b\b\b\b\b\b\b\b\b\b\b\b\b\b\b\b\b\b\b\b\b\b\b\r228/600 [==========>...................] - ETA: 0s - loss: 2.4858 - accuracy: 0.1145"
                ]
              },
              {
                "output_type": "stream",
                "name": "stdout",
                "text": [
                  "\b\b\b\b\b\b\b\b\b\b\b\b\b\b\b\b\b\b\b\b\b\b\b\b\b\b\b\b\b\b\b\b\b\b\b\b\b\b\b\b\b\b\b\b\b\b\b\b\b\b\b\b\b\b\b\b\b\b\b\b\b\b\b\b\b\b\b\b\b\b\b\b\b\b\b\b\b\b\b\b\b\b\b\b\r243/600 [===========>..................] - ETA: 0s - loss: 2.4724 - accuracy: 0.1196"
                ]
              },
              {
                "output_type": "stream",
                "name": "stdout",
                "text": [
                  "\b\b\b\b\b\b\b\b\b\b\b\b\b\b\b\b\b\b\b\b\b\b\b\b\b\b\b\b\b\b\b\b\b\b\b\b\b\b\b\b\b\b\b\b\b\b\b\b\b\b\b\b\b\b\b\b\b\b\b\b\b\b\b\b\b\b\b\b\b\b\b\b\b\b\b\b\b\b\b\b\b\b\b\b\r266/600 [============>.................] - ETA: 0s - loss: 2.4498 - accuracy: 0.1274"
                ]
              },
              {
                "output_type": "stream",
                "name": "stdout",
                "text": [
                  "\b\b\b\b\b\b\b\b\b\b\b\b\b\b\b\b\b\b\b\b\b\b\b\b\b\b\b\b\b\b\b\b\b\b\b\b\b\b\b\b\b\b\b\b\b\b\b\b\b\b\b\b\b\b\b\b\b\b\b\b\b\b\b\b\b\b\b\b\b\b\b\b\b\b\b\b\b\b\b\b\b\b\b\b\r290/600 [=============>................] - ETA: 0s - loss: 2.4281 - accuracy: 0.1388"
                ]
              },
              {
                "output_type": "stream",
                "name": "stdout",
                "text": [
                  "\b\b\b\b\b\b\b\b\b\b\b\b\b\b\b\b\b\b\b\b\b\b\b\b\b\b\b\b\b\b\b\b\b\b\b\b\b\b\b\b\b\b\b\b\b\b\b\b\b\b\b\b\b\b\b\b\b\b\b\b\b\b\b\b\b\b\b\b\b\b\b\b\b\b\b\b\b\b\b\b\b\b\b\b\r315/600 [==============>...............] - ETA: 0s - loss: 2.4053 - accuracy: 0.1510"
                ]
              },
              {
                "output_type": "stream",
                "name": "stdout",
                "text": [
                  "\b\b\b\b\b\b\b\b\b\b\b\b\b\b\b\b\b\b\b\b\b\b\b\b\b\b\b\b\b\b\b\b\b\b\b\b\b\b\b\b\b\b\b\b\b\b\b\b\b\b\b\b\b\b\b\b\b\b\b\b\b\b\b\b\b\b\b\b\b\b\b\b\b\b\b\b\b\b\b\b\b\b\b\b\r341/600 [================>.............] - ETA: 0s - loss: 2.3880 - accuracy: 0.1594"
                ]
              },
              {
                "output_type": "stream",
                "name": "stdout",
                "text": [
                  "\b\b\b\b\b\b\b\b\b\b\b\b\b\b\b\b\b\b\b\b\b\b\b\b\b\b\b\b\b\b\b\b\b\b\b\b\b\b\b\b\b\b\b\b\b\b\b\b\b\b\b\b\b\b\b\b\b\b\b\b\b\b\b\b\b\b\b\b\b\b\b\b\b\b\b\b\b\b\b\b\b\b\b\b\r366/600 [=================>............] - ETA: 0s - loss: 2.3666 - accuracy: 0.1694"
                ]
              },
              {
                "output_type": "stream",
                "name": "stdout",
                "text": [
                  "\b\b\b\b\b\b\b\b\b\b\b\b\b\b\b\b\b\b\b\b\b\b\b\b\b\b\b\b\b\b\b\b\b\b\b\b\b\b\b\b\b\b\b\b\b\b\b\b\b\b\b\b\b\b\b\b\b\b\b\b\b\b\b\b\b\b\b\b\b\b\b\b\b\b\b\b\b\b\b\b\b\b\b\b\r388/600 [==================>...........] - ETA: 0s - loss: 2.3518 - accuracy: 0.1757"
                ]
              },
              {
                "output_type": "stream",
                "name": "stdout",
                "text": [
                  "\b\b\b\b\b\b\b\b\b\b\b\b\b\b\b\b\b\b\b\b\b\b\b\b\b\b\b\b\b\b\b\b\b\b\b\b\b\b\b\b\b\b\b\b\b\b\b\b\b\b\b\b\b\b\b\b\b\b\b\b\b\b\b\b\b\b\b\b\b\b\b\b\b\b\b\b\b\b\b\b\b\b\b\b\r412/600 [===================>..........] - ETA: 0s - loss: 2.3347 - accuracy: 0.1829"
                ]
              },
              {
                "output_type": "stream",
                "name": "stdout",
                "text": [
                  "\b\b\b\b\b\b\b\b\b\b\b\b\b\b\b\b\b\b\b\b\b\b\b\b\b\b\b\b\b\b\b\b\b\b\b\b\b\b\b\b\b\b\b\b\b\b\b\b\b\b\b\b\b\b\b\b\b\b\b\b\b\b\b\b\b\b\b\b\b\b\b\b\b\b\b\b\b\b\b\b\b\b\b\b\r435/600 [====================>.........] - ETA: 0s - loss: 2.3208 - accuracy: 0.1892"
                ]
              },
              {
                "output_type": "stream",
                "name": "stdout",
                "text": [
                  "\b\b\b\b\b\b\b\b\b\b\b\b\b\b\b\b\b\b\b\b\b\b\b\b\b\b\b\b\b\b\b\b\b\b\b\b\b\b\b\b\b\b\b\b\b\b\b\b\b\b\b\b\b\b\b\b\b\b\b\b\b\b\b\b\b\b\b\b\b\b\b\b\b\b\b\b\b\b\b\b\b\b\b\b\r459/600 [=====================>........] - ETA: 0s - loss: 2.3085 - accuracy: 0.1951"
                ]
              },
              {
                "output_type": "stream",
                "name": "stdout",
                "text": [
                  "\b\b\b\b\b\b\b\b\b\b\b\b\b\b\b\b\b\b\b\b\b\b\b\b\b\b\b\b\b\b\b\b\b\b\b\b\b\b\b\b\b\b\b\b\b\b\b\b\b\b\b\b\b\b\b\b\b\b\b\b\b\b\b\b\b\b\b\b\b\b\b\b\b\b\b\b\b\b\b\b\b\b\b\b\r483/600 [=======================>......] - ETA: 0s - loss: 2.2965 - accuracy: 0.2001"
                ]
              },
              {
                "output_type": "stream",
                "name": "stdout",
                "text": [
                  "\b\b\b\b\b\b\b\b\b\b\b\b\b\b\b\b\b\b\b\b\b\b\b\b\b\b\b\b\b\b\b\b\b\b\b\b\b\b\b\b\b\b\b\b\b\b\b\b\b\b\b\b\b\b\b\b\b\b\b\b\b\b\b\b\b\b\b\b\b\b\b\b\b\b\b\b\b\b\b\b\b\b\b\b\r509/600 [========================>.....] - ETA: 0s - loss: 2.2853 - accuracy: 0.2052"
                ]
              },
              {
                "output_type": "stream",
                "name": "stdout",
                "text": [
                  "\b\b\b\b\b\b\b\b\b\b\b\b\b\b\b\b\b\b\b\b\b\b\b\b\b\b\b\b\b\b\b\b\b\b\b\b\b\b\b\b\b\b\b\b\b\b\b\b\b\b\b\b\b\b\b\b\b\b\b\b\b\b\b\b\b\b\b\b\b\b\b\b\b\b\b\b\b\b\b\b\b\b\b\b\r530/600 [=========================>....] - ETA: 0s - loss: 2.2749 - accuracy: 0.2084"
                ]
              },
              {
                "output_type": "stream",
                "name": "stdout",
                "text": [
                  "\b\b\b\b\b\b\b\b\b\b\b\b\b\b\b\b\b\b\b\b\b\b\b\b\b\b\b\b\b\b\b\b\b\b\b\b\b\b\b\b\b\b\b\b\b\b\b\b\b\b\b\b\b\b\b\b\b\b\b\b\b\b\b\b\b\b\b\b\b\b\b\b\b\b\b\b\b\b\b\b\b\b\b\b\r555/600 [==========================>...] - ETA: 0s - loss: 2.2641 - accuracy: 0.2124"
                ]
              },
              {
                "output_type": "stream",
                "name": "stdout",
                "text": [
                  "\b\b\b\b\b\b\b\b\b\b\b\b\b\b\b\b\b\b\b\b\b\b\b\b\b\b\b\b\b\b\b\b\b\b\b\b\b\b\b\b\b\b\b\b\b\b\b\b\b\b\b\b\b\b\b\b\b\b\b\b\b\b\b\b\b\b\b\b\b\b\b\b\b\b\b\b\b\b\b\b\b\b\b\b\r581/600 [============================>.] - ETA: 0s - loss: 2.2548 - accuracy: 0.2155"
                ]
              },
              {
                "output_type": "stream",
                "name": "stdout",
                "text": [
                  "\b\b\b\b\b\b\b\b\b\b\b\b\b\b\b\b\b\b\b\b\b\b\b\b\b\b\b\b\b\b\b\b\b\b\b\b\b\b\b\b\b\b\b\b\b\b\b\b\b\b\b\b\b\b\b\b\b\b\b\b\b\b\b\b\b\b\b\b\b\b\b\b\b\b\b\b\b\b\b\b\b\b\b\b\r600/600 [==============================] - 2s 3ms/step - loss: 2.2466 - accuracy: 0.2183 - val_loss: 1.9767 - val_accuracy: 0.3036\n"
                ]
              },
              {
                "output_type": "stream",
                "name": "stdout",
                "text": [
                  "Epoch 8/20\n"
                ]
              },
              {
                "output_type": "stream",
                "name": "stdout",
                "text": [
                  "\r  1/600 [..............................] - ETA: 3s - loss: 2.0589 - accuracy: 0.2700"
                ]
              },
              {
                "output_type": "stream",
                "name": "stdout",
                "text": [
                  "\b\b\b\b\b\b\b\b\b\b\b\b\b\b\b\b\b\b\b\b\b\b\b\b\b\b\b\b\b\b\b\b\b\b\b\b\b\b\b\b\b\b\b\b\b\b\b\b\b\b\b\b\b\b\b\b\b\b\b\b\b\b\b\b\b\b\b\b\b\b\b\b\b\b\b\b\b\b\b\b\b\b\b\b\r 26/600 [>.............................] - ETA: 1s - loss: 2.0023 - accuracy: 0.3154"
                ]
              },
              {
                "output_type": "stream",
                "name": "stdout",
                "text": [
                  "\b\b\b\b\b\b\b\b\b\b\b\b\b\b\b\b\b\b\b\b\b\b\b\b\b\b\b\b\b\b\b\b\b\b\b\b\b\b\b\b\b\b\b\b\b\b\b\b\b\b\b\b\b\b\b\b\b\b\b\b\b\b\b\b\b\b\b\b\b\b\b\b\b\b\b\b\b\b\b\b\b\b\b\b\r 49/600 [=>............................] - ETA: 1s - loss: 1.9959 - accuracy: 0.3322"
                ]
              },
              {
                "output_type": "stream",
                "name": "stdout",
                "text": [
                  "\b\b\b\b\b\b\b\b\b\b\b\b\b\b\b\b\b\b\b\b\b\b\b\b\b\b\b\b\b\b\b\b\b\b\b\b\b\b\b\b\b\b\b\b\b\b\b\b\b\b\b\b\b\b\b\b\b\b\b\b\b\b\b\b\b\b\b\b\b\b\b\b\b\b\b\b\b\b\b\b\b\b\b\b\r 75/600 [==>...........................] - ETA: 1s - loss: 2.4433 - accuracy: 0.2553"
                ]
              },
              {
                "output_type": "stream",
                "name": "stdout",
                "text": [
                  "\b\b\b\b\b\b\b\b\b\b\b\b\b\b\b\b\b\b\b\b\b\b\b\b\b\b\b\b\b\b\b\b\b\b\b\b\b\b\b\b\b\b\b\b\b\b\b\b\b\b\b\b\b\b\b\b\b\b\b\b\b\b\b\b\b\b\b\b\b\b\b\b\b\b\b\b\b\b\b\b\b\b\b\b\r100/600 [====>.........................] - ETA: 1s - loss: 2.5358 - accuracy: 0.2157"
                ]
              },
              {
                "output_type": "stream",
                "name": "stdout",
                "text": [
                  "\b\b\b\b\b\b\b\b\b\b\b\b\b\b\b\b\b\b\b\b\b\b\b\b\b\b\b\b\b\b\b\b\b\b\b\b\b\b\b\b\b\b\b\b\b\b\b\b\b\b\b\b\b\b\b\b\b\b\b\b\b\b\b\b\b\b\b\b\b\b\b\b\b\b\b\b\b\b\b\b\b\b\b\b\r126/600 [=====>........................] - ETA: 0s - loss: 2.5874 - accuracy: 0.1925"
                ]
              },
              {
                "output_type": "stream",
                "name": "stdout",
                "text": [
                  "\b\b\b\b\b\b\b\b\b\b\b\b\b\b\b\b\b\b\b\b\b\b\b\b\b\b\b\b\b\b\b\b\b\b\b\b\b\b\b\b\b\b\b\b\b\b\b\b\b\b\b\b\b\b\b\b\b\b\b\b\b\b\b\b\b\b\b\b\b\b\b\b\b\b\b\b\b\b\b\b\b\b\b\b\r150/600 [======>.......................] - ETA: 0s - loss: 2.6151 - accuracy: 0.1785"
                ]
              },
              {
                "output_type": "stream",
                "name": "stdout",
                "text": [
                  "\b\b\b\b\b\b\b\b\b\b\b\b\b\b\b\b\b\b\b\b\b\b\b\b\b\b\b\b\b\b\b\b\b\b\b\b\b\b\b\b\b\b\b\b\b\b\b\b\b\b\b\b\b\b\b\b\b\b\b\b\b\b\b\b\b\b\b\b\b\b\b\b\b\b\b\b\b\b\b\b\b\b\b\b\r173/600 [=======>......................] - ETA: 0s - loss: 2.6316 - accuracy: 0.1691"
                ]
              },
              {
                "output_type": "stream",
                "name": "stdout",
                "text": [
                  "\b\b\b\b\b\b\b\b\b\b\b\b\b\b\b\b\b\b\b\b\b\b\b\b\b\b\b\b\b\b\b\b\b\b\b\b\b\b\b\b\b\b\b\b\b\b\b\b\b\b\b\b\b\b\b\b\b\b\b\b\b\b\b\b\b\b\b\b\b\b\b\b\b\b\b\b\b\b\b\b\b\b\b\b\r196/600 [========>.....................] - ETA: 0s - loss: 2.6425 - accuracy: 0.1612"
                ]
              },
              {
                "output_type": "stream",
                "name": "stdout",
                "text": [
                  "\b\b\b\b\b\b\b\b\b\b\b\b\b\b\b\b\b\b\b\b\b\b\b\b\b\b\b\b\b\b\b\b\b\b\b\b\b\b\b\b\b\b\b\b\b\b\b\b\b\b\b\b\b\b\b\b\b\b\b\b\b\b\b\b\b\b\b\b\b\b\b\b\b\b\b\b\b\b\b\b\b\b\b\b\r221/600 [==========>...................] - ETA: 0s - loss: 2.6501 - accuracy: 0.1553"
                ]
              },
              {
                "output_type": "stream",
                "name": "stdout",
                "text": [
                  "\b\b\b\b\b\b\b\b\b\b\b\b\b\b\b\b\b\b\b\b\b\b\b\b\b\b\b\b\b\b\b\b\b\b\b\b\b\b\b\b\b\b\b\b\b\b\b\b\b\b\b\b\b\b\b\b\b\b\b\b\b\b\b\b\b\b\b\b\b\b\b\b\b\b\b\b\b\b\b\b\b\b\b\b\r247/600 [===========>..................] - ETA: 0s - loss: 2.6544 - accuracy: 0.1500"
                ]
              },
              {
                "output_type": "stream",
                "name": "stdout",
                "text": [
                  "\b\b\b\b\b\b\b\b\b\b\b\b\b\b\b\b\b\b\b\b\b\b\b\b\b\b\b\b\b\b\b\b\b\b\b\b\b\b\b\b\b\b\b\b\b\b\b\b\b\b\b\b\b\b\b\b\b\b\b\b\b\b\b\b\b\b\b\b\b\b\b\b\b\b\b\b\b\b\b\b\b\b\b\b\r273/600 [============>.................] - ETA: 0s - loss: 2.6563 - accuracy: 0.1465"
                ]
              },
              {
                "output_type": "stream",
                "name": "stdout",
                "text": [
                  "\b\b\b\b\b\b\b\b\b\b\b\b\b\b\b\b\b\b\b\b\b\b\b\b\b\b\b\b\b\b\b\b\b\b\b\b\b\b\b\b\b\b\b\b\b\b\b\b\b\b\b\b\b\b\b\b\b\b\b\b\b\b\b\b\b\b\b\b\b\b\b\b\b\b\b\b\b\b\b\b\b\b\b\b\r297/600 [=============>................] - ETA: 0s - loss: 2.6569 - accuracy: 0.1430"
                ]
              },
              {
                "output_type": "stream",
                "name": "stdout",
                "text": [
                  "\b\b\b\b\b\b\b\b\b\b\b\b\b\b\b\b\b\b\b\b\b\b\b\b\b\b\b\b\b\b\b\b\b\b\b\b\b\b\b\b\b\b\b\b\b\b\b\b\b\b\b\b\b\b\b\b\b\b\b\b\b\b\b\b\b\b\b\b\b\b\b\b\b\b\b\b\b\b\b\b\b\b\b\b\r319/600 [==============>...............] - ETA: 0s - loss: 2.6566 - accuracy: 0.1403"
                ]
              },
              {
                "output_type": "stream",
                "name": "stdout",
                "text": [
                  "\b\b\b\b\b\b\b\b\b\b\b\b\b\b\b\b\b\b\b\b\b\b\b\b\b\b\b\b\b\b\b\b\b\b\b\b\b\b\b\b\b\b\b\b\b\b\b\b\b\b\b\b\b\b\b\b\b\b\b\b\b\b\b\b\b\b\b\b\b\b\b\b\b\b\b\b\b\b\b\b\b\b\b\b\r342/600 [================>.............] - ETA: 0s - loss: 2.6553 - accuracy: 0.1376"
                ]
              },
              {
                "output_type": "stream",
                "name": "stdout",
                "text": [
                  "\b\b\b\b\b\b\b\b\b\b\b\b\b\b\b\b\b\b\b\b\b\b\b\b\b\b\b\b\b\b\b\b\b\b\b\b\b\b\b\b\b\b\b\b\b\b\b\b\b\b\b\b\b\b\b\b\b\b\b\b\b\b\b\b\b\b\b\b\b\b\b\b\b\b\b\b\b\b\b\b\b\b\b\b\r365/600 [=================>............] - ETA: 0s - loss: 2.6540 - accuracy: 0.1349"
                ]
              },
              {
                "output_type": "stream",
                "name": "stdout",
                "text": [
                  "\b\b\b\b\b\b\b\b\b\b\b\b\b\b\b\b\b\b\b\b\b\b\b\b\b\b\b\b\b\b\b\b\b\b\b\b\b\b\b\b\b\b\b\b\b\b\b\b\b\b\b\b\b\b\b\b\b\b\b\b\b\b\b\b\b\b\b\b\b\b\b\b\b\b\b\b\b\b\b\b\b\b\b\b\r388/600 [==================>...........] - ETA: 0s - loss: 2.6523 - accuracy: 0.1328"
                ]
              },
              {
                "output_type": "stream",
                "name": "stdout",
                "text": [
                  "\b\b\b\b\b\b\b\b\b\b\b\b\b\b\b\b\b\b\b\b\b\b\b\b\b\b\b\b\b\b\b\b\b\b\b\b\b\b\b\b\b\b\b\b\b\b\b\b\b\b\b\b\b\b\b\b\b\b\b\b\b\b\b\b\b\b\b\b\b\b\b\b\b\b\b\b\b\b\b\b\b\b\b\b\r413/600 [===================>..........] - ETA: 0s - loss: 2.6499 - accuracy: 0.1308"
                ]
              },
              {
                "output_type": "stream",
                "name": "stdout",
                "text": [
                  "\b\b\b\b\b\b\b\b\b\b\b\b\b\b\b\b\b\b\b\b\b\b\b\b\b\b\b\b\b\b\b\b\b\b\b\b\b\b\b\b\b\b\b\b\b\b\b\b\b\b\b\b\b\b\b\b\b\b\b\b\b\b\b\b\b\b\b\b\b\b\b\b\b\b\b\b\b\b\b\b\b\b\b\b\r434/600 [====================>.........] - ETA: 0s - loss: 2.6478 - accuracy: 0.1294"
                ]
              },
              {
                "output_type": "stream",
                "name": "stdout",
                "text": [
                  "\b\b\b\b\b\b\b\b\b\b\b\b\b\b\b\b\b\b\b\b\b\b\b\b\b\b\b\b\b\b\b\b\b\b\b\b\b\b\b\b\b\b\b\b\b\b\b\b\b\b\b\b\b\b\b\b\b\b\b\b\b\b\b\b\b\b\b\b\b\b\b\b\b\b\b\b\b\b\b\b\b\b\b\b\r452/600 [=====================>........] - ETA: 0s - loss: 2.6454 - accuracy: 0.1288"
                ]
              },
              {
                "output_type": "stream",
                "name": "stdout",
                "text": [
                  "\b\b\b\b\b\b\b\b\b\b\b\b\b\b\b\b\b\b\b\b\b\b\b\b\b\b\b\b\b\b\b\b\b\b\b\b\b\b\b\b\b\b\b\b\b\b\b\b\b\b\b\b\b\b\b\b\b\b\b\b\b\b\b\b\b\b\b\b\b\b\b\b\b\b\b\b\b\b\b\b\b\b\b\b\r474/600 [======================>.......] - ETA: 0s - loss: 2.6427 - accuracy: 0.1276"
                ]
              },
              {
                "output_type": "stream",
                "name": "stdout",
                "text": [
                  "\b\b\b\b\b\b\b\b\b\b\b\b\b\b\b\b\b\b\b\b\b\b\b\b\b\b\b\b\b\b\b\b\b\b\b\b\b\b\b\b\b\b\b\b\b\b\b\b\b\b\b\b\b\b\b\b\b\b\b\b\b\b\b\b\b\b\b\b\b\b\b\b\b\b\b\b\b\b\b\b\b\b\b\b\r498/600 [=======================>......] - ETA: 0s - loss: 2.6395 - accuracy: 0.1267"
                ]
              },
              {
                "output_type": "stream",
                "name": "stdout",
                "text": [
                  "\b\b\b\b\b\b\b\b\b\b\b\b\b\b\b\b\b\b\b\b\b\b\b\b\b\b\b\b\b\b\b\b\b\b\b\b\b\b\b\b\b\b\b\b\b\b\b\b\b\b\b\b\b\b\b\b\b\b\b\b\b\b\b\b\b\b\b\b\b\b\b\b\b\b\b\b\b\b\b\b\b\b\b\b\r521/600 [=========================>....] - ETA: 0s - loss: 2.6362 - accuracy: 0.1260"
                ]
              },
              {
                "output_type": "stream",
                "name": "stdout",
                "text": [
                  "\b\b\b\b\b\b\b\b\b\b\b\b\b\b\b\b\b\b\b\b\b\b\b\b\b\b\b\b\b\b\b\b\b\b\b\b\b\b\b\b\b\b\b\b\b\b\b\b\b\b\b\b\b\b\b\b\b\b\b\b\b\b\b\b\b\b\b\b\b\b\b\b\b\b\b\b\b\b\b\b\b\b\b\b\r543/600 [==========================>...] - ETA: 0s - loss: 2.6332 - accuracy: 0.1254"
                ]
              },
              {
                "output_type": "stream",
                "name": "stdout",
                "text": [
                  "\b\b\b\b\b\b\b\b\b\b\b\b\b\b\b\b\b\b\b\b\b\b\b\b\b\b\b\b\b\b\b\b\b\b\b\b\b\b\b\b\b\b\b\b\b\b\b\b\b\b\b\b\b\b\b\b\b\b\b\b\b\b\b\b\b\b\b\b\b\b\b\b\b\b\b\b\b\b\b\b\b\b\b\b\r567/600 [===========================>..] - ETA: 0s - loss: 2.6300 - accuracy: 0.1243"
                ]
              },
              {
                "output_type": "stream",
                "name": "stdout",
                "text": [
                  "\b\b\b\b\b\b\b\b\b\b\b\b\b\b\b\b\b\b\b\b\b\b\b\b\b\b\b\b\b\b\b\b\b\b\b\b\b\b\b\b\b\b\b\b\b\b\b\b\b\b\b\b\b\b\b\b\b\b\b\b\b\b\b\b\b\b\b\b\b\b\b\b\b\b\b\b\b\b\b\b\b\b\b\b\r590/600 [============================>.] - ETA: 0s - loss: 2.6269 - accuracy: 0.1235"
                ]
              },
              {
                "output_type": "stream",
                "name": "stdout",
                "text": [
                  "\b\b\b\b\b\b\b\b\b\b\b\b\b\b\b\b\b\b\b\b\b\b\b\b\b\b\b\b\b\b\b\b\b\b\b\b\b\b\b\b\b\b\b\b\b\b\b\b\b\b\b\b\b\b\b\b\b\b\b\b\b\b\b\b\b\b\b\b\b\b\b\b\b\b\b\b\b\b\b\b\b\b\b\b\r600/600 [==============================] - 2s 3ms/step - loss: 2.6254 - accuracy: 0.1232 - val_loss: 2.5403 - val_accuracy: 0.1028\n"
                ]
              },
              {
                "output_type": "stream",
                "name": "stdout",
                "text": [
                  "Epoch 9/20\n"
                ]
              },
              {
                "output_type": "stream",
                "name": "stdout",
                "text": [
                  "\r  1/600 [..............................] - ETA: 4s - loss: 2.5376 - accuracy: 0.0800"
                ]
              },
              {
                "output_type": "stream",
                "name": "stdout",
                "text": [
                  "\b\b\b\b\b\b\b\b\b\b\b\b\b\b\b\b\b\b\b\b\b\b\b\b\b\b\b\b\b\b\b\b\b\b\b\b\b\b\b\b\b\b\b\b\b\b\b\b\b\b\b\b\b\b\b\b\b\b\b\b\b\b\b\b\b\b\b\b\b\b\b\b\b\b\b\b\b\b\b\b\b\b\b\b\r 23/600 [>.............................] - ETA: 1s - loss: 2.5387 - accuracy: 0.0983"
                ]
              },
              {
                "output_type": "stream",
                "name": "stdout",
                "text": [
                  "\b\b\b\b\b\b\b\b\b\b\b\b\b\b\b\b\b\b\b\b\b\b\b\b\b\b\b\b\b\b\b\b\b\b\b\b\b\b\b\b\b\b\b\b\b\b\b\b\b\b\b\b\b\b\b\b\b\b\b\b\b\b\b\b\b\b\b\b\b\b\b\b\b\b\b\b\b\b\b\b\b\b\b\b\r 46/600 [=>............................] - ETA: 1s - loss: 2.5349 - accuracy: 0.1048"
                ]
              },
              {
                "output_type": "stream",
                "name": "stdout",
                "text": [
                  "\b\b\b\b\b\b\b\b\b\b\b\b\b\b\b\b\b\b\b\b\b\b\b\b\b\b\b\b\b\b\b\b\b\b\b\b\b\b\b\b\b\b\b\b\b\b\b\b\b\b\b\b\b\b\b\b\b\b\b\b\b\b\b\b\b\b\b\b\b\b\b\b\b\b\b\b\b\b\b\b\b\b\b\b\r 64/600 [==>...........................] - ETA: 1s - loss: 2.5316 - accuracy: 0.1066"
                ]
              },
              {
                "output_type": "stream",
                "name": "stdout",
                "text": [
                  "\b\b\b\b\b\b\b\b\b\b\b\b\b\b\b\b\b\b\b\b\b\b\b\b\b\b\b\b\b\b\b\b\b\b\b\b\b\b\b\b\b\b\b\b\b\b\b\b\b\b\b\b\b\b\b\b\b\b\b\b\b\b\b\b\b\b\b\b\b\b\b\b\b\b\b\b\b\b\b\b\b\b\b\b\r 90/600 [===>..........................] - ETA: 1s - loss: 2.5288 - accuracy: 0.1041"
                ]
              },
              {
                "output_type": "stream",
                "name": "stdout",
                "text": [
                  "\b\b\b\b\b\b\b\b\b\b\b\b\b\b\b\b\b\b\b\b\b\b\b\b\b\b\b\b\b\b\b\b\b\b\b\b\b\b\b\b\b\b\b\b\b\b\b\b\b\b\b\b\b\b\b\b\b\b\b\b\b\b\b\b\b\b\b\b\b\b\b\b\b\b\b\b\b\b\b\b\b\b\b\b\r111/600 [====>.........................] - ETA: 1s - loss: 2.5267 - accuracy: 0.1035"
                ]
              },
              {
                "output_type": "stream",
                "name": "stdout",
                "text": [
                  "\b\b\b\b\b\b\b\b\b\b\b\b\b\b\b\b\b\b\b\b\b\b\b\b\b\b\b\b\b\b\b\b\b\b\b\b\b\b\b\b\b\b\b\b\b\b\b\b\b\b\b\b\b\b\b\b\b\b\b\b\b\b\b\b\b\b\b\b\b\b\b\b\b\b\b\b\b\b\b\b\b\b\b\b\r131/600 [=====>........................] - ETA: 1s - loss: 2.5236 - accuracy: 0.1040"
                ]
              },
              {
                "output_type": "stream",
                "name": "stdout",
                "text": [
                  "\b\b\b\b\b\b\b\b\b\b\b\b\b\b\b\b\b\b\b\b\b\b\b\b\b\b\b\b\b\b\b\b\b\b\b\b\b\b\b\b\b\b\b\b\b\b\b\b\b\b\b\b\b\b\b\b\b\b\b\b\b\b\b\b\b\b\b\b\b\b\b\b\b\b\b\b\b\b\b\b\b\b\b\b\r147/600 [======>.......................] - ETA: 1s - loss: 2.5220 - accuracy: 0.1020"
                ]
              },
              {
                "output_type": "stream",
                "name": "stdout",
                "text": [
                  "\b\b\b\b\b\b\b\b\b\b\b\b\b\b\b\b\b\b\b\b\b\b\b\b\b\b\b\b\b\b\b\b\b\b\b\b\b\b\b\b\b\b\b\b\b\b\b\b\b\b\b\b\b\b\b\b\b\b\b\b\b\b\b\b\b\b\b\b\b\b\b\b\b\b\b\b\b\b\b\b\b\b\b\b\r172/600 [=======>......................] - ETA: 1s - loss: 2.5193 - accuracy: 0.1029"
                ]
              },
              {
                "output_type": "stream",
                "name": "stdout",
                "text": [
                  "\b\b\b\b\b\b\b\b\b\b\b\b\b\b\b\b\b\b\b\b\b\b\b\b\b\b\b\b\b\b\b\b\b\b\b\b\b\b\b\b\b\b\b\b\b\b\b\b\b\b\b\b\b\b\b\b\b\b\b\b\b\b\b\b\b\b\b\b\b\b\b\b\b\b\b\b\b\b\b\b\b\b\b\b\r194/600 [========>.....................] - ETA: 0s - loss: 2.5168 - accuracy: 0.1035"
                ]
              },
              {
                "output_type": "stream",
                "name": "stdout",
                "text": [
                  "\b\b\b\b\b\b\b\b\b\b\b\b\b\b\b\b\b\b\b\b\b\b\b\b\b\b\b\b\b\b\b\b\b\b\b\b\b\b\b\b\b\b\b\b\b\b\b\b\b\b\b\b\b\b\b\b\b\b\b\b\b\b\b\b\b\b\b\b\b\b\b\b\b\b\b\b\b\b\b\b\b\b\b\b\r220/600 [==========>...................] - ETA: 0s - loss: 2.5139 - accuracy: 0.1034"
                ]
              },
              {
                "output_type": "stream",
                "name": "stdout",
                "text": [
                  "\b\b\b\b\b\b\b\b\b\b\b\b\b\b\b\b\b\b\b\b\b\b\b\b\b\b\b\b\b\b\b\b\b\b\b\b\b\b\b\b\b\b\b\b\b\b\b\b\b\b\b\b\b\b\b\b\b\b\b\b\b\b\b\b\b\b\b\b\b\b\b\b\b\b\b\b\b\b\b\b\b\b\b\b\r244/600 [===========>..................] - ETA: 0s - loss: 2.5113 - accuracy: 0.1039"
                ]
              },
              {
                "output_type": "stream",
                "name": "stdout",
                "text": [
                  "\b\b\b\b\b\b\b\b\b\b\b\b\b\b\b\b\b\b\b\b\b\b\b\b\b\b\b\b\b\b\b\b\b\b\b\b\b\b\b\b\b\b\b\b\b\b\b\b\b\b\b\b\b\b\b\b\b\b\b\b\b\b\b\b\b\b\b\b\b\b\b\b\b\b\b\b\b\b\b\b\b\b\b\b\r269/600 [============>.................] - ETA: 0s - loss: 2.5090 - accuracy: 0.1032"
                ]
              },
              {
                "output_type": "stream",
                "name": "stdout",
                "text": [
                  "\b\b\b\b\b\b\b\b\b\b\b\b\b\b\b\b\b\b\b\b\b\b\b\b\b\b\b\b\b\b\b\b\b\b\b\b\b\b\b\b\b\b\b\b\b\b\b\b\b\b\b\b\b\b\b\b\b\b\b\b\b\b\b\b\b\b\b\b\b\b\b\b\b\b\b\b\b\b\b\b\b\b\b\b\r294/600 [=============>................] - ETA: 0s - loss: 2.5069 - accuracy: 0.1027"
                ]
              },
              {
                "output_type": "stream",
                "name": "stdout",
                "text": [
                  "\b\b\b\b\b\b\b\b\b\b\b\b\b\b\b\b\b\b\b\b\b\b\b\b\b\b\b\b\b\b\b\b\b\b\b\b\b\b\b\b\b\b\b\b\b\b\b\b\b\b\b\b\b\b\b\b\b\b\b\b\b\b\b\b\b\b\b\b\b\b\b\b\b\b\b\b\b\b\b\b\b\b\b\b\r314/600 [==============>...............] - ETA: 0s - loss: 2.5053 - accuracy: 0.1029"
                ]
              },
              {
                "output_type": "stream",
                "name": "stdout",
                "text": [
                  "\b\b\b\b\b\b\b\b\b\b\b\b\b\b\b\b\b\b\b\b\b\b\b\b\b\b\b\b\b\b\b\b\b\b\b\b\b\b\b\b\b\b\b\b\b\b\b\b\b\b\b\b\b\b\b\b\b\b\b\b\b\b\b\b\b\b\b\b\b\b\b\b\b\b\b\b\b\b\b\b\b\b\b\b\r337/600 [===============>..............] - ETA: 0s - loss: 2.5036 - accuracy: 0.1032"
                ]
              },
              {
                "output_type": "stream",
                "name": "stdout",
                "text": [
                  "\b\b\b\b\b\b\b\b\b\b\b\b\b\b\b\b\b\b\b\b\b\b\b\b\b\b\b\b\b\b\b\b\b\b\b\b\b\b\b\b\b\b\b\b\b\b\b\b\b\b\b\b\b\b\b\b\b\b\b\b\b\b\b\b\b\b\b\b\b\b\b\b\b\b\b\b\b\b\b\b\b\b\b\b\r360/600 [=================>............] - ETA: 0s - loss: 2.5017 - accuracy: 0.1031"
                ]
              },
              {
                "output_type": "stream",
                "name": "stdout",
                "text": [
                  "\b\b\b\b\b\b\b\b\b\b\b\b\b\b\b\b\b\b\b\b\b\b\b\b\b\b\b\b\b\b\b\b\b\b\b\b\b\b\b\b\b\b\b\b\b\b\b\b\b\b\b\b\b\b\b\b\b\b\b\b\b\b\b\b\b\b\b\b\b\b\b\b\b\b\b\b\b\b\b\b\b\b\b\b\r385/600 [==================>...........] - ETA: 0s - loss: 2.4997 - accuracy: 0.1028"
                ]
              },
              {
                "output_type": "stream",
                "name": "stdout",
                "text": [
                  "\b\b\b\b\b\b\b\b\b\b\b\b\b\b\b\b\b\b\b\b\b\b\b\b\b\b\b\b\b\b\b\b\b\b\b\b\b\b\b\b\b\b\b\b\b\b\b\b\b\b\b\b\b\b\b\b\b\b\b\b\b\b\b\b\b\b\b\b\b\b\b\b\b\b\b\b\b\b\b\b\b\b\b\b\r411/600 [===================>..........] - ETA: 0s - loss: 2.4976 - accuracy: 0.1026"
                ]
              },
              {
                "output_type": "stream",
                "name": "stdout",
                "text": [
                  "\b\b\b\b\b\b\b\b\b\b\b\b\b\b\b\b\b\b\b\b\b\b\b\b\b\b\b\b\b\b\b\b\b\b\b\b\b\b\b\b\b\b\b\b\b\b\b\b\b\b\b\b\b\b\b\b\b\b\b\b\b\b\b\b\b\b\b\b\b\b\b\b\b\b\b\b\b\b\b\b\b\b\b\b\r434/600 [====================>.........] - ETA: 0s - loss: 2.4933 - accuracy: 0.1024"
                ]
              },
              {
                "output_type": "stream",
                "name": "stdout",
                "text": [
                  "\b\b\b\b\b\b\b\b\b\b\b\b\b\b\b\b\b\b\b\b\b\b\b\b\b\b\b\b\b\b\b\b\b\b\b\b\b\b\b\b\b\b\b\b\b\b\b\b\b\b\b\b\b\b\b\b\b\b\b\b\b\b\b\b\b\b\b\b\b\b\b\b\b\b\b\b\b\b\b\b\b\b\b\b\r460/600 [======================>.......] - ETA: 0s - loss: 2.4833 - accuracy: 0.1033"
                ]
              },
              {
                "output_type": "stream",
                "name": "stdout",
                "text": [
                  "\b\b\b\b\b\b\b\b\b\b\b\b\b\b\b\b\b\b\b\b\b\b\b\b\b\b\b\b\b\b\b\b\b\b\b\b\b\b\b\b\b\b\b\b\b\b\b\b\b\b\b\b\b\b\b\b\b\b\b\b\b\b\b\b\b\b\b\b\b\b\b\b\b\b\b\b\b\b\b\b\b\b\b\b\r483/600 [=======================>......] - ETA: 0s - loss: 2.4733 - accuracy: 0.1047"
                ]
              },
              {
                "output_type": "stream",
                "name": "stdout",
                "text": [
                  "\b\b\b\b\b\b\b\b\b\b\b\b\b\b\b\b\b\b\b\b\b\b\b\b\b\b\b\b\b\b\b\b\b\b\b\b\b\b\b\b\b\b\b\b\b\b\b\b\b\b\b\b\b\b\b\b\b\b\b\b\b\b\b\b\b\b\b\b\b\b\b\b\b\b\b\b\b\b\b\b\b\b\b\b\r505/600 [========================>.....] - ETA: 0s - loss: 2.4812 - accuracy: 0.1074"
                ]
              },
              {
                "output_type": "stream",
                "name": "stdout",
                "text": [
                  "\b\b\b\b\b\b\b\b\b\b\b\b\b\b\b\b\b\b\b\b\b\b\b\b\b\b\b\b\b\b\b\b\b\b\b\b\b\b\b\b\b\b\b\b\b\b\b\b\b\b\b\b\b\b\b\b\b\b\b\b\b\b\b\b\b\b\b\b\b\b\b\b\b\b\b\b\b\b\b\b\b\b\b\b\r526/600 [=========================>....] - ETA: 0s - loss: 2.4869 - accuracy: 0.1075"
                ]
              },
              {
                "output_type": "stream",
                "name": "stdout",
                "text": [
                  "\b\b\b\b\b\b\b\b\b\b\b\b\b\b\b\b\b\b\b\b\b\b\b\b\b\b\b\b\b\b\b\b\b\b\b\b\b\b\b\b\b\b\b\b\b\b\b\b\b\b\b\b\b\b\b\b\b\b\b\b\b\b\b\b\b\b\b\b\b\b\b\b\b\b\b\b\b\b\b\b\b\b\b\b\r550/600 [==========================>...] - ETA: 0s - loss: 2.7372 - accuracy: 0.1072"
                ]
              },
              {
                "output_type": "stream",
                "name": "stdout",
                "text": [
                  "\b\b\b\b\b\b\b\b\b\b\b\b\b\b\b\b\b\b\b\b\b\b\b\b\b\b\b\b\b\b\b\b\b\b\b\b\b\b\b\b\b\b\b\b\b\b\b\b\b\b\b\b\b\b\b\b\b\b\b\b\b\b\b\b\b\b\b\b\b\b\b\b\b\b\b\b\b\b\b\b\b\b\b\b\r571/600 [===========================>..] - ETA: 0s - loss: 2.7508 - accuracy: 0.1072"
                ]
              },
              {
                "output_type": "stream",
                "name": "stdout",
                "text": [
                  "\b\b\b\b\b\b\b\b\b\b\b\b\b\b\b\b\b\b\b\b\b\b\b\b\b\b\b\b\b\b\b\b\b\b\b\b\b\b\b\b\b\b\b\b\b\b\b\b\b\b\b\b\b\b\b\b\b\b\b\b\b\b\b\b\b\b\b\b\b\b\b\b\b\b\b\b\b\b\b\b\b\b\b\b\r594/600 [============================>.] - ETA: 0s - loss: 2.7636 - accuracy: 0.1071"
                ]
              },
              {
                "output_type": "stream",
                "name": "stdout",
                "text": [
                  "\b\b\b\b\b\b\b\b\b\b\b\b\b\b\b\b\b\b\b\b\b\b\b\b\b\b\b\b\b\b\b\b\b\b\b\b\b\b\b\b\b\b\b\b\b\b\b\b\b\b\b\b\b\b\b\b\b\b\b\b\b\b\b\b\b\b\b\b\b\b\b\b\b\b\b\b\b\b\b\b\b\b\b\b\r600/600 [==============================] - 2s 3ms/step - loss: 2.7667 - accuracy: 0.1069 - val_loss: 3.0678 - val_accuracy: 0.1010\n"
                ]
              },
              {
                "output_type": "stream",
                "name": "stdout",
                "text": [
                  "Epoch 10/20\n"
                ]
              },
              {
                "output_type": "stream",
                "name": "stdout",
                "text": [
                  "\r  1/600 [..............................] - ETA: 7s - loss: 3.0616 - accuracy: 0.1000"
                ]
              },
              {
                "output_type": "stream",
                "name": "stdout",
                "text": [
                  "\b\b\b\b\b\b\b\b\b\b\b\b\b\b\b\b\b\b\b\b\b\b\b\b\b\b\b\b\b\b\b\b\b\b\b\b\b\b\b\b\b\b\b\b\b\b\b\b\b\b\b\b\b\b\b\b\b\b\b\b\b\b\b\b\b\b\b\b\b\b\b\b\b\b\b\b\b\b\b\b\b\b\b\b\r 23/600 [>.............................] - ETA: 1s - loss: 3.0581 - accuracy: 0.1087"
                ]
              },
              {
                "output_type": "stream",
                "name": "stdout",
                "text": [
                  "\b\b\b\b\b\b\b\b\b\b\b\b\b\b\b\b\b\b\b\b\b\b\b\b\b\b\b\b\b\b\b\b\b\b\b\b\b\b\b\b\b\b\b\b\b\b\b\b\b\b\b\b\b\b\b\b\b\b\b\b\b\b\b\b\b\b\b\b\b\b\b\b\b\b\b\b\b\b\b\b\b\b\b\b\r 46/600 [=>............................] - ETA: 1s - loss: 3.0496 - accuracy: 0.1091"
                ]
              },
              {
                "output_type": "stream",
                "name": "stdout",
                "text": [
                  "\b\b\b\b\b\b\b\b\b\b\b\b\b\b\b\b\b\b\b\b\b\b\b\b\b\b\b\b\b\b\b\b\b\b\b\b\b\b\b\b\b\b\b\b\b\b\b\b\b\b\b\b\b\b\b\b\b\b\b\b\b\b\b\b\b\b\b\b\b\b\b\b\b\b\b\b\b\b\b\b\b\b\b\b\r 67/600 [==>...........................] - ETA: 1s - loss: 3.4575 - accuracy: 0.1075"
                ]
              },
              {
                "output_type": "stream",
                "name": "stdout",
                "text": [
                  "\b\b\b\b\b\b\b\b\b\b\b\b\b\b\b\b\b\b\b\b\b\b\b\b\b\b\b\b\b\b\b\b\b\b\b\b\b\b\b\b\b\b\b\b\b\b\b\b\b\b\b\b\b\b\b\b\b\b\b\b\b\b\b\b\b\b\b\b\b\b\b\b\b\b\b\b\b\b\b\b\b\b\b\b\r 91/600 [===>..........................] - ETA: 1s - loss: 3.3598 - accuracy: 0.1068"
                ]
              },
              {
                "output_type": "stream",
                "name": "stdout",
                "text": [
                  "\b\b\b\b\b\b\b\b\b\b\b\b\b\b\b\b\b\b\b\b\b\b\b\b\b\b\b\b\b\b\b\b\b\b\b\b\b\b\b\b\b\b\b\b\b\b\b\b\b\b\b\b\b\b\b\b\b\b\b\b\b\b\b\b\b\b\b\b\b\b\b\b\b\b\b\b\b\b\b\b\b\b\b\b\r117/600 [====>.........................] - ETA: 1s - loss: 3.2950 - accuracy: 0.1060"
                ]
              },
              {
                "output_type": "stream",
                "name": "stdout",
                "text": [
                  "\b\b\b\b\b\b\b\b\b\b\b\b\b\b\b\b\b\b\b\b\b\b\b\b\b\b\b\b\b\b\b\b\b\b\b\b\b\b\b\b\b\b\b\b\b\b\b\b\b\b\b\b\b\b\b\b\b\b\b\b\b\b\b\b\b\b\b\b\b\b\b\b\b\b\b\b\b\b\b\b\b\b\b\b\r141/600 [======>.......................] - ETA: 0s - loss: 3.2534 - accuracy: 0.1057"
                ]
              },
              {
                "output_type": "stream",
                "name": "stdout",
                "text": [
                  "\b\b\b\b\b\b\b\b\b\b\b\b\b\b\b\b\b\b\b\b\b\b\b\b\b\b\b\b\b\b\b\b\b\b\b\b\b\b\b\b\b\b\b\b\b\b\b\b\b\b\b\b\b\b\b\b\b\b\b\b\b\b\b\b\b\b\b\b\b\b\b\b\b\b\b\b\b\b\b\b\b\b\b\b\r167/600 [=======>......................] - ETA: 0s - loss: 3.2188 - accuracy: 0.1061"
                ]
              },
              {
                "output_type": "stream",
                "name": "stdout",
                "text": [
                  "\b\b\b\b\b\b\b\b\b\b\b\b\b\b\b\b\b\b\b\b\b\b\b\b\b\b\b\b\b\b\b\b\b\b\b\b\b\b\b\b\b\b\b\b\b\b\b\b\b\b\b\b\b\b\b\b\b\b\b\b\b\b\b\b\b\b\b\b\b\b\b\b\b\b\b\b\b\b\b\b\b\b\b\b\r193/600 [========>.....................] - ETA: 0s - loss: 3.1917 - accuracy: 0.1055"
                ]
              },
              {
                "output_type": "stream",
                "name": "stdout",
                "text": [
                  "\b\b\b\b\b\b\b\b\b\b\b\b\b\b\b\b\b\b\b\b\b\b\b\b\b\b\b\b\b\b\b\b\b\b\b\b\b\b\b\b\b\b\b\b\b\b\b\b\b\b\b\b\b\b\b\b\b\b\b\b\b\b\b\b\b\b\b\b\b\b\b\b\b\b\b\b\b\b\b\b\b\b\b\b\r217/600 [=========>....................] - ETA: 0s - loss: 3.1706 - accuracy: 0.1063"
                ]
              },
              {
                "output_type": "stream",
                "name": "stdout",
                "text": [
                  "\b\b\b\b\b\b\b\b\b\b\b\b\b\b\b\b\b\b\b\b\b\b\b\b\b\b\b\b\b\b\b\b\b\b\b\b\b\b\b\b\b\b\b\b\b\b\b\b\b\b\b\b\b\b\b\b\b\b\b\b\b\b\b\b\b\b\b\b\b\b\b\b\b\b\b\b\b\b\b\b\b\b\b\b\r243/600 [===========>..................] - ETA: 0s - loss: 3.1511 - accuracy: 0.1072"
                ]
              },
              {
                "output_type": "stream",
                "name": "stdout",
                "text": [
                  "\b\b\b\b\b\b\b\b\b\b\b\b\b\b\b\b\b\b\b\b\b\b\b\b\b\b\b\b\b\b\b\b\b\b\b\b\b\b\b\b\b\b\b\b\b\b\b\b\b\b\b\b\b\b\b\b\b\b\b\b\b\b\b\b\b\b\b\b\b\b\b\b\b\b\b\b\b\b\b\b\b\b\b\b\r264/600 [============>.................] - ETA: 0s - loss: 3.1372 - accuracy: 0.1075"
                ]
              },
              {
                "output_type": "stream",
                "name": "stdout",
                "text": [
                  "\b\b\b\b\b\b\b\b\b\b\b\b\b\b\b\b\b\b\b\b\b\b\b\b\b\b\b\b\b\b\b\b\b\b\b\b\b\b\b\b\b\b\b\b\b\b\b\b\b\b\b\b\b\b\b\b\b\b\b\b\b\b\b\b\b\b\b\b\b\b\b\b\b\b\b\b\b\b\b\b\b\b\b\b\r287/600 [=============>................] - ETA: 0s - loss: 3.1234 - accuracy: 0.1082"
                ]
              },
              {
                "output_type": "stream",
                "name": "stdout",
                "text": [
                  "\b\b\b\b\b\b\b\b\b\b\b\b\b\b\b\b\b\b\b\b\b\b\b\b\b\b\b\b\b\b\b\b\b\b\b\b\b\b\b\b\b\b\b\b\b\b\b\b\b\b\b\b\b\b\b\b\b\b\b\b\b\b\b\b\b\b\b\b\b\b\b\b\b\b\b\b\b\b\b\b\b\b\b\b\r311/600 [==============>...............] - ETA: 0s - loss: 3.1103 - accuracy: 0.1080"
                ]
              },
              {
                "output_type": "stream",
                "name": "stdout",
                "text": [
                  "\b\b\b\b\b\b\b\b\b\b\b\b\b\b\b\b\b\b\b\b\b\b\b\b\b\b\b\b\b\b\b\b\b\b\b\b\b\b\b\b\b\b\b\b\b\b\b\b\b\b\b\b\b\b\b\b\b\b\b\b\b\b\b\b\b\b\b\b\b\b\b\b\b\b\b\b\b\b\b\b\b\b\b\b\r337/600 [===============>..............] - ETA: 0s - loss: 3.0975 - accuracy: 0.1076"
                ]
              },
              {
                "output_type": "stream",
                "name": "stdout",
                "text": [
                  "\b\b\b\b\b\b\b\b\b\b\b\b\b\b\b\b\b\b\b\b\b\b\b\b\b\b\b\b\b\b\b\b\b\b\b\b\b\b\b\b\b\b\b\b\b\b\b\b\b\b\b\b\b\b\b\b\b\b\b\b\b\b\b\b\b\b\b\b\b\b\b\b\b\b\b\b\b\b\b\b\b\b\b\b\r361/600 [=================>............] - ETA: 0s - loss: 3.0865 - accuracy: 0.1077"
                ]
              },
              {
                "output_type": "stream",
                "name": "stdout",
                "text": [
                  "\b\b\b\b\b\b\b\b\b\b\b\b\b\b\b\b\b\b\b\b\b\b\b\b\b\b\b\b\b\b\b\b\b\b\b\b\b\b\b\b\b\b\b\b\b\b\b\b\b\b\b\b\b\b\b\b\b\b\b\b\b\b\b\b\b\b\b\b\b\b\b\b\b\b\b\b\b\b\b\b\b\b\b\b\r385/600 [==================>...........] - ETA: 0s - loss: 3.0763 - accuracy: 0.1076"
                ]
              },
              {
                "output_type": "stream",
                "name": "stdout",
                "text": [
                  "\b\b\b\b\b\b\b\b\b\b\b\b\b\b\b\b\b\b\b\b\b\b\b\b\b\b\b\b\b\b\b\b\b\b\b\b\b\b\b\b\b\b\b\b\b\b\b\b\b\b\b\b\b\b\b\b\b\b\b\b\b\b\b\b\b\b\b\b\b\b\b\b\b\b\b\b\b\b\b\b\b\b\b\b\r400/600 [===================>..........] - ETA: 0s - loss: 3.0703 - accuracy: 0.1082"
                ]
              },
              {
                "output_type": "stream",
                "name": "stdout",
                "text": [
                  "\b\b\b\b\b\b\b\b\b\b\b\b\b\b\b\b\b\b\b\b\b\b\b\b\b\b\b\b\b\b\b\b\b\b\b\b\b\b\b\b\b\b\b\b\b\b\b\b\b\b\b\b\b\b\b\b\b\b\b\b\b\b\b\b\b\b\b\b\b\b\b\b\b\b\b\b\b\b\b\b\b\b\b\b\r423/600 [====================>.........] - ETA: 0s - loss: 3.0613 - accuracy: 0.1093"
                ]
              },
              {
                "output_type": "stream",
                "name": "stdout",
                "text": [
                  "\b\b\b\b\b\b\b\b\b\b\b\b\b\b\b\b\b\b\b\b\b\b\b\b\b\b\b\b\b\b\b\b\b\b\b\b\b\b\b\b\b\b\b\b\b\b\b\b\b\b\b\b\b\b\b\b\b\b\b\b\b\b\b\b\b\b\b\b\b\b\b\b\b\b\b\b\b\b\b\b\b\b\b\b\r446/600 [=====================>........] - ETA: 0s - loss: 3.0530 - accuracy: 0.1094"
                ]
              },
              {
                "output_type": "stream",
                "name": "stdout",
                "text": [
                  "\b\b\b\b\b\b\b\b\b\b\b\b\b\b\b\b\b\b\b\b\b\b\b\b\b\b\b\b\b\b\b\b\b\b\b\b\b\b\b\b\b\b\b\b\b\b\b\b\b\b\b\b\b\b\b\b\b\b\b\b\b\b\b\b\b\b\b\b\b\b\b\b\b\b\b\b\b\b\b\b\b\b\b\b\r469/600 [======================>.......] - ETA: 0s - loss: 3.0450 - accuracy: 0.1096"
                ]
              },
              {
                "output_type": "stream",
                "name": "stdout",
                "text": [
                  "\b\b\b\b\b\b\b\b\b\b\b\b\b\b\b\b\b\b\b\b\b\b\b\b\b\b\b\b\b\b\b\b\b\b\b\b\b\b\b\b\b\b\b\b\b\b\b\b\b\b\b\b\b\b\b\b\b\b\b\b\b\b\b\b\b\b\b\b\b\b\b\b\b\b\b\b\b\b\b\b\b\b\b\b\r492/600 [=======================>......] - ETA: 0s - loss: 3.0374 - accuracy: 0.1098"
                ]
              },
              {
                "output_type": "stream",
                "name": "stdout",
                "text": [
                  "\b\b\b\b\b\b\b\b\b\b\b\b\b\b\b\b\b\b\b\b\b\b\b\b\b\b\b\b\b\b\b\b\b\b\b\b\b\b\b\b\b\b\b\b\b\b\b\b\b\b\b\b\b\b\b\b\b\b\b\b\b\b\b\b\b\b\b\b\b\b\b\b\b\b\b\b\b\b\b\b\b\b\b\b\r518/600 [========================>.....] - ETA: 0s - loss: 3.0292 - accuracy: 0.1103"
                ]
              },
              {
                "output_type": "stream",
                "name": "stdout",
                "text": [
                  "\b\b\b\b\b\b\b\b\b\b\b\b\b\b\b\b\b\b\b\b\b\b\b\b\b\b\b\b\b\b\b\b\b\b\b\b\b\b\b\b\b\b\b\b\b\b\b\b\b\b\b\b\b\b\b\b\b\b\b\b\b\b\b\b\b\b\b\b\b\b\b\b\b\b\b\b\b\b\b\b\b\b\b\b\r540/600 [==========================>...] - ETA: 0s - loss: 3.0225 - accuracy: 0.1104"
                ]
              },
              {
                "output_type": "stream",
                "name": "stdout",
                "text": [
                  "\b\b\b\b\b\b\b\b\b\b\b\b\b\b\b\b\b\b\b\b\b\b\b\b\b\b\b\b\b\b\b\b\b\b\b\b\b\b\b\b\b\b\b\b\b\b\b\b\b\b\b\b\b\b\b\b\b\b\b\b\b\b\b\b\b\b\b\b\b\b\b\b\b\b\b\b\b\b\b\b\b\b\b\b\r565/600 [===========================>..] - ETA: 0s - loss: 3.0152 - accuracy: 0.1107"
                ]
              },
              {
                "output_type": "stream",
                "name": "stdout",
                "text": [
                  "\b\b\b\b\b\b\b\b\b\b\b\b\b\b\b\b\b\b\b\b\b\b\b\b\b\b\b\b\b\b\b\b\b\b\b\b\b\b\b\b\b\b\b\b\b\b\b\b\b\b\b\b\b\b\b\b\b\b\b\b\b\b\b\b\b\b\b\b\b\b\b\b\b\b\b\b\b\b\b\b\b\b\b\b\r591/600 [============================>.] - ETA: 0s - loss: 3.0079 - accuracy: 0.1106"
                ]
              },
              {
                "output_type": "stream",
                "name": "stdout",
                "text": [
                  "\b\b\b\b\b\b\b\b\b\b\b\b\b\b\b\b\b\b\b\b\b\b\b\b\b\b\b\b\b\b\b\b\b\b\b\b\b\b\b\b\b\b\b\b\b\b\b\b\b\b\b\b\b\b\b\b\b\b\b\b\b\b\b\b\b\b\b\b\b\b\b\b\b\b\b\b\b\b\b\b\b\b\b\b\r600/600 [==============================] - 1s 2ms/step - loss: 3.0055 - accuracy: 0.1108 - val_loss: 2.8421 - val_accuracy: 0.1135\n"
                ]
              },
              {
                "output_type": "stream",
                "name": "stdout",
                "text": [
                  "Epoch 11/20\n"
                ]
              },
              {
                "output_type": "stream",
                "name": "stdout",
                "text": [
                  "\r  1/600 [..............................] - ETA: 3s - loss: 2.8396 - accuracy: 0.1300"
                ]
              },
              {
                "output_type": "stream",
                "name": "stdout",
                "text": [
                  "\b\b\b\b\b\b\b\b\b\b\b\b\b\b\b\b\b\b\b\b\b\b\b\b\b\b\b\b\b\b\b\b\b\b\b\b\b\b\b\b\b\b\b\b\b\b\b\b\b\b\b\b\b\b\b\b\b\b\b\b\b\b\b\b\b\b\b\b\b\b\b\b\b\b\b\b\b\b\b\b\b\b\b\b\r 23/600 [>.............................] - ETA: 1s - loss: 2.8392 - accuracy: 0.1130"
                ]
              },
              {
                "output_type": "stream",
                "name": "stdout",
                "text": [
                  "\b\b\b\b\b\b\b\b\b\b\b\b\b\b\b\b\b\b\b\b\b\b\b\b\b\b\b\b\b\b\b\b\b\b\b\b\b\b\b\b\b\b\b\b\b\b\b\b\b\b\b\b\b\b\b\b\b\b\b\b\b\b\b\b\b\b\b\b\b\b\b\b\b\b\b\b\b\b\b\b\b\b\b\b\r 47/600 [=>............................] - ETA: 1s - loss: 2.8351 - accuracy: 0.1136"
                ]
              },
              {
                "output_type": "stream",
                "name": "stdout",
                "text": [
                  "\b\b\b\b\b\b\b\b\b\b\b\b\b\b\b\b\b\b\b\b\b\b\b\b\b\b\b\b\b\b\b\b\b\b\b\b\b\b\b\b\b\b\b\b\b\b\b\b\b\b\b\b\b\b\b\b\b\b\b\b\b\b\b\b\b\b\b\b\b\b\b\b\b\b\b\b\b\b\b\b\b\b\b\b\r 63/600 [==>...........................] - ETA: 1s - loss: 2.8331 - accuracy: 0.1124"
                ]
              },
              {
                "output_type": "stream",
                "name": "stdout",
                "text": [
                  "\b\b\b\b\b\b\b\b\b\b\b\b\b\b\b\b\b\b\b\b\b\b\b\b\b\b\b\b\b\b\b\b\b\b\b\b\b\b\b\b\b\b\b\b\b\b\b\b\b\b\b\b\b\b\b\b\b\b\b\b\b\b\b\b\b\b\b\b\b\b\b\b\b\b\b\b\b\b\b\b\b\b\b\b\r 85/600 [===>..........................] - ETA: 1s - loss: 2.8298 - accuracy: 0.1111"
                ]
              },
              {
                "output_type": "stream",
                "name": "stdout",
                "text": [
                  "\b\b\b\b\b\b\b\b\b\b\b\b\b\b\b\b\b\b\b\b\b\b\b\b\b\b\b\b\b\b\b\b\b\b\b\b\b\b\b\b\b\b\b\b\b\b\b\b\b\b\b\b\b\b\b\b\b\b\b\b\b\b\b\b\b\b\b\b\b\b\b\b\b\b\b\b\b\b\b\b\b\b\b\b\r103/600 [====>.........................] - ETA: 1s - loss: 2.8272 - accuracy: 0.1111"
                ]
              },
              {
                "output_type": "stream",
                "name": "stdout",
                "text": [
                  "\b\b\b\b\b\b\b\b\b\b\b\b\b\b\b\b\b\b\b\b\b\b\b\b\b\b\b\b\b\b\b\b\b\b\b\b\b\b\b\b\b\b\b\b\b\b\b\b\b\b\b\b\b\b\b\b\b\b\b\b\b\b\b\b\b\b\b\b\b\b\b\b\b\b\b\b\b\b\b\b\b\b\b\b\r123/600 [=====>........................] - ETA: 1s - loss: 2.8242 - accuracy: 0.1116"
                ]
              },
              {
                "output_type": "stream",
                "name": "stdout",
                "text": [
                  "\b\b\b\b\b\b\b\b\b\b\b\b\b\b\b\b\b\b\b\b\b\b\b\b\b\b\b\b\b\b\b\b\b\b\b\b\b\b\b\b\b\b\b\b\b\b\b\b\b\b\b\b\b\b\b\b\b\b\b\b\b\b\b\b\b\b\b\b\b\b\b\b\b\b\b\b\b\b\b\b\b\b\b\b\r144/600 [======>.......................] - ETA: 1s - loss: 2.8209 - accuracy: 0.1119"
                ]
              },
              {
                "output_type": "stream",
                "name": "stdout",
                "text": [
                  "\b\b\b\b\b\b\b\b\b\b\b\b\b\b\b\b\b\b\b\b\b\b\b\b\b\b\b\b\b\b\b\b\b\b\b\b\b\b\b\b\b\b\b\b\b\b\b\b\b\b\b\b\b\b\b\b\b\b\b\b\b\b\b\b\b\b\b\b\b\b\b\b\b\b\b\b\b\b\b\b\b\b\b\b\r162/600 [=======>......................] - ETA: 1s - loss: 2.8182 - accuracy: 0.1132"
                ]
              },
              {
                "output_type": "stream",
                "name": "stdout",
                "text": [
                  "\b\b\b\b\b\b\b\b\b\b\b\b\b\b\b\b\b\b\b\b\b\b\b\b\b\b\b\b\b\b\b\b\b\b\b\b\b\b\b\b\b\b\b\b\b\b\b\b\b\b\b\b\b\b\b\b\b\b\b\b\b\b\b\b\b\b\b\b\b\b\b\b\b\b\b\b\b\b\b\b\b\b\b\b\r184/600 [========>.....................] - ETA: 1s - loss: 2.8151 - accuracy: 0.1129"
                ]
              },
              {
                "output_type": "stream",
                "name": "stdout",
                "text": [
                  "\b\b\b\b\b\b\b\b\b\b\b\b\b\b\b\b\b\b\b\b\b\b\b\b\b\b\b\b\b\b\b\b\b\b\b\b\b\b\b\b\b\b\b\b\b\b\b\b\b\b\b\b\b\b\b\b\b\b\b\b\b\b\b\b\b\b\b\b\b\b\b\b\b\b\b\b\b\b\b\b\b\b\b\b\r205/600 [=========>....................] - ETA: 0s - loss: 2.8120 - accuracy: 0.1129"
                ]
              },
              {
                "output_type": "stream",
                "name": "stdout",
                "text": [
                  "\b\b\b\b\b\b\b\b\b\b\b\b\b\b\b\b\b\b\b\b\b\b\b\b\b\b\b\b\b\b\b\b\b\b\b\b\b\b\b\b\b\b\b\b\b\b\b\b\b\b\b\b\b\b\b\b\b\b\b\b\b\b\b\b\b\b\b\b\b\b\b\b\b\b\b\b\b\b\b\b\b\b\b\b\r226/600 [==========>...................] - ETA: 0s - loss: 2.8091 - accuracy: 0.1135"
                ]
              },
              {
                "output_type": "stream",
                "name": "stdout",
                "text": [
                  "\b\b\b\b\b\b\b\b\b\b\b\b\b\b\b\b\b\b\b\b\b\b\b\b\b\b\b\b\b\b\b\b\b\b\b\b\b\b\b\b\b\b\b\b\b\b\b\b\b\b\b\b\b\b\b\b\b\b\b\b\b\b\b\b\b\b\b\b\b\b\b\b\b\b\b\b\b\b\b\b\b\b\b\b\r246/600 [===========>..................] - ETA: 0s - loss: 2.8064 - accuracy: 0.1132"
                ]
              },
              {
                "output_type": "stream",
                "name": "stdout",
                "text": [
                  "\b\b\b\b\b\b\b\b\b\b\b\b\b\b\b\b\b\b\b\b\b\b\b\b\b\b\b\b\b\b\b\b\b\b\b\b\b\b\b\b\b\b\b\b\b\b\b\b\b\b\b\b\b\b\b\b\b\b\b\b\b\b\b\b\b\b\b\b\b\b\b\b\b\b\b\b\b\b\b\b\b\b\b\b\r268/600 [============>.................] - ETA: 0s - loss: 2.8035 - accuracy: 0.1128"
                ]
              },
              {
                "output_type": "stream",
                "name": "stdout",
                "text": [
                  "\b\b\b\b\b\b\b\b\b\b\b\b\b\b\b\b\b\b\b\b\b\b\b\b\b\b\b\b\b\b\b\b\b\b\b\b\b\b\b\b\b\b\b\b\b\b\b\b\b\b\b\b\b\b\b\b\b\b\b\b\b\b\b\b\b\b\b\b\b\b\b\b\b\b\b\b\b\b\b\b\b\b\b\b\r292/600 [=============>................] - ETA: 0s - loss: 2.8002 - accuracy: 0.1135"
                ]
              },
              {
                "output_type": "stream",
                "name": "stdout",
                "text": [
                  "\b\b\b\b\b\b\b\b\b\b\b\b\b\b\b\b\b\b\b\b\b\b\b\b\b\b\b\b\b\b\b\b\b\b\b\b\b\b\b\b\b\b\b\b\b\b\b\b\b\b\b\b\b\b\b\b\b\b\b\b\b\b\b\b\b\b\b\b\b\b\b\b\b\b\b\b\b\b\b\b\b\b\b\b\r310/600 [==============>...............] - ETA: 0s - loss: 2.7978 - accuracy: 0.1135"
                ]
              },
              {
                "output_type": "stream",
                "name": "stdout",
                "text": [
                  "\b\b\b\b\b\b\b\b\b\b\b\b\b\b\b\b\b\b\b\b\b\b\b\b\b\b\b\b\b\b\b\b\b\b\b\b\b\b\b\b\b\b\b\b\b\b\b\b\b\b\b\b\b\b\b\b\b\b\b\b\b\b\b\b\b\b\b\b\b\b\b\b\b\b\b\b\b\b\b\b\b\b\b\b\r333/600 [===============>..............] - ETA: 0s - loss: 2.7947 - accuracy: 0.1132"
                ]
              },
              {
                "output_type": "stream",
                "name": "stdout",
                "text": [
                  "\b\b\b\b\b\b\b\b\b\b\b\b\b\b\b\b\b\b\b\b\b\b\b\b\b\b\b\b\b\b\b\b\b\b\b\b\b\b\b\b\b\b\b\b\b\b\b\b\b\b\b\b\b\b\b\b\b\b\b\b\b\b\b\b\b\b\b\b\b\b\b\b\b\b\b\b\b\b\b\b\b\b\b\b\r356/600 [================>.............] - ETA: 0s - loss: 2.7917 - accuracy: 0.1129"
                ]
              },
              {
                "output_type": "stream",
                "name": "stdout",
                "text": [
                  "\b\b\b\b\b\b\b\b\b\b\b\b\b\b\b\b\b\b\b\b\b\b\b\b\b\b\b\b\b\b\b\b\b\b\b\b\b\b\b\b\b\b\b\b\b\b\b\b\b\b\b\b\b\b\b\b\b\b\b\b\b\b\b\b\b\b\b\b\b\b\b\b\b\b\b\b\b\b\b\b\b\b\b\b\r380/600 [==================>...........] - ETA: 0s - loss: 2.7885 - accuracy: 0.1136"
                ]
              },
              {
                "output_type": "stream",
                "name": "stdout",
                "text": [
                  "\b\b\b\b\b\b\b\b\b\b\b\b\b\b\b\b\b\b\b\b\b\b\b\b\b\b\b\b\b\b\b\b\b\b\b\b\b\b\b\b\b\b\b\b\b\b\b\b\b\b\b\b\b\b\b\b\b\b\b\b\b\b\b\b\b\b\b\b\b\b\b\b\b\b\b\b\b\b\b\b\b\b\b\b\r403/600 [===================>..........] - ETA: 0s - loss: 2.7855 - accuracy: 0.1137"
                ]
              },
              {
                "output_type": "stream",
                "name": "stdout",
                "text": [
                  "\b\b\b\b\b\b\b\b\b\b\b\b\b\b\b\b\b\b\b\b\b\b\b\b\b\b\b\b\b\b\b\b\b\b\b\b\b\b\b\b\b\b\b\b\b\b\b\b\b\b\b\b\b\b\b\b\b\b\b\b\b\b\b\b\b\b\b\b\b\b\b\b\b\b\b\b\b\b\b\b\b\b\b\b\r427/600 [====================>.........] - ETA: 0s - loss: 2.7825 - accuracy: 0.1141"
                ]
              },
              {
                "output_type": "stream",
                "name": "stdout",
                "text": [
                  "\b\b\b\b\b\b\b\b\b\b\b\b\b\b\b\b\b\b\b\b\b\b\b\b\b\b\b\b\b\b\b\b\b\b\b\b\b\b\b\b\b\b\b\b\b\b\b\b\b\b\b\b\b\b\b\b\b\b\b\b\b\b\b\b\b\b\b\b\b\b\b\b\b\b\b\b\b\b\b\b\b\b\b\b\r450/600 [=====================>........] - ETA: 0s - loss: 2.7796 - accuracy: 0.1141"
                ]
              },
              {
                "output_type": "stream",
                "name": "stdout",
                "text": [
                  "\b\b\b\b\b\b\b\b\b\b\b\b\b\b\b\b\b\b\b\b\b\b\b\b\b\b\b\b\b\b\b\b\b\b\b\b\b\b\b\b\b\b\b\b\b\b\b\b\b\b\b\b\b\b\b\b\b\b\b\b\b\b\b\b\b\b\b\b\b\b\b\b\b\b\b\b\b\b\b\b\b\b\b\b\r474/600 [======================>.......] - ETA: 0s - loss: 2.7767 - accuracy: 0.1136"
                ]
              },
              {
                "output_type": "stream",
                "name": "stdout",
                "text": [
                  "\b\b\b\b\b\b\b\b\b\b\b\b\b\b\b\b\b\b\b\b\b\b\b\b\b\b\b\b\b\b\b\b\b\b\b\b\b\b\b\b\b\b\b\b\b\b\b\b\b\b\b\b\b\b\b\b\b\b\b\b\b\b\b\b\b\b\b\b\b\b\b\b\b\b\b\b\b\b\b\b\b\b\b\b\r492/600 [=======================>......] - ETA: 0s - loss: 2.7745 - accuracy: 0.1134"
                ]
              },
              {
                "output_type": "stream",
                "name": "stdout",
                "text": [
                  "\b\b\b\b\b\b\b\b\b\b\b\b\b\b\b\b\b\b\b\b\b\b\b\b\b\b\b\b\b\b\b\b\b\b\b\b\b\b\b\b\b\b\b\b\b\b\b\b\b\b\b\b\b\b\b\b\b\b\b\b\b\b\b\b\b\b\b\b\b\b\b\b\b\b\b\b\b\b\b\b\b\b\b\b\r514/600 [========================>.....] - ETA: 0s - loss: 2.7719 - accuracy: 0.1132"
                ]
              },
              {
                "output_type": "stream",
                "name": "stdout",
                "text": [
                  "\b\b\b\b\b\b\b\b\b\b\b\b\b\b\b\b\b\b\b\b\b\b\b\b\b\b\b\b\b\b\b\b\b\b\b\b\b\b\b\b\b\b\b\b\b\b\b\b\b\b\b\b\b\b\b\b\b\b\b\b\b\b\b\b\b\b\b\b\b\b\b\b\b\b\b\b\b\b\b\b\b\b\b\b\r537/600 [=========================>....] - ETA: 0s - loss: 2.7691 - accuracy: 0.1130"
                ]
              },
              {
                "output_type": "stream",
                "name": "stdout",
                "text": [
                  "\b\b\b\b\b\b\b\b\b\b\b\b\b\b\b\b\b\b\b\b\b\b\b\b\b\b\b\b\b\b\b\b\b\b\b\b\b\b\b\b\b\b\b\b\b\b\b\b\b\b\b\b\b\b\b\b\b\b\b\b\b\b\b\b\b\b\b\b\b\b\b\b\b\b\b\b\b\b\b\b\b\b\b\b\r559/600 [==========================>...] - ETA: 0s - loss: 2.7665 - accuracy: 0.1128"
                ]
              },
              {
                "output_type": "stream",
                "name": "stdout",
                "text": [
                  "\b\b\b\b\b\b\b\b\b\b\b\b\b\b\b\b\b\b\b\b\b\b\b\b\b\b\b\b\b\b\b\b\b\b\b\b\b\b\b\b\b\b\b\b\b\b\b\b\b\b\b\b\b\b\b\b\b\b\b\b\b\b\b\b\b\b\b\b\b\b\b\b\b\b\b\b\b\b\b\b\b\b\b\b\r580/600 [============================>.] - ETA: 0s - loss: 2.7640 - accuracy: 0.1124"
                ]
              },
              {
                "output_type": "stream",
                "name": "stdout",
                "text": [
                  "\b\b\b\b\b\b\b\b\b\b\b\b\b\b\b\b\b\b\b\b\b\b\b\b\b\b\b\b\b\b\b\b\b\b\b\b\b\b\b\b\b\b\b\b\b\b\b\b\b\b\b\b\b\b\b\b\b\b\b\b\b\b\b\b\b\b\b\b\b\b\b\b\b\b\b\b\b\b\b\b\b\b\b\b\r595/600 [============================>.] - ETA: 0s - loss: 2.7623 - accuracy: 0.1124"
                ]
              },
              {
                "output_type": "stream",
                "name": "stdout",
                "text": [
                  "\b\b\b\b\b\b\b\b\b\b\b\b\b\b\b\b\b\b\b\b\b\b\b\b\b\b\b\b\b\b\b\b\b\b\b\b\b\b\b\b\b\b\b\b\b\b\b\b\b\b\b\b\b\b\b\b\b\b\b\b\b\b\b\b\b\b\b\b\b\b\b\b\b\b\b\b\b\b\b\b\b\b\b\b\r600/600 [==============================] - 2s 3ms/step - loss: 2.7618 - accuracy: 0.1124 - val_loss: 2.6927 - val_accuracy: 0.1135\n"
                ]
              },
              {
                "output_type": "stream",
                "name": "stdout",
                "text": [
                  "Epoch 12/20\n"
                ]
              },
              {
                "output_type": "stream",
                "name": "stdout",
                "text": [
                  "\r  1/600 [..............................] - ETA: 3s - loss: 2.7002 - accuracy: 0.1000"
                ]
              },
              {
                "output_type": "stream",
                "name": "stdout",
                "text": [
                  "\b\b\b\b\b\b\b\b\b\b\b\b\b\b\b\b\b\b\b\b\b\b\b\b\b\b\b\b\b\b\b\b\b\b\b\b\b\b\b\b\b\b\b\b\b\b\b\b\b\b\b\b\b\b\b\b\b\b\b\b\b\b\b\b\b\b\b\b\b\b\b\b\b\b\b\b\b\b\b\b\b\b\b\b\r 21/600 [>.............................] - ETA: 1s - loss: 2.6919 - accuracy: 0.1095"
                ]
              },
              {
                "output_type": "stream",
                "name": "stdout",
                "text": [
                  "\b\b\b\b\b\b\b\b\b\b\b\b\b\b\b\b\b\b\b\b\b\b\b\b\b\b\b\b\b\b\b\b\b\b\b\b\b\b\b\b\b\b\b\b\b\b\b\b\b\b\b\b\b\b\b\b\b\b\b\b\b\b\b\b\b\b\b\b\b\b\b\b\b\b\b\b\b\b\b\b\b\b\b\b\r 46/600 [=>............................] - ETA: 1s - loss: 2.6892 - accuracy: 0.1124"
                ]
              },
              {
                "output_type": "stream",
                "name": "stdout",
                "text": [
                  "\b\b\b\b\b\b\b\b\b\b\b\b\b\b\b\b\b\b\b\b\b\b\b\b\b\b\b\b\b\b\b\b\b\b\b\b\b\b\b\b\b\b\b\b\b\b\b\b\b\b\b\b\b\b\b\b\b\b\b\b\b\b\b\b\b\b\b\b\b\b\b\b\b\b\b\b\b\b\b\b\b\b\b\b\r 71/600 [==>...........................] - ETA: 1s - loss: 2.6864 - accuracy: 0.1182"
                ]
              },
              {
                "output_type": "stream",
                "name": "stdout",
                "text": [
                  "\b\b\b\b\b\b\b\b\b\b\b\b\b\b\b\b\b\b\b\b\b\b\b\b\b\b\b\b\b\b\b\b\b\b\b\b\b\b\b\b\b\b\b\b\b\b\b\b\b\b\b\b\b\b\b\b\b\b\b\b\b\b\b\b\b\b\b\b\b\b\b\b\b\b\b\b\b\b\b\b\b\b\b\b\r 98/600 [===>..........................] - ETA: 1s - loss: 2.6844 - accuracy: 0.1150"
                ]
              },
              {
                "output_type": "stream",
                "name": "stdout",
                "text": [
                  "\b\b\b\b\b\b\b\b\b\b\b\b\b\b\b\b\b\b\b\b\b\b\b\b\b\b\b\b\b\b\b\b\b\b\b\b\b\b\b\b\b\b\b\b\b\b\b\b\b\b\b\b\b\b\b\b\b\b\b\b\b\b\b\b\b\b\b\b\b\b\b\b\b\b\b\b\b\b\b\b\b\b\b\b\r121/600 [=====>........................] - ETA: 1s - loss: 2.6823 - accuracy: 0.1164"
                ]
              },
              {
                "output_type": "stream",
                "name": "stdout",
                "text": [
                  "\b\b\b\b\b\b\b\b\b\b\b\b\b\b\b\b\b\b\b\b\b\b\b\b\b\b\b\b\b\b\b\b\b\b\b\b\b\b\b\b\b\b\b\b\b\b\b\b\b\b\b\b\b\b\b\b\b\b\b\b\b\b\b\b\b\b\b\b\b\b\b\b\b\b\b\b\b\b\b\b\b\b\b\b\r141/600 [======>.......................] - ETA: 1s - loss: 2.6803 - accuracy: 0.1172"
                ]
              },
              {
                "output_type": "stream",
                "name": "stdout",
                "text": [
                  "\b\b\b\b\b\b\b\b\b\b\b\b\b\b\b\b\b\b\b\b\b\b\b\b\b\b\b\b\b\b\b\b\b\b\b\b\b\b\b\b\b\b\b\b\b\b\b\b\b\b\b\b\b\b\b\b\b\b\b\b\b\b\b\b\b\b\b\b\b\b\b\b\b\b\b\b\b\b\b\b\b\b\b\b\r164/600 [=======>......................] - ETA: 0s - loss: 2.6784 - accuracy: 0.1168"
                ]
              },
              {
                "output_type": "stream",
                "name": "stdout",
                "text": [
                  "\b\b\b\b\b\b\b\b\b\b\b\b\b\b\b\b\b\b\b\b\b\b\b\b\b\b\b\b\b\b\b\b\b\b\b\b\b\b\b\b\b\b\b\b\b\b\b\b\b\b\b\b\b\b\b\b\b\b\b\b\b\b\b\b\b\b\b\b\b\b\b\b\b\b\b\b\b\b\b\b\b\b\b\b\r188/600 [========>.....................] - ETA: 0s - loss: 2.6766 - accuracy: 0.1163"
                ]
              },
              {
                "output_type": "stream",
                "name": "stdout",
                "text": [
                  "\b\b\b\b\b\b\b\b\b\b\b\b\b\b\b\b\b\b\b\b\b\b\b\b\b\b\b\b\b\b\b\b\b\b\b\b\b\b\b\b\b\b\b\b\b\b\b\b\b\b\b\b\b\b\b\b\b\b\b\b\b\b\b\b\b\b\b\b\b\b\b\b\b\b\b\b\b\b\b\b\b\b\b\b\r209/600 [=========>....................] - ETA: 0s - loss: 2.6751 - accuracy: 0.1149"
                ]
              },
              {
                "output_type": "stream",
                "name": "stdout",
                "text": [
                  "\b\b\b\b\b\b\b\b\b\b\b\b\b\b\b\b\b\b\b\b\b\b\b\b\b\b\b\b\b\b\b\b\b\b\b\b\b\b\b\b\b\b\b\b\b\b\b\b\b\b\b\b\b\b\b\b\b\b\b\b\b\b\b\b\b\b\b\b\b\b\b\b\b\b\b\b\b\b\b\b\b\b\b\b\r229/600 [==========>...................] - ETA: 0s - loss: 2.6735 - accuracy: 0.1140"
                ]
              },
              {
                "output_type": "stream",
                "name": "stdout",
                "text": [
                  "\b\b\b\b\b\b\b\b\b\b\b\b\b\b\b\b\b\b\b\b\b\b\b\b\b\b\b\b\b\b\b\b\b\b\b\b\b\b\b\b\b\b\b\b\b\b\b\b\b\b\b\b\b\b\b\b\b\b\b\b\b\b\b\b\b\b\b\b\b\b\b\b\b\b\b\b\b\b\b\b\b\b\b\b\r253/600 [===========>..................] - ETA: 0s - loss: 2.6716 - accuracy: 0.1140"
                ]
              },
              {
                "output_type": "stream",
                "name": "stdout",
                "text": [
                  "\b\b\b\b\b\b\b\b\b\b\b\b\b\b\b\b\b\b\b\b\b\b\b\b\b\b\b\b\b\b\b\b\b\b\b\b\b\b\b\b\b\b\b\b\b\b\b\b\b\b\b\b\b\b\b\b\b\b\b\b\b\b\b\b\b\b\b\b\b\b\b\b\b\b\b\b\b\b\b\b\b\b\b\b\r277/600 [============>.................] - ETA: 0s - loss: 2.6697 - accuracy: 0.1139"
                ]
              },
              {
                "output_type": "stream",
                "name": "stdout",
                "text": [
                  "\b\b\b\b\b\b\b\b\b\b\b\b\b\b\b\b\b\b\b\b\b\b\b\b\b\b\b\b\b\b\b\b\b\b\b\b\b\b\b\b\b\b\b\b\b\b\b\b\b\b\b\b\b\b\b\b\b\b\b\b\b\b\b\b\b\b\b\b\b\b\b\b\b\b\b\b\b\b\b\b\b\b\b\b\r300/600 [==============>...............] - ETA: 0s - loss: 2.6679 - accuracy: 0.1141"
                ]
              },
              {
                "output_type": "stream",
                "name": "stdout",
                "text": [
                  "\b\b\b\b\b\b\b\b\b\b\b\b\b\b\b\b\b\b\b\b\b\b\b\b\b\b\b\b\b\b\b\b\b\b\b\b\b\b\b\b\b\b\b\b\b\b\b\b\b\b\b\b\b\b\b\b\b\b\b\b\b\b\b\b\b\b\b\b\b\b\b\b\b\b\b\b\b\b\b\b\b\b\b\b\r325/600 [===============>..............] - ETA: 0s - loss: 2.6661 - accuracy: 0.1143"
                ]
              },
              {
                "output_type": "stream",
                "name": "stdout",
                "text": [
                  "\b\b\b\b\b\b\b\b\b\b\b\b\b\b\b\b\b\b\b\b\b\b\b\b\b\b\b\b\b\b\b\b\b\b\b\b\b\b\b\b\b\b\b\b\b\b\b\b\b\b\b\b\b\b\b\b\b\b\b\b\b\b\b\b\b\b\b\b\b\b\b\b\b\b\b\b\b\b\b\b\b\b\b\b\r351/600 [================>.............] - ETA: 0s - loss: 2.6642 - accuracy: 0.1133"
                ]
              },
              {
                "output_type": "stream",
                "name": "stdout",
                "text": [
                  "\b\b\b\b\b\b\b\b\b\b\b\b\b\b\b\b\b\b\b\b\b\b\b\b\b\b\b\b\b\b\b\b\b\b\b\b\b\b\b\b\b\b\b\b\b\b\b\b\b\b\b\b\b\b\b\b\b\b\b\b\b\b\b\b\b\b\b\b\b\b\b\b\b\b\b\b\b\b\b\b\b\b\b\b\r371/600 [=================>............] - ETA: 0s - loss: 2.6629 - accuracy: 0.1128"
                ]
              },
              {
                "output_type": "stream",
                "name": "stdout",
                "text": [
                  "\b\b\b\b\b\b\b\b\b\b\b\b\b\b\b\b\b\b\b\b\b\b\b\b\b\b\b\b\b\b\b\b\b\b\b\b\b\b\b\b\b\b\b\b\b\b\b\b\b\b\b\b\b\b\b\b\b\b\b\b\b\b\b\b\b\b\b\b\b\b\b\b\b\b\b\b\b\b\b\b\b\b\b\b\r392/600 [==================>...........] - ETA: 0s - loss: 2.6614 - accuracy: 0.1126"
                ]
              },
              {
                "output_type": "stream",
                "name": "stdout",
                "text": [
                  "\b\b\b\b\b\b\b\b\b\b\b\b\b\b\b\b\b\b\b\b\b\b\b\b\b\b\b\b\b\b\b\b\b\b\b\b\b\b\b\b\b\b\b\b\b\b\b\b\b\b\b\b\b\b\b\b\b\b\b\b\b\b\b\b\b\b\b\b\b\b\b\b\b\b\b\b\b\b\b\b\b\b\b\b\r416/600 [===================>..........] - ETA: 0s - loss: 2.6597 - accuracy: 0.1127"
                ]
              },
              {
                "output_type": "stream",
                "name": "stdout",
                "text": [
                  "\b\b\b\b\b\b\b\b\b\b\b\b\b\b\b\b\b\b\b\b\b\b\b\b\b\b\b\b\b\b\b\b\b\b\b\b\b\b\b\b\b\b\b\b\b\b\b\b\b\b\b\b\b\b\b\b\b\b\b\b\b\b\b\b\b\b\b\b\b\b\b\b\b\b\b\b\b\b\b\b\b\b\b\b\r439/600 [====================>.........] - ETA: 0s - loss: 2.6582 - accuracy: 0.1122"
                ]
              },
              {
                "output_type": "stream",
                "name": "stdout",
                "text": [
                  "\b\b\b\b\b\b\b\b\b\b\b\b\b\b\b\b\b\b\b\b\b\b\b\b\b\b\b\b\b\b\b\b\b\b\b\b\b\b\b\b\b\b\b\b\b\b\b\b\b\b\b\b\b\b\b\b\b\b\b\b\b\b\b\b\b\b\b\b\b\b\b\b\b\b\b\b\b\b\b\b\b\b\b\b\r464/600 [======================>.......] - ETA: 0s - loss: 2.6565 - accuracy: 0.1120"
                ]
              },
              {
                "output_type": "stream",
                "name": "stdout",
                "text": [
                  "\b\b\b\b\b\b\b\b\b\b\b\b\b\b\b\b\b\b\b\b\b\b\b\b\b\b\b\b\b\b\b\b\b\b\b\b\b\b\b\b\b\b\b\b\b\b\b\b\b\b\b\b\b\b\b\b\b\b\b\b\b\b\b\b\b\b\b\b\b\b\b\b\b\b\b\b\b\b\b\b\b\b\b\b\r490/600 [=======================>......] - ETA: 0s - loss: 2.6547 - accuracy: 0.1122"
                ]
              },
              {
                "output_type": "stream",
                "name": "stdout",
                "text": [
                  "\b\b\b\b\b\b\b\b\b\b\b\b\b\b\b\b\b\b\b\b\b\b\b\b\b\b\b\b\b\b\b\b\b\b\b\b\b\b\b\b\b\b\b\b\b\b\b\b\b\b\b\b\b\b\b\b\b\b\b\b\b\b\b\b\b\b\b\b\b\b\b\b\b\b\b\b\b\b\b\b\b\b\b\b\r510/600 [========================>.....] - ETA: 0s - loss: 2.6533 - accuracy: 0.1118"
                ]
              },
              {
                "output_type": "stream",
                "name": "stdout",
                "text": [
                  "\b\b\b\b\b\b\b\b\b\b\b\b\b\b\b\b\b\b\b\b\b\b\b\b\b\b\b\b\b\b\b\b\b\b\b\b\b\b\b\b\b\b\b\b\b\b\b\b\b\b\b\b\b\b\b\b\b\b\b\b\b\b\b\b\b\b\b\b\b\b\b\b\b\b\b\b\b\b\b\b\b\b\b\b\r531/600 [=========================>....] - ETA: 0s - loss: 2.6518 - accuracy: 0.1119"
                ]
              },
              {
                "output_type": "stream",
                "name": "stdout",
                "text": [
                  "\b\b\b\b\b\b\b\b\b\b\b\b\b\b\b\b\b\b\b\b\b\b\b\b\b\b\b\b\b\b\b\b\b\b\b\b\b\b\b\b\b\b\b\b\b\b\b\b\b\b\b\b\b\b\b\b\b\b\b\b\b\b\b\b\b\b\b\b\b\b\b\b\b\b\b\b\b\b\b\b\b\b\b\b\r553/600 [==========================>...] - ETA: 0s - loss: 2.6503 - accuracy: 0.1120"
                ]
              },
              {
                "output_type": "stream",
                "name": "stdout",
                "text": [
                  "\b\b\b\b\b\b\b\b\b\b\b\b\b\b\b\b\b\b\b\b\b\b\b\b\b\b\b\b\b\b\b\b\b\b\b\b\b\b\b\b\b\b\b\b\b\b\b\b\b\b\b\b\b\b\b\b\b\b\b\b\b\b\b\b\b\b\b\b\b\b\b\b\b\b\b\b\b\b\b\b\b\b\b\b\r575/600 [===========================>..] - ETA: 0s - loss: 2.6489 - accuracy: 0.1122"
                ]
              },
              {
                "output_type": "stream",
                "name": "stdout",
                "text": [
                  "\b\b\b\b\b\b\b\b\b\b\b\b\b\b\b\b\b\b\b\b\b\b\b\b\b\b\b\b\b\b\b\b\b\b\b\b\b\b\b\b\b\b\b\b\b\b\b\b\b\b\b\b\b\b\b\b\b\b\b\b\b\b\b\b\b\b\b\b\b\b\b\b\b\b\b\b\b\b\b\b\b\b\b\b\r595/600 [============================>.] - ETA: 0s - loss: 2.6475 - accuracy: 0.1124"
                ]
              },
              {
                "output_type": "stream",
                "name": "stdout",
                "text": [
                  "\b\b\b\b\b\b\b\b\b\b\b\b\b\b\b\b\b\b\b\b\b\b\b\b\b\b\b\b\b\b\b\b\b\b\b\b\b\b\b\b\b\b\b\b\b\b\b\b\b\b\b\b\b\b\b\b\b\b\b\b\b\b\b\b\b\b\b\b\b\b\b\b\b\b\b\b\b\b\b\b\b\b\b\b\r600/600 [==============================] - 2s 3ms/step - loss: 2.6472 - accuracy: 0.1124 - val_loss: 2.6083 - val_accuracy: 0.1135\n"
                ]
              },
              {
                "output_type": "stream",
                "name": "stdout",
                "text": [
                  "Epoch 13/20\n"
                ]
              },
              {
                "output_type": "stream",
                "name": "stdout",
                "text": [
                  "\r  1/600 [..............................] - ETA: 5s - loss: 2.6147 - accuracy: 0.1000"
                ]
              },
              {
                "output_type": "stream",
                "name": "stdout",
                "text": [
                  "\b\b\b\b\b\b\b\b\b\b\b\b\b\b\b\b\b\b\b\b\b\b\b\b\b\b\b\b\b\b\b\b\b\b\b\b\b\b\b\b\b\b\b\b\b\b\b\b\b\b\b\b\b\b\b\b\b\b\b\b\b\b\b\b\b\b\b\b\b\b\b\b\b\b\b\b\b\b\b\b\b\b\b\b\r 25/600 [>.............................] - ETA: 1s - loss: 2.6093 - accuracy: 0.0980"
                ]
              },
              {
                "output_type": "stream",
                "name": "stdout",
                "text": [
                  "\b\b\b\b\b\b\b\b\b\b\b\b\b\b\b\b\b\b\b\b\b\b\b\b\b\b\b\b\b\b\b\b\b\b\b\b\b\b\b\b\b\b\b\b\b\b\b\b\b\b\b\b\b\b\b\b\b\b\b\b\b\b\b\b\b\b\b\b\b\b\b\b\b\b\b\b\b\b\b\b\b\b\b\b\r 47/600 [=>............................] - ETA: 1s - loss: 2.6080 - accuracy: 0.1021"
                ]
              },
              {
                "output_type": "stream",
                "name": "stdout",
                "text": [
                  "\b\b\b\b\b\b\b\b\b\b\b\b\b\b\b\b\b\b\b\b\b\b\b\b\b\b\b\b\b\b\b\b\b\b\b\b\b\b\b\b\b\b\b\b\b\b\b\b\b\b\b\b\b\b\b\b\b\b\b\b\b\b\b\b\b\b\b\b\b\b\b\b\b\b\b\b\b\b\b\b\b\b\b\b\r 63/600 [==>...........................] - ETA: 1s - loss: 2.6061 - accuracy: 0.1054"
                ]
              },
              {
                "output_type": "stream",
                "name": "stdout",
                "text": [
                  "\b\b\b\b\b\b\b\b\b\b\b\b\b\b\b\b\b\b\b\b\b\b\b\b\b\b\b\b\b\b\b\b\b\b\b\b\b\b\b\b\b\b\b\b\b\b\b\b\b\b\b\b\b\b\b\b\b\b\b\b\b\b\b\b\b\b\b\b\b\b\b\b\b\b\b\b\b\b\b\b\b\b\b\b\r 84/600 [===>..........................] - ETA: 1s - loss: 2.6046 - accuracy: 0.1089"
                ]
              },
              {
                "output_type": "stream",
                "name": "stdout",
                "text": [
                  "\b\b\b\b\b\b\b\b\b\b\b\b\b\b\b\b\b\b\b\b\b\b\b\b\b\b\b\b\b\b\b\b\b\b\b\b\b\b\b\b\b\b\b\b\b\b\b\b\b\b\b\b\b\b\b\b\b\b\b\b\b\b\b\b\b\b\b\b\b\b\b\b\b\b\b\b\b\b\b\b\b\b\b\b\r107/600 [====>.........................] - ETA: 1s - loss: 2.6033 - accuracy: 0.1093"
                ]
              },
              {
                "output_type": "stream",
                "name": "stdout",
                "text": [
                  "\b\b\b\b\b\b\b\b\b\b\b\b\b\b\b\b\b\b\b\b\b\b\b\b\b\b\b\b\b\b\b\b\b\b\b\b\b\b\b\b\b\b\b\b\b\b\b\b\b\b\b\b\b\b\b\b\b\b\b\b\b\b\b\b\b\b\b\b\b\b\b\b\b\b\b\b\b\b\b\b\b\b\b\b\r128/600 [=====>........................] - ETA: 1s - loss: 2.6025 - accuracy: 0.1091"
                ]
              },
              {
                "output_type": "stream",
                "name": "stdout",
                "text": [
                  "\b\b\b\b\b\b\b\b\b\b\b\b\b\b\b\b\b\b\b\b\b\b\b\b\b\b\b\b\b\b\b\b\b\b\b\b\b\b\b\b\b\b\b\b\b\b\b\b\b\b\b\b\b\b\b\b\b\b\b\b\b\b\b\b\b\b\b\b\b\b\b\b\b\b\b\b\b\b\b\b\b\b\b\b\r144/600 [======>.......................] - ETA: 1s - loss: 2.6018 - accuracy: 0.1090"
                ]
              },
              {
                "output_type": "stream",
                "name": "stdout",
                "text": [
                  "\b\b\b\b\b\b\b\b\b\b\b\b\b\b\b\b\b\b\b\b\b\b\b\b\b\b\b\b\b\b\b\b\b\b\b\b\b\b\b\b\b\b\b\b\b\b\b\b\b\b\b\b\b\b\b\b\b\b\b\b\b\b\b\b\b\b\b\b\b\b\b\b\b\b\b\b\b\b\b\b\b\b\b\b\r162/600 [=======>......................] - ETA: 1s - loss: 2.6005 - accuracy: 0.1102"
                ]
              },
              {
                "output_type": "stream",
                "name": "stdout",
                "text": [
                  "\b\b\b\b\b\b\b\b\b\b\b\b\b\b\b\b\b\b\b\b\b\b\b\b\b\b\b\b\b\b\b\b\b\b\b\b\b\b\b\b\b\b\b\b\b\b\b\b\b\b\b\b\b\b\b\b\b\b\b\b\b\b\b\b\b\b\b\b\b\b\b\b\b\b\b\b\b\b\b\b\b\b\b\b\r185/600 [========>.....................] - ETA: 1s - loss: 2.5994 - accuracy: 0.1105"
                ]
              },
              {
                "output_type": "stream",
                "name": "stdout",
                "text": [
                  "\b\b\b\b\b\b\b\b\b\b\b\b\b\b\b\b\b\b\b\b\b\b\b\b\b\b\b\b\b\b\b\b\b\b\b\b\b\b\b\b\b\b\b\b\b\b\b\b\b\b\b\b\b\b\b\b\b\b\b\b\b\b\b\b\b\b\b\b\b\b\b\b\b\b\b\b\b\b\b\b\b\b\b\b\r208/600 [=========>....................] - ETA: 0s - loss: 2.5983 - accuracy: 0.1110"
                ]
              },
              {
                "output_type": "stream",
                "name": "stdout",
                "text": [
                  "\b\b\b\b\b\b\b\b\b\b\b\b\b\b\b\b\b\b\b\b\b\b\b\b\b\b\b\b\b\b\b\b\b\b\b\b\b\b\b\b\b\b\b\b\b\b\b\b\b\b\b\b\b\b\b\b\b\b\b\b\b\b\b\b\b\b\b\b\b\b\b\b\b\b\b\b\b\b\b\b\b\b\b\b\r232/600 [==========>...................] - ETA: 0s - loss: 2.5971 - accuracy: 0.1107"
                ]
              },
              {
                "output_type": "stream",
                "name": "stdout",
                "text": [
                  "\b\b\b\b\b\b\b\b\b\b\b\b\b\b\b\b\b\b\b\b\b\b\b\b\b\b\b\b\b\b\b\b\b\b\b\b\b\b\b\b\b\b\b\b\b\b\b\b\b\b\b\b\b\b\b\b\b\b\b\b\b\b\b\b\b\b\b\b\b\b\b\b\b\b\b\b\b\b\b\b\b\b\b\b\r258/600 [===========>..................] - ETA: 0s - loss: 2.5956 - accuracy: 0.1120"
                ]
              },
              {
                "output_type": "stream",
                "name": "stdout",
                "text": [
                  "\b\b\b\b\b\b\b\b\b\b\b\b\b\b\b\b\b\b\b\b\b\b\b\b\b\b\b\b\b\b\b\b\b\b\b\b\b\b\b\b\b\b\b\b\b\b\b\b\b\b\b\b\b\b\b\b\b\b\b\b\b\b\b\b\b\b\b\b\b\b\b\b\b\b\b\b\b\b\b\b\b\b\b\b\r281/600 [=============>................] - ETA: 0s - loss: 2.5945 - accuracy: 0.1121"
                ]
              },
              {
                "output_type": "stream",
                "name": "stdout",
                "text": [
                  "\b\b\b\b\b\b\b\b\b\b\b\b\b\b\b\b\b\b\b\b\b\b\b\b\b\b\b\b\b\b\b\b\b\b\b\b\b\b\b\b\b\b\b\b\b\b\b\b\b\b\b\b\b\b\b\b\b\b\b\b\b\b\b\b\b\b\b\b\b\b\b\b\b\b\b\b\b\b\b\b\b\b\b\b\r305/600 [==============>...............] - ETA: 0s - loss: 2.5932 - accuracy: 0.1117"
                ]
              },
              {
                "output_type": "stream",
                "name": "stdout",
                "text": [
                  "\b\b\b\b\b\b\b\b\b\b\b\b\b\b\b\b\b\b\b\b\b\b\b\b\b\b\b\b\b\b\b\b\b\b\b\b\b\b\b\b\b\b\b\b\b\b\b\b\b\b\b\b\b\b\b\b\b\b\b\b\b\b\b\b\b\b\b\b\b\b\b\b\b\b\b\b\b\b\b\b\b\b\b\b\r330/600 [===============>..............] - ETA: 0s - loss: 2.5921 - accuracy: 0.1119"
                ]
              },
              {
                "output_type": "stream",
                "name": "stdout",
                "text": [
                  "\b\b\b\b\b\b\b\b\b\b\b\b\b\b\b\b\b\b\b\b\b\b\b\b\b\b\b\b\b\b\b\b\b\b\b\b\b\b\b\b\b\b\b\b\b\b\b\b\b\b\b\b\b\b\b\b\b\b\b\b\b\b\b\b\b\b\b\b\b\b\b\b\b\b\b\b\b\b\b\b\b\b\b\b\r355/600 [================>.............] - ETA: 0s - loss: 2.5910 - accuracy: 0.1116"
                ]
              },
              {
                "output_type": "stream",
                "name": "stdout",
                "text": [
                  "\b\b\b\b\b\b\b\b\b\b\b\b\b\b\b\b\b\b\b\b\b\b\b\b\b\b\b\b\b\b\b\b\b\b\b\b\b\b\b\b\b\b\b\b\b\b\b\b\b\b\b\b\b\b\b\b\b\b\b\b\b\b\b\b\b\b\b\b\b\b\b\b\b\b\b\b\b\b\b\b\b\b\b\b\r379/600 [=================>............] - ETA: 0s - loss: 2.5899 - accuracy: 0.1111"
                ]
              },
              {
                "output_type": "stream",
                "name": "stdout",
                "text": [
                  "\b\b\b\b\b\b\b\b\b\b\b\b\b\b\b\b\b\b\b\b\b\b\b\b\b\b\b\b\b\b\b\b\b\b\b\b\b\b\b\b\b\b\b\b\b\b\b\b\b\b\b\b\b\b\b\b\b\b\b\b\b\b\b\b\b\b\b\b\b\b\b\b\b\b\b\b\b\b\b\b\b\b\b\b\r404/600 [===================>..........] - ETA: 0s - loss: 2.5887 - accuracy: 0.1110"
                ]
              },
              {
                "output_type": "stream",
                "name": "stdout",
                "text": [
                  "\b\b\b\b\b\b\b\b\b\b\b\b\b\b\b\b\b\b\b\b\b\b\b\b\b\b\b\b\b\b\b\b\b\b\b\b\b\b\b\b\b\b\b\b\b\b\b\b\b\b\b\b\b\b\b\b\b\b\b\b\b\b\b\b\b\b\b\b\b\b\b\b\b\b\b\b\b\b\b\b\b\b\b\b\r428/600 [====================>.........] - ETA: 0s - loss: 2.5875 - accuracy: 0.1114"
                ]
              },
              {
                "output_type": "stream",
                "name": "stdout",
                "text": [
                  "\b\b\b\b\b\b\b\b\b\b\b\b\b\b\b\b\b\b\b\b\b\b\b\b\b\b\b\b\b\b\b\b\b\b\b\b\b\b\b\b\b\b\b\b\b\b\b\b\b\b\b\b\b\b\b\b\b\b\b\b\b\b\b\b\b\b\b\b\b\b\b\b\b\b\b\b\b\b\b\b\b\b\b\b\r446/600 [=====================>........] - ETA: 0s - loss: 2.5867 - accuracy: 0.1116"
                ]
              },
              {
                "output_type": "stream",
                "name": "stdout",
                "text": [
                  "\b\b\b\b\b\b\b\b\b\b\b\b\b\b\b\b\b\b\b\b\b\b\b\b\b\b\b\b\b\b\b\b\b\b\b\b\b\b\b\b\b\b\b\b\b\b\b\b\b\b\b\b\b\b\b\b\b\b\b\b\b\b\b\b\b\b\b\b\b\b\b\b\b\b\b\b\b\b\b\b\b\b\b\b\r471/600 [======================>.......] - ETA: 0s - loss: 2.5855 - accuracy: 0.1120"
                ]
              },
              {
                "output_type": "stream",
                "name": "stdout",
                "text": [
                  "\b\b\b\b\b\b\b\b\b\b\b\b\b\b\b\b\b\b\b\b\b\b\b\b\b\b\b\b\b\b\b\b\b\b\b\b\b\b\b\b\b\b\b\b\b\b\b\b\b\b\b\b\b\b\b\b\b\b\b\b\b\b\b\b\b\b\b\b\b\b\b\b\b\b\b\b\b\b\b\b\b\b\b\b\r494/600 [=======================>......] - ETA: 0s - loss: 2.5845 - accuracy: 0.1121"
                ]
              },
              {
                "output_type": "stream",
                "name": "stdout",
                "text": [
                  "\b\b\b\b\b\b\b\b\b\b\b\b\b\b\b\b\b\b\b\b\b\b\b\b\b\b\b\b\b\b\b\b\b\b\b\b\b\b\b\b\b\b\b\b\b\b\b\b\b\b\b\b\b\b\b\b\b\b\b\b\b\b\b\b\b\b\b\b\b\b\b\b\b\b\b\b\b\b\b\b\b\b\b\b\r510/600 [========================>.....] - ETA: 0s - loss: 2.5838 - accuracy: 0.1120"
                ]
              },
              {
                "output_type": "stream",
                "name": "stdout",
                "text": [
                  "\b\b\b\b\b\b\b\b\b\b\b\b\b\b\b\b\b\b\b\b\b\b\b\b\b\b\b\b\b\b\b\b\b\b\b\b\b\b\b\b\b\b\b\b\b\b\b\b\b\b\b\b\b\b\b\b\b\b\b\b\b\b\b\b\b\b\b\b\b\b\b\b\b\b\b\b\b\b\b\b\b\b\b\b\r535/600 [=========================>....] - ETA: 0s - loss: 2.6449 - accuracy: 0.1117"
                ]
              },
              {
                "output_type": "stream",
                "name": "stdout",
                "text": [
                  "\b\b\b\b\b\b\b\b\b\b\b\b\b\b\b\b\b\b\b\b\b\b\b\b\b\b\b\b\b\b\b\b\b\b\b\b\b\b\b\b\b\b\b\b\b\b\b\b\b\b\b\b\b\b\b\b\b\b\b\b\b\b\b\b\b\b\b\b\b\b\b\b\b\b\b\b\b\b\b\b\b\b\b\b\r554/600 [==========================>...] - ETA: 0s - loss: 2.6552 - accuracy: 0.1118"
                ]
              },
              {
                "output_type": "stream",
                "name": "stdout",
                "text": [
                  "\b\b\b\b\b\b\b\b\b\b\b\b\b\b\b\b\b\b\b\b\b\b\b\b\b\b\b\b\b\b\b\b\b\b\b\b\b\b\b\b\b\b\b\b\b\b\b\b\b\b\b\b\b\b\b\b\b\b\b\b\b\b\b\b\b\b\b\b\b\b\b\b\b\b\b\b\b\b\b\b\b\b\b\b\r579/600 [===========================>..] - ETA: 0s - loss: 2.6667 - accuracy: 0.1121"
                ]
              },
              {
                "output_type": "stream",
                "name": "stdout",
                "text": [
                  "\b\b\b\b\b\b\b\b\b\b\b\b\b\b\b\b\b\b\b\b\b\b\b\b\b\b\b\b\b\b\b\b\b\b\b\b\b\b\b\b\b\b\b\b\b\b\b\b\b\b\b\b\b\b\b\b\b\b\b\b\b\b\b\b\b\b\b\b\b\b\b\b\b\b\b\b\b\b\b\b\b\b\b\b\r599/600 [============================>.] - ETA: 0s - loss: 2.6747 - accuracy: 0.1124"
                ]
              },
              {
                "output_type": "stream",
                "name": "stdout",
                "text": [
                  "\b\b\b\b\b\b\b\b\b\b\b\b\b\b\b\b\b\b\b\b\b\b\b\b\b\b\b\b\b\b\b\b\b\b\b\b\b\b\b\b\b\b\b\b\b\b\b\b\b\b\b\b\b\b\b\b\b\b\b\b\b\b\b\b\b\b\b\b\b\b\b\b\b\b\b\b\b\b\b\b\b\b\b\b\r600/600 [==============================] - 2s 3ms/step - loss: 2.6751 - accuracy: 0.1124 - val_loss: 2.8971 - val_accuracy: 0.1135\n"
                ]
              },
              {
                "output_type": "stream",
                "name": "stdout",
                "text": [
                  "Epoch 14/20\n"
                ]
              },
              {
                "output_type": "stream",
                "name": "stdout",
                "text": [
                  "\r  1/600 [..............................] - ETA: 5s - loss: 2.8964 - accuracy: 0.0900"
                ]
              },
              {
                "output_type": "stream",
                "name": "stdout",
                "text": [
                  "\b\b\b\b\b\b\b\b\b\b\b\b\b\b\b\b\b\b\b\b\b\b\b\b\b\b\b\b\b\b\b\b\b\b\b\b\b\b\b\b\b\b\b\b\b\b\b\b\b\b\b\b\b\b\b\b\b\b\b\b\b\b\b\b\b\b\b\b\b\b\b\b\b\b\b\b\b\b\b\b\b\b\b\b\r 25/600 [>.............................] - ETA: 1s - loss: 2.8888 - accuracy: 0.1048"
                ]
              },
              {
                "output_type": "stream",
                "name": "stdout",
                "text": [
                  "\b\b\b\b\b\b\b\b\b\b\b\b\b\b\b\b\b\b\b\b\b\b\b\b\b\b\b\b\b\b\b\b\b\b\b\b\b\b\b\b\b\b\b\b\b\b\b\b\b\b\b\b\b\b\b\b\b\b\b\b\b\b\b\b\b\b\b\b\b\b\b\b\b\b\b\b\b\b\b\b\b\b\b\b\r 48/600 [=>............................] - ETA: 1s - loss: 2.8801 - accuracy: 0.1112"
                ]
              },
              {
                "output_type": "stream",
                "name": "stdout",
                "text": [
                  "\b\b\b\b\b\b\b\b\b\b\b\b\b\b\b\b\b\b\b\b\b\b\b\b\b\b\b\b\b\b\b\b\b\b\b\b\b\b\b\b\b\b\b\b\b\b\b\b\b\b\b\b\b\b\b\b\b\b\b\b\b\b\b\b\b\b\b\b\b\b\b\b\b\b\b\b\b\b\b\b\b\b\b\b\r 68/600 [==>...........................] - ETA: 1s - loss: 2.8732 - accuracy: 0.1097"
                ]
              },
              {
                "output_type": "stream",
                "name": "stdout",
                "text": [
                  "\b\b\b\b\b\b\b\b\b\b\b\b\b\b\b\b\b\b\b\b\b\b\b\b\b\b\b\b\b\b\b\b\b\b\b\b\b\b\b\b\b\b\b\b\b\b\b\b\b\b\b\b\b\b\b\b\b\b\b\b\b\b\b\b\b\b\b\b\b\b\b\b\b\b\b\b\b\b\b\b\b\b\b\b\r 93/600 [===>..........................] - ETA: 1s - loss: 2.8638 - accuracy: 0.1125"
                ]
              },
              {
                "output_type": "stream",
                "name": "stdout",
                "text": [
                  "\b\b\b\b\b\b\b\b\b\b\b\b\b\b\b\b\b\b\b\b\b\b\b\b\b\b\b\b\b\b\b\b\b\b\b\b\b\b\b\b\b\b\b\b\b\b\b\b\b\b\b\b\b\b\b\b\b\b\b\b\b\b\b\b\b\b\b\b\b\b\b\b\b\b\b\b\b\b\b\b\b\b\b\b\r116/600 [====>.........................] - ETA: 1s - loss: 2.8561 - accuracy: 0.1128"
                ]
              },
              {
                "output_type": "stream",
                "name": "stdout",
                "text": [
                  "\b\b\b\b\b\b\b\b\b\b\b\b\b\b\b\b\b\b\b\b\b\b\b\b\b\b\b\b\b\b\b\b\b\b\b\b\b\b\b\b\b\b\b\b\b\b\b\b\b\b\b\b\b\b\b\b\b\b\b\b\b\b\b\b\b\b\b\b\b\b\b\b\b\b\b\b\b\b\b\b\b\b\b\b\r139/600 [=====>........................] - ETA: 1s - loss: 2.8481 - accuracy: 0.1150"
                ]
              },
              {
                "output_type": "stream",
                "name": "stdout",
                "text": [
                  "\b\b\b\b\b\b\b\b\b\b\b\b\b\b\b\b\b\b\b\b\b\b\b\b\b\b\b\b\b\b\b\b\b\b\b\b\b\b\b\b\b\b\b\b\b\b\b\b\b\b\b\b\b\b\b\b\b\b\b\b\b\b\b\b\b\b\b\b\b\b\b\b\b\b\b\b\b\b\b\b\b\b\b\b\r162/600 [=======>......................] - ETA: 0s - loss: 2.8407 - accuracy: 0.1139"
                ]
              },
              {
                "output_type": "stream",
                "name": "stdout",
                "text": [
                  "\b\b\b\b\b\b\b\b\b\b\b\b\b\b\b\b\b\b\b\b\b\b\b\b\b\b\b\b\b\b\b\b\b\b\b\b\b\b\b\b\b\b\b\b\b\b\b\b\b\b\b\b\b\b\b\b\b\b\b\b\b\b\b\b\b\b\b\b\b\b\b\b\b\b\b\b\b\b\b\b\b\b\b\b\r185/600 [========>.....................] - ETA: 0s - loss: 2.8334 - accuracy: 0.1132"
                ]
              },
              {
                "output_type": "stream",
                "name": "stdout",
                "text": [
                  "\b\b\b\b\b\b\b\b\b\b\b\b\b\b\b\b\b\b\b\b\b\b\b\b\b\b\b\b\b\b\b\b\b\b\b\b\b\b\b\b\b\b\b\b\b\b\b\b\b\b\b\b\b\b\b\b\b\b\b\b\b\b\b\b\b\b\b\b\b\b\b\b\b\b\b\b\b\b\b\b\b\b\b\b\r208/600 [=========>....................] - ETA: 0s - loss: 2.8263 - accuracy: 0.1131"
                ]
              },
              {
                "output_type": "stream",
                "name": "stdout",
                "text": [
                  "\b\b\b\b\b\b\b\b\b\b\b\b\b\b\b\b\b\b\b\b\b\b\b\b\b\b\b\b\b\b\b\b\b\b\b\b\b\b\b\b\b\b\b\b\b\b\b\b\b\b\b\b\b\b\b\b\b\b\b\b\b\b\b\b\b\b\b\b\b\b\b\b\b\b\b\b\b\b\b\b\b\b\b\b\r232/600 [==========>...................] - ETA: 0s - loss: 2.8189 - accuracy: 0.1136"
                ]
              },
              {
                "output_type": "stream",
                "name": "stdout",
                "text": [
                  "\b\b\b\b\b\b\b\b\b\b\b\b\b\b\b\b\b\b\b\b\b\b\b\b\b\b\b\b\b\b\b\b\b\b\b\b\b\b\b\b\b\b\b\b\b\b\b\b\b\b\b\b\b\b\b\b\b\b\b\b\b\b\b\b\b\b\b\b\b\b\b\b\b\b\b\b\b\b\b\b\b\b\b\b\r255/600 [===========>..................] - ETA: 0s - loss: 2.8119 - accuracy: 0.1139"
                ]
              },
              {
                "output_type": "stream",
                "name": "stdout",
                "text": [
                  "\b\b\b\b\b\b\b\b\b\b\b\b\b\b\b\b\b\b\b\b\b\b\b\b\b\b\b\b\b\b\b\b\b\b\b\b\b\b\b\b\b\b\b\b\b\b\b\b\b\b\b\b\b\b\b\b\b\b\b\b\b\b\b\b\b\b\b\b\b\b\b\b\b\b\b\b\b\b\b\b\b\b\b\b\r272/600 [============>.................] - ETA: 0s - loss: 2.8070 - accuracy: 0.1136"
                ]
              },
              {
                "output_type": "stream",
                "name": "stdout",
                "text": [
                  "\b\b\b\b\b\b\b\b\b\b\b\b\b\b\b\b\b\b\b\b\b\b\b\b\b\b\b\b\b\b\b\b\b\b\b\b\b\b\b\b\b\b\b\b\b\b\b\b\b\b\b\b\b\b\b\b\b\b\b\b\b\b\b\b\b\b\b\b\b\b\b\b\b\b\b\b\b\b\b\b\b\b\b\b\r290/600 [=============>................] - ETA: 0s - loss: 2.8018 - accuracy: 0.1139"
                ]
              },
              {
                "output_type": "stream",
                "name": "stdout",
                "text": [
                  "\b\b\b\b\b\b\b\b\b\b\b\b\b\b\b\b\b\b\b\b\b\b\b\b\b\b\b\b\b\b\b\b\b\b\b\b\b\b\b\b\b\b\b\b\b\b\b\b\b\b\b\b\b\b\b\b\b\b\b\b\b\b\b\b\b\b\b\b\b\b\b\b\b\b\b\b\b\b\b\b\b\b\b\b\r312/600 [==============>...............] - ETA: 0s - loss: 2.7956 - accuracy: 0.1140"
                ]
              },
              {
                "output_type": "stream",
                "name": "stdout",
                "text": [
                  "\b\b\b\b\b\b\b\b\b\b\b\b\b\b\b\b\b\b\b\b\b\b\b\b\b\b\b\b\b\b\b\b\b\b\b\b\b\b\b\b\b\b\b\b\b\b\b\b\b\b\b\b\b\b\b\b\b\b\b\b\b\b\b\b\b\b\b\b\b\b\b\b\b\b\b\b\b\b\b\b\b\b\b\b\r334/600 [===============>..............] - ETA: 0s - loss: 2.7896 - accuracy: 0.1137"
                ]
              },
              {
                "output_type": "stream",
                "name": "stdout",
                "text": [
                  "\b\b\b\b\b\b\b\b\b\b\b\b\b\b\b\b\b\b\b\b\b\b\b\b\b\b\b\b\b\b\b\b\b\b\b\b\b\b\b\b\b\b\b\b\b\b\b\b\b\b\b\b\b\b\b\b\b\b\b\b\b\b\b\b\b\b\b\b\b\b\b\b\b\b\b\b\b\b\b\b\b\b\b\b\r351/600 [================>.............] - ETA: 0s - loss: 2.7850 - accuracy: 0.1142"
                ]
              },
              {
                "output_type": "stream",
                "name": "stdout",
                "text": [
                  "\b\b\b\b\b\b\b\b\b\b\b\b\b\b\b\b\b\b\b\b\b\b\b\b\b\b\b\b\b\b\b\b\b\b\b\b\b\b\b\b\b\b\b\b\b\b\b\b\b\b\b\b\b\b\b\b\b\b\b\b\b\b\b\b\b\b\b\b\b\b\b\b\b\b\b\b\b\b\b\b\b\b\b\b\r366/600 [=================>............] - ETA: 0s - loss: 2.7811 - accuracy: 0.1137"
                ]
              },
              {
                "output_type": "stream",
                "name": "stdout",
                "text": [
                  "\b\b\b\b\b\b\b\b\b\b\b\b\b\b\b\b\b\b\b\b\b\b\b\b\b\b\b\b\b\b\b\b\b\b\b\b\b\b\b\b\b\b\b\b\b\b\b\b\b\b\b\b\b\b\b\b\b\b\b\b\b\b\b\b\b\b\b\b\b\b\b\b\b\b\b\b\b\b\b\b\b\b\b\b\r389/600 [==================>...........] - ETA: 0s - loss: 2.7752 - accuracy: 0.1134"
                ]
              },
              {
                "output_type": "stream",
                "name": "stdout",
                "text": [
                  "\b\b\b\b\b\b\b\b\b\b\b\b\b\b\b\b\b\b\b\b\b\b\b\b\b\b\b\b\b\b\b\b\b\b\b\b\b\b\b\b\b\b\b\b\b\b\b\b\b\b\b\b\b\b\b\b\b\b\b\b\b\b\b\b\b\b\b\b\b\b\b\b\b\b\b\b\b\b\b\b\b\b\b\b\r413/600 [===================>..........] - ETA: 0s - loss: 2.7690 - accuracy: 0.1136"
                ]
              },
              {
                "output_type": "stream",
                "name": "stdout",
                "text": [
                  "\b\b\b\b\b\b\b\b\b\b\b\b\b\b\b\b\b\b\b\b\b\b\b\b\b\b\b\b\b\b\b\b\b\b\b\b\b\b\b\b\b\b\b\b\b\b\b\b\b\b\b\b\b\b\b\b\b\b\b\b\b\b\b\b\b\b\b\b\b\b\b\b\b\b\b\b\b\b\b\b\b\b\b\b\r438/600 [====================>.........] - ETA: 0s - loss: 2.7629 - accuracy: 0.1130"
                ]
              },
              {
                "output_type": "stream",
                "name": "stdout",
                "text": [
                  "\b\b\b\b\b\b\b\b\b\b\b\b\b\b\b\b\b\b\b\b\b\b\b\b\b\b\b\b\b\b\b\b\b\b\b\b\b\b\b\b\b\b\b\b\b\b\b\b\b\b\b\b\b\b\b\b\b\b\b\b\b\b\b\b\b\b\b\b\b\b\b\b\b\b\b\b\b\b\b\b\b\b\b\b\r462/600 [======================>.......] - ETA: 0s - loss: 2.7571 - accuracy: 0.1126"
                ]
              },
              {
                "output_type": "stream",
                "name": "stdout",
                "text": [
                  "\b\b\b\b\b\b\b\b\b\b\b\b\b\b\b\b\b\b\b\b\b\b\b\b\b\b\b\b\b\b\b\b\b\b\b\b\b\b\b\b\b\b\b\b\b\b\b\b\b\b\b\b\b\b\b\b\b\b\b\b\b\b\b\b\b\b\b\b\b\b\b\b\b\b\b\b\b\b\b\b\b\b\b\b\r480/600 [=======================>......] - ETA: 0s - loss: 2.7528 - accuracy: 0.1125"
                ]
              },
              {
                "output_type": "stream",
                "name": "stdout",
                "text": [
                  "\b\b\b\b\b\b\b\b\b\b\b\b\b\b\b\b\b\b\b\b\b\b\b\b\b\b\b\b\b\b\b\b\b\b\b\b\b\b\b\b\b\b\b\b\b\b\b\b\b\b\b\b\b\b\b\b\b\b\b\b\b\b\b\b\b\b\b\b\b\b\b\b\b\b\b\b\b\b\b\b\b\b\b\b\r502/600 [========================>.....] - ETA: 0s - loss: 2.7477 - accuracy: 0.1127"
                ]
              },
              {
                "output_type": "stream",
                "name": "stdout",
                "text": [
                  "\b\b\b\b\b\b\b\b\b\b\b\b\b\b\b\b\b\b\b\b\b\b\b\b\b\b\b\b\b\b\b\b\b\b\b\b\b\b\b\b\b\b\b\b\b\b\b\b\b\b\b\b\b\b\b\b\b\b\b\b\b\b\b\b\b\b\b\b\b\b\b\b\b\b\b\b\b\b\b\b\b\b\b\b\r524/600 [=========================>....] - ETA: 0s - loss: 2.7428 - accuracy: 0.1122"
                ]
              },
              {
                "output_type": "stream",
                "name": "stdout",
                "text": [
                  "\b\b\b\b\b\b\b\b\b\b\b\b\b\b\b\b\b\b\b\b\b\b\b\b\b\b\b\b\b\b\b\b\b\b\b\b\b\b\b\b\b\b\b\b\b\b\b\b\b\b\b\b\b\b\b\b\b\b\b\b\b\b\b\b\b\b\b\b\b\b\b\b\b\b\b\b\b\b\b\b\b\b\b\b\r548/600 [==========================>...] - ETA: 0s - loss: 2.7376 - accuracy: 0.1123"
                ]
              },
              {
                "output_type": "stream",
                "name": "stdout",
                "text": [
                  "\b\b\b\b\b\b\b\b\b\b\b\b\b\b\b\b\b\b\b\b\b\b\b\b\b\b\b\b\b\b\b\b\b\b\b\b\b\b\b\b\b\b\b\b\b\b\b\b\b\b\b\b\b\b\b\b\b\b\b\b\b\b\b\b\b\b\b\b\b\b\b\b\b\b\b\b\b\b\b\b\b\b\b\b\r572/600 [===========================>..] - ETA: 0s - loss: 2.7325 - accuracy: 0.1124"
                ]
              },
              {
                "output_type": "stream",
                "name": "stdout",
                "text": [
                  "\b\b\b\b\b\b\b\b\b\b\b\b\b\b\b\b\b\b\b\b\b\b\b\b\b\b\b\b\b\b\b\b\b\b\b\b\b\b\b\b\b\b\b\b\b\b\b\b\b\b\b\b\b\b\b\b\b\b\b\b\b\b\b\b\b\b\b\b\b\b\b\b\b\b\b\b\b\b\b\b\b\b\b\b\r595/600 [============================>.] - ETA: 0s - loss: 2.7277 - accuracy: 0.1124"
                ]
              },
              {
                "output_type": "stream",
                "name": "stdout",
                "text": [
                  "\b\b\b\b\b\b\b\b\b\b\b\b\b\b\b\b\b\b\b\b\b\b\b\b\b\b\b\b\b\b\b\b\b\b\b\b\b\b\b\b\b\b\b\b\b\b\b\b\b\b\b\b\b\b\b\b\b\b\b\b\b\b\b\b\b\b\b\b\b\b\b\b\b\b\b\b\b\b\b\b\b\b\b\b\r600/600 [==============================] - 2s 3ms/step - loss: 2.7266 - accuracy: 0.1124 - val_loss: 2.6045 - val_accuracy: 0.1135\n"
                ]
              },
              {
                "output_type": "stream",
                "name": "stdout",
                "text": [
                  "Epoch 15/20\n"
                ]
              },
              {
                "output_type": "stream",
                "name": "stdout",
                "text": [
                  "\r  1/600 [..............................] - ETA: 4s - loss: 2.6058 - accuracy: 0.1000"
                ]
              },
              {
                "output_type": "stream",
                "name": "stdout",
                "text": [
                  "\b\b\b\b\b\b\b\b\b\b\b\b\b\b\b\b\b\b\b\b\b\b\b\b\b\b\b\b\b\b\b\b\b\b\b\b\b\b\b\b\b\b\b\b\b\b\b\b\b\b\b\b\b\b\b\b\b\b\b\b\b\b\b\b\b\b\b\b\b\b\b\b\b\b\b\b\b\b\b\b\b\b\b\b\r 24/600 [>.............................] - ETA: 1s - loss: 2.6012 - accuracy: 0.1088"
                ]
              },
              {
                "output_type": "stream",
                "name": "stdout",
                "text": [
                  "\b\b\b\b\b\b\b\b\b\b\b\b\b\b\b\b\b\b\b\b\b\b\b\b\b\b\b\b\b\b\b\b\b\b\b\b\b\b\b\b\b\b\b\b\b\b\b\b\b\b\b\b\b\b\b\b\b\b\b\b\b\b\b\b\b\b\b\b\b\b\b\b\b\b\b\b\b\b\b\b\b\b\b\b\r 44/600 [=>............................] - ETA: 1s - loss: 2.5981 - accuracy: 0.1116"
                ]
              },
              {
                "output_type": "stream",
                "name": "stdout",
                "text": [
                  "\b\b\b\b\b\b\b\b\b\b\b\b\b\b\b\b\b\b\b\b\b\b\b\b\b\b\b\b\b\b\b\b\b\b\b\b\b\b\b\b\b\b\b\b\b\b\b\b\b\b\b\b\b\b\b\b\b\b\b\b\b\b\b\b\b\b\b\b\b\b\b\b\b\b\b\b\b\b\b\b\b\b\b\b\r 68/600 [==>...........................] - ETA: 1s - loss: 2.5954 - accuracy: 0.1100"
                ]
              },
              {
                "output_type": "stream",
                "name": "stdout",
                "text": [
                  "\b\b\b\b\b\b\b\b\b\b\b\b\b\b\b\b\b\b\b\b\b\b\b\b\b\b\b\b\b\b\b\b\b\b\b\b\b\b\b\b\b\b\b\b\b\b\b\b\b\b\b\b\b\b\b\b\b\b\b\b\b\b\b\b\b\b\b\b\b\b\b\b\b\b\b\b\b\b\b\b\b\b\b\b\r 90/600 [===>..........................] - ETA: 1s - loss: 2.5938 - accuracy: 0.1087"
                ]
              },
              {
                "output_type": "stream",
                "name": "stdout",
                "text": [
                  "\b\b\b\b\b\b\b\b\b\b\b\b\b\b\b\b\b\b\b\b\b\b\b\b\b\b\b\b\b\b\b\b\b\b\b\b\b\b\b\b\b\b\b\b\b\b\b\b\b\b\b\b\b\b\b\b\b\b\b\b\b\b\b\b\b\b\b\b\b\b\b\b\b\b\b\b\b\b\b\b\b\b\b\b\r111/600 [====>.........................] - ETA: 1s - loss: 2.5916 - accuracy: 0.1102"
                ]
              },
              {
                "output_type": "stream",
                "name": "stdout",
                "text": [
                  "\b\b\b\b\b\b\b\b\b\b\b\b\b\b\b\b\b\b\b\b\b\b\b\b\b\b\b\b\b\b\b\b\b\b\b\b\b\b\b\b\b\b\b\b\b\b\b\b\b\b\b\b\b\b\b\b\b\b\b\b\b\b\b\b\b\b\b\b\b\b\b\b\b\b\b\b\b\b\b\b\b\b\b\b\r130/600 [=====>........................] - ETA: 1s - loss: 2.5895 - accuracy: 0.1127"
                ]
              },
              {
                "output_type": "stream",
                "name": "stdout",
                "text": [
                  "\b\b\b\b\b\b\b\b\b\b\b\b\b\b\b\b\b\b\b\b\b\b\b\b\b\b\b\b\b\b\b\b\b\b\b\b\b\b\b\b\b\b\b\b\b\b\b\b\b\b\b\b\b\b\b\b\b\b\b\b\b\b\b\b\b\b\b\b\b\b\b\b\b\b\b\b\b\b\b\b\b\b\b\b\r148/600 [======>.......................] - ETA: 1s - loss: 2.5877 - accuracy: 0.1115"
                ]
              },
              {
                "output_type": "stream",
                "name": "stdout",
                "text": [
                  "\b\b\b\b\b\b\b\b\b\b\b\b\b\b\b\b\b\b\b\b\b\b\b\b\b\b\b\b\b\b\b\b\b\b\b\b\b\b\b\b\b\b\b\b\b\b\b\b\b\b\b\b\b\b\b\b\b\b\b\b\b\b\b\b\b\b\b\b\b\b\b\b\b\b\b\b\b\b\b\b\b\b\b\b\r169/600 [=======>......................] - ETA: 1s - loss: 2.5855 - accuracy: 0.1127"
                ]
              },
              {
                "output_type": "stream",
                "name": "stdout",
                "text": [
                  "\b\b\b\b\b\b\b\b\b\b\b\b\b\b\b\b\b\b\b\b\b\b\b\b\b\b\b\b\b\b\b\b\b\b\b\b\b\b\b\b\b\b\b\b\b\b\b\b\b\b\b\b\b\b\b\b\b\b\b\b\b\b\b\b\b\b\b\b\b\b\b\b\b\b\b\b\b\b\b\b\b\b\b\b\r191/600 [========>.....................] - ETA: 0s - loss: 2.5833 - accuracy: 0.1129"
                ]
              },
              {
                "output_type": "stream",
                "name": "stdout",
                "text": [
                  "\b\b\b\b\b\b\b\b\b\b\b\b\b\b\b\b\b\b\b\b\b\b\b\b\b\b\b\b\b\b\b\b\b\b\b\b\b\b\b\b\b\b\b\b\b\b\b\b\b\b\b\b\b\b\b\b\b\b\b\b\b\b\b\b\b\b\b\b\b\b\b\b\b\b\b\b\b\b\b\b\b\b\b\b\r211/600 [=========>....................] - ETA: 0s - loss: 2.5815 - accuracy: 0.1121"
                ]
              },
              {
                "output_type": "stream",
                "name": "stdout",
                "text": [
                  "\b\b\b\b\b\b\b\b\b\b\b\b\b\b\b\b\b\b\b\b\b\b\b\b\b\b\b\b\b\b\b\b\b\b\b\b\b\b\b\b\b\b\b\b\b\b\b\b\b\b\b\b\b\b\b\b\b\b\b\b\b\b\b\b\b\b\b\b\b\b\b\b\b\b\b\b\b\b\b\b\b\b\b\b\r233/600 [==========>...................] - ETA: 0s - loss: 2.5794 - accuracy: 0.1127"
                ]
              },
              {
                "output_type": "stream",
                "name": "stdout",
                "text": [
                  "\b\b\b\b\b\b\b\b\b\b\b\b\b\b\b\b\b\b\b\b\b\b\b\b\b\b\b\b\b\b\b\b\b\b\b\b\b\b\b\b\b\b\b\b\b\b\b\b\b\b\b\b\b\b\b\b\b\b\b\b\b\b\b\b\b\b\b\b\b\b\b\b\b\b\b\b\b\b\b\b\b\b\b\b\r257/600 [===========>..................] - ETA: 0s - loss: 2.5775 - accuracy: 0.1117"
                ]
              },
              {
                "output_type": "stream",
                "name": "stdout",
                "text": [
                  "\b\b\b\b\b\b\b\b\b\b\b\b\b\b\b\b\b\b\b\b\b\b\b\b\b\b\b\b\b\b\b\b\b\b\b\b\b\b\b\b\b\b\b\b\b\b\b\b\b\b\b\b\b\b\b\b\b\b\b\b\b\b\b\b\b\b\b\b\b\b\b\b\b\b\b\b\b\b\b\b\b\b\b\b\r280/600 [=============>................] - ETA: 0s - loss: 2.5755 - accuracy: 0.1114"
                ]
              },
              {
                "output_type": "stream",
                "name": "stdout",
                "text": [
                  "\b\b\b\b\b\b\b\b\b\b\b\b\b\b\b\b\b\b\b\b\b\b\b\b\b\b\b\b\b\b\b\b\b\b\b\b\b\b\b\b\b\b\b\b\b\b\b\b\b\b\b\b\b\b\b\b\b\b\b\b\b\b\b\b\b\b\b\b\b\b\b\b\b\b\b\b\b\b\b\b\b\b\b\b\r303/600 [==============>...............] - ETA: 0s - loss: 2.5735 - accuracy: 0.1119"
                ]
              },
              {
                "output_type": "stream",
                "name": "stdout",
                "text": [
                  "\b\b\b\b\b\b\b\b\b\b\b\b\b\b\b\b\b\b\b\b\b\b\b\b\b\b\b\b\b\b\b\b\b\b\b\b\b\b\b\b\b\b\b\b\b\b\b\b\b\b\b\b\b\b\b\b\b\b\b\b\b\b\b\b\b\b\b\b\b\b\b\b\b\b\b\b\b\b\b\b\b\b\b\b\r322/600 [===============>..............] - ETA: 0s - loss: 2.5719 - accuracy: 0.1123"
                ]
              },
              {
                "output_type": "stream",
                "name": "stdout",
                "text": [
                  "\b\b\b\b\b\b\b\b\b\b\b\b\b\b\b\b\b\b\b\b\b\b\b\b\b\b\b\b\b\b\b\b\b\b\b\b\b\b\b\b\b\b\b\b\b\b\b\b\b\b\b\b\b\b\b\b\b\b\b\b\b\b\b\b\b\b\b\b\b\b\b\b\b\b\b\b\b\b\b\b\b\b\b\b\r346/600 [================>.............] - ETA: 0s - loss: 2.5700 - accuracy: 0.1125"
                ]
              },
              {
                "output_type": "stream",
                "name": "stdout",
                "text": [
                  "\b\b\b\b\b\b\b\b\b\b\b\b\b\b\b\b\b\b\b\b\b\b\b\b\b\b\b\b\b\b\b\b\b\b\b\b\b\b\b\b\b\b\b\b\b\b\b\b\b\b\b\b\b\b\b\b\b\b\b\b\b\b\b\b\b\b\b\b\b\b\b\b\b\b\b\b\b\b\b\b\b\b\b\b\r365/600 [=================>............] - ETA: 0s - loss: 2.5685 - accuracy: 0.1124"
                ]
              },
              {
                "output_type": "stream",
                "name": "stdout",
                "text": [
                  "\b\b\b\b\b\b\b\b\b\b\b\b\b\b\b\b\b\b\b\b\b\b\b\b\b\b\b\b\b\b\b\b\b\b\b\b\b\b\b\b\b\b\b\b\b\b\b\b\b\b\b\b\b\b\b\b\b\b\b\b\b\b\b\b\b\b\b\b\b\b\b\b\b\b\b\b\b\b\b\b\b\b\b\b\r382/600 [==================>...........] - ETA: 0s - loss: 2.5672 - accuracy: 0.1127"
                ]
              },
              {
                "output_type": "stream",
                "name": "stdout",
                "text": [
                  "\b\b\b\b\b\b\b\b\b\b\b\b\b\b\b\b\b\b\b\b\b\b\b\b\b\b\b\b\b\b\b\b\b\b\b\b\b\b\b\b\b\b\b\b\b\b\b\b\b\b\b\b\b\b\b\b\b\b\b\b\b\b\b\b\b\b\b\b\b\b\b\b\b\b\b\b\b\b\b\b\b\b\b\b\r405/600 [===================>..........] - ETA: 0s - loss: 2.5653 - accuracy: 0.1128"
                ]
              },
              {
                "output_type": "stream",
                "name": "stdout",
                "text": [
                  "\b\b\b\b\b\b\b\b\b\b\b\b\b\b\b\b\b\b\b\b\b\b\b\b\b\b\b\b\b\b\b\b\b\b\b\b\b\b\b\b\b\b\b\b\b\b\b\b\b\b\b\b\b\b\b\b\b\b\b\b\b\b\b\b\b\b\b\b\b\b\b\b\b\b\b\b\b\b\b\b\b\b\b\b\r428/600 [====================>.........] - ETA: 0s - loss: 2.5636 - accuracy: 0.1132"
                ]
              },
              {
                "output_type": "stream",
                "name": "stdout",
                "text": [
                  "\b\b\b\b\b\b\b\b\b\b\b\b\b\b\b\b\b\b\b\b\b\b\b\b\b\b\b\b\b\b\b\b\b\b\b\b\b\b\b\b\b\b\b\b\b\b\b\b\b\b\b\b\b\b\b\b\b\b\b\b\b\b\b\b\b\b\b\b\b\b\b\b\b\b\b\b\b\b\b\b\b\b\b\b\r450/600 [=====================>........] - ETA: 0s - loss: 2.5620 - accuracy: 0.1130"
                ]
              },
              {
                "output_type": "stream",
                "name": "stdout",
                "text": [
                  "\b\b\b\b\b\b\b\b\b\b\b\b\b\b\b\b\b\b\b\b\b\b\b\b\b\b\b\b\b\b\b\b\b\b\b\b\b\b\b\b\b\b\b\b\b\b\b\b\b\b\b\b\b\b\b\b\b\b\b\b\b\b\b\b\b\b\b\b\b\b\b\b\b\b\b\b\b\b\b\b\b\b\b\b\r475/600 [======================>.......] - ETA: 0s - loss: 2.5603 - accuracy: 0.1129"
                ]
              },
              {
                "output_type": "stream",
                "name": "stdout",
                "text": [
                  "\b\b\b\b\b\b\b\b\b\b\b\b\b\b\b\b\b\b\b\b\b\b\b\b\b\b\b\b\b\b\b\b\b\b\b\b\b\b\b\b\b\b\b\b\b\b\b\b\b\b\b\b\b\b\b\b\b\b\b\b\b\b\b\b\b\b\b\b\b\b\b\b\b\b\b\b\b\b\b\b\b\b\b\b\r498/600 [=======================>......] - ETA: 0s - loss: 2.5588 - accuracy: 0.1126"
                ]
              },
              {
                "output_type": "stream",
                "name": "stdout",
                "text": [
                  "\b\b\b\b\b\b\b\b\b\b\b\b\b\b\b\b\b\b\b\b\b\b\b\b\b\b\b\b\b\b\b\b\b\b\b\b\b\b\b\b\b\b\b\b\b\b\b\b\b\b\b\b\b\b\b\b\b\b\b\b\b\b\b\b\b\b\b\b\b\b\b\b\b\b\b\b\b\b\b\b\b\b\b\b\r522/600 [=========================>....] - ETA: 0s - loss: 2.5572 - accuracy: 0.1127"
                ]
              },
              {
                "output_type": "stream",
                "name": "stdout",
                "text": [
                  "\b\b\b\b\b\b\b\b\b\b\b\b\b\b\b\b\b\b\b\b\b\b\b\b\b\b\b\b\b\b\b\b\b\b\b\b\b\b\b\b\b\b\b\b\b\b\b\b\b\b\b\b\b\b\b\b\b\b\b\b\b\b\b\b\b\b\b\b\b\b\b\b\b\b\b\b\b\b\b\b\b\b\b\b\r543/600 [==========================>...] - ETA: 0s - loss: 2.5558 - accuracy: 0.1125"
                ]
              },
              {
                "output_type": "stream",
                "name": "stdout",
                "text": [
                  "\b\b\b\b\b\b\b\b\b\b\b\b\b\b\b\b\b\b\b\b\b\b\b\b\b\b\b\b\b\b\b\b\b\b\b\b\b\b\b\b\b\b\b\b\b\b\b\b\b\b\b\b\b\b\b\b\b\b\b\b\b\b\b\b\b\b\b\b\b\b\b\b\b\b\b\b\b\b\b\b\b\b\b\b\r563/600 [===========================>..] - ETA: 0s - loss: 2.5546 - accuracy: 0.1124"
                ]
              },
              {
                "output_type": "stream",
                "name": "stdout",
                "text": [
                  "\b\b\b\b\b\b\b\b\b\b\b\b\b\b\b\b\b\b\b\b\b\b\b\b\b\b\b\b\b\b\b\b\b\b\b\b\b\b\b\b\b\b\b\b\b\b\b\b\b\b\b\b\b\b\b\b\b\b\b\b\b\b\b\b\b\b\b\b\b\b\b\b\b\b\b\b\b\b\b\b\b\b\b\b\r585/600 [============================>.] - ETA: 0s - loss: 2.5533 - accuracy: 0.1121"
                ]
              },
              {
                "output_type": "stream",
                "name": "stdout",
                "text": [
                  "\b\b\b\b\b\b\b\b\b\b\b\b\b\b\b\b\b\b\b\b\b\b\b\b\b\b\b\b\b\b\b\b\b\b\b\b\b\b\b\b\b\b\b\b\b\b\b\b\b\b\b\b\b\b\b\b\b\b\b\b\b\b\b\b\b\b\b\b\b\b\b\b\b\b\b\b\b\b\b\b\b\b\b\b\r600/600 [==============================] - 2s 3ms/step - loss: 2.5524 - accuracy: 0.1124 - val_loss: 2.5171 - val_accuracy: 0.1135\n"
                ]
              },
              {
                "output_type": "stream",
                "name": "stdout",
                "text": [
                  "Epoch 16/20\n"
                ]
              },
              {
                "output_type": "stream",
                "name": "stdout",
                "text": [
                  "\r  1/600 [..............................] - ETA: 4s - loss: 2.5229 - accuracy: 0.0600"
                ]
              },
              {
                "output_type": "stream",
                "name": "stdout",
                "text": [
                  "\b\b\b\b\b\b\b\b\b\b\b\b\b\b\b\b\b\b\b\b\b\b\b\b\b\b\b\b\b\b\b\b\b\b\b\b\b\b\b\b\b\b\b\b\b\b\b\b\b\b\b\b\b\b\b\b\b\b\b\b\b\b\b\b\b\b\b\b\b\b\b\b\b\b\b\b\b\b\b\b\b\b\b\b\r 23/600 [>.............................] - ETA: 1s - loss: 2.5168 - accuracy: 0.1083"
                ]
              },
              {
                "output_type": "stream",
                "name": "stdout",
                "text": [
                  "\b\b\b\b\b\b\b\b\b\b\b\b\b\b\b\b\b\b\b\b\b\b\b\b\b\b\b\b\b\b\b\b\b\b\b\b\b\b\b\b\b\b\b\b\b\b\b\b\b\b\b\b\b\b\b\b\b\b\b\b\b\b\b\b\b\b\b\b\b\b\b\b\b\b\b\b\b\b\b\b\b\b\b\b\r 43/600 [=>............................] - ETA: 1s - loss: 2.5154 - accuracy: 0.1102"
                ]
              },
              {
                "output_type": "stream",
                "name": "stdout",
                "text": [
                  "\b\b\b\b\b\b\b\b\b\b\b\b\b\b\b\b\b\b\b\b\b\b\b\b\b\b\b\b\b\b\b\b\b\b\b\b\b\b\b\b\b\b\b\b\b\b\b\b\b\b\b\b\b\b\b\b\b\b\b\b\b\b\b\b\b\b\b\b\b\b\b\b\b\b\b\b\b\b\b\b\b\b\b\b\r 67/600 [==>...........................] - ETA: 1s - loss: 2.5148 - accuracy: 0.1118"
                ]
              },
              {
                "output_type": "stream",
                "name": "stdout",
                "text": [
                  "\b\b\b\b\b\b\b\b\b\b\b\b\b\b\b\b\b\b\b\b\b\b\b\b\b\b\b\b\b\b\b\b\b\b\b\b\b\b\b\b\b\b\b\b\b\b\b\b\b\b\b\b\b\b\b\b\b\b\b\b\b\b\b\b\b\b\b\b\b\b\b\b\b\b\b\b\b\b\b\b\b\b\b\b\r 88/600 [===>..........................] - ETA: 1s - loss: 2.5141 - accuracy: 0.1132"
                ]
              },
              {
                "output_type": "stream",
                "name": "stdout",
                "text": [
                  "\b\b\b\b\b\b\b\b\b\b\b\b\b\b\b\b\b\b\b\b\b\b\b\b\b\b\b\b\b\b\b\b\b\b\b\b\b\b\b\b\b\b\b\b\b\b\b\b\b\b\b\b\b\b\b\b\b\b\b\b\b\b\b\b\b\b\b\b\b\b\b\b\b\b\b\b\b\b\b\b\b\b\b\b\r106/600 [====>.........................] - ETA: 1s - loss: 2.5139 - accuracy: 0.1123"
                ]
              },
              {
                "output_type": "stream",
                "name": "stdout",
                "text": [
                  "\b\b\b\b\b\b\b\b\b\b\b\b\b\b\b\b\b\b\b\b\b\b\b\b\b\b\b\b\b\b\b\b\b\b\b\b\b\b\b\b\b\b\b\b\b\b\b\b\b\b\b\b\b\b\b\b\b\b\b\b\b\b\b\b\b\b\b\b\b\b\b\b\b\b\b\b\b\b\b\b\b\b\b\b\r129/600 [=====>........................] - ETA: 1s - loss: 2.5133 - accuracy: 0.1122"
                ]
              },
              {
                "output_type": "stream",
                "name": "stdout",
                "text": [
                  "\b\b\b\b\b\b\b\b\b\b\b\b\b\b\b\b\b\b\b\b\b\b\b\b\b\b\b\b\b\b\b\b\b\b\b\b\b\b\b\b\b\b\b\b\b\b\b\b\b\b\b\b\b\b\b\b\b\b\b\b\b\b\b\b\b\b\b\b\b\b\b\b\b\b\b\b\b\b\b\b\b\b\b\b\r151/600 [======>.......................] - ETA: 1s - loss: 2.5129 - accuracy: 0.1120"
                ]
              },
              {
                "output_type": "stream",
                "name": "stdout",
                "text": [
                  "\b\b\b\b\b\b\b\b\b\b\b\b\b\b\b\b\b\b\b\b\b\b\b\b\b\b\b\b\b\b\b\b\b\b\b\b\b\b\b\b\b\b\b\b\b\b\b\b\b\b\b\b\b\b\b\b\b\b\b\b\b\b\b\b\b\b\b\b\b\b\b\b\b\b\b\b\b\b\b\b\b\b\b\b\r175/600 [=======>......................] - ETA: 0s - loss: 2.5123 - accuracy: 0.1123"
                ]
              },
              {
                "output_type": "stream",
                "name": "stdout",
                "text": [
                  "\b\b\b\b\b\b\b\b\b\b\b\b\b\b\b\b\b\b\b\b\b\b\b\b\b\b\b\b\b\b\b\b\b\b\b\b\b\b\b\b\b\b\b\b\b\b\b\b\b\b\b\b\b\b\b\b\b\b\b\b\b\b\b\b\b\b\b\b\b\b\b\b\b\b\b\b\b\b\b\b\b\b\b\b\r197/600 [========>.....................] - ETA: 0s - loss: 2.5118 - accuracy: 0.1116"
                ]
              },
              {
                "output_type": "stream",
                "name": "stdout",
                "text": [
                  "\b\b\b\b\b\b\b\b\b\b\b\b\b\b\b\b\b\b\b\b\b\b\b\b\b\b\b\b\b\b\b\b\b\b\b\b\b\b\b\b\b\b\b\b\b\b\b\b\b\b\b\b\b\b\b\b\b\b\b\b\b\b\b\b\b\b\b\b\b\b\b\b\b\b\b\b\b\b\b\b\b\b\b\b\r215/600 [=========>....................] - ETA: 0s - loss: 2.5116 - accuracy: 0.1107"
                ]
              },
              {
                "output_type": "stream",
                "name": "stdout",
                "text": [
                  "\b\b\b\b\b\b\b\b\b\b\b\b\b\b\b\b\b\b\b\b\b\b\b\b\b\b\b\b\b\b\b\b\b\b\b\b\b\b\b\b\b\b\b\b\b\b\b\b\b\b\b\b\b\b\b\b\b\b\b\b\b\b\b\b\b\b\b\b\b\b\b\b\b\b\b\b\b\b\b\b\b\b\b\b\r235/600 [==========>...................] - ETA: 0s - loss: 2.5112 - accuracy: 0.1109"
                ]
              },
              {
                "output_type": "stream",
                "name": "stdout",
                "text": [
                  "\b\b\b\b\b\b\b\b\b\b\b\b\b\b\b\b\b\b\b\b\b\b\b\b\b\b\b\b\b\b\b\b\b\b\b\b\b\b\b\b\b\b\b\b\b\b\b\b\b\b\b\b\b\b\b\b\b\b\b\b\b\b\b\b\b\b\b\b\b\b\b\b\b\b\b\b\b\b\b\b\b\b\b\b\r256/600 [===========>..................] - ETA: 0s - loss: 2.5106 - accuracy: 0.1120"
                ]
              },
              {
                "output_type": "stream",
                "name": "stdout",
                "text": [
                  "\b\b\b\b\b\b\b\b\b\b\b\b\b\b\b\b\b\b\b\b\b\b\b\b\b\b\b\b\b\b\b\b\b\b\b\b\b\b\b\b\b\b\b\b\b\b\b\b\b\b\b\b\b\b\b\b\b\b\b\b\b\b\b\b\b\b\b\b\b\b\b\b\b\b\b\b\b\b\b\b\b\b\b\b\r281/600 [=============>................] - ETA: 0s - loss: 2.5102 - accuracy: 0.1120"
                ]
              },
              {
                "output_type": "stream",
                "name": "stdout",
                "text": [
                  "\b\b\b\b\b\b\b\b\b\b\b\b\b\b\b\b\b\b\b\b\b\b\b\b\b\b\b\b\b\b\b\b\b\b\b\b\b\b\b\b\b\b\b\b\b\b\b\b\b\b\b\b\b\b\b\b\b\b\b\b\b\b\b\b\b\b\b\b\b\b\b\b\b\b\b\b\b\b\b\b\b\b\b\b\r303/600 [==============>...............] - ETA: 0s - loss: 2.5098 - accuracy: 0.1117"
                ]
              },
              {
                "output_type": "stream",
                "name": "stdout",
                "text": [
                  "\b\b\b\b\b\b\b\b\b\b\b\b\b\b\b\b\b\b\b\b\b\b\b\b\b\b\b\b\b\b\b\b\b\b\b\b\b\b\b\b\b\b\b\b\b\b\b\b\b\b\b\b\b\b\b\b\b\b\b\b\b\b\b\b\b\b\b\b\b\b\b\b\b\b\b\b\b\b\b\b\b\b\b\b\r323/600 [===============>..............] - ETA: 0s - loss: 2.5094 - accuracy: 0.1119"
                ]
              },
              {
                "output_type": "stream",
                "name": "stdout",
                "text": [
                  "\b\b\b\b\b\b\b\b\b\b\b\b\b\b\b\b\b\b\b\b\b\b\b\b\b\b\b\b\b\b\b\b\b\b\b\b\b\b\b\b\b\b\b\b\b\b\b\b\b\b\b\b\b\b\b\b\b\b\b\b\b\b\b\b\b\b\b\b\b\b\b\b\b\b\b\b\b\b\b\b\b\b\b\b\r345/600 [================>.............] - ETA: 0s - loss: 2.5090 - accuracy: 0.1119"
                ]
              },
              {
                "output_type": "stream",
                "name": "stdout",
                "text": [
                  "\b\b\b\b\b\b\b\b\b\b\b\b\b\b\b\b\b\b\b\b\b\b\b\b\b\b\b\b\b\b\b\b\b\b\b\b\b\b\b\b\b\b\b\b\b\b\b\b\b\b\b\b\b\b\b\b\b\b\b\b\b\b\b\b\b\b\b\b\b\b\b\b\b\b\b\b\b\b\b\b\b\b\b\b\r364/600 [=================>............] - ETA: 0s - loss: 2.5086 - accuracy: 0.1121"
                ]
              },
              {
                "output_type": "stream",
                "name": "stdout",
                "text": [
                  "\b\b\b\b\b\b\b\b\b\b\b\b\b\b\b\b\b\b\b\b\b\b\b\b\b\b\b\b\b\b\b\b\b\b\b\b\b\b\b\b\b\b\b\b\b\b\b\b\b\b\b\b\b\b\b\b\b\b\b\b\b\b\b\b\b\b\b\b\b\b\b\b\b\b\b\b\b\b\b\b\b\b\b\b\r383/600 [==================>...........] - ETA: 0s - loss: 2.5082 - accuracy: 0.1118"
                ]
              },
              {
                "output_type": "stream",
                "name": "stdout",
                "text": [
                  "\b\b\b\b\b\b\b\b\b\b\b\b\b\b\b\b\b\b\b\b\b\b\b\b\b\b\b\b\b\b\b\b\b\b\b\b\b\b\b\b\b\b\b\b\b\b\b\b\b\b\b\b\b\b\b\b\b\b\b\b\b\b\b\b\b\b\b\b\b\b\b\b\b\b\b\b\b\b\b\b\b\b\b\b\r402/600 [===================>..........] - ETA: 0s - loss: 2.5079 - accuracy: 0.1119"
                ]
              },
              {
                "output_type": "stream",
                "name": "stdout",
                "text": [
                  "\b\b\b\b\b\b\b\b\b\b\b\b\b\b\b\b\b\b\b\b\b\b\b\b\b\b\b\b\b\b\b\b\b\b\b\b\b\b\b\b\b\b\b\b\b\b\b\b\b\b\b\b\b\b\b\b\b\b\b\b\b\b\b\b\b\b\b\b\b\b\b\b\b\b\b\b\b\b\b\b\b\b\b\b\r419/600 [===================>..........] - ETA: 0s - loss: 2.5076 - accuracy: 0.1119"
                ]
              },
              {
                "output_type": "stream",
                "name": "stdout",
                "text": [
                  "\b\b\b\b\b\b\b\b\b\b\b\b\b\b\b\b\b\b\b\b\b\b\b\b\b\b\b\b\b\b\b\b\b\b\b\b\b\b\b\b\b\b\b\b\b\b\b\b\b\b\b\b\b\b\b\b\b\b\b\b\b\b\b\b\b\b\b\b\b\b\b\b\b\b\b\b\b\b\b\b\b\b\b\b\r439/600 [====================>.........] - ETA: 0s - loss: 2.5073 - accuracy: 0.1121"
                ]
              },
              {
                "output_type": "stream",
                "name": "stdout",
                "text": [
                  "\b\b\b\b\b\b\b\b\b\b\b\b\b\b\b\b\b\b\b\b\b\b\b\b\b\b\b\b\b\b\b\b\b\b\b\b\b\b\b\b\b\b\b\b\b\b\b\b\b\b\b\b\b\b\b\b\b\b\b\b\b\b\b\b\b\b\b\b\b\b\b\b\b\b\b\b\b\b\b\b\b\b\b\b\r460/600 [======================>.......] - ETA: 0s - loss: 2.5070 - accuracy: 0.1122"
                ]
              },
              {
                "output_type": "stream",
                "name": "stdout",
                "text": [
                  "\b\b\b\b\b\b\b\b\b\b\b\b\b\b\b\b\b\b\b\b\b\b\b\b\b\b\b\b\b\b\b\b\b\b\b\b\b\b\b\b\b\b\b\b\b\b\b\b\b\b\b\b\b\b\b\b\b\b\b\b\b\b\b\b\b\b\b\b\b\b\b\b\b\b\b\b\b\b\b\b\b\b\b\b\r479/600 [======================>.......] - ETA: 0s - loss: 2.5067 - accuracy: 0.1122"
                ]
              },
              {
                "output_type": "stream",
                "name": "stdout",
                "text": [
                  "\b\b\b\b\b\b\b\b\b\b\b\b\b\b\b\b\b\b\b\b\b\b\b\b\b\b\b\b\b\b\b\b\b\b\b\b\b\b\b\b\b\b\b\b\b\b\b\b\b\b\b\b\b\b\b\b\b\b\b\b\b\b\b\b\b\b\b\b\b\b\b\b\b\b\b\b\b\b\b\b\b\b\b\b\r500/600 [========================>.....] - ETA: 0s - loss: 2.5063 - accuracy: 0.1123"
                ]
              },
              {
                "output_type": "stream",
                "name": "stdout",
                "text": [
                  "\b\b\b\b\b\b\b\b\b\b\b\b\b\b\b\b\b\b\b\b\b\b\b\b\b\b\b\b\b\b\b\b\b\b\b\b\b\b\b\b\b\b\b\b\b\b\b\b\b\b\b\b\b\b\b\b\b\b\b\b\b\b\b\b\b\b\b\b\b\b\b\b\b\b\b\b\b\b\b\b\b\b\b\b\r521/600 [=========================>....] - ETA: 0s - loss: 2.5060 - accuracy: 0.1126"
                ]
              },
              {
                "output_type": "stream",
                "name": "stdout",
                "text": [
                  "\b\b\b\b\b\b\b\b\b\b\b\b\b\b\b\b\b\b\b\b\b\b\b\b\b\b\b\b\b\b\b\b\b\b\b\b\b\b\b\b\b\b\b\b\b\b\b\b\b\b\b\b\b\b\b\b\b\b\b\b\b\b\b\b\b\b\b\b\b\b\b\b\b\b\b\b\b\b\b\b\b\b\b\b\r540/600 [==========================>...] - ETA: 0s - loss: 2.5057 - accuracy: 0.1127"
                ]
              },
              {
                "output_type": "stream",
                "name": "stdout",
                "text": [
                  "\b\b\b\b\b\b\b\b\b\b\b\b\b\b\b\b\b\b\b\b\b\b\b\b\b\b\b\b\b\b\b\b\b\b\b\b\b\b\b\b\b\b\b\b\b\b\b\b\b\b\b\b\b\b\b\b\b\b\b\b\b\b\b\b\b\b\b\b\b\b\b\b\b\b\b\b\b\b\b\b\b\b\b\b\r562/600 [===========================>..] - ETA: 0s - loss: 2.5054 - accuracy: 0.1124"
                ]
              },
              {
                "output_type": "stream",
                "name": "stdout",
                "text": [
                  "\b\b\b\b\b\b\b\b\b\b\b\b\b\b\b\b\b\b\b\b\b\b\b\b\b\b\b\b\b\b\b\b\b\b\b\b\b\b\b\b\b\b\b\b\b\b\b\b\b\b\b\b\b\b\b\b\b\b\b\b\b\b\b\b\b\b\b\b\b\b\b\b\b\b\b\b\b\b\b\b\b\b\b\b\r586/600 [============================>.] - ETA: 0s - loss: 2.5051 - accuracy: 0.1124"
                ]
              },
              {
                "output_type": "stream",
                "name": "stdout",
                "text": [
                  "\b\b\b\b\b\b\b\b\b\b\b\b\b\b\b\b\b\b\b\b\b\b\b\b\b\b\b\b\b\b\b\b\b\b\b\b\b\b\b\b\b\b\b\b\b\b\b\b\b\b\b\b\b\b\b\b\b\b\b\b\b\b\b\b\b\b\b\b\b\b\b\b\b\b\b\b\b\b\b\b\b\b\b\b\r600/600 [==============================] - 2s 3ms/step - loss: 2.5049 - accuracy: 0.1124 - val_loss: 2.4964 - val_accuracy: 0.1135\n"
                ]
              },
              {
                "output_type": "stream",
                "name": "stdout",
                "text": [
                  "Epoch 17/20\n"
                ]
              },
              {
                "output_type": "stream",
                "name": "stdout",
                "text": [
                  "\r  1/600 [..............................] - ETA: 5s - loss: 2.4942 - accuracy: 0.1100"
                ]
              },
              {
                "output_type": "stream",
                "name": "stdout",
                "text": [
                  "\b\b\b\b\b\b\b\b\b\b\b\b\b\b\b\b\b\b\b\b\b\b\b\b\b\b\b\b\b\b\b\b\b\b\b\b\b\b\b\b\b\b\b\b\b\b\b\b\b\b\b\b\b\b\b\b\b\b\b\b\b\b\b\b\b\b\b\b\b\b\b\b\b\b\b\b\b\b\b\b\b\b\b\b\r 22/600 [>.............................] - ETA: 1s - loss: 2.4950 - accuracy: 0.1164"
                ]
              },
              {
                "output_type": "stream",
                "name": "stdout",
                "text": [
                  "\b\b\b\b\b\b\b\b\b\b\b\b\b\b\b\b\b\b\b\b\b\b\b\b\b\b\b\b\b\b\b\b\b\b\b\b\b\b\b\b\b\b\b\b\b\b\b\b\b\b\b\b\b\b\b\b\b\b\b\b\b\b\b\b\b\b\b\b\b\b\b\b\b\b\b\b\b\b\b\b\b\b\b\b\r 47/600 [=>............................] - ETA: 1s - loss: 2.4958 - accuracy: 0.1145"
                ]
              },
              {
                "output_type": "stream",
                "name": "stdout",
                "text": [
                  "\b\b\b\b\b\b\b\b\b\b\b\b\b\b\b\b\b\b\b\b\b\b\b\b\b\b\b\b\b\b\b\b\b\b\b\b\b\b\b\b\b\b\b\b\b\b\b\b\b\b\b\b\b\b\b\b\b\b\b\b\b\b\b\b\b\b\b\b\b\b\b\b\b\b\b\b\b\b\b\b\b\b\b\b\r 65/600 [==>...........................] - ETA: 1s - loss: 2.4957 - accuracy: 0.1134"
                ]
              },
              {
                "output_type": "stream",
                "name": "stdout",
                "text": [
                  "\b\b\b\b\b\b\b\b\b\b\b\b\b\b\b\b\b\b\b\b\b\b\b\b\b\b\b\b\b\b\b\b\b\b\b\b\b\b\b\b\b\b\b\b\b\b\b\b\b\b\b\b\b\b\b\b\b\b\b\b\b\b\b\b\b\b\b\b\b\b\b\b\b\b\b\b\b\b\b\b\b\b\b\b\r 84/600 [===>..........................] - ETA: 1s - loss: 2.4952 - accuracy: 0.1161"
                ]
              },
              {
                "output_type": "stream",
                "name": "stdout",
                "text": [
                  "\b\b\b\b\b\b\b\b\b\b\b\b\b\b\b\b\b\b\b\b\b\b\b\b\b\b\b\b\b\b\b\b\b\b\b\b\b\b\b\b\b\b\b\b\b\b\b\b\b\b\b\b\b\b\b\b\b\b\b\b\b\b\b\b\b\b\b\b\b\b\b\b\b\b\b\b\b\b\b\b\b\b\b\b\r106/600 [====>.........................] - ETA: 1s - loss: 2.4956 - accuracy: 0.1118"
                ]
              },
              {
                "output_type": "stream",
                "name": "stdout",
                "text": [
                  "\b\b\b\b\b\b\b\b\b\b\b\b\b\b\b\b\b\b\b\b\b\b\b\b\b\b\b\b\b\b\b\b\b\b\b\b\b\b\b\b\b\b\b\b\b\b\b\b\b\b\b\b\b\b\b\b\b\b\b\b\b\b\b\b\b\b\b\b\b\b\b\b\b\b\b\b\b\b\b\b\b\b\b\b\r127/600 [=====>........................] - ETA: 1s - loss: 2.4954 - accuracy: 0.1109"
                ]
              },
              {
                "output_type": "stream",
                "name": "stdout",
                "text": [
                  "\b\b\b\b\b\b\b\b\b\b\b\b\b\b\b\b\b\b\b\b\b\b\b\b\b\b\b\b\b\b\b\b\b\b\b\b\b\b\b\b\b\b\b\b\b\b\b\b\b\b\b\b\b\b\b\b\b\b\b\b\b\b\b\b\b\b\b\b\b\b\b\b\b\b\b\b\b\b\b\b\b\b\b\b\r150/600 [======>.......................] - ETA: 1s - loss: 2.4950 - accuracy: 0.1127"
                ]
              },
              {
                "output_type": "stream",
                "name": "stdout",
                "text": [
                  "\b\b\b\b\b\b\b\b\b\b\b\b\b\b\b\b\b\b\b\b\b\b\b\b\b\b\b\b\b\b\b\b\b\b\b\b\b\b\b\b\b\b\b\b\b\b\b\b\b\b\b\b\b\b\b\b\b\b\b\b\b\b\b\b\b\b\b\b\b\b\b\b\b\b\b\b\b\b\b\b\b\b\b\b\r173/600 [=======>......................] - ETA: 1s - loss: 2.4948 - accuracy: 0.1128"
                ]
              },
              {
                "output_type": "stream",
                "name": "stdout",
                "text": [
                  "\b\b\b\b\b\b\b\b\b\b\b\b\b\b\b\b\b\b\b\b\b\b\b\b\b\b\b\b\b\b\b\b\b\b\b\b\b\b\b\b\b\b\b\b\b\b\b\b\b\b\b\b\b\b\b\b\b\b\b\b\b\b\b\b\b\b\b\b\b\b\b\b\b\b\b\b\b\b\b\b\b\b\b\b\r192/600 [========>.....................] - ETA: 0s - loss: 2.4948 - accuracy: 0.1122"
                ]
              },
              {
                "output_type": "stream",
                "name": "stdout",
                "text": [
                  "\b\b\b\b\b\b\b\b\b\b\b\b\b\b\b\b\b\b\b\b\b\b\b\b\b\b\b\b\b\b\b\b\b\b\b\b\b\b\b\b\b\b\b\b\b\b\b\b\b\b\b\b\b\b\b\b\b\b\b\b\b\b\b\b\b\b\b\b\b\b\b\b\b\b\b\b\b\b\b\b\b\b\b\b\r211/600 [=========>....................] - ETA: 0s - loss: 2.4945 - accuracy: 0.1120"
                ]
              },
              {
                "output_type": "stream",
                "name": "stdout",
                "text": [
                  "\b\b\b\b\b\b\b\b\b\b\b\b\b\b\b\b\b\b\b\b\b\b\b\b\b\b\b\b\b\b\b\b\b\b\b\b\b\b\b\b\b\b\b\b\b\b\b\b\b\b\b\b\b\b\b\b\b\b\b\b\b\b\b\b\b\b\b\b\b\b\b\b\b\b\b\b\b\b\b\b\b\b\b\b\r234/600 [==========>...................] - ETA: 0s - loss: 2.4944 - accuracy: 0.1112"
                ]
              },
              {
                "output_type": "stream",
                "name": "stdout",
                "text": [
                  "\b\b\b\b\b\b\b\b\b\b\b\b\b\b\b\b\b\b\b\b\b\b\b\b\b\b\b\b\b\b\b\b\b\b\b\b\b\b\b\b\b\b\b\b\b\b\b\b\b\b\b\b\b\b\b\b\b\b\b\b\b\b\b\b\b\b\b\b\b\b\b\b\b\b\b\b\b\b\b\b\b\b\b\b\r255/600 [===========>..................] - ETA: 0s - loss: 2.4943 - accuracy: 0.1112"
                ]
              },
              {
                "output_type": "stream",
                "name": "stdout",
                "text": [
                  "\b\b\b\b\b\b\b\b\b\b\b\b\b\b\b\b\b\b\b\b\b\b\b\b\b\b\b\b\b\b\b\b\b\b\b\b\b\b\b\b\b\b\b\b\b\b\b\b\b\b\b\b\b\b\b\b\b\b\b\b\b\b\b\b\b\b\b\b\b\b\b\b\b\b\b\b\b\b\b\b\b\b\b\b\r278/600 [============>.................] - ETA: 0s - loss: 2.4940 - accuracy: 0.1115"
                ]
              },
              {
                "output_type": "stream",
                "name": "stdout",
                "text": [
                  "\b\b\b\b\b\b\b\b\b\b\b\b\b\b\b\b\b\b\b\b\b\b\b\b\b\b\b\b\b\b\b\b\b\b\b\b\b\b\b\b\b\b\b\b\b\b\b\b\b\b\b\b\b\b\b\b\b\b\b\b\b\b\b\b\b\b\b\b\b\b\b\b\b\b\b\b\b\b\b\b\b\b\b\b\r302/600 [==============>...............] - ETA: 0s - loss: 2.4937 - accuracy: 0.1122"
                ]
              },
              {
                "output_type": "stream",
                "name": "stdout",
                "text": [
                  "\b\b\b\b\b\b\b\b\b\b\b\b\b\b\b\b\b\b\b\b\b\b\b\b\b\b\b\b\b\b\b\b\b\b\b\b\b\b\b\b\b\b\b\b\b\b\b\b\b\b\b\b\b\b\b\b\b\b\b\b\b\b\b\b\b\b\b\b\b\b\b\b\b\b\b\b\b\b\b\b\b\b\b\b\r321/600 [===============>..............] - ETA: 0s - loss: 2.4935 - accuracy: 0.1126"
                ]
              },
              {
                "output_type": "stream",
                "name": "stdout",
                "text": [
                  "\b\b\b\b\b\b\b\b\b\b\b\b\b\b\b\b\b\b\b\b\b\b\b\b\b\b\b\b\b\b\b\b\b\b\b\b\b\b\b\b\b\b\b\b\b\b\b\b\b\b\b\b\b\b\b\b\b\b\b\b\b\b\b\b\b\b\b\b\b\b\b\b\b\b\b\b\b\b\b\b\b\b\b\b\r343/600 [================>.............] - ETA: 0s - loss: 2.4933 - accuracy: 0.1120"
                ]
              },
              {
                "output_type": "stream",
                "name": "stdout",
                "text": [
                  "\b\b\b\b\b\b\b\b\b\b\b\b\b\b\b\b\b\b\b\b\b\b\b\b\b\b\b\b\b\b\b\b\b\b\b\b\b\b\b\b\b\b\b\b\b\b\b\b\b\b\b\b\b\b\b\b\b\b\b\b\b\b\b\b\b\b\b\b\b\b\b\b\b\b\b\b\b\b\b\b\b\b\b\b\r366/600 [=================>............] - ETA: 0s - loss: 2.4930 - accuracy: 0.1119"
                ]
              },
              {
                "output_type": "stream",
                "name": "stdout",
                "text": [
                  "\b\b\b\b\b\b\b\b\b\b\b\b\b\b\b\b\b\b\b\b\b\b\b\b\b\b\b\b\b\b\b\b\b\b\b\b\b\b\b\b\b\b\b\b\b\b\b\b\b\b\b\b\b\b\b\b\b\b\b\b\b\b\b\b\b\b\b\b\b\b\b\b\b\b\b\b\b\b\b\b\b\b\b\b\r390/600 [==================>...........] - ETA: 0s - loss: 2.4929 - accuracy: 0.1122"
                ]
              },
              {
                "output_type": "stream",
                "name": "stdout",
                "text": [
                  "\b\b\b\b\b\b\b\b\b\b\b\b\b\b\b\b\b\b\b\b\b\b\b\b\b\b\b\b\b\b\b\b\b\b\b\b\b\b\b\b\b\b\b\b\b\b\b\b\b\b\b\b\b\b\b\b\b\b\b\b\b\b\b\b\b\b\b\b\b\b\b\b\b\b\b\b\b\b\b\b\b\b\b\b\r406/600 [===================>..........] - ETA: 0s - loss: 2.4926 - accuracy: 0.1123"
                ]
              },
              {
                "output_type": "stream",
                "name": "stdout",
                "text": [
                  "\b\b\b\b\b\b\b\b\b\b\b\b\b\b\b\b\b\b\b\b\b\b\b\b\b\b\b\b\b\b\b\b\b\b\b\b\b\b\b\b\b\b\b\b\b\b\b\b\b\b\b\b\b\b\b\b\b\b\b\b\b\b\b\b\b\b\b\b\b\b\b\b\b\b\b\b\b\b\b\b\b\b\b\b\r426/600 [====================>.........] - ETA: 0s - loss: 2.4925 - accuracy: 0.1123"
                ]
              },
              {
                "output_type": "stream",
                "name": "stdout",
                "text": [
                  "\b\b\b\b\b\b\b\b\b\b\b\b\b\b\b\b\b\b\b\b\b\b\b\b\b\b\b\b\b\b\b\b\b\b\b\b\b\b\b\b\b\b\b\b\b\b\b\b\b\b\b\b\b\b\b\b\b\b\b\b\b\b\b\b\b\b\b\b\b\b\b\b\b\b\b\b\b\b\b\b\b\b\b\b\r451/600 [=====================>........] - ETA: 0s - loss: 2.4923 - accuracy: 0.1125"
                ]
              },
              {
                "output_type": "stream",
                "name": "stdout",
                "text": [
                  "\b\b\b\b\b\b\b\b\b\b\b\b\b\b\b\b\b\b\b\b\b\b\b\b\b\b\b\b\b\b\b\b\b\b\b\b\b\b\b\b\b\b\b\b\b\b\b\b\b\b\b\b\b\b\b\b\b\b\b\b\b\b\b\b\b\b\b\b\b\b\b\b\b\b\b\b\b\b\b\b\b\b\b\b\r475/600 [======================>.......] - ETA: 0s - loss: 2.4922 - accuracy: 0.1119"
                ]
              },
              {
                "output_type": "stream",
                "name": "stdout",
                "text": [
                  "\b\b\b\b\b\b\b\b\b\b\b\b\b\b\b\b\b\b\b\b\b\b\b\b\b\b\b\b\b\b\b\b\b\b\b\b\b\b\b\b\b\b\b\b\b\b\b\b\b\b\b\b\b\b\b\b\b\b\b\b\b\b\b\b\b\b\b\b\b\b\b\b\b\b\b\b\b\b\b\b\b\b\b\b\r501/600 [========================>.....] - ETA: 0s - loss: 2.4919 - accuracy: 0.1122"
                ]
              },
              {
                "output_type": "stream",
                "name": "stdout",
                "text": [
                  "\b\b\b\b\b\b\b\b\b\b\b\b\b\b\b\b\b\b\b\b\b\b\b\b\b\b\b\b\b\b\b\b\b\b\b\b\b\b\b\b\b\b\b\b\b\b\b\b\b\b\b\b\b\b\b\b\b\b\b\b\b\b\b\b\b\b\b\b\b\b\b\b\b\b\b\b\b\b\b\b\b\b\b\b\r526/600 [=========================>....] - ETA: 0s - loss: 2.4916 - accuracy: 0.1124"
                ]
              },
              {
                "output_type": "stream",
                "name": "stdout",
                "text": [
                  "\b\b\b\b\b\b\b\b\b\b\b\b\b\b\b\b\b\b\b\b\b\b\b\b\b\b\b\b\b\b\b\b\b\b\b\b\b\b\b\b\b\b\b\b\b\b\b\b\b\b\b\b\b\b\b\b\b\b\b\b\b\b\b\b\b\b\b\b\b\b\b\b\b\b\b\b\b\b\b\b\b\b\b\b\r547/600 [==========================>...] - ETA: 0s - loss: 2.4915 - accuracy: 0.1121"
                ]
              },
              {
                "output_type": "stream",
                "name": "stdout",
                "text": [
                  "\b\b\b\b\b\b\b\b\b\b\b\b\b\b\b\b\b\b\b\b\b\b\b\b\b\b\b\b\b\b\b\b\b\b\b\b\b\b\b\b\b\b\b\b\b\b\b\b\b\b\b\b\b\b\b\b\b\b\b\b\b\b\b\b\b\b\b\b\b\b\b\b\b\b\b\b\b\b\b\b\b\b\b\b\r572/600 [===========================>..] - ETA: 0s - loss: 2.4913 - accuracy: 0.1119"
                ]
              },
              {
                "output_type": "stream",
                "name": "stdout",
                "text": [
                  "\b\b\b\b\b\b\b\b\b\b\b\b\b\b\b\b\b\b\b\b\b\b\b\b\b\b\b\b\b\b\b\b\b\b\b\b\b\b\b\b\b\b\b\b\b\b\b\b\b\b\b\b\b\b\b\b\b\b\b\b\b\b\b\b\b\b\b\b\b\b\b\b\b\b\b\b\b\b\b\b\b\b\b\b\r595/600 [============================>.] - ETA: 0s - loss: 2.4911 - accuracy: 0.1121"
                ]
              },
              {
                "output_type": "stream",
                "name": "stdout",
                "text": [
                  "\b\b\b\b\b\b\b\b\b\b\b\b\b\b\b\b\b\b\b\b\b\b\b\b\b\b\b\b\b\b\b\b\b\b\b\b\b\b\b\b\b\b\b\b\b\b\b\b\b\b\b\b\b\b\b\b\b\b\b\b\b\b\b\b\b\b\b\b\b\b\b\b\b\b\b\b\b\b\b\b\b\b\b\b\r600/600 [==============================] - 2s 3ms/step - loss: 2.4910 - accuracy: 0.1124 - val_loss: 2.4853 - val_accuracy: 0.1135\n"
                ]
              },
              {
                "output_type": "stream",
                "name": "stdout",
                "text": [
                  "Epoch 18/20\n"
                ]
              },
              {
                "output_type": "stream",
                "name": "stdout",
                "text": [
                  "\r  1/600 [..............................] - ETA: 5s - loss: 2.4895 - accuracy: 0.0900"
                ]
              },
              {
                "output_type": "stream",
                "name": "stdout",
                "text": [
                  "\b\b\b\b\b\b\b\b\b\b\b\b\b\b\b\b\b\b\b\b\b\b\b\b\b\b\b\b\b\b\b\b\b\b\b\b\b\b\b\b\b\b\b\b\b\b\b\b\b\b\b\b\b\b\b\b\b\b\b\b\b\b\b\b\b\b\b\b\b\b\b\b\b\b\b\b\b\b\b\b\b\b\b\b\r 22/600 [>.............................] - ETA: 1s - loss: 2.4857 - accuracy: 0.1055"
                ]
              },
              {
                "output_type": "stream",
                "name": "stdout",
                "text": [
                  "\b\b\b\b\b\b\b\b\b\b\b\b\b\b\b\b\b\b\b\b\b\b\b\b\b\b\b\b\b\b\b\b\b\b\b\b\b\b\b\b\b\b\b\b\b\b\b\b\b\b\b\b\b\b\b\b\b\b\b\b\b\b\b\b\b\b\b\b\b\b\b\b\b\b\b\b\b\b\b\b\b\b\b\b\r 44/600 [=>............................] - ETA: 1s - loss: 2.4860 - accuracy: 0.1027"
                ]
              },
              {
                "output_type": "stream",
                "name": "stdout",
                "text": [
                  "\b\b\b\b\b\b\b\b\b\b\b\b\b\b\b\b\b\b\b\b\b\b\b\b\b\b\b\b\b\b\b\b\b\b\b\b\b\b\b\b\b\b\b\b\b\b\b\b\b\b\b\b\b\b\b\b\b\b\b\b\b\b\b\b\b\b\b\b\b\b\b\b\b\b\b\b\b\b\b\b\b\b\b\b\r 70/600 [==>...........................] - ETA: 1s - loss: 2.4857 - accuracy: 0.1110"
                ]
              },
              {
                "output_type": "stream",
                "name": "stdout",
                "text": [
                  "\b\b\b\b\b\b\b\b\b\b\b\b\b\b\b\b\b\b\b\b\b\b\b\b\b\b\b\b\b\b\b\b\b\b\b\b\b\b\b\b\b\b\b\b\b\b\b\b\b\b\b\b\b\b\b\b\b\b\b\b\b\b\b\b\b\b\b\b\b\b\b\b\b\b\b\b\b\b\b\b\b\b\b\b\r 94/600 [===>..........................] - ETA: 1s - loss: 2.4855 - accuracy: 0.1100"
                ]
              },
              {
                "output_type": "stream",
                "name": "stdout",
                "text": [
                  "\b\b\b\b\b\b\b\b\b\b\b\b\b\b\b\b\b\b\b\b\b\b\b\b\b\b\b\b\b\b\b\b\b\b\b\b\b\b\b\b\b\b\b\b\b\b\b\b\b\b\b\b\b\b\b\b\b\b\b\b\b\b\b\b\b\b\b\b\b\b\b\b\b\b\b\b\b\b\b\b\b\b\b\b\r114/600 [====>.........................] - ETA: 1s - loss: 2.4851 - accuracy: 0.1113"
                ]
              },
              {
                "output_type": "stream",
                "name": "stdout",
                "text": [
                  "\b\b\b\b\b\b\b\b\b\b\b\b\b\b\b\b\b\b\b\b\b\b\b\b\b\b\b\b\b\b\b\b\b\b\b\b\b\b\b\b\b\b\b\b\b\b\b\b\b\b\b\b\b\b\b\b\b\b\b\b\b\b\b\b\b\b\b\b\b\b\b\b\b\b\b\b\b\b\b\b\b\b\b\b\r139/600 [=====>........................] - ETA: 1s - loss: 2.4845 - accuracy: 0.1119"
                ]
              },
              {
                "output_type": "stream",
                "name": "stdout",
                "text": [
                  "\b\b\b\b\b\b\b\b\b\b\b\b\b\b\b\b\b\b\b\b\b\b\b\b\b\b\b\b\b\b\b\b\b\b\b\b\b\b\b\b\b\b\b\b\b\b\b\b\b\b\b\b\b\b\b\b\b\b\b\b\b\b\b\b\b\b\b\b\b\b\b\b\b\b\b\b\b\b\b\b\b\b\b\b\r162/600 [=======>......................] - ETA: 0s - loss: 2.4842 - accuracy: 0.1119"
                ]
              },
              {
                "output_type": "stream",
                "name": "stdout",
                "text": [
                  "\b\b\b\b\b\b\b\b\b\b\b\b\b\b\b\b\b\b\b\b\b\b\b\b\b\b\b\b\b\b\b\b\b\b\b\b\b\b\b\b\b\b\b\b\b\b\b\b\b\b\b\b\b\b\b\b\b\b\b\b\b\b\b\b\b\b\b\b\b\b\b\b\b\b\b\b\b\b\b\b\b\b\b\b\r181/600 [========>.....................] - ETA: 0s - loss: 2.4839 - accuracy: 0.1124"
                ]
              },
              {
                "output_type": "stream",
                "name": "stdout",
                "text": [
                  "\b\b\b\b\b\b\b\b\b\b\b\b\b\b\b\b\b\b\b\b\b\b\b\b\b\b\b\b\b\b\b\b\b\b\b\b\b\b\b\b\b\b\b\b\b\b\b\b\b\b\b\b\b\b\b\b\b\b\b\b\b\b\b\b\b\b\b\b\b\b\b\b\b\b\b\b\b\b\b\b\b\b\b\b\r203/600 [=========>....................] - ETA: 0s - loss: 2.4838 - accuracy: 0.1115"
                ]
              },
              {
                "output_type": "stream",
                "name": "stdout",
                "text": [
                  "\b\b\b\b\b\b\b\b\b\b\b\b\b\b\b\b\b\b\b\b\b\b\b\b\b\b\b\b\b\b\b\b\b\b\b\b\b\b\b\b\b\b\b\b\b\b\b\b\b\b\b\b\b\b\b\b\b\b\b\b\b\b\b\b\b\b\b\b\b\b\b\b\b\b\b\b\b\b\b\b\b\b\b\b\r228/600 [==========>...................] - ETA: 0s - loss: 2.4836 - accuracy: 0.1113"
                ]
              },
              {
                "output_type": "stream",
                "name": "stdout",
                "text": [
                  "\b\b\b\b\b\b\b\b\b\b\b\b\b\b\b\b\b\b\b\b\b\b\b\b\b\b\b\b\b\b\b\b\b\b\b\b\b\b\b\b\b\b\b\b\b\b\b\b\b\b\b\b\b\b\b\b\b\b\b\b\b\b\b\b\b\b\b\b\b\b\b\b\b\b\b\b\b\b\b\b\b\b\b\b\r254/600 [===========>..................] - ETA: 0s - loss: 2.4834 - accuracy: 0.1112"
                ]
              },
              {
                "output_type": "stream",
                "name": "stdout",
                "text": [
                  "\b\b\b\b\b\b\b\b\b\b\b\b\b\b\b\b\b\b\b\b\b\b\b\b\b\b\b\b\b\b\b\b\b\b\b\b\b\b\b\b\b\b\b\b\b\b\b\b\b\b\b\b\b\b\b\b\b\b\b\b\b\b\b\b\b\b\b\b\b\b\b\b\b\b\b\b\b\b\b\b\b\b\b\b\r279/600 [============>.................] - ETA: 0s - loss: 2.4832 - accuracy: 0.1115"
                ]
              },
              {
                "output_type": "stream",
                "name": "stdout",
                "text": [
                  "\b\b\b\b\b\b\b\b\b\b\b\b\b\b\b\b\b\b\b\b\b\b\b\b\b\b\b\b\b\b\b\b\b\b\b\b\b\b\b\b\b\b\b\b\b\b\b\b\b\b\b\b\b\b\b\b\b\b\b\b\b\b\b\b\b\b\b\b\b\b\b\b\b\b\b\b\b\b\b\b\b\b\b\b\r305/600 [==============>...............] - ETA: 0s - loss: 2.4830 - accuracy: 0.1111"
                ]
              },
              {
                "output_type": "stream",
                "name": "stdout",
                "text": [
                  "\b\b\b\b\b\b\b\b\b\b\b\b\b\b\b\b\b\b\b\b\b\b\b\b\b\b\b\b\b\b\b\b\b\b\b\b\b\b\b\b\b\b\b\b\b\b\b\b\b\b\b\b\b\b\b\b\b\b\b\b\b\b\b\b\b\b\b\b\b\b\b\b\b\b\b\b\b\b\b\b\b\b\b\b\r328/600 [===============>..............] - ETA: 0s - loss: 2.4828 - accuracy: 0.1116"
                ]
              },
              {
                "output_type": "stream",
                "name": "stdout",
                "text": [
                  "\b\b\b\b\b\b\b\b\b\b\b\b\b\b\b\b\b\b\b\b\b\b\b\b\b\b\b\b\b\b\b\b\b\b\b\b\b\b\b\b\b\b\b\b\b\b\b\b\b\b\b\b\b\b\b\b\b\b\b\b\b\b\b\b\b\b\b\b\b\b\b\b\b\b\b\b\b\b\b\b\b\b\b\b\r350/600 [================>.............] - ETA: 0s - loss: 2.4825 - accuracy: 0.1114"
                ]
              },
              {
                "output_type": "stream",
                "name": "stdout",
                "text": [
                  "\b\b\b\b\b\b\b\b\b\b\b\b\b\b\b\b\b\b\b\b\b\b\b\b\b\b\b\b\b\b\b\b\b\b\b\b\b\b\b\b\b\b\b\b\b\b\b\b\b\b\b\b\b\b\b\b\b\b\b\b\b\b\b\b\b\b\b\b\b\b\b\b\b\b\b\b\b\b\b\b\b\b\b\b\r373/600 [=================>............] - ETA: 0s - loss: 2.4822 - accuracy: 0.1115"
                ]
              },
              {
                "output_type": "stream",
                "name": "stdout",
                "text": [
                  "\b\b\b\b\b\b\b\b\b\b\b\b\b\b\b\b\b\b\b\b\b\b\b\b\b\b\b\b\b\b\b\b\b\b\b\b\b\b\b\b\b\b\b\b\b\b\b\b\b\b\b\b\b\b\b\b\b\b\b\b\b\b\b\b\b\b\b\b\b\b\b\b\b\b\b\b\b\b\b\b\b\b\b\b\r395/600 [==================>...........] - ETA: 0s - loss: 2.4820 - accuracy: 0.1116"
                ]
              },
              {
                "output_type": "stream",
                "name": "stdout",
                "text": [
                  "\b\b\b\b\b\b\b\b\b\b\b\b\b\b\b\b\b\b\b\b\b\b\b\b\b\b\b\b\b\b\b\b\b\b\b\b\b\b\b\b\b\b\b\b\b\b\b\b\b\b\b\b\b\b\b\b\b\b\b\b\b\b\b\b\b\b\b\b\b\b\b\b\b\b\b\b\b\b\b\b\b\b\b\b\r412/600 [===================>..........] - ETA: 0s - loss: 2.4819 - accuracy: 0.1117"
                ]
              },
              {
                "output_type": "stream",
                "name": "stdout",
                "text": [
                  "\b\b\b\b\b\b\b\b\b\b\b\b\b\b\b\b\b\b\b\b\b\b\b\b\b\b\b\b\b\b\b\b\b\b\b\b\b\b\b\b\b\b\b\b\b\b\b\b\b\b\b\b\b\b\b\b\b\b\b\b\b\b\b\b\b\b\b\b\b\b\b\b\b\b\b\b\b\b\b\b\b\b\b\b\r430/600 [====================>.........] - ETA: 0s - loss: 2.4817 - accuracy: 0.1115"
                ]
              },
              {
                "output_type": "stream",
                "name": "stdout",
                "text": [
                  "\b\b\b\b\b\b\b\b\b\b\b\b\b\b\b\b\b\b\b\b\b\b\b\b\b\b\b\b\b\b\b\b\b\b\b\b\b\b\b\b\b\b\b\b\b\b\b\b\b\b\b\b\b\b\b\b\b\b\b\b\b\b\b\b\b\b\b\b\b\b\b\b\b\b\b\b\b\b\b\b\b\b\b\b\r450/600 [=====================>........] - ETA: 0s - loss: 2.4815 - accuracy: 0.1117"
                ]
              },
              {
                "output_type": "stream",
                "name": "stdout",
                "text": [
                  "\b\b\b\b\b\b\b\b\b\b\b\b\b\b\b\b\b\b\b\b\b\b\b\b\b\b\b\b\b\b\b\b\b\b\b\b\b\b\b\b\b\b\b\b\b\b\b\b\b\b\b\b\b\b\b\b\b\b\b\b\b\b\b\b\b\b\b\b\b\b\b\b\b\b\b\b\b\b\b\b\b\b\b\b\r469/600 [======================>.......] - ETA: 0s - loss: 2.4813 - accuracy: 0.1117"
                ]
              },
              {
                "output_type": "stream",
                "name": "stdout",
                "text": [
                  "\b\b\b\b\b\b\b\b\b\b\b\b\b\b\b\b\b\b\b\b\b\b\b\b\b\b\b\b\b\b\b\b\b\b\b\b\b\b\b\b\b\b\b\b\b\b\b\b\b\b\b\b\b\b\b\b\b\b\b\b\b\b\b\b\b\b\b\b\b\b\b\b\b\b\b\b\b\b\b\b\b\b\b\b\r491/600 [=======================>......] - ETA: 0s - loss: 2.4811 - accuracy: 0.1121"
                ]
              },
              {
                "output_type": "stream",
                "name": "stdout",
                "text": [
                  "\b\b\b\b\b\b\b\b\b\b\b\b\b\b\b\b\b\b\b\b\b\b\b\b\b\b\b\b\b\b\b\b\b\b\b\b\b\b\b\b\b\b\b\b\b\b\b\b\b\b\b\b\b\b\b\b\b\b\b\b\b\b\b\b\b\b\b\b\b\b\b\b\b\b\b\b\b\b\b\b\b\b\b\b\r515/600 [========================>.....] - ETA: 0s - loss: 2.4809 - accuracy: 0.1126"
                ]
              },
              {
                "output_type": "stream",
                "name": "stdout",
                "text": [
                  "\b\b\b\b\b\b\b\b\b\b\b\b\b\b\b\b\b\b\b\b\b\b\b\b\b\b\b\b\b\b\b\b\b\b\b\b\b\b\b\b\b\b\b\b\b\b\b\b\b\b\b\b\b\b\b\b\b\b\b\b\b\b\b\b\b\b\b\b\b\b\b\b\b\b\b\b\b\b\b\b\b\b\b\b\r533/600 [=========================>....] - ETA: 0s - loss: 2.4807 - accuracy: 0.1126"
                ]
              },
              {
                "output_type": "stream",
                "name": "stdout",
                "text": [
                  "\b\b\b\b\b\b\b\b\b\b\b\b\b\b\b\b\b\b\b\b\b\b\b\b\b\b\b\b\b\b\b\b\b\b\b\b\b\b\b\b\b\b\b\b\b\b\b\b\b\b\b\b\b\b\b\b\b\b\b\b\b\b\b\b\b\b\b\b\b\b\b\b\b\b\b\b\b\b\b\b\b\b\b\b\r556/600 [==========================>...] - ETA: 0s - loss: 2.4806 - accuracy: 0.1125"
                ]
              },
              {
                "output_type": "stream",
                "name": "stdout",
                "text": [
                  "\b\b\b\b\b\b\b\b\b\b\b\b\b\b\b\b\b\b\b\b\b\b\b\b\b\b\b\b\b\b\b\b\b\b\b\b\b\b\b\b\b\b\b\b\b\b\b\b\b\b\b\b\b\b\b\b\b\b\b\b\b\b\b\b\b\b\b\b\b\b\b\b\b\b\b\b\b\b\b\b\b\b\b\b\r577/600 [===========================>..] - ETA: 0s - loss: 2.4804 - accuracy: 0.1122"
                ]
              },
              {
                "output_type": "stream",
                "name": "stdout",
                "text": [
                  "\b\b\b\b\b\b\b\b\b\b\b\b\b\b\b\b\b\b\b\b\b\b\b\b\b\b\b\b\b\b\b\b\b\b\b\b\b\b\b\b\b\b\b\b\b\b\b\b\b\b\b\b\b\b\b\b\b\b\b\b\b\b\b\b\b\b\b\b\b\b\b\b\b\b\b\b\b\b\b\b\b\b\b\b\r597/600 [============================>.] - ETA: 0s - loss: 2.4802 - accuracy: 0.1123"
                ]
              },
              {
                "output_type": "stream",
                "name": "stdout",
                "text": [
                  "\b\b\b\b\b\b\b\b\b\b\b\b\b\b\b\b\b\b\b\b\b\b\b\b\b\b\b\b\b\b\b\b\b\b\b\b\b\b\b\b\b\b\b\b\b\b\b\b\b\b\b\b\b\b\b\b\b\b\b\b\b\b\b\b\b\b\b\b\b\b\b\b\b\b\b\b\b\b\b\b\b\b\b\b\r600/600 [==============================] - 2s 3ms/step - loss: 2.4802 - accuracy: 0.1124 - val_loss: 2.4750 - val_accuracy: 0.1135\n"
                ]
              },
              {
                "output_type": "stream",
                "name": "stdout",
                "text": [
                  "Epoch 19/20\n"
                ]
              },
              {
                "output_type": "stream",
                "name": "stdout",
                "text": [
                  "\r  1/600 [..............................] - ETA: 7s - loss: 2.4766 - accuracy: 0.1400"
                ]
              },
              {
                "output_type": "stream",
                "name": "stdout",
                "text": [
                  "\b\b\b\b\b\b\b\b\b\b\b\b\b\b\b\b\b\b\b\b\b\b\b\b\b\b\b\b\b\b\b\b\b\b\b\b\b\b\b\b\b\b\b\b\b\b\b\b\b\b\b\b\b\b\b\b\b\b\b\b\b\b\b\b\b\b\b\b\b\b\b\b\b\b\b\b\b\b\b\b\b\b\b\b\r 24/600 [>.............................] - ETA: 1s - loss: 2.4761 - accuracy: 0.1158"
                ]
              },
              {
                "output_type": "stream",
                "name": "stdout",
                "text": [
                  "\b\b\b\b\b\b\b\b\b\b\b\b\b\b\b\b\b\b\b\b\b\b\b\b\b\b\b\b\b\b\b\b\b\b\b\b\b\b\b\b\b\b\b\b\b\b\b\b\b\b\b\b\b\b\b\b\b\b\b\b\b\b\b\b\b\b\b\b\b\b\b\b\b\b\b\b\b\b\b\b\b\b\b\b\r 47/600 [=>............................] - ETA: 1s - loss: 2.4752 - accuracy: 0.1153"
                ]
              },
              {
                "output_type": "stream",
                "name": "stdout",
                "text": [
                  "\b\b\b\b\b\b\b\b\b\b\b\b\b\b\b\b\b\b\b\b\b\b\b\b\b\b\b\b\b\b\b\b\b\b\b\b\b\b\b\b\b\b\b\b\b\b\b\b\b\b\b\b\b\b\b\b\b\b\b\b\b\b\b\b\b\b\b\b\b\b\b\b\b\b\b\b\b\b\b\b\b\b\b\b\r 71/600 [==>...........................] - ETA: 1s - loss: 2.4748 - accuracy: 0.1152"
                ]
              },
              {
                "output_type": "stream",
                "name": "stdout",
                "text": [
                  "\b\b\b\b\b\b\b\b\b\b\b\b\b\b\b\b\b\b\b\b\b\b\b\b\b\b\b\b\b\b\b\b\b\b\b\b\b\b\b\b\b\b\b\b\b\b\b\b\b\b\b\b\b\b\b\b\b\b\b\b\b\b\b\b\b\b\b\b\b\b\b\b\b\b\b\b\b\b\b\b\b\b\b\b\r 90/600 [===>..........................] - ETA: 1s - loss: 2.4744 - accuracy: 0.1144"
                ]
              },
              {
                "output_type": "stream",
                "name": "stdout",
                "text": [
                  "\b\b\b\b\b\b\b\b\b\b\b\b\b\b\b\b\b\b\b\b\b\b\b\b\b\b\b\b\b\b\b\b\b\b\b\b\b\b\b\b\b\b\b\b\b\b\b\b\b\b\b\b\b\b\b\b\b\b\b\b\b\b\b\b\b\b\b\b\b\b\b\b\b\b\b\b\b\b\b\b\b\b\b\b\r109/600 [====>.........................] - ETA: 1s - loss: 2.4741 - accuracy: 0.1145"
                ]
              },
              {
                "output_type": "stream",
                "name": "stdout",
                "text": [
                  "\b\b\b\b\b\b\b\b\b\b\b\b\b\b\b\b\b\b\b\b\b\b\b\b\b\b\b\b\b\b\b\b\b\b\b\b\b\b\b\b\b\b\b\b\b\b\b\b\b\b\b\b\b\b\b\b\b\b\b\b\b\b\b\b\b\b\b\b\b\b\b\b\b\b\b\b\b\b\b\b\b\b\b\b\r129/600 [=====>........................] - ETA: 1s - loss: 2.4741 - accuracy: 0.1135"
                ]
              },
              {
                "output_type": "stream",
                "name": "stdout",
                "text": [
                  "\b\b\b\b\b\b\b\b\b\b\b\b\b\b\b\b\b\b\b\b\b\b\b\b\b\b\b\b\b\b\b\b\b\b\b\b\b\b\b\b\b\b\b\b\b\b\b\b\b\b\b\b\b\b\b\b\b\b\b\b\b\b\b\b\b\b\b\b\b\b\b\b\b\b\b\b\b\b\b\b\b\b\b\b\r152/600 [======>.......................] - ETA: 1s - loss: 2.4740 - accuracy: 0.1136"
                ]
              },
              {
                "output_type": "stream",
                "name": "stdout",
                "text": [
                  "\b\b\b\b\b\b\b\b\b\b\b\b\b\b\b\b\b\b\b\b\b\b\b\b\b\b\b\b\b\b\b\b\b\b\b\b\b\b\b\b\b\b\b\b\b\b\b\b\b\b\b\b\b\b\b\b\b\b\b\b\b\b\b\b\b\b\b\b\b\b\b\b\b\b\b\b\b\b\b\b\b\b\b\b\r166/600 [=======>......................] - ETA: 1s - loss: 2.4739 - accuracy: 0.1135"
                ]
              },
              {
                "output_type": "stream",
                "name": "stdout",
                "text": [
                  "\b\b\b\b\b\b\b\b\b\b\b\b\b\b\b\b\b\b\b\b\b\b\b\b\b\b\b\b\b\b\b\b\b\b\b\b\b\b\b\b\b\b\b\b\b\b\b\b\b\b\b\b\b\b\b\b\b\b\b\b\b\b\b\b\b\b\b\b\b\b\b\b\b\b\b\b\b\b\b\b\b\b\b\b\r185/600 [========>.....................] - ETA: 1s - loss: 2.4737 - accuracy: 0.1131"
                ]
              },
              {
                "output_type": "stream",
                "name": "stdout",
                "text": [
                  "\b\b\b\b\b\b\b\b\b\b\b\b\b\b\b\b\b\b\b\b\b\b\b\b\b\b\b\b\b\b\b\b\b\b\b\b\b\b\b\b\b\b\b\b\b\b\b\b\b\b\b\b\b\b\b\b\b\b\b\b\b\b\b\b\b\b\b\b\b\b\b\b\b\b\b\b\b\b\b\b\b\b\b\b\r202/600 [=========>....................] - ETA: 1s - loss: 2.4736 - accuracy: 0.1128"
                ]
              },
              {
                "output_type": "stream",
                "name": "stdout",
                "text": [
                  "\b\b\b\b\b\b\b\b\b\b\b\b\b\b\b\b\b\b\b\b\b\b\b\b\b\b\b\b\b\b\b\b\b\b\b\b\b\b\b\b\b\b\b\b\b\b\b\b\b\b\b\b\b\b\b\b\b\b\b\b\b\b\b\b\b\b\b\b\b\b\b\b\b\b\b\b\b\b\b\b\b\b\b\b\r224/600 [==========>...................] - ETA: 0s - loss: 2.4734 - accuracy: 0.1128"
                ]
              },
              {
                "output_type": "stream",
                "name": "stdout",
                "text": [
                  "\b\b\b\b\b\b\b\b\b\b\b\b\b\b\b\b\b\b\b\b\b\b\b\b\b\b\b\b\b\b\b\b\b\b\b\b\b\b\b\b\b\b\b\b\b\b\b\b\b\b\b\b\b\b\b\b\b\b\b\b\b\b\b\b\b\b\b\b\b\b\b\b\b\b\b\b\b\b\b\b\b\b\b\b\r243/600 [===========>..................] - ETA: 0s - loss: 2.4733 - accuracy: 0.1133"
                ]
              },
              {
                "output_type": "stream",
                "name": "stdout",
                "text": [
                  "\b\b\b\b\b\b\b\b\b\b\b\b\b\b\b\b\b\b\b\b\b\b\b\b\b\b\b\b\b\b\b\b\b\b\b\b\b\b\b\b\b\b\b\b\b\b\b\b\b\b\b\b\b\b\b\b\b\b\b\b\b\b\b\b\b\b\b\b\b\b\b\b\b\b\b\b\b\b\b\b\b\b\b\b\r265/600 [============>.................] - ETA: 0s - loss: 2.4731 - accuracy: 0.1132"
                ]
              },
              {
                "output_type": "stream",
                "name": "stdout",
                "text": [
                  "\b\b\b\b\b\b\b\b\b\b\b\b\b\b\b\b\b\b\b\b\b\b\b\b\b\b\b\b\b\b\b\b\b\b\b\b\b\b\b\b\b\b\b\b\b\b\b\b\b\b\b\b\b\b\b\b\b\b\b\b\b\b\b\b\b\b\b\b\b\b\b\b\b\b\b\b\b\b\b\b\b\b\b\b\r288/600 [=============>................] - ETA: 0s - loss: 2.4728 - accuracy: 0.1136"
                ]
              },
              {
                "output_type": "stream",
                "name": "stdout",
                "text": [
                  "\b\b\b\b\b\b\b\b\b\b\b\b\b\b\b\b\b\b\b\b\b\b\b\b\b\b\b\b\b\b\b\b\b\b\b\b\b\b\b\b\b\b\b\b\b\b\b\b\b\b\b\b\b\b\b\b\b\b\b\b\b\b\b\b\b\b\b\b\b\b\b\b\b\b\b\b\b\b\b\b\b\b\b\b\r311/600 [==============>...............] - ETA: 0s - loss: 2.4727 - accuracy: 0.1133"
                ]
              },
              {
                "output_type": "stream",
                "name": "stdout",
                "text": [
                  "\b\b\b\b\b\b\b\b\b\b\b\b\b\b\b\b\b\b\b\b\b\b\b\b\b\b\b\b\b\b\b\b\b\b\b\b\b\b\b\b\b\b\b\b\b\b\b\b\b\b\b\b\b\b\b\b\b\b\b\b\b\b\b\b\b\b\b\b\b\b\b\b\b\b\b\b\b\b\b\b\b\b\b\b\r332/600 [===============>..............] - ETA: 0s - loss: 2.4725 - accuracy: 0.1129"
                ]
              },
              {
                "output_type": "stream",
                "name": "stdout",
                "text": [
                  "\b\b\b\b\b\b\b\b\b\b\b\b\b\b\b\b\b\b\b\b\b\b\b\b\b\b\b\b\b\b\b\b\b\b\b\b\b\b\b\b\b\b\b\b\b\b\b\b\b\b\b\b\b\b\b\b\b\b\b\b\b\b\b\b\b\b\b\b\b\b\b\b\b\b\b\b\b\b\b\b\b\b\b\b\r348/600 [================>.............] - ETA: 0s - loss: 2.4725 - accuracy: 0.1124"
                ]
              },
              {
                "output_type": "stream",
                "name": "stdout",
                "text": [
                  "\b\b\b\b\b\b\b\b\b\b\b\b\b\b\b\b\b\b\b\b\b\b\b\b\b\b\b\b\b\b\b\b\b\b\b\b\b\b\b\b\b\b\b\b\b\b\b\b\b\b\b\b\b\b\b\b\b\b\b\b\b\b\b\b\b\b\b\b\b\b\b\b\b\b\b\b\b\b\b\b\b\b\b\b\r366/600 [=================>............] - ETA: 0s - loss: 2.4725 - accuracy: 0.1117"
                ]
              },
              {
                "output_type": "stream",
                "name": "stdout",
                "text": [
                  "\b\b\b\b\b\b\b\b\b\b\b\b\b\b\b\b\b\b\b\b\b\b\b\b\b\b\b\b\b\b\b\b\b\b\b\b\b\b\b\b\b\b\b\b\b\b\b\b\b\b\b\b\b\b\b\b\b\b\b\b\b\b\b\b\b\b\b\b\b\b\b\b\b\b\b\b\b\b\b\b\b\b\b\b\r389/600 [==================>...........] - ETA: 0s - loss: 2.4724 - accuracy: 0.1111"
                ]
              },
              {
                "output_type": "stream",
                "name": "stdout",
                "text": [
                  "\b\b\b\b\b\b\b\b\b\b\b\b\b\b\b\b\b\b\b\b\b\b\b\b\b\b\b\b\b\b\b\b\b\b\b\b\b\b\b\b\b\b\b\b\b\b\b\b\b\b\b\b\b\b\b\b\b\b\b\b\b\b\b\b\b\b\b\b\b\b\b\b\b\b\b\b\b\b\b\b\b\b\b\b\r412/600 [===================>..........] - ETA: 0s - loss: 2.4723 - accuracy: 0.1107"
                ]
              },
              {
                "output_type": "stream",
                "name": "stdout",
                "text": [
                  "\b\b\b\b\b\b\b\b\b\b\b\b\b\b\b\b\b\b\b\b\b\b\b\b\b\b\b\b\b\b\b\b\b\b\b\b\b\b\b\b\b\b\b\b\b\b\b\b\b\b\b\b\b\b\b\b\b\b\b\b\b\b\b\b\b\b\b\b\b\b\b\b\b\b\b\b\b\b\b\b\b\b\b\b\r434/600 [====================>.........] - ETA: 0s - loss: 2.4721 - accuracy: 0.1107"
                ]
              },
              {
                "output_type": "stream",
                "name": "stdout",
                "text": [
                  "\b\b\b\b\b\b\b\b\b\b\b\b\b\b\b\b\b\b\b\b\b\b\b\b\b\b\b\b\b\b\b\b\b\b\b\b\b\b\b\b\b\b\b\b\b\b\b\b\b\b\b\b\b\b\b\b\b\b\b\b\b\b\b\b\b\b\b\b\b\b\b\b\b\b\b\b\b\b\b\b\b\b\b\b\r455/600 [=====================>........] - ETA: 0s - loss: 2.4719 - accuracy: 0.1113"
                ]
              },
              {
                "output_type": "stream",
                "name": "stdout",
                "text": [
                  "\b\b\b\b\b\b\b\b\b\b\b\b\b\b\b\b\b\b\b\b\b\b\b\b\b\b\b\b\b\b\b\b\b\b\b\b\b\b\b\b\b\b\b\b\b\b\b\b\b\b\b\b\b\b\b\b\b\b\b\b\b\b\b\b\b\b\b\b\b\b\b\b\b\b\b\b\b\b\b\b\b\b\b\b\r478/600 [======================>.......] - ETA: 0s - loss: 2.4717 - accuracy: 0.1112"
                ]
              },
              {
                "output_type": "stream",
                "name": "stdout",
                "text": [
                  "\b\b\b\b\b\b\b\b\b\b\b\b\b\b\b\b\b\b\b\b\b\b\b\b\b\b\b\b\b\b\b\b\b\b\b\b\b\b\b\b\b\b\b\b\b\b\b\b\b\b\b\b\b\b\b\b\b\b\b\b\b\b\b\b\b\b\b\b\b\b\b\b\b\b\b\b\b\b\b\b\b\b\b\b\r496/600 [=======================>......] - ETA: 0s - loss: 2.4715 - accuracy: 0.1115"
                ]
              },
              {
                "output_type": "stream",
                "name": "stdout",
                "text": [
                  "\b\b\b\b\b\b\b\b\b\b\b\b\b\b\b\b\b\b\b\b\b\b\b\b\b\b\b\b\b\b\b\b\b\b\b\b\b\b\b\b\b\b\b\b\b\b\b\b\b\b\b\b\b\b\b\b\b\b\b\b\b\b\b\b\b\b\b\b\b\b\b\b\b\b\b\b\b\b\b\b\b\b\b\b\r519/600 [========================>.....] - ETA: 0s - loss: 2.4714 - accuracy: 0.1117"
                ]
              },
              {
                "output_type": "stream",
                "name": "stdout",
                "text": [
                  "\b\b\b\b\b\b\b\b\b\b\b\b\b\b\b\b\b\b\b\b\b\b\b\b\b\b\b\b\b\b\b\b\b\b\b\b\b\b\b\b\b\b\b\b\b\b\b\b\b\b\b\b\b\b\b\b\b\b\b\b\b\b\b\b\b\b\b\b\b\b\b\b\b\b\b\b\b\b\b\b\b\b\b\b\r541/600 [==========================>...] - ETA: 0s - loss: 2.4712 - accuracy: 0.1118"
                ]
              },
              {
                "output_type": "stream",
                "name": "stdout",
                "text": [
                  "\b\b\b\b\b\b\b\b\b\b\b\b\b\b\b\b\b\b\b\b\b\b\b\b\b\b\b\b\b\b\b\b\b\b\b\b\b\b\b\b\b\b\b\b\b\b\b\b\b\b\b\b\b\b\b\b\b\b\b\b\b\b\b\b\b\b\b\b\b\b\b\b\b\b\b\b\b\b\b\b\b\b\b\b\r563/600 [===========================>..] - ETA: 0s - loss: 2.4710 - accuracy: 0.1120"
                ]
              },
              {
                "output_type": "stream",
                "name": "stdout",
                "text": [
                  "\b\b\b\b\b\b\b\b\b\b\b\b\b\b\b\b\b\b\b\b\b\b\b\b\b\b\b\b\b\b\b\b\b\b\b\b\b\b\b\b\b\b\b\b\b\b\b\b\b\b\b\b\b\b\b\b\b\b\b\b\b\b\b\b\b\b\b\b\b\b\b\b\b\b\b\b\b\b\b\b\b\b\b\b\r585/600 [============================>.] - ETA: 0s - loss: 2.4708 - accuracy: 0.1124"
                ]
              },
              {
                "output_type": "stream",
                "name": "stdout",
                "text": [
                  "\b\b\b\b\b\b\b\b\b\b\b\b\b\b\b\b\b\b\b\b\b\b\b\b\b\b\b\b\b\b\b\b\b\b\b\b\b\b\b\b\b\b\b\b\b\b\b\b\b\b\b\b\b\b\b\b\b\b\b\b\b\b\b\b\b\b\b\b\b\b\b\b\b\b\b\b\b\b\b\b\b\b\b\b\r600/600 [==============================] - 2s 3ms/step - loss: 2.4707 - accuracy: 0.1124 - val_loss: 2.4671 - val_accuracy: 0.1135\n"
                ]
              },
              {
                "output_type": "stream",
                "name": "stdout",
                "text": [
                  "Epoch 20/20\n"
                ]
              },
              {
                "output_type": "stream",
                "name": "stdout",
                "text": [
                  "\r  1/600 [..............................] - ETA: 6s - loss: 2.4699 - accuracy: 0.1000"
                ]
              },
              {
                "output_type": "stream",
                "name": "stdout",
                "text": [
                  "\b\b\b\b\b\b\b\b\b\b\b\b\b\b\b\b\b\b\b\b\b\b\b\b\b\b\b\b\b\b\b\b\b\b\b\b\b\b\b\b\b\b\b\b\b\b\b\b\b\b\b\b\b\b\b\b\b\b\b\b\b\b\b\b\b\b\b\b\b\b\b\b\b\b\b\b\b\b\b\b\b\b\b\b\r 19/600 [..............................] - ETA: 1s - loss: 2.4654 - accuracy: 0.1205"
                ]
              },
              {
                "output_type": "stream",
                "name": "stdout",
                "text": [
                  "\b\b\b\b\b\b\b\b\b\b\b\b\b\b\b\b\b\b\b\b\b\b\b\b\b\b\b\b\b\b\b\b\b\b\b\b\b\b\b\b\b\b\b\b\b\b\b\b\b\b\b\b\b\b\b\b\b\b\b\b\b\b\b\b\b\b\b\b\b\b\b\b\b\b\b\b\b\b\b\b\b\b\b\b\r 41/600 [=>............................] - ETA: 1s - loss: 2.4663 - accuracy: 0.1132"
                ]
              },
              {
                "output_type": "stream",
                "name": "stdout",
                "text": [
                  "\b\b\b\b\b\b\b\b\b\b\b\b\b\b\b\b\b\b\b\b\b\b\b\b\b\b\b\b\b\b\b\b\b\b\b\b\b\b\b\b\b\b\b\b\b\b\b\b\b\b\b\b\b\b\b\b\b\b\b\b\b\b\b\b\b\b\b\b\b\b\b\b\b\b\b\b\b\b\b\b\b\b\b\b\r 62/600 [==>...........................] - ETA: 1s - loss: 2.4662 - accuracy: 0.1124"
                ]
              },
              {
                "output_type": "stream",
                "name": "stdout",
                "text": [
                  "\b\b\b\b\b\b\b\b\b\b\b\b\b\b\b\b\b\b\b\b\b\b\b\b\b\b\b\b\b\b\b\b\b\b\b\b\b\b\b\b\b\b\b\b\b\b\b\b\b\b\b\b\b\b\b\b\b\b\b\b\b\b\b\b\b\b\b\b\b\b\b\b\b\b\b\b\b\b\b\b\b\b\b\b\r 82/600 [===>..........................] - ETA: 1s - loss: 2.4661 - accuracy: 0.1106"
                ]
              },
              {
                "output_type": "stream",
                "name": "stdout",
                "text": [
                  "\b\b\b\b\b\b\b\b\b\b\b\b\b\b\b\b\b\b\b\b\b\b\b\b\b\b\b\b\b\b\b\b\b\b\b\b\b\b\b\b\b\b\b\b\b\b\b\b\b\b\b\b\b\b\b\b\b\b\b\b\b\b\b\b\b\b\b\b\b\b\b\b\b\b\b\b\b\b\b\b\b\b\b\b\r 96/600 [===>..........................] - ETA: 1s - loss: 2.4666 - accuracy: 0.1083"
                ]
              },
              {
                "output_type": "stream",
                "name": "stdout",
                "text": [
                  "\b\b\b\b\b\b\b\b\b\b\b\b\b\b\b\b\b\b\b\b\b\b\b\b\b\b\b\b\b\b\b\b\b\b\b\b\b\b\b\b\b\b\b\b\b\b\b\b\b\b\b\b\b\b\b\b\b\b\b\b\b\b\b\b\b\b\b\b\b\b\b\b\b\b\b\b\b\b\b\b\b\b\b\b\r116/600 [====>.........................] - ETA: 1s - loss: 2.4661 - accuracy: 0.1109"
                ]
              },
              {
                "output_type": "stream",
                "name": "stdout",
                "text": [
                  "\b\b\b\b\b\b\b\b\b\b\b\b\b\b\b\b\b\b\b\b\b\b\b\b\b\b\b\b\b\b\b\b\b\b\b\b\b\b\b\b\b\b\b\b\b\b\b\b\b\b\b\b\b\b\b\b\b\b\b\b\b\b\b\b\b\b\b\b\b\b\b\b\b\b\b\b\b\b\b\b\b\b\b\b\r142/600 [======>.......................] - ETA: 1s - loss: 2.4660 - accuracy: 0.1116"
                ]
              },
              {
                "output_type": "stream",
                "name": "stdout",
                "text": [
                  "\b\b\b\b\b\b\b\b\b\b\b\b\b\b\b\b\b\b\b\b\b\b\b\b\b\b\b\b\b\b\b\b\b\b\b\b\b\b\b\b\b\b\b\b\b\b\b\b\b\b\b\b\b\b\b\b\b\b\b\b\b\b\b\b\b\b\b\b\b\b\b\b\b\b\b\b\b\b\b\b\b\b\b\b\r166/600 [=======>......................] - ETA: 1s - loss: 2.4660 - accuracy: 0.1113"
                ]
              },
              {
                "output_type": "stream",
                "name": "stdout",
                "text": [
                  "\b\b\b\b\b\b\b\b\b\b\b\b\b\b\b\b\b\b\b\b\b\b\b\b\b\b\b\b\b\b\b\b\b\b\b\b\b\b\b\b\b\b\b\b\b\b\b\b\b\b\b\b\b\b\b\b\b\b\b\b\b\b\b\b\b\b\b\b\b\b\b\b\b\b\b\b\b\b\b\b\b\b\b\b\r191/600 [========>.....................] - ETA: 0s - loss: 2.4658 - accuracy: 0.1113"
                ]
              },
              {
                "output_type": "stream",
                "name": "stdout",
                "text": [
                  "\b\b\b\b\b\b\b\b\b\b\b\b\b\b\b\b\b\b\b\b\b\b\b\b\b\b\b\b\b\b\b\b\b\b\b\b\b\b\b\b\b\b\b\b\b\b\b\b\b\b\b\b\b\b\b\b\b\b\b\b\b\b\b\b\b\b\b\b\b\b\b\b\b\b\b\b\b\b\b\b\b\b\b\b\r215/600 [=========>....................] - ETA: 0s - loss: 2.4657 - accuracy: 0.1120"
                ]
              },
              {
                "output_type": "stream",
                "name": "stdout",
                "text": [
                  "\b\b\b\b\b\b\b\b\b\b\b\b\b\b\b\b\b\b\b\b\b\b\b\b\b\b\b\b\b\b\b\b\b\b\b\b\b\b\b\b\b\b\b\b\b\b\b\b\b\b\b\b\b\b\b\b\b\b\b\b\b\b\b\b\b\b\b\b\b\b\b\b\b\b\b\b\b\b\b\b\b\b\b\b\r238/600 [==========>...................] - ETA: 0s - loss: 2.4657 - accuracy: 0.1113"
                ]
              },
              {
                "output_type": "stream",
                "name": "stdout",
                "text": [
                  "\b\b\b\b\b\b\b\b\b\b\b\b\b\b\b\b\b\b\b\b\b\b\b\b\b\b\b\b\b\b\b\b\b\b\b\b\b\b\b\b\b\b\b\b\b\b\b\b\b\b\b\b\b\b\b\b\b\b\b\b\b\b\b\b\b\b\b\b\b\b\b\b\b\b\b\b\b\b\b\b\b\b\b\b\r258/600 [===========>..................] - ETA: 0s - loss: 2.4656 - accuracy: 0.1108"
                ]
              },
              {
                "output_type": "stream",
                "name": "stdout",
                "text": [
                  "\b\b\b\b\b\b\b\b\b\b\b\b\b\b\b\b\b\b\b\b\b\b\b\b\b\b\b\b\b\b\b\b\b\b\b\b\b\b\b\b\b\b\b\b\b\b\b\b\b\b\b\b\b\b\b\b\b\b\b\b\b\b\b\b\b\b\b\b\b\b\b\b\b\b\b\b\b\b\b\b\b\b\b\b\r279/600 [============>.................] - ETA: 0s - loss: 2.4656 - accuracy: 0.1103"
                ]
              },
              {
                "output_type": "stream",
                "name": "stdout",
                "text": [
                  "\b\b\b\b\b\b\b\b\b\b\b\b\b\b\b\b\b\b\b\b\b\b\b\b\b\b\b\b\b\b\b\b\b\b\b\b\b\b\b\b\b\b\b\b\b\b\b\b\b\b\b\b\b\b\b\b\b\b\b\b\b\b\b\b\b\b\b\b\b\b\b\b\b\b\b\b\b\b\b\b\b\b\b\b\r299/600 [=============>................] - ETA: 0s - loss: 2.4654 - accuracy: 0.1107"
                ]
              },
              {
                "output_type": "stream",
                "name": "stdout",
                "text": [
                  "\b\b\b\b\b\b\b\b\b\b\b\b\b\b\b\b\b\b\b\b\b\b\b\b\b\b\b\b\b\b\b\b\b\b\b\b\b\b\b\b\b\b\b\b\b\b\b\b\b\b\b\b\b\b\b\b\b\b\b\b\b\b\b\b\b\b\b\b\b\b\b\b\b\b\b\b\b\b\b\b\b\b\b\b\r316/600 [==============>...............] - ETA: 0s - loss: 2.4653 - accuracy: 0.1109"
                ]
              },
              {
                "output_type": "stream",
                "name": "stdout",
                "text": [
                  "\b\b\b\b\b\b\b\b\b\b\b\b\b\b\b\b\b\b\b\b\b\b\b\b\b\b\b\b\b\b\b\b\b\b\b\b\b\b\b\b\b\b\b\b\b\b\b\b\b\b\b\b\b\b\b\b\b\b\b\b\b\b\b\b\b\b\b\b\b\b\b\b\b\b\b\b\b\b\b\b\b\b\b\b\r333/600 [===============>..............] - ETA: 0s - loss: 2.4652 - accuracy: 0.1108"
                ]
              },
              {
                "output_type": "stream",
                "name": "stdout",
                "text": [
                  "\b\b\b\b\b\b\b\b\b\b\b\b\b\b\b\b\b\b\b\b\b\b\b\b\b\b\b\b\b\b\b\b\b\b\b\b\b\b\b\b\b\b\b\b\b\b\b\b\b\b\b\b\b\b\b\b\b\b\b\b\b\b\b\b\b\b\b\b\b\b\b\b\b\b\b\b\b\b\b\b\b\b\b\b\r355/600 [================>.............] - ETA: 0s - loss: 2.4651 - accuracy: 0.1108"
                ]
              },
              {
                "output_type": "stream",
                "name": "stdout",
                "text": [
                  "\b\b\b\b\b\b\b\b\b\b\b\b\b\b\b\b\b\b\b\b\b\b\b\b\b\b\b\b\b\b\b\b\b\b\b\b\b\b\b\b\b\b\b\b\b\b\b\b\b\b\b\b\b\b\b\b\b\b\b\b\b\b\b\b\b\b\b\b\b\b\b\b\b\b\b\b\b\b\b\b\b\b\b\b\r377/600 [=================>............] - ETA: 0s - loss: 2.4649 - accuracy: 0.1107"
                ]
              },
              {
                "output_type": "stream",
                "name": "stdout",
                "text": [
                  "\b\b\b\b\b\b\b\b\b\b\b\b\b\b\b\b\b\b\b\b\b\b\b\b\b\b\b\b\b\b\b\b\b\b\b\b\b\b\b\b\b\b\b\b\b\b\b\b\b\b\b\b\b\b\b\b\b\b\b\b\b\b\b\b\b\b\b\b\b\b\b\b\b\b\b\b\b\b\b\b\b\b\b\b\r396/600 [==================>...........] - ETA: 0s - loss: 2.4648 - accuracy: 0.1107"
                ]
              },
              {
                "output_type": "stream",
                "name": "stdout",
                "text": [
                  "\b\b\b\b\b\b\b\b\b\b\b\b\b\b\b\b\b\b\b\b\b\b\b\b\b\b\b\b\b\b\b\b\b\b\b\b\b\b\b\b\b\b\b\b\b\b\b\b\b\b\b\b\b\b\b\b\b\b\b\b\b\b\b\b\b\b\b\b\b\b\b\b\b\b\b\b\b\b\b\b\b\b\b\b\r418/600 [===================>..........] - ETA: 0s - loss: 2.4646 - accuracy: 0.1115"
                ]
              },
              {
                "output_type": "stream",
                "name": "stdout",
                "text": [
                  "\b\b\b\b\b\b\b\b\b\b\b\b\b\b\b\b\b\b\b\b\b\b\b\b\b\b\b\b\b\b\b\b\b\b\b\b\b\b\b\b\b\b\b\b\b\b\b\b\b\b\b\b\b\b\b\b\b\b\b\b\b\b\b\b\b\b\b\b\b\b\b\b\b\b\b\b\b\b\b\b\b\b\b\b\r434/600 [====================>.........] - ETA: 0s - loss: 2.4644 - accuracy: 0.1115"
                ]
              },
              {
                "output_type": "stream",
                "name": "stdout",
                "text": [
                  "\b\b\b\b\b\b\b\b\b\b\b\b\b\b\b\b\b\b\b\b\b\b\b\b\b\b\b\b\b\b\b\b\b\b\b\b\b\b\b\b\b\b\b\b\b\b\b\b\b\b\b\b\b\b\b\b\b\b\b\b\b\b\b\b\b\b\b\b\b\b\b\b\b\b\b\b\b\b\b\b\b\b\b\b\r453/600 [=====================>........] - ETA: 0s - loss: 2.4643 - accuracy: 0.1118"
                ]
              },
              {
                "output_type": "stream",
                "name": "stdout",
                "text": [
                  "\b\b\b\b\b\b\b\b\b\b\b\b\b\b\b\b\b\b\b\b\b\b\b\b\b\b\b\b\b\b\b\b\b\b\b\b\b\b\b\b\b\b\b\b\b\b\b\b\b\b\b\b\b\b\b\b\b\b\b\b\b\b\b\b\b\b\b\b\b\b\b\b\b\b\b\b\b\b\b\b\b\b\b\b\r476/600 [======================>.......] - ETA: 0s - loss: 2.4641 - accuracy: 0.1118"
                ]
              },
              {
                "output_type": "stream",
                "name": "stdout",
                "text": [
                  "\b\b\b\b\b\b\b\b\b\b\b\b\b\b\b\b\b\b\b\b\b\b\b\b\b\b\b\b\b\b\b\b\b\b\b\b\b\b\b\b\b\b\b\b\b\b\b\b\b\b\b\b\b\b\b\b\b\b\b\b\b\b\b\b\b\b\b\b\b\b\b\b\b\b\b\b\b\b\b\b\b\b\b\b\r487/600 [=======================>......] - ETA: 0s - loss: 2.4640 - accuracy: 0.1118"
                ]
              },
              {
                "output_type": "stream",
                "name": "stdout",
                "text": [
                  "\b\b\b\b\b\b\b\b\b\b\b\b\b\b\b\b\b\b\b\b\b\b\b\b\b\b\b\b\b\b\b\b\b\b\b\b\b\b\b\b\b\b\b\b\b\b\b\b\b\b\b\b\b\b\b\b\b\b\b\b\b\b\b\b\b\b\b\b\b\b\b\b\b\b\b\b\b\b\b\b\b\b\b\b\r500/600 [========================>.....] - ETA: 0s - loss: 2.4639 - accuracy: 0.1119"
                ]
              },
              {
                "output_type": "stream",
                "name": "stdout",
                "text": [
                  "\b\b\b\b\b\b\b\b\b\b\b\b\b\b\b\b\b\b\b\b\b\b\b\b\b\b\b\b\b\b\b\b\b\b\b\b\b\b\b\b\b\b\b\b\b\b\b\b\b\b\b\b\b\b\b\b\b\b\b\b\b\b\b\b\b\b\b\b\b\b\b\b\b\b\b\b\b\b\b\b\b\b\b\b\r513/600 [========================>.....] - ETA: 0s - loss: 2.4639 - accuracy: 0.1119"
                ]
              },
              {
                "output_type": "stream",
                "name": "stdout",
                "text": [
                  "\b\b\b\b\b\b\b\b\b\b\b\b\b\b\b\b\b\b\b\b\b\b\b\b\b\b\b\b\b\b\b\b\b\b\b\b\b\b\b\b\b\b\b\b\b\b\b\b\b\b\b\b\b\b\b\b\b\b\b\b\b\b\b\b\b\b\b\b\b\b\b\b\b\b\b\b\b\b\b\b\b\b\b\b\r525/600 [=========================>....] - ETA: 0s - loss: 2.4638 - accuracy: 0.1118"
                ]
              },
              {
                "output_type": "stream",
                "name": "stdout",
                "text": [
                  "\b\b\b\b\b\b\b\b\b\b\b\b\b\b\b\b\b\b\b\b\b\b\b\b\b\b\b\b\b\b\b\b\b\b\b\b\b\b\b\b\b\b\b\b\b\b\b\b\b\b\b\b\b\b\b\b\b\b\b\b\b\b\b\b\b\b\b\b\b\b\b\b\b\b\b\b\b\b\b\b\b\b\b\b\r538/600 [=========================>....] - ETA: 0s - loss: 2.4638 - accuracy: 0.1118"
                ]
              },
              {
                "output_type": "stream",
                "name": "stdout",
                "text": [
                  "\b\b\b\b\b\b\b\b\b\b\b\b\b\b\b\b\b\b\b\b\b\b\b\b\b\b\b\b\b\b\b\b\b\b\b\b\b\b\b\b\b\b\b\b\b\b\b\b\b\b\b\b\b\b\b\b\b\b\b\b\b\b\b\b\b\b\b\b\b\b\b\b\b\b\b\b\b\b\b\b\b\b\b\b\r551/600 [==========================>...] - ETA: 0s - loss: 2.4637 - accuracy: 0.1118"
                ]
              },
              {
                "output_type": "stream",
                "name": "stdout",
                "text": [
                  "\b\b\b\b\b\b\b\b\b\b\b\b\b\b\b\b\b\b\b\b\b\b\b\b\b\b\b\b\b\b\b\b\b\b\b\b\b\b\b\b\b\b\b\b\b\b\b\b\b\b\b\b\b\b\b\b\b\b\b\b\b\b\b\b\b\b\b\b\b\b\b\b\b\b\b\b\b\b\b\b\b\b\b\b\r565/600 [===========================>..] - ETA: 0s - loss: 2.4637 - accuracy: 0.1118"
                ]
              },
              {
                "output_type": "stream",
                "name": "stdout",
                "text": [
                  "\b\b\b\b\b\b\b\b\b\b\b\b\b\b\b\b\b\b\b\b\b\b\b\b\b\b\b\b\b\b\b\b\b\b\b\b\b\b\b\b\b\b\b\b\b\b\b\b\b\b\b\b\b\b\b\b\b\b\b\b\b\b\b\b\b\b\b\b\b\b\b\b\b\b\b\b\b\b\b\b\b\b\b\b\r578/600 [===========================>..] - ETA: 0s - loss: 2.4636 - accuracy: 0.1119"
                ]
              },
              {
                "output_type": "stream",
                "name": "stdout",
                "text": [
                  "\b\b\b\b\b\b\b\b\b\b\b\b\b\b\b\b\b\b\b\b\b\b\b\b\b\b\b\b\b\b\b\b\b\b\b\b\b\b\b\b\b\b\b\b\b\b\b\b\b\b\b\b\b\b\b\b\b\b\b\b\b\b\b\b\b\b\b\b\b\b\b\b\b\b\b\b\b\b\b\b\b\b\b\b\r591/600 [============================>.] - ETA: 0s - loss: 2.4634 - accuracy: 0.1123"
                ]
              },
              {
                "output_type": "stream",
                "name": "stdout",
                "text": [
                  "\b\b\b\b\b\b\b\b\b\b\b\b\b\b\b\b\b\b\b\b\b\b\b\b\b\b\b\b\b\b\b\b\b\b\b\b\b\b\b\b\b\b\b\b\b\b\b\b\b\b\b\b\b\b\b\b\b\b\b\b\b\b\b\b\b\b\b\b\b\b\b\b\b\b\b\b\b\b\b\b\b\b\b\b\r600/600 [==============================] - 2s 3ms/step - loss: 2.4633 - accuracy: 0.1124 - val_loss: 2.4598 - val_accuracy: 0.1135\n"
                ]
              },
              {
                "output_type": "stream",
                "name": "stdout",
                "text": [
                  "Accuracy:  0.11349999904632568\n"
                ]
              },
              {
                "output_type": "display_data",
                "data": {
                  "text/plain": "<Figure size 432x288 with 1 Axes>",
                  "image/png": "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\n"
                },
                "metadata": {
                  "needs_background": "light"
                }
              },
              {
                "output_type": "display_data",
                "data": {
                  "text/plain": "<Figure size 432x288 with 1 Axes>",
                  "image/png": "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\n"
                },
                "metadata": {
                  "needs_background": "light"
                }
              }
            ]
          }
        },
        "68b57b6230b64bff98cc439ea2e95d19": {
          "model_module": "@jupyter-widgets/base",
          "model_name": "LayoutModel",
          "model_module_version": "1.2.0",
          "state": {
            "_model_module": "@jupyter-widgets/base",
            "_model_module_version": "1.2.0",
            "_model_name": "LayoutModel",
            "_view_count": null,
            "_view_module": "@jupyter-widgets/base",
            "_view_module_version": "1.2.0",
            "_view_name": "LayoutView",
            "align_content": null,
            "align_items": null,
            "align_self": null,
            "border": null,
            "bottom": null,
            "display": null,
            "flex": null,
            "flex_flow": null,
            "grid_area": null,
            "grid_auto_columns": null,
            "grid_auto_flow": null,
            "grid_auto_rows": null,
            "grid_column": null,
            "grid_gap": null,
            "grid_row": null,
            "grid_template_areas": null,
            "grid_template_columns": null,
            "grid_template_rows": null,
            "height": null,
            "justify_content": null,
            "justify_items": null,
            "left": null,
            "margin": null,
            "max_height": null,
            "max_width": null,
            "min_height": null,
            "min_width": null,
            "object_fit": null,
            "object_position": null,
            "order": null,
            "overflow": null,
            "overflow_x": null,
            "overflow_y": null,
            "padding": null,
            "right": null,
            "top": null,
            "visibility": null,
            "width": null
          }
        },
        "e8366492190446608acc2bb101caedb4": {
          "model_module": "@jupyter-widgets/base",
          "model_name": "LayoutModel",
          "model_module_version": "1.2.0",
          "state": {
            "_model_module": "@jupyter-widgets/base",
            "_model_module_version": "1.2.0",
            "_model_name": "LayoutModel",
            "_view_count": null,
            "_view_module": "@jupyter-widgets/base",
            "_view_module_version": "1.2.0",
            "_view_name": "LayoutView",
            "align_content": null,
            "align_items": null,
            "align_self": null,
            "border": null,
            "bottom": null,
            "display": null,
            "flex": null,
            "flex_flow": null,
            "grid_area": null,
            "grid_auto_columns": null,
            "grid_auto_flow": null,
            "grid_auto_rows": null,
            "grid_column": null,
            "grid_gap": null,
            "grid_row": null,
            "grid_template_areas": null,
            "grid_template_columns": null,
            "grid_template_rows": null,
            "height": null,
            "justify_content": null,
            "justify_items": null,
            "left": null,
            "margin": null,
            "max_height": null,
            "max_width": null,
            "min_height": null,
            "min_width": null,
            "object_fit": null,
            "object_position": null,
            "order": null,
            "overflow": null,
            "overflow_x": null,
            "overflow_y": null,
            "padding": null,
            "right": null,
            "top": null,
            "visibility": null,
            "width": null
          }
        },
        "a9449b8ac8e849369f2c69972a0d3029": {
          "model_module": "@jupyter-widgets/controls",
          "model_name": "SliderStyleModel",
          "model_module_version": "1.5.0",
          "state": {
            "_model_module": "@jupyter-widgets/controls",
            "_model_module_version": "1.5.0",
            "_model_name": "SliderStyleModel",
            "_view_count": null,
            "_view_module": "@jupyter-widgets/base",
            "_view_module_version": "1.2.0",
            "_view_name": "StyleView",
            "description_width": "",
            "handle_color": null
          }
        },
        "1c75d6f755af48ee913a3d97699fadf7": {
          "model_module": "@jupyter-widgets/base",
          "model_name": "LayoutModel",
          "model_module_version": "1.2.0",
          "state": {
            "_model_module": "@jupyter-widgets/base",
            "_model_module_version": "1.2.0",
            "_model_name": "LayoutModel",
            "_view_count": null,
            "_view_module": "@jupyter-widgets/base",
            "_view_module_version": "1.2.0",
            "_view_name": "LayoutView",
            "align_content": null,
            "align_items": null,
            "align_self": null,
            "border": null,
            "bottom": null,
            "display": null,
            "flex": null,
            "flex_flow": null,
            "grid_area": null,
            "grid_auto_columns": null,
            "grid_auto_flow": null,
            "grid_auto_rows": null,
            "grid_column": null,
            "grid_gap": null,
            "grid_row": null,
            "grid_template_areas": null,
            "grid_template_columns": null,
            "grid_template_rows": null,
            "height": null,
            "justify_content": null,
            "justify_items": null,
            "left": null,
            "margin": null,
            "max_height": null,
            "max_width": null,
            "min_height": null,
            "min_width": null,
            "object_fit": null,
            "object_position": null,
            "order": null,
            "overflow": null,
            "overflow_x": null,
            "overflow_y": null,
            "padding": null,
            "right": null,
            "top": null,
            "visibility": null,
            "width": null
          }
        },
        "45bad62900054187a5569960c3a41ec2": {
          "model_module": "@jupyter-widgets/controls",
          "model_name": "DescriptionStyleModel",
          "model_module_version": "1.5.0",
          "state": {
            "_model_module": "@jupyter-widgets/controls",
            "_model_module_version": "1.5.0",
            "_model_name": "DescriptionStyleModel",
            "_view_count": null,
            "_view_module": "@jupyter-widgets/base",
            "_view_module_version": "1.2.0",
            "_view_name": "StyleView",
            "description_width": "initial"
          }
        },
        "27218e6493f3496d99ec3d3a9b14b693": {
          "model_module": "@jupyter-widgets/base",
          "model_name": "LayoutModel",
          "model_module_version": "1.2.0",
          "state": {
            "_model_module": "@jupyter-widgets/base",
            "_model_module_version": "1.2.0",
            "_model_name": "LayoutModel",
            "_view_count": null,
            "_view_module": "@jupyter-widgets/base",
            "_view_module_version": "1.2.0",
            "_view_name": "LayoutView",
            "align_content": null,
            "align_items": null,
            "align_self": null,
            "border": null,
            "bottom": null,
            "display": null,
            "flex": null,
            "flex_flow": null,
            "grid_area": null,
            "grid_auto_columns": null,
            "grid_auto_flow": null,
            "grid_auto_rows": null,
            "grid_column": null,
            "grid_gap": null,
            "grid_row": null,
            "grid_template_areas": null,
            "grid_template_columns": null,
            "grid_template_rows": null,
            "height": null,
            "justify_content": null,
            "justify_items": null,
            "left": null,
            "margin": null,
            "max_height": null,
            "max_width": null,
            "min_height": null,
            "min_width": null,
            "object_fit": null,
            "object_position": null,
            "order": null,
            "overflow": null,
            "overflow_x": null,
            "overflow_y": null,
            "padding": null,
            "right": null,
            "top": null,
            "visibility": null,
            "width": null
          }
        },
        "8d20c39d7ea5442eb39009c2c1647f5b": {
          "model_module": "@jupyter-widgets/controls",
          "model_name": "DescriptionStyleModel",
          "model_module_version": "1.5.0",
          "state": {
            "_model_module": "@jupyter-widgets/controls",
            "_model_module_version": "1.5.0",
            "_model_name": "DescriptionStyleModel",
            "_view_count": null,
            "_view_module": "@jupyter-widgets/base",
            "_view_module_version": "1.2.0",
            "_view_name": "StyleView",
            "description_width": "initial"
          }
        },
        "8ee692b14d424fcb81d035a2e8bafbe3": {
          "model_module": "@jupyter-widgets/base",
          "model_name": "LayoutModel",
          "model_module_version": "1.2.0",
          "state": {
            "_model_module": "@jupyter-widgets/base",
            "_model_module_version": "1.2.0",
            "_model_name": "LayoutModel",
            "_view_count": null,
            "_view_module": "@jupyter-widgets/base",
            "_view_module_version": "1.2.0",
            "_view_name": "LayoutView",
            "align_content": null,
            "align_items": null,
            "align_self": null,
            "border": null,
            "bottom": null,
            "display": null,
            "flex": null,
            "flex_flow": null,
            "grid_area": null,
            "grid_auto_columns": null,
            "grid_auto_flow": null,
            "grid_auto_rows": null,
            "grid_column": null,
            "grid_gap": null,
            "grid_row": null,
            "grid_template_areas": null,
            "grid_template_columns": null,
            "grid_template_rows": null,
            "height": null,
            "justify_content": null,
            "justify_items": null,
            "left": null,
            "margin": null,
            "max_height": null,
            "max_width": null,
            "min_height": null,
            "min_width": null,
            "object_fit": null,
            "object_position": null,
            "order": null,
            "overflow": null,
            "overflow_x": null,
            "overflow_y": null,
            "padding": null,
            "right": null,
            "top": null,
            "visibility": null,
            "width": null
          }
        },
        "f70db88751ea4e8688a01d54e634f84d": {
          "model_module": "@jupyter-widgets/controls",
          "model_name": "ToggleButtonsStyleModel",
          "model_module_version": "1.5.0",
          "state": {
            "_model_module": "@jupyter-widgets/controls",
            "_model_module_version": "1.5.0",
            "_model_name": "ToggleButtonsStyleModel",
            "_view_count": null,
            "_view_module": "@jupyter-widgets/base",
            "_view_module_version": "1.2.0",
            "_view_name": "StyleView",
            "button_width": "",
            "description_width": "initial",
            "font_weight": ""
          }
        },
        "5debac33fcc84ca79bf94fd6ba0bdd53": {
          "model_module": "@jupyter-widgets/base",
          "model_name": "LayoutModel",
          "model_module_version": "1.2.0",
          "state": {
            "_model_module": "@jupyter-widgets/base",
            "_model_module_version": "1.2.0",
            "_model_name": "LayoutModel",
            "_view_count": null,
            "_view_module": "@jupyter-widgets/base",
            "_view_module_version": "1.2.0",
            "_view_name": "LayoutView",
            "align_content": null,
            "align_items": null,
            "align_self": null,
            "border": null,
            "bottom": null,
            "display": null,
            "flex": null,
            "flex_flow": null,
            "grid_area": null,
            "grid_auto_columns": null,
            "grid_auto_flow": null,
            "grid_auto_rows": null,
            "grid_column": null,
            "grid_gap": null,
            "grid_row": null,
            "grid_template_areas": null,
            "grid_template_columns": null,
            "grid_template_rows": null,
            "height": null,
            "justify_content": null,
            "justify_items": null,
            "left": null,
            "margin": null,
            "max_height": null,
            "max_width": null,
            "min_height": null,
            "min_width": null,
            "object_fit": null,
            "object_position": null,
            "order": null,
            "overflow": null,
            "overflow_x": null,
            "overflow_y": null,
            "padding": null,
            "right": null,
            "top": null,
            "visibility": null,
            "width": null
          }
        },
        "e9483c0d60e04be8bebb25eb28b3f6d6": {
          "model_module": "@jupyter-widgets/controls",
          "model_name": "ToggleButtonsStyleModel",
          "model_module_version": "1.5.0",
          "state": {
            "_model_module": "@jupyter-widgets/controls",
            "_model_module_version": "1.5.0",
            "_model_name": "ToggleButtonsStyleModel",
            "_view_count": null,
            "_view_module": "@jupyter-widgets/base",
            "_view_module_version": "1.2.0",
            "_view_name": "StyleView",
            "button_width": "",
            "description_width": "initial",
            "font_weight": ""
          }
        },
        "13109de344e5458590d626ce80d34e21": {
          "model_module": "@jupyter-widgets/base",
          "model_name": "LayoutModel",
          "model_module_version": "1.2.0",
          "state": {
            "_model_module": "@jupyter-widgets/base",
            "_model_module_version": "1.2.0",
            "_model_name": "LayoutModel",
            "_view_count": null,
            "_view_module": "@jupyter-widgets/base",
            "_view_module_version": "1.2.0",
            "_view_name": "LayoutView",
            "align_content": null,
            "align_items": null,
            "align_self": null,
            "border": null,
            "bottom": null,
            "display": null,
            "flex": null,
            "flex_flow": null,
            "grid_area": null,
            "grid_auto_columns": null,
            "grid_auto_flow": null,
            "grid_auto_rows": null,
            "grid_column": null,
            "grid_gap": null,
            "grid_row": null,
            "grid_template_areas": null,
            "grid_template_columns": null,
            "grid_template_rows": null,
            "height": null,
            "justify_content": null,
            "justify_items": null,
            "left": null,
            "margin": null,
            "max_height": null,
            "max_width": null,
            "min_height": null,
            "min_width": null,
            "object_fit": null,
            "object_position": null,
            "order": null,
            "overflow": null,
            "overflow_x": null,
            "overflow_y": null,
            "padding": null,
            "right": null,
            "top": null,
            "visibility": null,
            "width": null
          }
        },
        "9b071f947fbc40f3b9854448eb39e8ed": {
          "model_module": "@jupyter-widgets/controls",
          "model_name": "ToggleButtonsStyleModel",
          "model_module_version": "1.5.0",
          "state": {
            "_model_module": "@jupyter-widgets/controls",
            "_model_module_version": "1.5.0",
            "_model_name": "ToggleButtonsStyleModel",
            "_view_count": null,
            "_view_module": "@jupyter-widgets/base",
            "_view_module_version": "1.2.0",
            "_view_name": "StyleView",
            "button_width": "",
            "description_width": "initial",
            "font_weight": ""
          }
        },
        "705e0ad008094763ba63420d3777d37e": {
          "model_module": "@jupyter-widgets/base",
          "model_name": "LayoutModel",
          "model_module_version": "1.2.0",
          "state": {
            "_model_module": "@jupyter-widgets/base",
            "_model_module_version": "1.2.0",
            "_model_name": "LayoutModel",
            "_view_count": null,
            "_view_module": "@jupyter-widgets/base",
            "_view_module_version": "1.2.0",
            "_view_name": "LayoutView",
            "align_content": null,
            "align_items": null,
            "align_self": null,
            "border": null,
            "bottom": null,
            "display": null,
            "flex": null,
            "flex_flow": null,
            "grid_area": null,
            "grid_auto_columns": null,
            "grid_auto_flow": null,
            "grid_auto_rows": null,
            "grid_column": null,
            "grid_gap": null,
            "grid_row": null,
            "grid_template_areas": null,
            "grid_template_columns": null,
            "grid_template_rows": null,
            "height": null,
            "justify_content": null,
            "justify_items": null,
            "left": null,
            "margin": null,
            "max_height": null,
            "max_width": null,
            "min_height": null,
            "min_width": null,
            "object_fit": null,
            "object_position": null,
            "order": null,
            "overflow": null,
            "overflow_x": null,
            "overflow_y": null,
            "padding": null,
            "right": null,
            "top": null,
            "visibility": null,
            "width": null
          }
        },
        "4f715fd3d36a4f82a9c99cc8356a0c56": {
          "model_module": "@jupyter-widgets/controls",
          "model_name": "DescriptionStyleModel",
          "model_module_version": "1.5.0",
          "state": {
            "_model_module": "@jupyter-widgets/controls",
            "_model_module_version": "1.5.0",
            "_model_name": "DescriptionStyleModel",
            "_view_count": null,
            "_view_module": "@jupyter-widgets/base",
            "_view_module_version": "1.2.0",
            "_view_name": "StyleView",
            "description_width": "initial"
          }
        },
        "c68a66af6b414ff5bc8517d8c2653ff8": {
          "model_module": "@jupyter-widgets/base",
          "model_name": "LayoutModel",
          "model_module_version": "1.2.0",
          "state": {
            "_model_module": "@jupyter-widgets/base",
            "_model_module_version": "1.2.0",
            "_model_name": "LayoutModel",
            "_view_count": null,
            "_view_module": "@jupyter-widgets/base",
            "_view_module_version": "1.2.0",
            "_view_name": "LayoutView",
            "align_content": null,
            "align_items": null,
            "align_self": null,
            "border": null,
            "bottom": null,
            "display": null,
            "flex": null,
            "flex_flow": null,
            "grid_area": null,
            "grid_auto_columns": null,
            "grid_auto_flow": null,
            "grid_auto_rows": null,
            "grid_column": null,
            "grid_gap": null,
            "grid_row": null,
            "grid_template_areas": null,
            "grid_template_columns": null,
            "grid_template_rows": null,
            "height": null,
            "justify_content": null,
            "justify_items": null,
            "left": null,
            "margin": null,
            "max_height": null,
            "max_width": null,
            "min_height": null,
            "min_width": null,
            "object_fit": null,
            "object_position": null,
            "order": null,
            "overflow": null,
            "overflow_x": null,
            "overflow_y": null,
            "padding": null,
            "right": null,
            "top": null,
            "visibility": null,
            "width": null
          }
        },
        "fc90c4bd699846b7a3088f5287815532": {
          "model_module": "@jupyter-widgets/controls",
          "model_name": "SliderStyleModel",
          "model_module_version": "1.5.0",
          "state": {
            "_model_module": "@jupyter-widgets/controls",
            "_model_module_version": "1.5.0",
            "_model_name": "SliderStyleModel",
            "_view_count": null,
            "_view_module": "@jupyter-widgets/base",
            "_view_module_version": "1.2.0",
            "_view_name": "StyleView",
            "description_width": "initial",
            "handle_color": null
          }
        },
        "a1f4be3240974630a6e642e4c7ccedc8": {
          "model_module": "@jupyter-widgets/base",
          "model_name": "LayoutModel",
          "model_module_version": "1.2.0",
          "state": {
            "_model_module": "@jupyter-widgets/base",
            "_model_module_version": "1.2.0",
            "_model_name": "LayoutModel",
            "_view_count": null,
            "_view_module": "@jupyter-widgets/base",
            "_view_module_version": "1.2.0",
            "_view_name": "LayoutView",
            "align_content": null,
            "align_items": null,
            "align_self": null,
            "border": null,
            "bottom": null,
            "display": null,
            "flex": null,
            "flex_flow": null,
            "grid_area": null,
            "grid_auto_columns": null,
            "grid_auto_flow": null,
            "grid_auto_rows": null,
            "grid_column": null,
            "grid_gap": null,
            "grid_row": null,
            "grid_template_areas": null,
            "grid_template_columns": null,
            "grid_template_rows": null,
            "height": null,
            "justify_content": null,
            "justify_items": null,
            "left": null,
            "margin": null,
            "max_height": null,
            "max_width": null,
            "min_height": null,
            "min_width": null,
            "object_fit": null,
            "object_position": null,
            "order": null,
            "overflow": null,
            "overflow_x": null,
            "overflow_y": null,
            "padding": null,
            "right": null,
            "top": null,
            "visibility": null,
            "width": null
          }
        },
        "6e6224ea7bcb4f71ac295d9790bc565a": {
          "model_module": "@jupyter-widgets/controls",
          "model_name": "SliderStyleModel",
          "model_module_version": "1.5.0",
          "state": {
            "_model_module": "@jupyter-widgets/controls",
            "_model_module_version": "1.5.0",
            "_model_name": "SliderStyleModel",
            "_view_count": null,
            "_view_module": "@jupyter-widgets/base",
            "_view_module_version": "1.2.0",
            "_view_name": "StyleView",
            "description_width": "initial",
            "handle_color": null
          }
        },
        "873572eebfbd4ac381904220b553e58c": {
          "model_module": "@jupyter-widgets/base",
          "model_name": "LayoutModel",
          "model_module_version": "1.2.0",
          "state": {
            "_model_module": "@jupyter-widgets/base",
            "_model_module_version": "1.2.0",
            "_model_name": "LayoutModel",
            "_view_count": null,
            "_view_module": "@jupyter-widgets/base",
            "_view_module_version": "1.2.0",
            "_view_name": "LayoutView",
            "align_content": null,
            "align_items": null,
            "align_self": null,
            "border": null,
            "bottom": null,
            "display": null,
            "flex": null,
            "flex_flow": null,
            "grid_area": null,
            "grid_auto_columns": null,
            "grid_auto_flow": null,
            "grid_auto_rows": null,
            "grid_column": null,
            "grid_gap": null,
            "grid_row": null,
            "grid_template_areas": null,
            "grid_template_columns": null,
            "grid_template_rows": null,
            "height": null,
            "justify_content": null,
            "justify_items": null,
            "left": null,
            "margin": null,
            "max_height": null,
            "max_width": null,
            "min_height": null,
            "min_width": null,
            "object_fit": null,
            "object_position": null,
            "order": null,
            "overflow": null,
            "overflow_x": null,
            "overflow_y": null,
            "padding": null,
            "right": null,
            "top": null,
            "visibility": null,
            "width": null
          }
        },
        "f9b41bd5092a43eaa6dfa628d4eea789": {
          "model_module": "@jupyter-widgets/controls",
          "model_name": "DescriptionStyleModel",
          "model_module_version": "1.5.0",
          "state": {
            "_model_module": "@jupyter-widgets/controls",
            "_model_module_version": "1.5.0",
            "_model_name": "DescriptionStyleModel",
            "_view_count": null,
            "_view_module": "@jupyter-widgets/base",
            "_view_module_version": "1.2.0",
            "_view_name": "StyleView",
            "description_width": "initial"
          }
        },
        "2437bb64ca5d4d169001fe75e04b4f44": {
          "model_module": "@jupyter-widgets/base",
          "model_name": "LayoutModel",
          "model_module_version": "1.2.0",
          "state": {
            "_model_module": "@jupyter-widgets/base",
            "_model_module_version": "1.2.0",
            "_model_name": "LayoutModel",
            "_view_count": null,
            "_view_module": "@jupyter-widgets/base",
            "_view_module_version": "1.2.0",
            "_view_name": "LayoutView",
            "align_content": null,
            "align_items": null,
            "align_self": null,
            "border": null,
            "bottom": null,
            "display": null,
            "flex": null,
            "flex_flow": null,
            "grid_area": null,
            "grid_auto_columns": null,
            "grid_auto_flow": null,
            "grid_auto_rows": null,
            "grid_column": null,
            "grid_gap": null,
            "grid_row": null,
            "grid_template_areas": null,
            "grid_template_columns": null,
            "grid_template_rows": null,
            "height": null,
            "justify_content": null,
            "justify_items": null,
            "left": null,
            "margin": null,
            "max_height": null,
            "max_width": null,
            "min_height": null,
            "min_width": null,
            "object_fit": null,
            "object_position": null,
            "order": null,
            "overflow": null,
            "overflow_x": null,
            "overflow_y": null,
            "padding": null,
            "right": null,
            "top": null,
            "visibility": null,
            "width": null
          }
        },
        "23d0311185c04cc080dc444a71dfb1df": {
          "model_module": "@jupyter-widgets/controls",
          "model_name": "DescriptionStyleModel",
          "model_module_version": "1.5.0",
          "state": {
            "_model_module": "@jupyter-widgets/controls",
            "_model_module_version": "1.5.0",
            "_model_name": "DescriptionStyleModel",
            "_view_count": null,
            "_view_module": "@jupyter-widgets/base",
            "_view_module_version": "1.2.0",
            "_view_name": "StyleView",
            "description_width": "initial"
          }
        },
        "6c5489fd2f064f68a8fb13b68cca7099": {
          "model_module": "@jupyter-widgets/base",
          "model_name": "LayoutModel",
          "model_module_version": "1.2.0",
          "state": {
            "_model_module": "@jupyter-widgets/base",
            "_model_module_version": "1.2.0",
            "_model_name": "LayoutModel",
            "_view_count": null,
            "_view_module": "@jupyter-widgets/base",
            "_view_module_version": "1.2.0",
            "_view_name": "LayoutView",
            "align_content": null,
            "align_items": null,
            "align_self": null,
            "border": null,
            "bottom": null,
            "display": null,
            "flex": null,
            "flex_flow": null,
            "grid_area": null,
            "grid_auto_columns": null,
            "grid_auto_flow": null,
            "grid_auto_rows": null,
            "grid_column": null,
            "grid_gap": null,
            "grid_row": null,
            "grid_template_areas": null,
            "grid_template_columns": null,
            "grid_template_rows": null,
            "height": null,
            "justify_content": null,
            "justify_items": null,
            "left": null,
            "margin": null,
            "max_height": null,
            "max_width": null,
            "min_height": null,
            "min_width": null,
            "object_fit": null,
            "object_position": null,
            "order": null,
            "overflow": null,
            "overflow_x": null,
            "overflow_y": null,
            "padding": null,
            "right": null,
            "top": null,
            "visibility": null,
            "width": null
          }
        },
        "36f1fa7a6e214a9e85ca89e16938f7c5": {
          "model_module": "@jupyter-widgets/controls",
          "model_name": "DescriptionStyleModel",
          "model_module_version": "1.5.0",
          "state": {
            "_model_module": "@jupyter-widgets/controls",
            "_model_module_version": "1.5.0",
            "_model_name": "DescriptionStyleModel",
            "_view_count": null,
            "_view_module": "@jupyter-widgets/base",
            "_view_module_version": "1.2.0",
            "_view_name": "StyleView",
            "description_width": "initial"
          }
        },
        "71059065aa024124807c440f643201c7": {
          "model_module": "@jupyter-widgets/base",
          "model_name": "LayoutModel",
          "model_module_version": "1.2.0",
          "state": {
            "_model_module": "@jupyter-widgets/base",
            "_model_module_version": "1.2.0",
            "_model_name": "LayoutModel",
            "_view_count": null,
            "_view_module": "@jupyter-widgets/base",
            "_view_module_version": "1.2.0",
            "_view_name": "LayoutView",
            "align_content": null,
            "align_items": null,
            "align_self": null,
            "border": null,
            "bottom": null,
            "display": null,
            "flex": null,
            "flex_flow": null,
            "grid_area": null,
            "grid_auto_columns": null,
            "grid_auto_flow": null,
            "grid_auto_rows": null,
            "grid_column": null,
            "grid_gap": null,
            "grid_row": null,
            "grid_template_areas": null,
            "grid_template_columns": null,
            "grid_template_rows": null,
            "height": null,
            "justify_content": null,
            "justify_items": null,
            "left": null,
            "margin": null,
            "max_height": null,
            "max_width": null,
            "min_height": null,
            "min_width": null,
            "object_fit": null,
            "object_position": null,
            "order": null,
            "overflow": null,
            "overflow_x": null,
            "overflow_y": null,
            "padding": null,
            "right": null,
            "top": null,
            "visibility": null,
            "width": null
          }
        },
        "9fc2d8c25e0b4678b8fa602f560a4068": {
          "model_module": "@jupyter-widgets/controls",
          "model_name": "DescriptionStyleModel",
          "model_module_version": "1.5.0",
          "state": {
            "_model_module": "@jupyter-widgets/controls",
            "_model_module_version": "1.5.0",
            "_model_name": "DescriptionStyleModel",
            "_view_count": null,
            "_view_module": "@jupyter-widgets/base",
            "_view_module_version": "1.2.0",
            "_view_name": "StyleView",
            "description_width": "initial"
          }
        },
        "dd43964f4b3e4e6b8fd4c961f14d6629": {
          "model_module": "@jupyter-widgets/base",
          "model_name": "LayoutModel",
          "model_module_version": "1.2.0",
          "state": {
            "_model_module": "@jupyter-widgets/base",
            "_model_module_version": "1.2.0",
            "_model_name": "LayoutModel",
            "_view_count": null,
            "_view_module": "@jupyter-widgets/base",
            "_view_module_version": "1.2.0",
            "_view_name": "LayoutView",
            "align_content": null,
            "align_items": null,
            "align_self": null,
            "border": null,
            "bottom": null,
            "display": null,
            "flex": null,
            "flex_flow": null,
            "grid_area": null,
            "grid_auto_columns": null,
            "grid_auto_flow": null,
            "grid_auto_rows": null,
            "grid_column": null,
            "grid_gap": null,
            "grid_row": null,
            "grid_template_areas": null,
            "grid_template_columns": null,
            "grid_template_rows": null,
            "height": null,
            "justify_content": null,
            "justify_items": null,
            "left": null,
            "margin": null,
            "max_height": null,
            "max_width": null,
            "min_height": null,
            "min_width": null,
            "object_fit": null,
            "object_position": null,
            "order": null,
            "overflow": null,
            "overflow_x": null,
            "overflow_y": null,
            "padding": null,
            "right": null,
            "top": null,
            "visibility": null,
            "width": null
          }
        },
        "f13edcbbb9fd4d8591e106b33acd5b0a": {
          "model_module": "@jupyter-widgets/controls",
          "model_name": "ButtonStyleModel",
          "model_module_version": "1.5.0",
          "state": {
            "_model_module": "@jupyter-widgets/controls",
            "_model_module_version": "1.5.0",
            "_model_name": "ButtonStyleModel",
            "_view_count": null,
            "_view_module": "@jupyter-widgets/base",
            "_view_module_version": "1.2.0",
            "_view_name": "StyleView",
            "button_color": null,
            "font_weight": ""
          }
        },
        "2b6ed85954dd4c439223b12b0e754682": {
          "model_module": "@jupyter-widgets/base",
          "model_name": "LayoutModel",
          "model_module_version": "1.2.0",
          "state": {
            "_model_module": "@jupyter-widgets/base",
            "_model_module_version": "1.2.0",
            "_model_name": "LayoutModel",
            "_view_count": null,
            "_view_module": "@jupyter-widgets/base",
            "_view_module_version": "1.2.0",
            "_view_name": "LayoutView",
            "align_content": null,
            "align_items": null,
            "align_self": null,
            "border": null,
            "bottom": null,
            "display": null,
            "flex": null,
            "flex_flow": null,
            "grid_area": null,
            "grid_auto_columns": null,
            "grid_auto_flow": null,
            "grid_auto_rows": null,
            "grid_column": null,
            "grid_gap": null,
            "grid_row": null,
            "grid_template_areas": null,
            "grid_template_columns": null,
            "grid_template_rows": null,
            "height": null,
            "justify_content": null,
            "justify_items": null,
            "left": null,
            "margin": null,
            "max_height": null,
            "max_width": null,
            "min_height": null,
            "min_width": null,
            "object_fit": null,
            "object_position": null,
            "order": null,
            "overflow": null,
            "overflow_x": null,
            "overflow_y": null,
            "padding": null,
            "right": null,
            "top": null,
            "visibility": null,
            "width": null
          }
        }
      }
    }
  },
  "cells": [
    {
      "cell_type": "markdown",
      "metadata": {
        "id": "view-in-github",
        "colab_type": "text"
      },
      "source": [
        "<a href=\"https://colab.research.google.com/github/kaitouz/ITMO/blob/main/AI-systems/Lab4_Part2_org.ipynb\" target=\"_parent\"><img src=\"https://colab.research.google.com/assets/colab-badge.svg\" alt=\"Open In Colab\"/></a>"
      ]
    },
    {
      "cell_type": "code",
      "execution_count": 1,
      "metadata": {
        "id": "AYk845addGKk"
      },
      "outputs": [],
      "source": [
        "#import os\n",
        "#os.environ['THEANO_FLAGS'] = \"device=cuda,force_device=True,floatX=float32\"\n",
        "#import theano\n",
        "\n",
        "from keras.models import Sequential\n",
        "from keras.layers import Dense, Activation\n",
        "from keras.callbacks import Callback\n",
        "from keras import regularizers\n",
        "from keras import optimizers\n",
        "\n",
        "from functools import partial\n",
        "\n",
        "%matplotlib inline\n",
        "import matplotlib.pyplot as plt\n",
        "from ipywidgets import *\n",
        "\n",
        "import numpy as np"
      ]
    },
    {
      "cell_type": "code",
      "source": [
        "import tensorflow as tf\n",
        "seed=42\n",
        "np.random.seed(seed)\n",
        "tf.random.set_seed(seed)"
      ],
      "metadata": {
        "id": "iIOaIgICdHHN"
      },
      "execution_count": 2,
      "outputs": []
    },
    {
      "cell_type": "code",
      "source": [
        "def one_hot(y):\n",
        "    t = np.zeros((len(y), np.max(y) + 1))\n",
        "    t[np.arange(len(y)), y] = 1\n",
        "    return t"
      ],
      "metadata": {
        "id": "PLZCavXtdIF0"
      },
      "execution_count": 3,
      "outputs": []
    },
    {
      "cell_type": "code",
      "source": [
        "#PUT HERE DATA FROM https://keras.io/datasets/ \n",
        "\n",
        "from keras.datasets import mnist\n",
        "\n",
        "(x_train, y_train), (x_test, y_test) = mnist.load_data() \n",
        "\n",
        "# flatten data\n",
        "x_train = x_train.reshape((x_train.shape[0], -1))\n",
        "x_test = x_test.reshape((x_test.shape[0], -1))\n",
        "\n",
        "# transform decimal to unitary code\n",
        "y_train = one_hot(y_train)\n",
        "y_test = one_hot(y_test)\n",
        "\n",
        "print(x_train.shape)\n",
        "print(y_train.shape)\n",
        "print(x_train[1])"
      ],
      "metadata": {
        "colab": {
          "base_uri": "https://localhost:8080/"
        },
        "id": "b155wP2HdJCl",
        "outputId": "c66dbab5-d2a7-4f4b-9739-b3d8bf81f156"
      },
      "execution_count": 4,
      "outputs": [
        {
          "output_type": "stream",
          "name": "stdout",
          "text": [
            "(60000, 784)\n",
            "(60000, 10)\n",
            "[  0   0   0   0   0   0   0   0   0   0   0   0   0   0   0   0   0   0\n",
            "   0   0   0   0   0   0   0   0   0   0   0   0   0   0   0   0   0   0\n",
            "   0   0   0   0   0   0   0   0   0   0   0   0   0   0   0   0   0   0\n",
            "   0   0   0   0   0   0   0   0   0   0   0   0   0   0   0   0   0   0\n",
            "   0   0   0   0   0   0   0   0   0   0   0   0   0   0   0   0   0   0\n",
            "   0   0   0   0   0   0   0   0   0   0   0   0   0   0   0   0   0   0\n",
            "   0   0   0   0   0   0   0   0   0   0   0   0   0   0   0   0   0   0\n",
            "   0  51 159 253 159  50   0   0   0   0   0   0   0   0   0   0   0   0\n",
            "   0   0   0   0   0   0   0   0   0   0  48 238 252 252 252 237   0   0\n",
            "   0   0   0   0   0   0   0   0   0   0   0   0   0   0   0   0   0   0\n",
            "   0  54 227 253 252 239 233 252  57   6   0   0   0   0   0   0   0   0\n",
            "   0   0   0   0   0   0   0   0   0  10  60 224 252 253 252 202  84 252\n",
            " 253 122   0   0   0   0   0   0   0   0   0   0   0   0   0   0   0   0\n",
            "   0 163 252 252 252 253 252 252  96 189 253 167   0   0   0   0   0   0\n",
            "   0   0   0   0   0   0   0   0   0   0  51 238 253 253 190 114 253 228\n",
            "  47  79 255 168   0   0   0   0   0   0   0   0   0   0   0   0   0   0\n",
            "   0  48 238 252 252 179  12  75 121  21   0   0 253 243  50   0   0   0\n",
            "   0   0   0   0   0   0   0   0   0   0  38 165 253 233 208  84   0   0\n",
            "   0   0   0   0 253 252 165   0   0   0   0   0   0   0   0   0   0   0\n",
            "   0   7 178 252 240  71  19  28   0   0   0   0   0   0 253 252 195   0\n",
            "   0   0   0   0   0   0   0   0   0   0   0  57 252 252  63   0   0   0\n",
            "   0   0   0   0   0   0 253 252 195   0   0   0   0   0   0   0   0   0\n",
            "   0   0   0 198 253 190   0   0   0   0   0   0   0   0   0   0 255 253\n",
            " 196   0   0   0   0   0   0   0   0   0   0   0  76 246 252 112   0   0\n",
            "   0   0   0   0   0   0   0   0 253 252 148   0   0   0   0   0   0   0\n",
            "   0   0   0   0  85 252 230  25   0   0   0   0   0   0   0   0   7 135\n",
            " 253 186  12   0   0   0   0   0   0   0   0   0   0   0  85 252 223   0\n",
            "   0   0   0   0   0   0   0   7 131 252 225  71   0   0   0   0   0   0\n",
            "   0   0   0   0   0   0  85 252 145   0   0   0   0   0   0   0  48 165\n",
            " 252 173   0   0   0   0   0   0   0   0   0   0   0   0   0   0  86 253\n",
            " 225   0   0   0   0   0   0 114 238 253 162   0   0   0   0   0   0   0\n",
            "   0   0   0   0   0   0   0   0  85 252 249 146  48  29  85 178 225 253\n",
            " 223 167  56   0   0   0   0   0   0   0   0   0   0   0   0   0   0   0\n",
            "  85 252 252 252 229 215 252 252 252 196 130   0   0   0   0   0   0   0\n",
            "   0   0   0   0   0   0   0   0   0   0  28 199 252 252 253 252 252 233\n",
            " 145   0   0   0   0   0   0   0   0   0   0   0   0   0   0   0   0   0\n",
            "   0   0   0  25 128 252 253 252 141  37   0   0   0   0   0   0   0   0\n",
            "   0   0   0   0   0   0   0   0   0   0   0   0   0   0   0   0   0   0\n",
            "   0   0   0   0   0   0   0   0   0   0   0   0   0   0   0   0   0   0\n",
            "   0   0   0   0   0   0   0   0   0   0   0   0   0   0   0   0   0   0\n",
            "   0   0   0   0   0   0   0   0   0   0   0   0   0   0   0   0   0   0\n",
            "   0   0   0   0   0   0   0   0   0   0   0   0   0   0   0   0   0   0\n",
            "   0   0   0   0   0   0   0   0   0   0   0   0   0   0   0   0   0   0\n",
            "   0   0   0   0   0   0   0   0   0   0]\n"
          ]
        }
      ]
    },
    {
      "cell_type": "code",
      "source": [
        "def plot_accuracy(history):\n",
        "    # Plot training & validation accuracy values\n",
        "    plt.plot(history.history['accuracy'])\n",
        "    plt.plot(history.history['val_accuracy'])\n",
        "    plt.title('Model accuracy')\n",
        "    plt.ylabel('Accuracy')\n",
        "    plt.xlabel('Epoch')\n",
        "    plt.legend(['Train', 'Test'], loc='upper left')\n",
        "    plt.show()\n",
        "\n",
        "    # Plot training & validation loss values\n",
        "    plt.plot(history.history['loss'])\n",
        "    plt.plot(history.history['val_loss'])\n",
        "    plt.title('Model loss')\n",
        "    plt.ylabel('Loss')\n",
        "    plt.xlabel('Epoch')\n",
        "    plt.legend(['Train', 'Test'], loc='upper left')\n",
        "    plt.show()"
      ],
      "metadata": {
        "id": "T29powjAdJxU"
      },
      "execution_count": 5,
      "outputs": []
    },
    {
      "cell_type": "code",
      "source": [
        "style = {'description_width': 'initial'}\n",
        "@interact_manual(\n",
        "    n_layers=IntSlider(min=0, max=4, value=2, description='Layers: '),\n",
        "    layer_size=IntSlider(min=0, max=20, value=6, description='Neurons per layer: ', style=style),\n",
        "    layer1_type=Dropdown(options=['softmax', 'relu', 'tanh', 'sigmoid', 'linear'], value='relu',\n",
        "                          description='Layer 1 activation type: ', style=style),\n",
        "    layer2_type=Dropdown(options=['softmax', 'relu', 'tanh', 'sigmoid', 'linear'], value='relu',\n",
        "                          description='Layer 2 activation type ', style=style),\n",
        "    layer3_type=Dropdown(options=['softmax', 'relu', 'tanh', 'sigmoid', 'linear'], value='relu',\n",
        "                          description='Layer 3 activation type: ', style=style),\n",
        "    layer4_type=Dropdown(options=['softmax', 'relu', 'tanh', 'sigmoid', 'linear'], value='relu',\n",
        "                          description='Layer 4 activation type: ', style=style),\n",
        "    layer_out_type=Dropdown(options=['softmax', 'relu', 'tanh', 'sigmoid', 'linear'], value='sigmoid',\n",
        "                          description='Output layer activation type: ', style=style),\n",
        "    loss_func=Dropdown(options={\n",
        "        'Standard deviation': 'mse', \n",
        "        'Mean absolute deviation': 'mae',\n",
        "        'Binary crossentropy': 'binary_crossentropy',\n",
        "        'Categorical crossentropy': 'categorical_crossentropy'\n",
        "    }, value='categorical_crossentropy', description='Loss function: ', style=style),\n",
        "    batch_size = BoundedIntText(min=0, max=len(x_train), value=100, description='Batch size: ', style=style),\n",
        "    lr=ToggleButtons(options=[\"-0.1\", \"0\", \"0.001\", \"0.01\", \"0.05\", \"0.1\", \"0.5\", \"1\", \"5\"], \n",
        "                               value=\"0.01\", description='Learn rate: ', style=style),\n",
        "    l1=ToggleButtons(options=[\"-0.1\", \"0\", \"0.0001\", \"0.0005\", \"0.001\", \"0.005\", \"0.01\", \"0.05\", \"0.1\"], \n",
        "                               value=\"0.0001\", description='Regularization  L1: ', style=style),\n",
        "    l2=ToggleButtons(options=[\"-0.1\", \"0\", \"0.0001\", \"0.0005\", \"0.001\", \"0.005\", \"0.01\", \"0.05\", \"0.1\"], \n",
        "                               value=\"0.0001\", description='Regularization  L2: ', style=style),\n",
        "    epochs=IntSlider(min=10, max=100, step=10, value=20, description='Epoch count: ', style=style),\n",
        ")\n",
        "def interactive_learning(n_layers, loss_func, batch_size, lr, l1, l2, \n",
        "                         layer_out_type, epochs,\n",
        "                         layer_size,\n",
        "                         layer1_type, layer2_type, layer3_type, layer4_type):\n",
        "    layer_sizes = [layer_size, layer_size, layer_size, layer_size]\n",
        "    layer_types = [layer1_type, layer2_type, layer3_type, layer4_type]\n",
        "    lr = float(lr)\n",
        "    l1 = float(l1)\n",
        "    l2 = float(l2)\n",
        "    \n",
        "    model = Sequential()\n",
        "    \n",
        "    if n_layers == 0:\n",
        "        model.add(Dense(len(y_train[0]), activation=layer_out_type, \n",
        "                        input_shape=x_train[0].shape, kernel_regularizer=regularizers.l1_l2(l1=l1, l2=l2)))\n",
        "    else:\n",
        "        model.add(Dense(layer_sizes[0], activation=layer_types[0], \n",
        "                        input_shape=x_train[0].shape, kernel_regularizer=regularizers.l1_l2(l1=l1, l2=l2)))\n",
        "        for i in range(1, n_layers):\n",
        "            model.add(Dense(layer_sizes[i], activation=layer_types[i],\n",
        "                           kernel_regularizer=regularizers.l1_l2(l1=l1, l2=l2)))\n",
        "        model.add(Dense(len(y_train[0]), activation=layer_out_type, kernel_regularizer=regularizers.l1_l2(l1=l1, l2=l2)))\n",
        "    \n",
        "    model.compile(\n",
        "     optimizer = optimizers.SGD(learning_rate=lr),\n",
        "     loss = loss_func,\n",
        "     metrics = [\"accuracy\"]\n",
        "    )\n",
        "    \n",
        "    history = model.fit(\n",
        "     x_train, y_train,\n",
        "     epochs=epochs,\n",
        "     batch_size=batch_size,\n",
        "     validation_data=(x_test, y_test),\n",
        "     verbose=1\n",
        "    )\n",
        "    \n",
        "    print('Accuracy: ', history.history['val_accuracy'][-1])\n",
        "    plot_accuracy(history)\n",
        "    # return history.history['val_accuracy'][-1], history"
      ],
      "metadata": {
        "colab": {
          "base_uri": "https://localhost:8080/",
          "height": 1000,
          "referenced_widgets": [
            "bcdda4dbe0b24a5f81bf0cb0204390e6",
            "cfdf298c38ea4f5aa994103305283ec4",
            "c6690611d98a4750a942c5b36f540d5d",
            "347a19aa58b948e3b061b8431d73449d",
            "302d564a68694b2ca4285cf3504cc97b",
            "9a0b559fc9cf42eb9551a61d88205875",
            "e5b6cc34def24d108fd7fc8c7ae0b72f",
            "3a1e97eb6e174e46a0e6a90f2488f5aa",
            "448af362a8b940038539e3fe54451042",
            "f87a44ef8a294de9acc3c41c80ee3553",
            "c20ca08482434ec3a1bfa5745d705f13",
            "e12fb30adef0409894f980bcde8a57b2",
            "40270cfc73654943b84633ef79d9dd83",
            "b1946293afdd4dcdbade5f66666c6311",
            "2700529c325d446aa7b9466458f220fb",
            "723e573e6c56409496baa656c3bc8eec",
            "68b57b6230b64bff98cc439ea2e95d19",
            "e8366492190446608acc2bb101caedb4",
            "a9449b8ac8e849369f2c69972a0d3029",
            "1c75d6f755af48ee913a3d97699fadf7",
            "45bad62900054187a5569960c3a41ec2",
            "27218e6493f3496d99ec3d3a9b14b693",
            "8d20c39d7ea5442eb39009c2c1647f5b",
            "8ee692b14d424fcb81d035a2e8bafbe3",
            "f70db88751ea4e8688a01d54e634f84d",
            "5debac33fcc84ca79bf94fd6ba0bdd53",
            "e9483c0d60e04be8bebb25eb28b3f6d6",
            "13109de344e5458590d626ce80d34e21",
            "9b071f947fbc40f3b9854448eb39e8ed",
            "705e0ad008094763ba63420d3777d37e",
            "4f715fd3d36a4f82a9c99cc8356a0c56",
            "c68a66af6b414ff5bc8517d8c2653ff8",
            "fc90c4bd699846b7a3088f5287815532",
            "a1f4be3240974630a6e642e4c7ccedc8",
            "6e6224ea7bcb4f71ac295d9790bc565a",
            "873572eebfbd4ac381904220b553e58c",
            "f9b41bd5092a43eaa6dfa628d4eea789",
            "2437bb64ca5d4d169001fe75e04b4f44",
            "23d0311185c04cc080dc444a71dfb1df",
            "6c5489fd2f064f68a8fb13b68cca7099",
            "36f1fa7a6e214a9e85ca89e16938f7c5",
            "71059065aa024124807c440f643201c7",
            "9fc2d8c25e0b4678b8fa602f560a4068",
            "dd43964f4b3e4e6b8fd4c961f14d6629",
            "f13edcbbb9fd4d8591e106b33acd5b0a",
            "2b6ed85954dd4c439223b12b0e754682"
          ]
        },
        "id": "rsdmQuZPdLPd",
        "outputId": "e1026f9d-7a28-4a55-87f7-6f21b723d328"
      },
      "execution_count": 6,
      "outputs": [
        {
          "output_type": "display_data",
          "data": {
            "text/plain": [
              "interactive(children=(IntSlider(value=2, description='Layers: ', max=4), Dropdown(description='Loss function: …"
            ],
            "application/vnd.jupyter.widget-view+json": {
              "version_major": 2,
              "version_minor": 0,
              "model_id": "bcdda4dbe0b24a5f81bf0cb0204390e6"
            }
          },
          "metadata": {}
        }
      ]
    },
    {
      "cell_type": "code",
      "source": [],
      "metadata": {
        "id": "1fbKh4UadMPU"
      },
      "execution_count": 6,
      "outputs": []
    }
  ]
}